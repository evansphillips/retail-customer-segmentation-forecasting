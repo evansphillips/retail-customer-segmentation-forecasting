{
 "cells": [
  {
   "cell_type": "markdown",
   "metadata": {},
   "source": [
    "## <center>Exploring Customer Segmentation and Customer Lifetime Value for Sales Forecasting</center>\n",
    "---\n"
   ]
  },
  {
   "cell_type": "code",
   "execution_count": 140,
   "metadata": {},
   "outputs": [
    {
     "name": "stderr",
     "output_type": "stream",
     "text": [
      "[nltk_data] Downloading package stopwords to\n",
      "[nltk_data]     C:\\Users\\evans\\AppData\\Roaming\\nltk_data...\n",
      "[nltk_data]   Package stopwords is already up-to-date!\n"
     ]
    }
   ],
   "source": [
    "# Import all necessary packages\n",
    "import numpy as np\n",
    "import pandas as pd\n",
    "import matplotlib.pyplot as plt\n",
    "import seaborn as sns\n",
    "\n",
    "# Import topic modeling packages\n",
    "# Top2Vec\n",
    "from top2vec import Top2Vec\n",
    "\n",
    "# Import customized Top2Vec utility functions\n",
    "from top2vec_utils import compute_cv_coherence\n",
    "\n",
    "# Gensim version\n",
    "import gensim\n",
    "import gensim.corpora as corpora\n",
    "from gensim.models import CoherenceModel\n",
    "from gensim.models.phrases import Phraser, Phrases\n",
    "from gensim.models.ldamodel import LdaModel\n",
    "\n",
    "# Import customized Gensim functions\n",
    "from gensim_lda import sent_to_words, remove_stopwords, make_bigrams, lemmatization, compute_coherence_values, format_topics_sentences\n",
    "\n",
    "# spacy for lemmatization\n",
    "import spacy\n",
    "\n",
    "# nltk\n",
    "import nltk\n",
    "\n",
    "nltk.download(\"stopwords\")\n",
    "from nltk.corpus import stopwords\n",
    "\n",
    "# Plotting tools\n",
    "import pyLDAvis\n",
    "import pyLDAvis.gensim  # don't skip this\n",
    "import matplotlib.pyplot as plt\n",
    "\n",
    "# Time Series related packages\n",
    "import calendar\n",
    "\n",
    "# Import KModes for segmentation clustering\n",
    "from kmodes.kmodes import KModes\n",
    "\n",
    "# Import custom modules\n",
    "from utils import plot_donut_chart"
   ]
  },
  {
   "cell_type": "code",
   "execution_count": 141,
   "metadata": {},
   "outputs": [],
   "source": [
    "# Read in data\n",
    "retail_2009_2010 = pd.read_csv(\n",
    "    r\"C:\\Users\\evans\\OneDrive\\Desktop\\DS4A\\data_scientist_retail_challenge\\retail-customer-segmentation-forecasting\\data\\online_retail_2009_2010.csv\"\n",
    ")\n",
    "retail_2010_2011 = pd.read_csv(\n",
    "    r\"C:\\Users\\evans\\OneDrive\\Desktop\\DS4A\\data_scientist_retail_challenge\\retail-customer-segmentation-forecasting\\data\\online_retail_2010_2011.csv\"\n",
    ")"
   ]
  },
  {
   "cell_type": "markdown",
   "metadata": {},
   "source": [
    "## Data Preprocessing\n",
    "---"
   ]
  },
  {
   "cell_type": "code",
   "execution_count": 142,
   "metadata": {},
   "outputs": [],
   "source": [
    "# Concatenate datasets to create a dataset ranging from 2009-2011\n",
    "retail_data = pd.concat([retail_2009_2010, retail_2010_2011], axis=0)"
   ]
  },
  {
   "cell_type": "markdown",
   "metadata": {},
   "source": [
    "### Variable Names and Data Types"
   ]
  },
  {
   "cell_type": "code",
   "execution_count": 143,
   "metadata": {},
   "outputs": [
    {
     "data": {
      "text/html": [
       "<div>\n",
       "<style scoped>\n",
       "    .dataframe tbody tr th:only-of-type {\n",
       "        vertical-align: middle;\n",
       "    }\n",
       "\n",
       "    .dataframe tbody tr th {\n",
       "        vertical-align: top;\n",
       "    }\n",
       "\n",
       "    .dataframe thead th {\n",
       "        text-align: right;\n",
       "    }\n",
       "</style>\n",
       "<table border=\"1\" class=\"dataframe\">\n",
       "  <thead>\n",
       "    <tr style=\"text-align: right;\">\n",
       "      <th></th>\n",
       "      <th>Invoice</th>\n",
       "      <th>StockCode</th>\n",
       "      <th>Description</th>\n",
       "      <th>Quantity</th>\n",
       "      <th>InvoiceDate</th>\n",
       "      <th>Price</th>\n",
       "      <th>Customer ID</th>\n",
       "      <th>Country</th>\n",
       "    </tr>\n",
       "  </thead>\n",
       "  <tbody>\n",
       "    <tr>\n",
       "      <th>0</th>\n",
       "      <td>489434</td>\n",
       "      <td>85048</td>\n",
       "      <td>15CM CHRISTMAS GLASS BALL 20 LIGHTS</td>\n",
       "      <td>12</td>\n",
       "      <td>12/1/2009 7:45</td>\n",
       "      <td>6.95</td>\n",
       "      <td>13085.0</td>\n",
       "      <td>United Kingdom</td>\n",
       "    </tr>\n",
       "    <tr>\n",
       "      <th>1</th>\n",
       "      <td>489434</td>\n",
       "      <td>79323P</td>\n",
       "      <td>PINK CHERRY LIGHTS</td>\n",
       "      <td>12</td>\n",
       "      <td>12/1/2009 7:45</td>\n",
       "      <td>6.75</td>\n",
       "      <td>13085.0</td>\n",
       "      <td>United Kingdom</td>\n",
       "    </tr>\n",
       "    <tr>\n",
       "      <th>2</th>\n",
       "      <td>489434</td>\n",
       "      <td>79323W</td>\n",
       "      <td>WHITE CHERRY LIGHTS</td>\n",
       "      <td>12</td>\n",
       "      <td>12/1/2009 7:45</td>\n",
       "      <td>6.75</td>\n",
       "      <td>13085.0</td>\n",
       "      <td>United Kingdom</td>\n",
       "    </tr>\n",
       "    <tr>\n",
       "      <th>3</th>\n",
       "      <td>489434</td>\n",
       "      <td>22041</td>\n",
       "      <td>RECORD FRAME 7\" SINGLE SIZE</td>\n",
       "      <td>48</td>\n",
       "      <td>12/1/2009 7:45</td>\n",
       "      <td>2.10</td>\n",
       "      <td>13085.0</td>\n",
       "      <td>United Kingdom</td>\n",
       "    </tr>\n",
       "    <tr>\n",
       "      <th>4</th>\n",
       "      <td>489434</td>\n",
       "      <td>21232</td>\n",
       "      <td>STRAWBERRY CERAMIC TRINKET BOX</td>\n",
       "      <td>24</td>\n",
       "      <td>12/1/2009 7:45</td>\n",
       "      <td>1.25</td>\n",
       "      <td>13085.0</td>\n",
       "      <td>United Kingdom</td>\n",
       "    </tr>\n",
       "  </tbody>\n",
       "</table>\n",
       "</div>"
      ],
      "text/plain": [
       "  Invoice StockCode                          Description  Quantity  \\\n",
       "0  489434     85048  15CM CHRISTMAS GLASS BALL 20 LIGHTS        12   \n",
       "1  489434    79323P                   PINK CHERRY LIGHTS        12   \n",
       "2  489434    79323W                  WHITE CHERRY LIGHTS        12   \n",
       "3  489434     22041         RECORD FRAME 7\" SINGLE SIZE         48   \n",
       "4  489434     21232       STRAWBERRY CERAMIC TRINKET BOX        24   \n",
       "\n",
       "      InvoiceDate  Price  Customer ID         Country  \n",
       "0  12/1/2009 7:45   6.95      13085.0  United Kingdom  \n",
       "1  12/1/2009 7:45   6.75      13085.0  United Kingdom  \n",
       "2  12/1/2009 7:45   6.75      13085.0  United Kingdom  \n",
       "3  12/1/2009 7:45   2.10      13085.0  United Kingdom  \n",
       "4  12/1/2009 7:45   1.25      13085.0  United Kingdom  "
      ]
     },
     "execution_count": 143,
     "metadata": {},
     "output_type": "execute_result"
    }
   ],
   "source": [
    "# Preview data\n",
    "retail_data.head()"
   ]
  },
  {
   "cell_type": "markdown",
   "metadata": {},
   "source": [
    "Let's convert the variable names from camel case to snake case so we can conform with standard python naming conventions."
   ]
  },
  {
   "cell_type": "code",
   "execution_count": 144,
   "metadata": {},
   "outputs": [],
   "source": [
    "# Convert all features from camel case to snake case\n",
    "retail_data.rename(\n",
    "    columns={\n",
    "        \"Invoice\": \"invoice\",\n",
    "        \"StockCode\": \"stock_code\",\n",
    "        \"Description\": \"description\",\n",
    "        \"Quantity\": \"quantity\",\n",
    "        \"InvoiceDate\": \"invoice_date\",\n",
    "        \"Price\": \"price\",\n",
    "        \"Customer ID\": \"customer_id\",\n",
    "        \"Country\": \"country\",\n",
    "    },\n",
    "    inplace=True,\n",
    ")"
   ]
  },
  {
   "cell_type": "code",
   "execution_count": 145,
   "metadata": {},
   "outputs": [
    {
     "data": {
      "text/plain": [
       "invoice          object\n",
       "stock_code       object\n",
       "description      object\n",
       "quantity          int64\n",
       "invoice_date     object\n",
       "price           float64\n",
       "customer_id     float64\n",
       "country          object\n",
       "dtype: object"
      ]
     },
     "execution_count": 145,
     "metadata": {},
     "output_type": "execute_result"
    }
   ],
   "source": [
    "# Confirm the feature types\n",
    "retail_data.dtypes"
   ]
  },
  {
   "cell_type": "markdown",
   "metadata": {},
   "source": [
    "There are some descrepancies between what the schema was advertised as and its actual contents. Namely, the `invoice_date` variable is an object but we were told it was datetime and the `customer_id` is provided as a float64 type when we were told it was int64. I think in this context it does make sense to convert `invoice_date` to datetime but it would make more sense to convert `customer_id` to a string object because there is no significance in its ordinality."
   ]
  },
  {
   "cell_type": "code",
   "execution_count": 146,
   "metadata": {},
   "outputs": [],
   "source": [
    "# Convert mistyped features: invoice_date and customer_id\n",
    "retail_data[\"invoice_date\"] = pd.to_datetime(\n",
    "    retail_data[\"invoice_date\"], format=\"%m/%d/%Y %H:%M\"\n",
    ")\n",
    "retail_data[\"customer_id\"] = (\n",
    "    retail_data[\"customer_id\"].fillna(\"Not Provided\").astype(str)\n",
    ")  # replace na values with 0"
   ]
  },
  {
   "cell_type": "code",
   "execution_count": 147,
   "metadata": {},
   "outputs": [
    {
     "data": {
      "text/plain": [
       "invoice                 object\n",
       "stock_code              object\n",
       "description             object\n",
       "quantity                 int64\n",
       "invoice_date    datetime64[ns]\n",
       "price                  float64\n",
       "customer_id             object\n",
       "country                 object\n",
       "dtype: object"
      ]
     },
     "execution_count": 147,
     "metadata": {},
     "output_type": "execute_result"
    }
   ],
   "source": [
    "# Confirm newly casted data types\n",
    "retail_data.dtypes"
   ]
  },
  {
   "cell_type": "code",
   "execution_count": 148,
   "metadata": {},
   "outputs": [
    {
     "data": {
      "text/html": [
       "<div>\n",
       "<style scoped>\n",
       "    .dataframe tbody tr th:only-of-type {\n",
       "        vertical-align: middle;\n",
       "    }\n",
       "\n",
       "    .dataframe tbody tr th {\n",
       "        vertical-align: top;\n",
       "    }\n",
       "\n",
       "    .dataframe thead th {\n",
       "        text-align: right;\n",
       "    }\n",
       "</style>\n",
       "<table border=\"1\" class=\"dataframe\">\n",
       "  <thead>\n",
       "    <tr style=\"text-align: right;\">\n",
       "      <th></th>\n",
       "      <th>invoice</th>\n",
       "      <th>stock_code</th>\n",
       "      <th>description</th>\n",
       "      <th>quantity</th>\n",
       "      <th>invoice_date</th>\n",
       "      <th>price</th>\n",
       "      <th>customer_id</th>\n",
       "      <th>country</th>\n",
       "    </tr>\n",
       "  </thead>\n",
       "  <tbody>\n",
       "    <tr>\n",
       "      <th>0</th>\n",
       "      <td>489434</td>\n",
       "      <td>85048</td>\n",
       "      <td>15CM CHRISTMAS GLASS BALL 20 LIGHTS</td>\n",
       "      <td>12</td>\n",
       "      <td>2009-12-01 07:45:00</td>\n",
       "      <td>6.95</td>\n",
       "      <td>13085.0</td>\n",
       "      <td>United Kingdom</td>\n",
       "    </tr>\n",
       "    <tr>\n",
       "      <th>1</th>\n",
       "      <td>489434</td>\n",
       "      <td>79323P</td>\n",
       "      <td>PINK CHERRY LIGHTS</td>\n",
       "      <td>12</td>\n",
       "      <td>2009-12-01 07:45:00</td>\n",
       "      <td>6.75</td>\n",
       "      <td>13085.0</td>\n",
       "      <td>United Kingdom</td>\n",
       "    </tr>\n",
       "    <tr>\n",
       "      <th>2</th>\n",
       "      <td>489434</td>\n",
       "      <td>79323W</td>\n",
       "      <td>WHITE CHERRY LIGHTS</td>\n",
       "      <td>12</td>\n",
       "      <td>2009-12-01 07:45:00</td>\n",
       "      <td>6.75</td>\n",
       "      <td>13085.0</td>\n",
       "      <td>United Kingdom</td>\n",
       "    </tr>\n",
       "    <tr>\n",
       "      <th>3</th>\n",
       "      <td>489434</td>\n",
       "      <td>22041</td>\n",
       "      <td>RECORD FRAME 7\" SINGLE SIZE</td>\n",
       "      <td>48</td>\n",
       "      <td>2009-12-01 07:45:00</td>\n",
       "      <td>2.10</td>\n",
       "      <td>13085.0</td>\n",
       "      <td>United Kingdom</td>\n",
       "    </tr>\n",
       "    <tr>\n",
       "      <th>4</th>\n",
       "      <td>489434</td>\n",
       "      <td>21232</td>\n",
       "      <td>STRAWBERRY CERAMIC TRINKET BOX</td>\n",
       "      <td>24</td>\n",
       "      <td>2009-12-01 07:45:00</td>\n",
       "      <td>1.25</td>\n",
       "      <td>13085.0</td>\n",
       "      <td>United Kingdom</td>\n",
       "    </tr>\n",
       "  </tbody>\n",
       "</table>\n",
       "</div>"
      ],
      "text/plain": [
       "  invoice stock_code                          description  quantity  \\\n",
       "0  489434      85048  15CM CHRISTMAS GLASS BALL 20 LIGHTS        12   \n",
       "1  489434     79323P                   PINK CHERRY LIGHTS        12   \n",
       "2  489434     79323W                  WHITE CHERRY LIGHTS        12   \n",
       "3  489434      22041         RECORD FRAME 7\" SINGLE SIZE         48   \n",
       "4  489434      21232       STRAWBERRY CERAMIC TRINKET BOX        24   \n",
       "\n",
       "         invoice_date  price customer_id         country  \n",
       "0 2009-12-01 07:45:00   6.95     13085.0  United Kingdom  \n",
       "1 2009-12-01 07:45:00   6.75     13085.0  United Kingdom  \n",
       "2 2009-12-01 07:45:00   6.75     13085.0  United Kingdom  \n",
       "3 2009-12-01 07:45:00   2.10     13085.0  United Kingdom  \n",
       "4 2009-12-01 07:45:00   1.25     13085.0  United Kingdom  "
      ]
     },
     "execution_count": 148,
     "metadata": {},
     "output_type": "execute_result"
    }
   ],
   "source": [
    "# Get a quick preview of the data\n",
    "retail_data.head()"
   ]
  },
  {
   "cell_type": "markdown",
   "metadata": {},
   "source": [
    "### NA Values and Duplicates"
   ]
  },
  {
   "cell_type": "code",
   "execution_count": 149,
   "metadata": {},
   "outputs": [
    {
     "name": "stdout",
     "output_type": "stream",
     "text": [
      "The total number of na values in retail_data is 4382.\n"
     ]
    }
   ],
   "source": [
    "# Check for how many na values are in the dataset\n",
    "num_nas = retail_data.isna().sum().sum()\n",
    "print(f\"The total number of na values in retail_data is {num_nas}.\")"
   ]
  },
  {
   "cell_type": "code",
   "execution_count": 150,
   "metadata": {},
   "outputs": [
    {
     "data": {
      "text/html": [
       "<div>\n",
       "<style scoped>\n",
       "    .dataframe tbody tr th:only-of-type {\n",
       "        vertical-align: middle;\n",
       "    }\n",
       "\n",
       "    .dataframe tbody tr th {\n",
       "        vertical-align: top;\n",
       "    }\n",
       "\n",
       "    .dataframe thead th {\n",
       "        text-align: right;\n",
       "    }\n",
       "</style>\n",
       "<table border=\"1\" class=\"dataframe\">\n",
       "  <thead>\n",
       "    <tr style=\"text-align: right;\">\n",
       "      <th></th>\n",
       "      <th>feature</th>\n",
       "      <th>count_na</th>\n",
       "    </tr>\n",
       "  </thead>\n",
       "  <tbody>\n",
       "    <tr>\n",
       "      <th>0</th>\n",
       "      <td>invoice</td>\n",
       "      <td>0</td>\n",
       "    </tr>\n",
       "    <tr>\n",
       "      <th>1</th>\n",
       "      <td>stock_code</td>\n",
       "      <td>0</td>\n",
       "    </tr>\n",
       "    <tr>\n",
       "      <th>2</th>\n",
       "      <td>description</td>\n",
       "      <td>4382</td>\n",
       "    </tr>\n",
       "    <tr>\n",
       "      <th>3</th>\n",
       "      <td>quantity</td>\n",
       "      <td>0</td>\n",
       "    </tr>\n",
       "    <tr>\n",
       "      <th>4</th>\n",
       "      <td>invoice_date</td>\n",
       "      <td>0</td>\n",
       "    </tr>\n",
       "    <tr>\n",
       "      <th>5</th>\n",
       "      <td>price</td>\n",
       "      <td>0</td>\n",
       "    </tr>\n",
       "    <tr>\n",
       "      <th>6</th>\n",
       "      <td>customer_id</td>\n",
       "      <td>0</td>\n",
       "    </tr>\n",
       "    <tr>\n",
       "      <th>7</th>\n",
       "      <td>country</td>\n",
       "      <td>0</td>\n",
       "    </tr>\n",
       "  </tbody>\n",
       "</table>\n",
       "</div>"
      ],
      "text/plain": [
       "        feature  count_na\n",
       "0       invoice         0\n",
       "1    stock_code         0\n",
       "2   description      4382\n",
       "3      quantity         0\n",
       "4  invoice_date         0\n",
       "5         price         0\n",
       "6   customer_id         0\n",
       "7       country         0"
      ]
     },
     "execution_count": 150,
     "metadata": {},
     "output_type": "execute_result"
    }
   ],
   "source": [
    "# Investigate which features have the majority of na values\n",
    "na_features_ct = retail_data.isna().sum().reset_index()\n",
    "na_features_ct = na_features_ct.rename({\"index\": \"feature\", 0: \"count_na\"}, axis=1)\n",
    "na_features_ct"
   ]
  },
  {
   "cell_type": "markdown",
   "metadata": {},
   "source": [
    "The `description` variable will provide information about the customers and their preferences and has very few missing values (4382). Because our dataset has over 1 million rows, it is safe to remove all missing values for `description`."
   ]
  },
  {
   "cell_type": "code",
   "execution_count": 151,
   "metadata": {},
   "outputs": [],
   "source": [
    "# Clean the dataset by dropping all na values of Description\n",
    "retail_data = retail_data.dropna(subset=[\"description\"])"
   ]
  },
  {
   "cell_type": "code",
   "execution_count": 152,
   "metadata": {},
   "outputs": [
    {
     "data": {
      "text/html": [
       "<div>\n",
       "<style scoped>\n",
       "    .dataframe tbody tr th:only-of-type {\n",
       "        vertical-align: middle;\n",
       "    }\n",
       "\n",
       "    .dataframe tbody tr th {\n",
       "        vertical-align: top;\n",
       "    }\n",
       "\n",
       "    .dataframe thead th {\n",
       "        text-align: right;\n",
       "    }\n",
       "</style>\n",
       "<table border=\"1\" class=\"dataframe\">\n",
       "  <thead>\n",
       "    <tr style=\"text-align: right;\">\n",
       "      <th></th>\n",
       "      <th>feature</th>\n",
       "      <th>count_na</th>\n",
       "    </tr>\n",
       "  </thead>\n",
       "  <tbody>\n",
       "    <tr>\n",
       "      <th>0</th>\n",
       "      <td>invoice</td>\n",
       "      <td>0</td>\n",
       "    </tr>\n",
       "    <tr>\n",
       "      <th>1</th>\n",
       "      <td>stock_code</td>\n",
       "      <td>0</td>\n",
       "    </tr>\n",
       "    <tr>\n",
       "      <th>2</th>\n",
       "      <td>description</td>\n",
       "      <td>0</td>\n",
       "    </tr>\n",
       "    <tr>\n",
       "      <th>3</th>\n",
       "      <td>quantity</td>\n",
       "      <td>0</td>\n",
       "    </tr>\n",
       "    <tr>\n",
       "      <th>4</th>\n",
       "      <td>invoice_date</td>\n",
       "      <td>0</td>\n",
       "    </tr>\n",
       "    <tr>\n",
       "      <th>5</th>\n",
       "      <td>price</td>\n",
       "      <td>0</td>\n",
       "    </tr>\n",
       "    <tr>\n",
       "      <th>6</th>\n",
       "      <td>customer_id</td>\n",
       "      <td>0</td>\n",
       "    </tr>\n",
       "    <tr>\n",
       "      <th>7</th>\n",
       "      <td>country</td>\n",
       "      <td>0</td>\n",
       "    </tr>\n",
       "  </tbody>\n",
       "</table>\n",
       "</div>"
      ],
      "text/plain": [
       "        feature  count_na\n",
       "0       invoice         0\n",
       "1    stock_code         0\n",
       "2   description         0\n",
       "3      quantity         0\n",
       "4  invoice_date         0\n",
       "5         price         0\n",
       "6   customer_id         0\n",
       "7       country         0"
      ]
     },
     "execution_count": 152,
     "metadata": {},
     "output_type": "execute_result"
    }
   ],
   "source": [
    "# Investigate which features have the majority of na values in cleaned dataset\n",
    "na_features_cleaned_ct = retail_data.isna().sum().reset_index()\n",
    "na_features_cleaned_ct = na_features_cleaned_ct.rename(\n",
    "    {\"index\": \"feature\", 0: \"count_na\"}, axis=1\n",
    ")\n",
    "na_features_cleaned_ct"
   ]
  },
  {
   "cell_type": "markdown",
   "metadata": {},
   "source": [
    "Now all of the na values in our `description` feature have been removed. Let's see if we can find any duplicate values within our dataset."
   ]
  },
  {
   "cell_type": "code",
   "execution_count": 153,
   "metadata": {},
   "outputs": [
    {
     "name": "stdout",
     "output_type": "stream",
     "text": [
      "Number of duplicates: 34228\n"
     ]
    }
   ],
   "source": [
    "# Count all duplicate values\n",
    "duplicate_count = retail_data.duplicated().sum()\n",
    "\n",
    "# Display the count\n",
    "print(\"Number of duplicates:\", duplicate_count)"
   ]
  },
  {
   "cell_type": "markdown",
   "metadata": {},
   "source": [
    "There are 34228 duplicates in this dataset. Let's drop them all because they provide no extra relevant information."
   ]
  },
  {
   "cell_type": "code",
   "execution_count": 154,
   "metadata": {},
   "outputs": [],
   "source": [
    "# Drop all duplicates\n",
    "retail_data = retail_data.drop_duplicates()"
   ]
  },
  {
   "cell_type": "markdown",
   "metadata": {},
   "source": [
    "### Canceled Transactions"
   ]
  },
  {
   "cell_type": "markdown",
   "metadata": {},
   "source": [
    "Recall from the 'Data Description' part of the project that the `invoice` variable contains a unique number for each transaction beginning with a 'c' if the transaction was cancelled. Let's see how often transactions are really canceled."
   ]
  },
  {
   "cell_type": "code",
   "execution_count": 155,
   "metadata": {},
   "outputs": [
    {
     "name": "stdout",
     "output_type": "stream",
     "text": [
      "Out of 1028761 transactions, 19104 were canceled\n",
      " (2.0%)\n"
     ]
    }
   ],
   "source": [
    "# Create a 'canceled' feature that indicates wheter or not a tranaction was canceled\n",
    "canceled_transactions = (retail_data[\"invoice\"].str.startswith(\"C\")).sum()\n",
    "print(\n",
    "    f\"Out of {len(retail_data)} transactions, {canceled_transactions} were canceled\\n ({100*(round(canceled_transactions/len(retail_data), 2))}%)\"\n",
    ")"
   ]
  },
  {
   "cell_type": "markdown",
   "metadata": {},
   "source": [
    "Because the number of canceled transactions is such a small proportion of our total data (2%), we are going to drop these observations because it will be very difficult to model how such a small minority of our records influence customer behavior."
   ]
  },
  {
   "cell_type": "code",
   "execution_count": 156,
   "metadata": {},
   "outputs": [
    {
     "data": {
      "text/plain": [
       "(1009657, 8)"
      ]
     },
     "execution_count": 156,
     "metadata": {},
     "output_type": "execute_result"
    }
   ],
   "source": [
    "# Drop the rows where 'invoice' starts with 'C'\n",
    "rows_to_drop = retail_data[\"invoice\"].str.startswith(\"C\")\n",
    "retail_data = retail_data[~rows_to_drop]\n",
    "retail_data.shape"
   ]
  },
  {
   "cell_type": "markdown",
   "metadata": {},
   "source": [
    "Now, we see that the total amount of rows decreased from 1062989 to 1043495 which is a difference of a 19494 (the amount of rows with canceled transactions)"
   ]
  },
  {
   "cell_type": "code",
   "execution_count": 157,
   "metadata": {},
   "outputs": [
    {
     "data": {
      "text/html": [
       "<div>\n",
       "<style scoped>\n",
       "    .dataframe tbody tr th:only-of-type {\n",
       "        vertical-align: middle;\n",
       "    }\n",
       "\n",
       "    .dataframe tbody tr th {\n",
       "        vertical-align: top;\n",
       "    }\n",
       "\n",
       "    .dataframe thead th {\n",
       "        text-align: right;\n",
       "    }\n",
       "</style>\n",
       "<table border=\"1\" class=\"dataframe\">\n",
       "  <thead>\n",
       "    <tr style=\"text-align: right;\">\n",
       "      <th></th>\n",
       "      <th>invoice</th>\n",
       "      <th>stock_code</th>\n",
       "      <th>description</th>\n",
       "      <th>quantity</th>\n",
       "      <th>invoice_date</th>\n",
       "      <th>price</th>\n",
       "      <th>customer_id</th>\n",
       "      <th>country</th>\n",
       "    </tr>\n",
       "  </thead>\n",
       "  <tbody>\n",
       "    <tr>\n",
       "      <th>0</th>\n",
       "      <td>489434</td>\n",
       "      <td>85048</td>\n",
       "      <td>15CM CHRISTMAS GLASS BALL 20 LIGHTS</td>\n",
       "      <td>12</td>\n",
       "      <td>2009-12-01 07:45:00</td>\n",
       "      <td>6.95</td>\n",
       "      <td>13085.0</td>\n",
       "      <td>United Kingdom</td>\n",
       "    </tr>\n",
       "    <tr>\n",
       "      <th>1</th>\n",
       "      <td>489434</td>\n",
       "      <td>79323P</td>\n",
       "      <td>PINK CHERRY LIGHTS</td>\n",
       "      <td>12</td>\n",
       "      <td>2009-12-01 07:45:00</td>\n",
       "      <td>6.75</td>\n",
       "      <td>13085.0</td>\n",
       "      <td>United Kingdom</td>\n",
       "    </tr>\n",
       "    <tr>\n",
       "      <th>2</th>\n",
       "      <td>489434</td>\n",
       "      <td>79323W</td>\n",
       "      <td>WHITE CHERRY LIGHTS</td>\n",
       "      <td>12</td>\n",
       "      <td>2009-12-01 07:45:00</td>\n",
       "      <td>6.75</td>\n",
       "      <td>13085.0</td>\n",
       "      <td>United Kingdom</td>\n",
       "    </tr>\n",
       "    <tr>\n",
       "      <th>3</th>\n",
       "      <td>489434</td>\n",
       "      <td>22041</td>\n",
       "      <td>RECORD FRAME 7\" SINGLE SIZE</td>\n",
       "      <td>48</td>\n",
       "      <td>2009-12-01 07:45:00</td>\n",
       "      <td>2.10</td>\n",
       "      <td>13085.0</td>\n",
       "      <td>United Kingdom</td>\n",
       "    </tr>\n",
       "    <tr>\n",
       "      <th>4</th>\n",
       "      <td>489434</td>\n",
       "      <td>21232</td>\n",
       "      <td>STRAWBERRY CERAMIC TRINKET BOX</td>\n",
       "      <td>24</td>\n",
       "      <td>2009-12-01 07:45:00</td>\n",
       "      <td>1.25</td>\n",
       "      <td>13085.0</td>\n",
       "      <td>United Kingdom</td>\n",
       "    </tr>\n",
       "  </tbody>\n",
       "</table>\n",
       "</div>"
      ],
      "text/plain": [
       "  invoice stock_code                          description  quantity  \\\n",
       "0  489434      85048  15CM CHRISTMAS GLASS BALL 20 LIGHTS        12   \n",
       "1  489434     79323P                   PINK CHERRY LIGHTS        12   \n",
       "2  489434     79323W                  WHITE CHERRY LIGHTS        12   \n",
       "3  489434      22041         RECORD FRAME 7\" SINGLE SIZE         48   \n",
       "4  489434      21232       STRAWBERRY CERAMIC TRINKET BOX        24   \n",
       "\n",
       "         invoice_date  price customer_id         country  \n",
       "0 2009-12-01 07:45:00   6.95     13085.0  United Kingdom  \n",
       "1 2009-12-01 07:45:00   6.75     13085.0  United Kingdom  \n",
       "2 2009-12-01 07:45:00   6.75     13085.0  United Kingdom  \n",
       "3 2009-12-01 07:45:00   2.10     13085.0  United Kingdom  \n",
       "4 2009-12-01 07:45:00   1.25     13085.0  United Kingdom  "
      ]
     },
     "execution_count": 157,
     "metadata": {},
     "output_type": "execute_result"
    }
   ],
   "source": [
    "retail_data.head()"
   ]
  },
  {
   "cell_type": "markdown",
   "metadata": {},
   "source": [
    "### Outliers/Ambiguous Values"
   ]
  },
  {
   "cell_type": "code",
   "execution_count": 158,
   "metadata": {},
   "outputs": [
    {
     "name": "stdout",
     "output_type": "stream",
     "text": [
      "Count of quantities less than or equal to 0: 760\n",
      "Count of prices less than or equal to 0: 1744\n"
     ]
    }
   ],
   "source": [
    "# Check for 'price' and 'quantity' of values 0 or negative (nonsensical in terms of transaction)\n",
    "neg0_quantity = (retail_data[\"quantity\"] <= 0).sum()\n",
    "neg0_price = (retail_data[\"price\"] <= 0).sum()\n",
    "\n",
    "# Display the result\n",
    "print(\n",
    "    f\"Count of quantities less than or equal to 0: {neg0_quantity}\\nCount of prices less than or equal to 0: {neg0_price}\"\n",
    ")"
   ]
  },
  {
   "cell_type": "markdown",
   "metadata": {},
   "source": [
    "We have 760 `quantity` values that are less than or equal to 0 and 1744 `price` values less than or equal to 0. Since this makes no sense in terms of transactions, we will drop these values."
   ]
  },
  {
   "cell_type": "code",
   "execution_count": 159,
   "metadata": {},
   "outputs": [
    {
     "name": "stdout",
     "output_type": "stream",
     "text": [
      "New shape of data: (1008892, 8)\n"
     ]
    }
   ],
   "source": [
    "# Subset 'quantity' and 'price' values to be those only greater than 1 and 0, respectively.\n",
    "retail_data = retail_data.loc[\n",
    "    (retail_data[\"quantity\"] >= 1) & (retail_data[\"price\"] >= 0)\n",
    "]\n",
    "print(f\"New shape of data: {retail_data.shape}\")"
   ]
  },
  {
   "cell_type": "markdown",
   "metadata": {},
   "source": [
    "Here, we filter out the `price` and `quantity` greater than 0 and 1, respectively under the assumption that the company is not giving out items for free and that customers can not purchase a fraction of an item."
   ]
  },
  {
   "cell_type": "markdown",
   "metadata": {},
   "source": [
    "## Feature Engineering\n",
    "---"
   ]
  },
  {
   "cell_type": "markdown",
   "metadata": {},
   "source": [
    "First off, we need to create the value we are going to be forecasting - revenue. Recall from any economics class:  \n",
    "  *Revenue* = *Price* * *Quantity*"
   ]
  },
  {
   "cell_type": "code",
   "execution_count": 160,
   "metadata": {},
   "outputs": [],
   "source": [
    "# Create a revenue value\n",
    "retail_data[\"revenue\"] = round(retail_data[\"price\"] * retail_data[\"quantity\"], 2)"
   ]
  },
  {
   "cell_type": "code",
   "execution_count": 161,
   "metadata": {},
   "outputs": [
    {
     "data": {
      "text/html": [
       "<div>\n",
       "<style scoped>\n",
       "    .dataframe tbody tr th:only-of-type {\n",
       "        vertical-align: middle;\n",
       "    }\n",
       "\n",
       "    .dataframe tbody tr th {\n",
       "        vertical-align: top;\n",
       "    }\n",
       "\n",
       "    .dataframe thead th {\n",
       "        text-align: right;\n",
       "    }\n",
       "</style>\n",
       "<table border=\"1\" class=\"dataframe\">\n",
       "  <thead>\n",
       "    <tr style=\"text-align: right;\">\n",
       "      <th></th>\n",
       "      <th>invoice</th>\n",
       "      <th>stock_code</th>\n",
       "      <th>description</th>\n",
       "      <th>quantity</th>\n",
       "      <th>invoice_date</th>\n",
       "      <th>price</th>\n",
       "      <th>customer_id</th>\n",
       "      <th>country</th>\n",
       "      <th>revenue</th>\n",
       "    </tr>\n",
       "  </thead>\n",
       "  <tbody>\n",
       "    <tr>\n",
       "      <th>0</th>\n",
       "      <td>489434</td>\n",
       "      <td>85048</td>\n",
       "      <td>15CM CHRISTMAS GLASS BALL 20 LIGHTS</td>\n",
       "      <td>12</td>\n",
       "      <td>2009-12-01 07:45:00</td>\n",
       "      <td>6.95</td>\n",
       "      <td>13085.0</td>\n",
       "      <td>United Kingdom</td>\n",
       "      <td>83.4</td>\n",
       "    </tr>\n",
       "    <tr>\n",
       "      <th>1</th>\n",
       "      <td>489434</td>\n",
       "      <td>79323P</td>\n",
       "      <td>PINK CHERRY LIGHTS</td>\n",
       "      <td>12</td>\n",
       "      <td>2009-12-01 07:45:00</td>\n",
       "      <td>6.75</td>\n",
       "      <td>13085.0</td>\n",
       "      <td>United Kingdom</td>\n",
       "      <td>81.0</td>\n",
       "    </tr>\n",
       "    <tr>\n",
       "      <th>2</th>\n",
       "      <td>489434</td>\n",
       "      <td>79323W</td>\n",
       "      <td>WHITE CHERRY LIGHTS</td>\n",
       "      <td>12</td>\n",
       "      <td>2009-12-01 07:45:00</td>\n",
       "      <td>6.75</td>\n",
       "      <td>13085.0</td>\n",
       "      <td>United Kingdom</td>\n",
       "      <td>81.0</td>\n",
       "    </tr>\n",
       "    <tr>\n",
       "      <th>3</th>\n",
       "      <td>489434</td>\n",
       "      <td>22041</td>\n",
       "      <td>RECORD FRAME 7\" SINGLE SIZE</td>\n",
       "      <td>48</td>\n",
       "      <td>2009-12-01 07:45:00</td>\n",
       "      <td>2.10</td>\n",
       "      <td>13085.0</td>\n",
       "      <td>United Kingdom</td>\n",
       "      <td>100.8</td>\n",
       "    </tr>\n",
       "    <tr>\n",
       "      <th>4</th>\n",
       "      <td>489434</td>\n",
       "      <td>21232</td>\n",
       "      <td>STRAWBERRY CERAMIC TRINKET BOX</td>\n",
       "      <td>24</td>\n",
       "      <td>2009-12-01 07:45:00</td>\n",
       "      <td>1.25</td>\n",
       "      <td>13085.0</td>\n",
       "      <td>United Kingdom</td>\n",
       "      <td>30.0</td>\n",
       "    </tr>\n",
       "  </tbody>\n",
       "</table>\n",
       "</div>"
      ],
      "text/plain": [
       "  invoice stock_code                          description  quantity  \\\n",
       "0  489434      85048  15CM CHRISTMAS GLASS BALL 20 LIGHTS        12   \n",
       "1  489434     79323P                   PINK CHERRY LIGHTS        12   \n",
       "2  489434     79323W                  WHITE CHERRY LIGHTS        12   \n",
       "3  489434      22041         RECORD FRAME 7\" SINGLE SIZE         48   \n",
       "4  489434      21232       STRAWBERRY CERAMIC TRINKET BOX        24   \n",
       "\n",
       "         invoice_date  price customer_id         country  revenue  \n",
       "0 2009-12-01 07:45:00   6.95     13085.0  United Kingdom     83.4  \n",
       "1 2009-12-01 07:45:00   6.75     13085.0  United Kingdom     81.0  \n",
       "2 2009-12-01 07:45:00   6.75     13085.0  United Kingdom     81.0  \n",
       "3 2009-12-01 07:45:00   2.10     13085.0  United Kingdom    100.8  \n",
       "4 2009-12-01 07:45:00   1.25     13085.0  United Kingdom     30.0  "
      ]
     },
     "execution_count": 161,
     "metadata": {},
     "output_type": "execute_result"
    }
   ],
   "source": [
    "# Preview data with added 'revenue' column\n",
    "retail_data.head()"
   ]
  },
  {
   "cell_type": "markdown",
   "metadata": {},
   "source": [
    "Looking at our dataset, there are four feature changes I want to make: `price`, `invoice_date`, `quantity`, and `description`. I plan on categorizing `quantity` and `price` by using 'low', 'medium', and 'high' bins and breaking `invoice_date` by months so I can get a general trend of how seasonality influences sales. I also plan on using clustering to categorize the `description` feature."
   ]
  },
  {
   "cell_type": "code",
   "execution_count": 162,
   "metadata": {},
   "outputs": [
    {
     "data": {
      "text/html": [
       "<div>\n",
       "<style scoped>\n",
       "    .dataframe tbody tr th:only-of-type {\n",
       "        vertical-align: middle;\n",
       "    }\n",
       "\n",
       "    .dataframe tbody tr th {\n",
       "        vertical-align: top;\n",
       "    }\n",
       "\n",
       "    .dataframe thead th {\n",
       "        text-align: right;\n",
       "    }\n",
       "</style>\n",
       "<table border=\"1\" class=\"dataframe\">\n",
       "  <thead>\n",
       "    <tr style=\"text-align: right;\">\n",
       "      <th></th>\n",
       "      <th>quantity</th>\n",
       "      <th>invoice_date</th>\n",
       "      <th>price</th>\n",
       "      <th>revenue</th>\n",
       "    </tr>\n",
       "  </thead>\n",
       "  <tbody>\n",
       "    <tr>\n",
       "      <th>count</th>\n",
       "      <td>1.008892e+06</td>\n",
       "      <td>1008892</td>\n",
       "      <td>1.008892e+06</td>\n",
       "      <td>1.008892e+06</td>\n",
       "    </tr>\n",
       "    <tr>\n",
       "      <th>mean</th>\n",
       "      <td>1.117520e+01</td>\n",
       "      <td>2011-01-04 10:44:26.799499520</td>\n",
       "      <td>4.070298e+00</td>\n",
       "      <td>2.029579e+01</td>\n",
       "    </tr>\n",
       "    <tr>\n",
       "      <th>min</th>\n",
       "      <td>1.000000e+00</td>\n",
       "      <td>2009-12-01 07:45:00</td>\n",
       "      <td>0.000000e+00</td>\n",
       "      <td>0.000000e+00</td>\n",
       "    </tr>\n",
       "    <tr>\n",
       "      <th>25%</th>\n",
       "      <td>1.000000e+00</td>\n",
       "      <td>2010-07-06 11:29:00</td>\n",
       "      <td>1.250000e+00</td>\n",
       "      <td>4.130000e+00</td>\n",
       "    </tr>\n",
       "    <tr>\n",
       "      <th>50%</th>\n",
       "      <td>4.000000e+00</td>\n",
       "      <td>2010-12-09 15:32:00</td>\n",
       "      <td>2.100000e+00</td>\n",
       "      <td>1.008000e+01</td>\n",
       "    </tr>\n",
       "    <tr>\n",
       "      <th>75%</th>\n",
       "      <td>1.200000e+01</td>\n",
       "      <td>2011-07-28 12:09:00</td>\n",
       "      <td>4.130000e+00</td>\n",
       "      <td>1.770000e+01</td>\n",
       "    </tr>\n",
       "    <tr>\n",
       "      <th>max</th>\n",
       "      <td>8.099500e+04</td>\n",
       "      <td>2011-12-09 12:50:00</td>\n",
       "      <td>2.511109e+04</td>\n",
       "      <td>1.684696e+05</td>\n",
       "    </tr>\n",
       "    <tr>\n",
       "      <th>std</th>\n",
       "      <td>1.296681e+02</td>\n",
       "      <td>NaN</td>\n",
       "      <td>5.040614e+01</td>\n",
       "      <td>2.056170e+02</td>\n",
       "    </tr>\n",
       "  </tbody>\n",
       "</table>\n",
       "</div>"
      ],
      "text/plain": [
       "           quantity                   invoice_date         price       revenue\n",
       "count  1.008892e+06                        1008892  1.008892e+06  1.008892e+06\n",
       "mean   1.117520e+01  2011-01-04 10:44:26.799499520  4.070298e+00  2.029579e+01\n",
       "min    1.000000e+00            2009-12-01 07:45:00  0.000000e+00  0.000000e+00\n",
       "25%    1.000000e+00            2010-07-06 11:29:00  1.250000e+00  4.130000e+00\n",
       "50%    4.000000e+00            2010-12-09 15:32:00  2.100000e+00  1.008000e+01\n",
       "75%    1.200000e+01            2011-07-28 12:09:00  4.130000e+00  1.770000e+01\n",
       "max    8.099500e+04            2011-12-09 12:50:00  2.511109e+04  1.684696e+05\n",
       "std    1.296681e+02                            NaN  5.040614e+01  2.056170e+02"
      ]
     },
     "execution_count": 162,
     "metadata": {},
     "output_type": "execute_result"
    }
   ],
   "source": [
    "# Get summary statistics of continuous features\n",
    "retail_data.describe()"
   ]
  },
  {
   "cell_type": "markdown",
   "metadata": {},
   "source": [
    "Our continuous variables `quantity` and `price` are fairly well spread out across all quartiles. Here, it makes no sense to look at the summary statistics of `invoice_date` for binning so we'll ignore that for now.  \n",
    "\n",
    "<u>`quantity`:</u> \n",
    "* Min: 1 item \n",
    "* 25th percentile: 1 item\n",
    "* 50th percentile (median): 3 items\n",
    "* 75th percentile: 12 items\n",
    "* Max: 80995 items\n",
    "\n",
    "<u>`price`:</u>\n",
    "* Min: 0.001 £\n",
    "* 25th percentile: 1.25 £\n",
    "* 50th percentile (median): 2.1 £\n",
    "* 75th percentile: 4.13 £\n",
    "* Max: 25110.90 £\n",
    "\n",
    "<u>*Approach*</u>: \n",
    "* 'low': Values between the 25th and 50th percentile (Q1 to Q2)\n",
    "* 'medium': Values between the 50th and 75th percentile (Q2 to Q3)\n",
    "* 'high': Values greater than or equal to the 75th percentile (Q3)\n"
   ]
  },
  {
   "cell_type": "code",
   "execution_count": 163,
   "metadata": {},
   "outputs": [],
   "source": [
    "# Define the bin edges and labels for 'quantity' and 'price'\n",
    "quantity_bin_edges = [1.0, 3.0, 12.0, 80996.0]\n",
    "price_bin_edges = [0, 1.25, 2.1, 4.13, 25111.9]\n",
    "quantity_bin_labels = [\"low_quantity\", \"medium_quantity\", \"high_quantity\"]\n",
    "price_bin_labels = [\"very_low_price\", \"low_price\", \"medium_price\", \"high_price\"]\n",
    "\n",
    "# Use pd.cut() to categorize the 'quantity' and 'price' columns\n",
    "retail_data[\"quantity\"] = pd.cut(\n",
    "    retail_data[\"quantity\"], bins=quantity_bin_edges, labels=quantity_bin_labels, include_lowest=True\n",
    ")\n",
    "retail_data[\"price\"] = pd.cut(\n",
    "    retail_data[\"price\"], bins=price_bin_edges, labels=price_bin_labels, include_lowest=True\n",
    ")\n"
   ]
  },
  {
   "cell_type": "markdown",
   "metadata": {},
   "source": [
    "Though it seems strange to use a different number of bins for `quantity` and `price`, I think that it is justified to use one extra bin of 'very_low' for price because a price can be fractions of a pound but we assuume a quantity cannot be fractional. Because the minimum and 25th percentile are both 1, we lose a bin as well for `quantity` "
   ]
  },
  {
   "cell_type": "code",
   "execution_count": 164,
   "metadata": {},
   "outputs": [
    {
     "data": {
      "text/html": [
       "<div>\n",
       "<style scoped>\n",
       "    .dataframe tbody tr th:only-of-type {\n",
       "        vertical-align: middle;\n",
       "    }\n",
       "\n",
       "    .dataframe tbody tr th {\n",
       "        vertical-align: top;\n",
       "    }\n",
       "\n",
       "    .dataframe thead th {\n",
       "        text-align: right;\n",
       "    }\n",
       "</style>\n",
       "<table border=\"1\" class=\"dataframe\">\n",
       "  <thead>\n",
       "    <tr style=\"text-align: right;\">\n",
       "      <th></th>\n",
       "      <th>invoice</th>\n",
       "      <th>stock_code</th>\n",
       "      <th>description</th>\n",
       "      <th>quantity</th>\n",
       "      <th>invoice_date</th>\n",
       "      <th>price</th>\n",
       "      <th>customer_id</th>\n",
       "      <th>country</th>\n",
       "      <th>revenue</th>\n",
       "    </tr>\n",
       "  </thead>\n",
       "  <tbody>\n",
       "    <tr>\n",
       "      <th>0</th>\n",
       "      <td>489434</td>\n",
       "      <td>85048</td>\n",
       "      <td>15CM CHRISTMAS GLASS BALL 20 LIGHTS</td>\n",
       "      <td>medium_quantity</td>\n",
       "      <td>2009-12-01 07:45:00</td>\n",
       "      <td>high_price</td>\n",
       "      <td>13085.0</td>\n",
       "      <td>United Kingdom</td>\n",
       "      <td>83.4</td>\n",
       "    </tr>\n",
       "    <tr>\n",
       "      <th>1</th>\n",
       "      <td>489434</td>\n",
       "      <td>79323P</td>\n",
       "      <td>PINK CHERRY LIGHTS</td>\n",
       "      <td>medium_quantity</td>\n",
       "      <td>2009-12-01 07:45:00</td>\n",
       "      <td>high_price</td>\n",
       "      <td>13085.0</td>\n",
       "      <td>United Kingdom</td>\n",
       "      <td>81.0</td>\n",
       "    </tr>\n",
       "    <tr>\n",
       "      <th>2</th>\n",
       "      <td>489434</td>\n",
       "      <td>79323W</td>\n",
       "      <td>WHITE CHERRY LIGHTS</td>\n",
       "      <td>medium_quantity</td>\n",
       "      <td>2009-12-01 07:45:00</td>\n",
       "      <td>high_price</td>\n",
       "      <td>13085.0</td>\n",
       "      <td>United Kingdom</td>\n",
       "      <td>81.0</td>\n",
       "    </tr>\n",
       "    <tr>\n",
       "      <th>3</th>\n",
       "      <td>489434</td>\n",
       "      <td>22041</td>\n",
       "      <td>RECORD FRAME 7\" SINGLE SIZE</td>\n",
       "      <td>high_quantity</td>\n",
       "      <td>2009-12-01 07:45:00</td>\n",
       "      <td>low_price</td>\n",
       "      <td>13085.0</td>\n",
       "      <td>United Kingdom</td>\n",
       "      <td>100.8</td>\n",
       "    </tr>\n",
       "    <tr>\n",
       "      <th>4</th>\n",
       "      <td>489434</td>\n",
       "      <td>21232</td>\n",
       "      <td>STRAWBERRY CERAMIC TRINKET BOX</td>\n",
       "      <td>high_quantity</td>\n",
       "      <td>2009-12-01 07:45:00</td>\n",
       "      <td>very_low_price</td>\n",
       "      <td>13085.0</td>\n",
       "      <td>United Kingdom</td>\n",
       "      <td>30.0</td>\n",
       "    </tr>\n",
       "  </tbody>\n",
       "</table>\n",
       "</div>"
      ],
      "text/plain": [
       "  invoice stock_code                          description         quantity  \\\n",
       "0  489434      85048  15CM CHRISTMAS GLASS BALL 20 LIGHTS  medium_quantity   \n",
       "1  489434     79323P                   PINK CHERRY LIGHTS  medium_quantity   \n",
       "2  489434     79323W                  WHITE CHERRY LIGHTS  medium_quantity   \n",
       "3  489434      22041         RECORD FRAME 7\" SINGLE SIZE     high_quantity   \n",
       "4  489434      21232       STRAWBERRY CERAMIC TRINKET BOX    high_quantity   \n",
       "\n",
       "         invoice_date           price customer_id         country  revenue  \n",
       "0 2009-12-01 07:45:00      high_price     13085.0  United Kingdom     83.4  \n",
       "1 2009-12-01 07:45:00      high_price     13085.0  United Kingdom     81.0  \n",
       "2 2009-12-01 07:45:00      high_price     13085.0  United Kingdom     81.0  \n",
       "3 2009-12-01 07:45:00       low_price     13085.0  United Kingdom    100.8  \n",
       "4 2009-12-01 07:45:00  very_low_price     13085.0  United Kingdom     30.0  "
      ]
     },
     "execution_count": 164,
     "metadata": {},
     "output_type": "execute_result"
    }
   ],
   "source": [
    "retail_data.head()"
   ]
  },
  {
   "cell_type": "code",
   "execution_count": 165,
   "metadata": {},
   "outputs": [
    {
     "name": "stdout",
     "output_type": "stream",
     "text": [
      "There are 0 missing values for the `quantity` column.\n",
      "There are 0 missing values for the `price` column.\n"
     ]
    }
   ],
   "source": [
    "# Check for missing values after binning in 'quantity'\n",
    "quantity_counts_na = retail_data['quantity'].isna().sum()\n",
    "print(f'There are {quantity_counts_na} missing values for the `quantity` column.')\n",
    "\n",
    "# Check for missing values after binning in 'price'\n",
    "price_counts_na = retail_data['price'].isna().sum()\n",
    "print(f'There are {price_counts_na} missing values for the `price` column.')\n"
   ]
  },
  {
   "cell_type": "markdown",
   "metadata": {},
   "source": [
    "Looking better. Now, let's create a variable called `month` so that in addition to the datetime timestamp, we can also analyze how customer behavior changes by month/season."
   ]
  },
  {
   "cell_type": "code",
   "execution_count": 166,
   "metadata": {},
   "outputs": [],
   "source": [
    "# Create a new 'month' column\n",
    "retail_data[\"month\"] = retail_data[\"invoice_date\"].dt.strftime(\"%B\")"
   ]
  },
  {
   "cell_type": "code",
   "execution_count": 167,
   "metadata": {},
   "outputs": [
    {
     "data": {
      "text/html": [
       "<div>\n",
       "<style scoped>\n",
       "    .dataframe tbody tr th:only-of-type {\n",
       "        vertical-align: middle;\n",
       "    }\n",
       "\n",
       "    .dataframe tbody tr th {\n",
       "        vertical-align: top;\n",
       "    }\n",
       "\n",
       "    .dataframe thead th {\n",
       "        text-align: right;\n",
       "    }\n",
       "</style>\n",
       "<table border=\"1\" class=\"dataframe\">\n",
       "  <thead>\n",
       "    <tr style=\"text-align: right;\">\n",
       "      <th></th>\n",
       "      <th>invoice</th>\n",
       "      <th>stock_code</th>\n",
       "      <th>description</th>\n",
       "      <th>quantity</th>\n",
       "      <th>invoice_date</th>\n",
       "      <th>price</th>\n",
       "      <th>customer_id</th>\n",
       "      <th>country</th>\n",
       "      <th>revenue</th>\n",
       "      <th>month</th>\n",
       "    </tr>\n",
       "  </thead>\n",
       "  <tbody>\n",
       "    <tr>\n",
       "      <th>0</th>\n",
       "      <td>489434</td>\n",
       "      <td>85048</td>\n",
       "      <td>15CM CHRISTMAS GLASS BALL 20 LIGHTS</td>\n",
       "      <td>medium_quantity</td>\n",
       "      <td>2009-12-01 07:45:00</td>\n",
       "      <td>high_price</td>\n",
       "      <td>13085.0</td>\n",
       "      <td>United Kingdom</td>\n",
       "      <td>83.4</td>\n",
       "      <td>December</td>\n",
       "    </tr>\n",
       "    <tr>\n",
       "      <th>1</th>\n",
       "      <td>489434</td>\n",
       "      <td>79323P</td>\n",
       "      <td>PINK CHERRY LIGHTS</td>\n",
       "      <td>medium_quantity</td>\n",
       "      <td>2009-12-01 07:45:00</td>\n",
       "      <td>high_price</td>\n",
       "      <td>13085.0</td>\n",
       "      <td>United Kingdom</td>\n",
       "      <td>81.0</td>\n",
       "      <td>December</td>\n",
       "    </tr>\n",
       "    <tr>\n",
       "      <th>2</th>\n",
       "      <td>489434</td>\n",
       "      <td>79323W</td>\n",
       "      <td>WHITE CHERRY LIGHTS</td>\n",
       "      <td>medium_quantity</td>\n",
       "      <td>2009-12-01 07:45:00</td>\n",
       "      <td>high_price</td>\n",
       "      <td>13085.0</td>\n",
       "      <td>United Kingdom</td>\n",
       "      <td>81.0</td>\n",
       "      <td>December</td>\n",
       "    </tr>\n",
       "    <tr>\n",
       "      <th>3</th>\n",
       "      <td>489434</td>\n",
       "      <td>22041</td>\n",
       "      <td>RECORD FRAME 7\" SINGLE SIZE</td>\n",
       "      <td>high_quantity</td>\n",
       "      <td>2009-12-01 07:45:00</td>\n",
       "      <td>low_price</td>\n",
       "      <td>13085.0</td>\n",
       "      <td>United Kingdom</td>\n",
       "      <td>100.8</td>\n",
       "      <td>December</td>\n",
       "    </tr>\n",
       "    <tr>\n",
       "      <th>4</th>\n",
       "      <td>489434</td>\n",
       "      <td>21232</td>\n",
       "      <td>STRAWBERRY CERAMIC TRINKET BOX</td>\n",
       "      <td>high_quantity</td>\n",
       "      <td>2009-12-01 07:45:00</td>\n",
       "      <td>very_low_price</td>\n",
       "      <td>13085.0</td>\n",
       "      <td>United Kingdom</td>\n",
       "      <td>30.0</td>\n",
       "      <td>December</td>\n",
       "    </tr>\n",
       "  </tbody>\n",
       "</table>\n",
       "</div>"
      ],
      "text/plain": [
       "  invoice stock_code                          description         quantity  \\\n",
       "0  489434      85048  15CM CHRISTMAS GLASS BALL 20 LIGHTS  medium_quantity   \n",
       "1  489434     79323P                   PINK CHERRY LIGHTS  medium_quantity   \n",
       "2  489434     79323W                  WHITE CHERRY LIGHTS  medium_quantity   \n",
       "3  489434      22041         RECORD FRAME 7\" SINGLE SIZE     high_quantity   \n",
       "4  489434      21232       STRAWBERRY CERAMIC TRINKET BOX    high_quantity   \n",
       "\n",
       "         invoice_date           price customer_id         country  revenue  \\\n",
       "0 2009-12-01 07:45:00      high_price     13085.0  United Kingdom     83.4   \n",
       "1 2009-12-01 07:45:00      high_price     13085.0  United Kingdom     81.0   \n",
       "2 2009-12-01 07:45:00      high_price     13085.0  United Kingdom     81.0   \n",
       "3 2009-12-01 07:45:00       low_price     13085.0  United Kingdom    100.8   \n",
       "4 2009-12-01 07:45:00  very_low_price     13085.0  United Kingdom     30.0   \n",
       "\n",
       "      month  \n",
       "0  December  \n",
       "1  December  \n",
       "2  December  \n",
       "3  December  \n",
       "4  December  "
      ]
     },
     "execution_count": 167,
     "metadata": {},
     "output_type": "execute_result"
    }
   ],
   "source": [
    "# Preview updated dataframe\n",
    "retail_data.head()"
   ]
  },
  {
   "cell_type": "markdown",
   "metadata": {},
   "source": [
    "Now, let's take a look at our distribution for `country` and see if we need to do any modifications."
   ]
  },
  {
   "cell_type": "code",
   "execution_count": 168,
   "metadata": {},
   "outputs": [
    {
     "name": "stdout",
     "output_type": "stream",
     "text": [
      "country\n",
      "United Kingdom          926990\n",
      "EIRE                     17159\n",
      "Germany                  16440\n",
      "France                   13640\n",
      "Netherlands               5090\n",
      "Spain                     3663\n",
      "Switzerland               3123\n",
      "Belgium                   3056\n",
      "Portugal                  2470\n",
      "Australia                 1792\n",
      "Channel Islands           1551\n",
      "Italy                     1442\n",
      "Sweden                    1336\n",
      "Norway                    1290\n",
      "Cyprus                    1136\n",
      "Finland                   1032\n",
      "Austria                    922\n",
      "Denmark                    778\n",
      "Unspecified                748\n",
      "Greece                     657\n",
      "Poland                     504\n",
      "Japan                      468\n",
      "United Arab Emirates       467\n",
      "USA                        409\n",
      "Israel                     366\n",
      "Hong Kong                  354\n",
      "Singapore                  339\n",
      "Malta                      282\n",
      "Canada                     228\n",
      "Iceland                    222\n",
      "RSA                        168\n",
      "Lithuania                  154\n",
      "Bahrain                    124\n",
      "Brazil                      94\n",
      "Thailand                    76\n",
      "European Community          60\n",
      "Lebanon                     57\n",
      "West Indies                 54\n",
      "Korea                       53\n",
      "Bermuda                     34\n",
      "Nigeria                     30\n",
      "Czech Republic              25\n",
      "Saudi Arabia                 9\n",
      "Name: count, dtype: int64\n"
     ]
    }
   ],
   "source": [
    "# Looking at our distribution of country\n",
    "country_counts = retail_data['country'].value_counts()\n",
    "print(country_counts)"
   ]
  },
  {
   "cell_type": "markdown",
   "metadata": {},
   "source": [
    "Immediately, we see that the overwhelming majority is U.K. To make things simpler for our model in the future, we are going to call anything not classified 'United Kingdom' as 'Other'."
   ]
  },
  {
   "cell_type": "code",
   "execution_count": 169,
   "metadata": {},
   "outputs": [],
   "source": [
    "# Changing all non-United Kingdom records to 'Other'\n",
    "retail_data['country'] = retail_data['country'].apply(lambda x: 'Other' if x.lower() != 'United Kingdom'.lower() else x)"
   ]
  },
  {
   "cell_type": "markdown",
   "metadata": {},
   "source": [
    "### Topic Modeling `description` with Top2Vec vs LDA (gensim) "
   ]
  },
  {
   "cell_type": "markdown",
   "metadata": {},
   "source": [
    "#### Top2Vec"
   ]
  },
  {
   "cell_type": "code",
   "execution_count": 170,
   "metadata": {},
   "outputs": [
    {
     "name": "stdout",
     "output_type": "stream",
     "text": [
      "There are 5469 unique descriptions in out dataset.\n",
      "Each description has an average of 4.0 words.\n"
     ]
    }
   ],
   "source": [
    "# Let's determine the total number of documents in our corpus along with\n",
    "unique_descriptions = retail_data[\"description\"].nunique()\n",
    "avg_doc_len = np.mean(\n",
    "    [len(d.split()) for d in retail_data[\"description\"].unique().tolist()]\n",
    ").round()\n",
    "print(f\"There are {unique_descriptions} unique descriptions in out dataset.\")\n",
    "print(f\"Each description has an average of {avg_doc_len} words.\")"
   ]
  },
  {
   "cell_type": "markdown",
   "metadata": {},
   "source": [
    "Our data now has more categorical features. One issue we may face in the future is our `description` variable having so many unique descriptions (5399). With all of these descriptions it will be very difficult to make any meaningful model unless we categorize them. We will first try do this with Topic Modeling via the *Top2Vec* library. I do have some doubts though just because there are only 5399 descriptions, each with an average of ~4 words. It will definitely be difficult to generalize."
   ]
  },
  {
   "cell_type": "code",
   "execution_count": 171,
   "metadata": {},
   "outputs": [],
   "source": [
    "# Create list of descriptions\n",
    "unique_docs = retail_data[\"description\"].unique().tolist()"
   ]
  },
  {
   "cell_type": "code",
   "execution_count": 172,
   "metadata": {},
   "outputs": [],
   "source": [
    "# Instantiate/train Top2Vec model\n",
    "# model = Top2Vec(unique_docs)\n",
    "# Save model\n",
    "# model.save(\n",
    "#     r\"C:\\Users\\evans\\OneDrive\\Desktop\\DS4A\\data_scientist_retail_challenge\\models\\t2v\"\n",
    "# )"
   ]
  },
  {
   "cell_type": "code",
   "execution_count": 173,
   "metadata": {},
   "outputs": [],
   "source": [
    "# Load in model trained on 30% of total documents\n",
    "model = Top2Vec.load(\n",
    "    r\"C:\\Users\\evans\\OneDrive\\Desktop\\DS4A\\data_scientist_retail_challenge\\retail-customer-segmentation-forecasting\\models\\t2v\"\n",
    ")"
   ]
  },
  {
   "cell_type": "code",
   "execution_count": 174,
   "metadata": {},
   "outputs": [
    {
     "name": "stdout",
     "output_type": "stream",
     "text": [
      "[272 264 264 263 253 251 247 240 240 238 237 234 233 232 227 226 220 218\n",
      " 215 214 205 204 202]\n"
     ]
    }
   ],
   "source": [
    "# Grab the size and number of all of our topics\n",
    "topic_sizes, topic_nums = model.get_topic_sizes()\n",
    "print(topic_sizes)"
   ]
  },
  {
   "cell_type": "markdown",
   "metadata": {},
   "source": [
    "`topic_sizes` shows us the amount of documents that correspond to each topic where each index in this list is an individual topic ordered from topics with the most documents to fewest documents at the end of the list."
   ]
  },
  {
   "cell_type": "code",
   "execution_count": 175,
   "metadata": {},
   "outputs": [
    {
     "name": "stdout",
     "output_type": "stream",
     "text": [
      "[ 0  1  2  3  4  5  6  7  8  9 10 11 12 13 14 15 16 17 18 19 20 21 22]\n"
     ]
    }
   ],
   "source": [
    "print(topic_nums)"
   ]
  },
  {
   "cell_type": "markdown",
   "metadata": {},
   "source": [
    "`topic_nums` simply displays the index numbers sequentially. Here, we can see that we have 23 unique topics in our model."
   ]
  },
  {
   "cell_type": "code",
   "execution_count": 176,
   "metadata": {},
   "outputs": [],
   "source": [
    "# Rank top 5 topics on most common to least common basis\n",
    "topic_words, word_scores, topic_nums = model.get_topics(3)"
   ]
  },
  {
   "cell_type": "code",
   "execution_count": 177,
   "metadata": {},
   "outputs": [
    {
     "name": "stdout",
     "output_type": "stream",
     "text": [
      "0\n",
      "Words: ['in' 'bottle' 'of' 'cake' 'ring' 'rose' 'pink' 'black' 'cards' 'small'\n",
      " 'and' 'earrings' 'bowl' 'candles' 'love' 'enamel' 'wall' 'gift' 'cushion'\n",
      " 'paper' 'ceramic' 'crystal' 'easter' 'tile' 'green' 'hanging' 'spotty'\n",
      " 'cutlery' 'gold' 'assorted' 'art' 'silver' 'bag' 'purple' 'cover' 'egg'\n",
      " 'fairy' 'polkadot' 'design' 'sign' 'mug' 'zinc' 'star' 'cream' 'tea'\n",
      " 'door' 'retro' 'holder' 'round' 'card']\n",
      "1\n",
      "Words: ['card' 'of' 'hanging' 'tree' 'frame' 'blue' 'fairy' 'black' 'cake'\n",
      " 'clock' 'spot' 'assorted' 'green' 'cards' 'mini' 'glass' 'tile'\n",
      " 'retrospot' 'and' 'decoration' 'heart' 'pack' 'girl' 'cover' 'flower'\n",
      " 'retro' 'candle' 'mirror' 'door' 'vintage' 'wooden' 'lights' 'art'\n",
      " 'photo' 'paper' 'metal' 'crystal' 'holder' 'wrap' 'garden' 'silver'\n",
      " 'cutlery' 'wall' 'bottle' 'ring' 'rose' 'bowl' 'in' 'christmas' 'cushion']\n",
      "2\n",
      "Words: ['bottle' 'retro' 'tree' 'bird' 'ceramic' 'red' 'enamel' 'round' 'star'\n",
      " 'and' 'cushion' 'ring' 'earrings' 'crystal' 'white' 'home' 'easter'\n",
      " 'sign' 'garden' 'rose' 'tea' 'wall' 'fairy' 'zinc' 'large' 'love' 'black'\n",
      " 'gift' 'small' 'bracelet' 'pink' 'tile' 'clock' 'photo' 'of' 'hanging'\n",
      " 'ivory' 'lights' 'tin' 'set' 'vintage' 'candles' 'cards' 'mini' 'door'\n",
      " 'bowl' 'christmas' 'wrap' 'light' 'metal']\n"
     ]
    }
   ],
   "source": [
    "# Iterate over these three outputs\n",
    "for words, scores, num in zip(topic_words, word_scores, topic_nums):\n",
    "    print(num)\n",
    "    print(f\"Words: {words}\")"
   ]
  },
  {
   "cell_type": "markdown",
   "metadata": {},
   "source": [
    "Let's just look at topic one right now. We are going to look at topic one and the documents that correspond to it."
   ]
  },
  {
   "cell_type": "code",
   "execution_count": 178,
   "metadata": {},
   "outputs": [
    {
     "name": "stdout",
     "output_type": "stream",
     "text": [
      "Document: 5077, Score: 0.2994881272315979\n",
      "--------------\n",
      "HOME SWEET HOME CUSHION COVER \n",
      "--------------\n",
      "\n",
      "Document: 5339, Score: 0.27533596754074097\n",
      "--------------\n",
      "SET 10 CARD SNOWMAN 16965\n",
      "--------------\n",
      "\n",
      "Document: 4339, Score: 0.26661357283592224\n",
      "--------------\n",
      "T-LIGHT HOLDER SWEETHEART HANGING\n",
      "--------------\n",
      "\n"
     ]
    }
   ],
   "source": [
    "# Grab corresponding top 10 documents for topic one\n",
    "documents, document_scores, document_ids = model.search_documents_by_topic(\n",
    "    topic_num=0, num_docs=3\n",
    ")\n",
    "for doc, score, doc_id in zip(documents, document_scores, document_ids):\n",
    "    print(f\"Document: {doc_id}, Score: {score}\")\n",
    "    print(\"--------------\")\n",
    "    print(doc)\n",
    "    print(\"--------------\")\n",
    "    print()"
   ]
  },
  {
   "cell_type": "markdown",
   "metadata": {},
   "source": [
    "These cosine similarities are very low and indicate weak or no similarity between our documents and the topics we classified. This is really no surprise since we have such few documents (<6000) with the average length of 4 words per document.  \n",
    "\n",
    "However, the main metric that topic models tend to use is the CV Coherence score - a measure used to evaluate the quality of topics generated by a topic modeling algorithm. It asseses how well the words within a topic are related and how distinct different topics are from each other (the higher the score, the more coherent the topics). Analytically, this is the normalized NPMI (Normalized Pointwise Mutual Information) and cosine similarity.  \n",
    "\n",
    "$$\n",
    "C_V = \\frac{\\sum_{i < j} \\text{score}(w_i, w_j)}{\\sum_{i < j} \\text{normalization}(w_i, w_j)}\n",
    "$$\n",
    "\n",
    "Here, $w_i$ and $w_j$ are words, and the function $text{score}(w_i, w_j)$ and $text{normalization}(w_i, w_j)$ contribute to the score and normalization, respectively. The summations are over all pairs of words $i$ and $j$ $(i < j)$ in the set of top words for each topic.  \n",
    "\n",
    "The specific formulas for $text{score}(w_i, w_j)$ uses cosine similarity:\n",
    "\n",
    "$$\n",
    "\\text{Cosine Similarity} = \\frac{{w_i \\cdot w_j}}{{\\|w_i\\| \\cdot \\|w_j\\|}}\n",
    "$$"
   ]
  },
  {
   "cell_type": "code",
   "execution_count": 179,
   "metadata": {},
   "outputs": [
    {
     "data": {
      "text/plain": [
       "0.0"
      ]
     },
     "execution_count": 179,
     "metadata": {},
     "output_type": "execute_result"
    }
   ],
   "source": [
    "# Compute the NPMI (Normalized Pointwise Mutual Information) Coherence Score for Top2Vec\n",
    "compute_cv_coherence(model, unique_docs)"
   ]
  },
  {
   "cell_type": "markdown",
   "metadata": {},
   "source": [
    "Using my handcrafted formula for Coherence CV score (see `top2vec_utils.py`) indicates that our score is ~0 and there is little to no semantic coherence among the rop words in the topics genreated by our Top2Vec topic model. This could be because of a number of reasons but is probably mainly due to a short corpus size and how Top2Vec is configured."
   ]
  },
  {
   "cell_type": "markdown",
   "metadata": {},
   "source": [
    "#### LDA (gensim)"
   ]
  },
  {
   "cell_type": "markdown",
   "metadata": {},
   "source": [
    "To get a variety of topic modeling outputs, we are also going to test gensim's LDA model on our descriptions."
   ]
  },
  {
   "cell_type": "code",
   "execution_count": 180,
   "metadata": {},
   "outputs": [],
   "source": [
    "# Create list of Stop words using NLTK\n",
    "stop_words = stopwords.words(\"english\")\n",
    "stop_words.extend(\n",
    "    [\"from\", \"subject\", \"re\", \"edu\", \"use\", \"cm\", \"ft\"]\n",
    ")"
   ]
  },
  {
   "cell_type": "code",
   "execution_count": 181,
   "metadata": {},
   "outputs": [
    {
     "name": "stdout",
     "output_type": "stream",
     "text": [
      "[['cm', 'christmas', 'glass', 'ball', 'lights']]\n"
     ]
    }
   ],
   "source": [
    "# Tokenize each sentence into a list of words using simple_preprocess (gensim)\n",
    "data_words = list(sent_to_words(unique_docs))\n",
    "print(data_words[:1])"
   ]
  },
  {
   "cell_type": "code",
   "execution_count": 182,
   "metadata": {},
   "outputs": [
    {
     "name": "stdout",
     "output_type": "stream",
     "text": [
      "['cm', 'christmas', 'glass_ball', 'lights']\n"
     ]
    }
   ],
   "source": [
    "# Create bigram and trigram models using gensim's Phrases model\n",
    "bigram = Phrases(data_words, min_count=1, threshold=2)\n",
    "trigram = Phrases(bigram[data_words], threshold=2)\n",
    "\n",
    "# Use the 'Phraser' class from gensim to apply bigram/trigram models in memory-effieicent way\n",
    "bigram_mod = Phraser(bigram)\n",
    "trigram_mod = Phraser(trigram)\n",
    "\n",
    "# See trigram example\n",
    "print(trigram_mod[bigram_mod[data_words[0]]])"
   ]
  },
  {
   "cell_type": "code",
   "execution_count": 183,
   "metadata": {},
   "outputs": [],
   "source": [
    "# Remove Stop Words\n",
    "data_words_nostops = remove_stopwords(data_words, stop_words=stop_words)\n",
    "\n",
    "# Form Bigrams\n",
    "data_words_bigrams = make_bigrams(data_words_nostops, bigram_mod=bigram_mod)\n",
    "\n",
    "# Initialize spacy 'en_core_web_sm' model, keeping only tagger component (for efficiency)\n",
    "nlp = spacy.load(\"en_core_web_sm\", disable=[\"parser\", \"ner\"])\n",
    "\n",
    "# Do lemmatization keeping only noun, adj, vb, adv\n",
    "data_lemmatized = lemmatization(\n",
    "    data_words_bigrams, nlp=nlp, allowed_postags=[\"NOUN\", \"ADJ\", \"VERB\", \"ADV\"]\n",
    ")"
   ]
  },
  {
   "cell_type": "code",
   "execution_count": 184,
   "metadata": {},
   "outputs": [
    {
     "name": "stdout",
     "output_type": "stream",
     "text": [
      "[['glass_ball', 'light']]\n"
     ]
    }
   ],
   "source": [
    "# Preview the first element of data_lemmatized\n",
    "print(data_lemmatized[:1])"
   ]
  },
  {
   "cell_type": "markdown",
   "metadata": {},
   "source": [
    "The two main inputs to the gensim LDA topic model are the dictionary (id2word) and the corpus. Let's create them."
   ]
  },
  {
   "cell_type": "code",
   "execution_count": 185,
   "metadata": {},
   "outputs": [
    {
     "name": "stdout",
     "output_type": "stream",
     "text": [
      "[[(0, 1), (1, 1)]]\n"
     ]
    }
   ],
   "source": [
    "# Create a dictionary\n",
    "id2word = corpora.Dictionary(data_lemmatized)\n",
    "\n",
    "# Create corpus\n",
    "texts = data_lemmatized\n",
    "\n",
    "# Term Document Frequency\n",
    "corpus = [id2word.doc2bow(text) for text in texts]\n",
    "\n",
    "# View\n",
    "print(corpus[:1])"
   ]
  },
  {
   "cell_type": "markdown",
   "metadata": {},
   "source": [
    "Gensim creates a unique id for each word in the document. The produced corpus shown above is a mapping of (word_id, word_frequency).  For example, (0,1) above implies that word id 0 occurs once in the first document, word id 1 occurs once as well. Since our documents are so shorty, each element of corpus will only contain a few (word_id, word_frequency) tuples."
   ]
  },
  {
   "cell_type": "markdown",
   "metadata": {},
   "source": [
    "<u>Building the Topic Model</u>\n",
    "\n",
    "  Parameters: `alpha` and `eta` - hyperparameters that affect the sparsity of the topics. `chunksize` - the number of documents to be used in each training chunk. `update_every` - determines how often the model parameters should be updated. `passes` is the total number of training passes."
   ]
  },
  {
   "cell_type": "code",
   "execution_count": 186,
   "metadata": {},
   "outputs": [],
   "source": [
    "# Build LDA model\n",
    "lda_model = LdaModel(\n",
    "    corpus=corpus,\n",
    "    id2word=id2word,\n",
    "    num_topics=10,\n",
    "    random_state=42,\n",
    "    update_every=1,\n",
    "    passes=10,\n",
    "    alpha=\"auto\",\n",
    "    per_word_topics=True,\n",
    ")"
   ]
  },
  {
   "cell_type": "markdown",
   "metadata": {},
   "source": [
    "The above LDA model is built with 10 different topics where each topic is a combination of keywords and each keyword contributes a certain weightage to the topic. We will now look at the weightage (importance) of each keyword using `lda_model.print_topics()` "
   ]
  },
  {
   "cell_type": "code",
   "execution_count": 187,
   "metadata": {},
   "outputs": [
    {
     "name": "stdout",
     "output_type": "stream",
     "text": [
      "[(0, '0.057*\"flower\" + 0.045*\"silver\" + 0.040*\"glass\" + 0.039*\"set\" + 0.018*\"frame\" + 0.017*\"cake_case\" + 0.016*\"cup\" + 0.016*\"wooden\" + 0.016*\"vintage_christma\" + 0.015*\"ceramic\"'), (1, '0.098*\"blue\" + 0.076*\"large\" + 0.067*\"small\" + 0.030*\"bottle\" + 0.024*\"bag\" + 0.017*\"rabbit\" + 0.017*\"hot_water\" + 0.014*\"stand\" + 0.011*\"egg\" + 0.009*\"egg_cup\"'), (2, '0.057*\"light\" + 0.053*\"set\" + 0.022*\"mug\" + 0.018*\"light_holder\" + 0.015*\"bird\" + 0.014*\"pen\" + 0.011*\"paint\" + 0.010*\"strawberry\" + 0.010*\"chick\" + 0.009*\"piece\"'), (3, '0.059*\"vintage\" + 0.053*\"design\" + 0.043*\"green\" + 0.033*\"holder\" + 0.024*\"metal\" + 0.023*\"gold\" + 0.023*\"dolly_girl\" + 0.023*\"cream\" + 0.017*\"pantry\" + 0.016*\"cushion_cover\"'), (4, '0.119*\"set\" + 0.035*\"wall_art\" + 0.031*\"red_retrospot\" + 0.024*\"polkadot\" + 0.023*\"plate\" + 0.020*\"purple\" + 0.019*\"bowl\" + 0.017*\"drawer_knob\" + 0.016*\"ivory\" + 0.014*\"cake\"'), (5, '0.047*\"pack\" + 0.027*\"set\" + 0.027*\"tin\" + 0.020*\"tree\" + 0.019*\"tissue\" + 0.019*\"key_re\" + 0.017*\"bell\" + 0.016*\"spaceboy\" + 0.016*\"letter_ble\" + 0.014*\"wrap\"'), (6, '0.200*\"pink\" + 0.035*\"box\" + 0.031*\"red\" + 0.025*\"mirror\" + 0.017*\"tray\" + 0.014*\"round\" + 0.012*\"purse\" + 0.012*\"home_sweet\" + 0.012*\"door_mat\" + 0.011*\"colour\"'), (7, '0.059*\"decoration\" + 0.045*\"sign\" + 0.031*\"necklace\" + 0.030*\"metal_door\" + 0.030*\"french_blue\" + 0.024*\"assort\" + 0.018*\"sticker\" + 0.016*\"mini\" + 0.015*\"bead\" + 0.013*\"bracelet\"'), (8, '0.069*\"candle\" + 0.045*\"retrospot\" + 0.043*\"card\" + 0.034*\"set\" + 0.030*\"black\" + 0.022*\"star\" + 0.019*\"hook\" + 0.017*\"cover\" + 0.013*\"retro_spot\" + 0.012*\"paper_lantern\"'), (9, '0.121*\"heart\" + 0.042*\"white\" + 0.040*\"rise\" + 0.015*\"gift_bag\" + 0.015*\"hanging_heart\" + 0.014*\"basket\" + 0.013*\"beaker\" + 0.012*\"flower\" + 0.012*\"french\" + 0.012*\"classic\"')]\n"
     ]
    }
   ],
   "source": [
    "print(lda_model.print_topics())\n",
    "doc_lda = lda_model[corpus]"
   ]
  },
  {
   "cell_type": "markdown",
   "metadata": {},
   "source": [
    "How to interpret?  \n",
    "Topic 0 is represented as '0.043*\"white\" + 0.029*\"mirror\" + 0.026*\"cream\" + 0.025*\"heart\" + 0.022*\"vintage\" + 0.020*\"garden\" + 0.020*\"assort\" + 0.018*\"rabbit\" + 0.018*\"pink\" + 0.016*\"round\"  \n",
    "\n",
    "This means that the top 10 keywords that contribute to this topic are: 'white', 'mirror', 'cream'... and so on and the weight of 'white' on topic 0 is 0.043  \n",
    "\n",
    "Looking at these keywords in the context of gifts, category one might be 'Vintage-inspired Home Decor'.\n",
    "\n"
   ]
  },
  {
   "cell_type": "markdown",
   "metadata": {},
   "source": [
    "Compute Model Perplexity and Coherence Score  \n",
    "Model preplexity and topic coherence provide a convenient measure to judge how good a given topic model is."
   ]
  },
  {
   "cell_type": "code",
   "execution_count": 188,
   "metadata": {},
   "outputs": [
    {
     "name": "stdout",
     "output_type": "stream",
     "text": [
      "Perplexity: -8.136767189274703\n",
      "\n",
      "Coherence Score: 0.6968322300179804\n"
     ]
    }
   ],
   "source": [
    "# Compute Perplexity\n",
    "print(\n",
    "    f\"Perplexity: {lda_model.log_perplexity(corpus)}\"\n",
    ")  # A measure of how good the model is - the lower the  better\n",
    "\n",
    "# Compute Coherence Score\n",
    "coherence_model_lda = CoherenceModel(\n",
    "    model=lda_model, texts=data_lemmatized, dictionary=id2word, coherence=\"c_v\"\n",
    ")\n",
    "coherence_lda = coherence_model_lda.get_coherence()\n",
    "print(f\"\\nCoherence Score: {coherence_lda}\")"
   ]
  },
  {
   "cell_type": "markdown",
   "metadata": {},
   "source": [
    "Here, we get a coherence score of 0.685 when using 10 topics.  \n",
    "\n",
    "Now that the LDA model is built, the next step is to examine the produced topics and the associated keywords. We will use pyLDAvis package's interactive chart. "
   ]
  },
  {
   "cell_type": "code",
   "execution_count": 189,
   "metadata": {},
   "outputs": [
    {
     "data": {
      "text/html": [
       "\n",
       "<link rel=\"stylesheet\" type=\"text/css\" href=\"https://cdn.jsdelivr.net/gh/bmabey/pyLDAvis@3.4.0/pyLDAvis/js/ldavis.v1.0.0.css\">\n",
       "\n",
       "\n",
       "<div id=\"ldavis_el3010831436168245925401640131\" style=\"background-color:white;\"></div>\n",
       "<script type=\"text/javascript\">\n",
       "\n",
       "var ldavis_el3010831436168245925401640131_data = {\"mdsDat\": {\"x\": [-0.19698160079933574, -0.18168060896496063, 0.13943913232744742, 0.09525544593362614, -0.14647613180945016, 0.10572433059741698, 0.06704538831542634, 0.02362853213015259, -0.012979757488066289, 0.10702526975774329], \"y\": [0.030147917063309316, 0.23039577701085384, 0.019583230276996794, 0.0468987919525016, -0.24554328291898553, 0.029404855480601576, 0.034723324919047255, -0.035828424372460296, -0.09826221534155959, -0.011519974070305031], \"topics\": [1, 2, 3, 4, 5, 6, 7, 8, 9, 10], \"cluster\": [1, 1, 1, 1, 1, 1, 1, 1, 1, 1], \"Freq\": [11.821741630513761, 10.984637260558388, 10.955770343488007, 10.588193494299638, 10.430000505994439, 10.252097832706939, 9.162111087066442, 9.115454144444541, 8.631895239997434, 8.05809846093041]}, \"tinfo\": {\"Term\": [\"pink\", \"heart\", \"blue\", \"set\", \"large\", \"candle\", \"small\", \"vintage\", \"design\", \"flower\", \"decoration\", \"light\", \"retrospot\", \"silver\", \"pack\", \"card\", \"green\", \"sign\", \"white\", \"glass\", \"box\", \"rise\", \"wall_art\", \"holder\", \"red_retrospot\", \"bottle\", \"red\", \"necklace\", \"french_blue\", \"metal_door\", \"pink\", \"box\", \"mirror\", \"tray\", \"round\", \"purse\", \"home_sweet\", \"door_mat\", \"crystal\", \"heart_shape\", \"zinc_heart\", \"leave\", \"child\", \"chain\", \"find\", \"egg_frye\", \"ball\", \"umbrella\", \"tidy\", \"doorknob_cracke\", \"windmill\", \"giant\", \"nest\", \"magic_toadstool\", \"roll_wrap\", \"regency\", \"handbag\", \"measure\", \"lattice\", \"frutti\", \"colour\", \"red\", \"dog\", \"hang\", \"home\", \"small\", \"black\", \"doormat\", \"butterfly\", \"vintage\", \"design\", \"holder\", \"metal\", \"gold\", \"dolly_girl\", \"cream\", \"green\", \"pantry\", \"cushion_cover\", \"earring\", \"chocolate\", \"cutlery\", \"spot\", \"girl\", \"notebook\", \"bag_charm\", \"case\", \"wreath\", \"placemat\", \"bakelike\", \"jar_light\", \"folding_umbrella\", \"glove\", \"washing\", \"tree_decoration\", \"hanging_chick\", \"fire_polishe\", \"chandelier_light\", \"wall_mirror\", \"yellow\", \"fairy_cake\", \"home\", \"red\", \"black\", \"daisy\", \"wall_art\", \"red_retrospot\", \"polkadot\", \"plate\", \"purple\", \"drawer_knob\", \"ivory\", \"cake\", \"red_spotty\", \"tea\", \"kit\", \"coaster\", \"paper\", \"sweetheart\", \"circus_parade\", \"doily\", \"heart_decoration\", \"print\", \"fridge_magnet\", \"love_heart\", \"lace\", \"tea_towel\", \"ring\", \"magic_drawe\", \"retro\", \"floral\", \"amethyst\", \"baby_gift\", \"crackle_glaze\", \"regency_tea\", \"bowl\", \"set\", \"table\", \"flock\", \"red\", \"candle\", \"retrospot\", \"card\", \"cover\", \"retro_spot\", \"paper_lantern\", \"clock\", \"match\", \"container\", \"white_spot\", \"red_spot\", \"birthday\", \"game\", \"woodland\", \"union_jack\", \"mini_playe\", \"party\", \"coffee_mug\", \"frying_pan\", \"birthday_card\", \"pin_cushion\", \"dress\", \"apples_design\", \"happy_birthday\", \"tape\", \"point_holly\", \"cornice\", \"teacup\", \"herb\", \"silk_purse\", \"star\", \"hook\", \"wallet\", \"black\", \"photo_frame\", \"set\", \"party_pizza\", \"large\", \"bottle\", \"bag\", \"rabbit\", \"hot_water\", \"stand\", \"blue\", \"egg_cup\", \"reindeer\", \"balloon\", \"chicken\", \"natural\", \"check\", \"shell_necklace\", \"brush\", \"pantry_hook\", \"wall_organiser\", \"tea_time\", \"dot\", \"wire\", \"mint\", \"point\", \"small\", \"embossed_heart\", \"scissor\", \"folding_stool\", \"throw\", \"sweet\", \"hanging_metal\", \"pink_flock\", \"egg\", \"drawer\", \"bauble\", \"spoon\", \"bowl\", \"silver\", \"glass\", \"frame\", \"cake_case\", \"cup\", \"wooden\", \"vintage_christma\", \"ceramic\", \"jar\", \"zinc\", \"bunny\", \"dish\", \"blue_polkadot\", \"ribbon_reel\", \"wood\", \"clear\", \"wicker\", \"doll\", \"lampshade\", \"sucker\", \"oval\", \"pc\", \"decorative\", \"school\", \"jardin_etched\", \"key\", \"party_candle\", \"angel\", \"bunt\", \"chair\", \"flower\", \"doormat\", \"garden\", \"set\", \"wall_clock\", \"hanging\", \"black\", \"pack\", \"tin\", \"tree\", \"tissue\", \"key_re\", \"bell\", \"spaceboy\", \"letter_ble\", \"wrap\", \"reel\", \"skull\", \"pad\", \"ribbon\", \"shelf\", \"saucer\", \"traditional\", \"lamp\", \"art\", \"apple\", \"santa\", \"new_baroque\", \"easter\", \"christmas_decoration\", \"mirrored_wall\", \"gift_tag\", \"luggage_tag\", \"soap_dish\", \"easter_egg\", \"playing_card\", \"place_setting\", \"vintage_doily\", \"garland\", \"set\", \"red\", \"knick_knack\", \"heart\", \"white\", \"rise\", \"gift_bag\", \"hanging_heart\", \"beaker\", \"french\", \"classic\", \"charm\", \"recycled_acapulco\", \"flag\", \"calendar\", \"tube\", \"vintage_spot\", \"letter\", \"beaded_crystal\", \"fuschia\", \"leaf\", \"vintage_cream\", \"feel\", \"fun\", \"cat_bowl\", \"triple\", \"empire\", \"mat\", \"round_cake\", \"blue_felt\", \"picture\", \"antique\", \"wallet_vintage\", \"basket\", \"rose\", \"napkin\", \"flower\", \"incense\", \"set\", \"decoration\", \"sign\", \"necklace\", \"french_blue\", \"metal_door\", \"assort\", \"sticker\", \"bead\", \"bracelet\", \"dinosaur\", \"paper_doilie\", \"magnet\", \"lavender\", \"cutlery_set\", \"edwardian\", \"love\", \"doorstop\", \"spotty\", \"cake_tin\", \"dotcom\", \"pair\", \"candle_holder\", \"sticker_set\", \"toadstool\", \"gift_box\", \"keyring\", \"big\", \"ivory_hange\", \"swallow\", \"candy\", \"flower_fairy\", \"mini\", \"butterfly\", \"assorted\", \"light\", \"mug\", \"light_holder\", \"bird\", \"pen\", \"paint\", \"strawberry\", \"chick\", \"piece\", \"jug\", \"pink_union\", \"cabinet\", \"cake_stand\", \"chest\", \"gift_wrap\", \"sketchbook\", \"thermometer\", \"tier\", \"lantern\", \"day\", \"french_style\", \"kitchen\", \"easter_tin\", \"planter\", \"bucket\", \"poppy_playhouse\", \"adjust\", \"double\", \"cream_sweetheart\", \"snowflake\", \"set\", \"string\", \"order\"], \"Freq\": [275.0, 129.0, 124.0, 331.0, 93.0, 85.0, 93.0, 76.0, 69.0, 80.0, 60.0, 53.0, 56.0, 54.0, 51.0, 53.0, 56.0, 45.0, 45.0, 48.0, 49.0, 43.0, 45.0, 42.0, 39.0, 36.0, 82.0, 31.0, 30.0, 30.0, 274.7442774873216, 48.620090482174994, 34.755733762055144, 23.034241275185103, 19.747497983533982, 16.81448559513454, 16.784909925303964, 16.726013482061017, 10.99761996222597, 10.388552015808166, 9.932329696481863, 9.427548969044818, 9.211096438519728, 8.802078630248694, 8.706885705585696, 8.40229729469954, 6.878824953247979, 6.878612966528318, 6.350778202995751, 6.278331901662605, 5.524585901071216, 5.148212766741368, 4.875805989318107, 4.804065136237849, 4.731018739568383, 4.731219838752593, 4.643518178923035, 4.594819193516324, 4.482763717991394, 4.129450703968054, 15.660104548125998, 42.0593512815559, 9.540093423000142, 12.449621397432129, 9.75319515437942, 11.394389933558074, 9.127480166257282, 6.2516772935491645, 5.171793887641362, 75.63471481578767, 68.27616959536859, 41.6566124677059, 30.15277246689422, 29.574791860570112, 28.993143100355343, 28.82951630058631, 54.70286714265114, 22.263568443750213, 19.893767263196523, 19.019082756901348, 18.338487866349084, 16.192135814898084, 13.222648602159158, 13.016482166971555, 11.381816159916127, 10.440270563057778, 10.128772648530928, 8.745331741189261, 8.663599869059938, 8.65684437214774, 7.080477851173826, 9.581609533670449, 6.569115537426618, 6.502526999504899, 6.375567456407993, 6.184508649841777, 5.8513035241744875, 5.799678007249978, 5.606334638258995, 14.213372693099965, 13.534042970485979, 12.495073491449176, 17.28332233340439, 10.073257603081213, 6.608631504785737, 44.67778039327577, 38.88449582480541, 30.238109089895648, 29.90882381723079, 25.931885910395955, 22.254143718007732, 20.948566951009415, 17.614563655274743, 15.734933719291233, 15.038250287512355, 13.824672926424983, 12.154710754721592, 12.007757663780053, 11.138549527396332, 10.458274804914078, 10.226414982448295, 9.761856087175072, 9.62936492963155, 9.50307496556018, 9.09608959337135, 8.731523162248875, 8.633831217422214, 8.169166673944737, 7.166848922552142, 7.075830026941352, 6.042942552177469, 5.945237549707586, 5.497479093027659, 5.49738590893739, 5.497131284894554, 23.615526478021522, 151.14039697715347, 9.909104755676825, 7.672245597003338, 10.592685436011289, 85.18454521556276, 55.6789488039261, 53.20584350859033, 20.404106452839656, 15.978298425237195, 14.955292595786132, 14.166090251107107, 11.23196883118165, 10.721263815962782, 10.035514218822021, 9.694529484144134, 9.50332442572963, 9.4579823952453, 8.795924275763927, 8.774309287115411, 7.2526220021573184, 7.170530131490823, 6.9099290397793265, 6.888451718910538, 6.715762403253463, 6.636114709292857, 6.590774399655775, 6.35376612369486, 6.123150221639232, 5.8407322285356225, 5.819278425912537, 5.817604615157366, 5.1358726227216165, 5.135848530860164, 5.13563457218584, 26.64943740260166, 23.198558174075373, 8.68589961259098, 36.358074392473235, 11.006932489515176, 42.23741554983308, 8.01810189392652, 92.3510229518474, 36.01402228127436, 28.848025349931277, 20.628290629102906, 20.455838700310522, 16.99290000176201, 118.56726009453287, 10.652407625704289, 9.589753416047492, 8.166797290118108, 7.006555743416925, 6.969152547393295, 6.57807711557061, 6.103212761189484, 5.9679973399574475, 5.900501508377802, 5.89998053629934, 5.552663933839265, 5.447808414750135, 5.229316567353545, 5.207521061949519, 5.207104058268495, 81.44236034865133, 5.056590026380974, 4.9736526275993675, 4.97361985495235, 4.906016664701437, 4.838133211813956, 4.838126431266296, 4.53642059524818, 13.57865919650001, 10.449600315134106, 7.59413540171517, 5.922185699791093, 6.091310639865491, 54.04969671522577, 47.44944423417608, 21.61243089026201, 20.665909437853497, 19.476756996960376, 19.189453451944505, 18.61980504234731, 17.926257381632638, 15.791048920029498, 15.73065276996084, 14.446002408897911, 13.691365449236637, 13.44931986052555, 12.555349979057395, 12.029694306899625, 11.498010238971636, 8.491596393544892, 7.878826125867739, 7.3317689266956085, 6.601016166712495, 6.6006801450208625, 6.386377729068043, 6.024035819344645, 5.8547691965947015, 5.773240892272744, 5.491916867144675, 5.425972193605914, 5.196229442070627, 5.174851242181966, 5.0269950329704605, 67.53932918140767, 13.030058097870567, 12.295841259720985, 46.12205524638398, 7.28059254535605, 6.602908996340735, 11.85550288358818, 50.407549119400464, 28.54750200346657, 21.771040255839768, 19.98436105966743, 19.857789849964092, 18.52463068524706, 17.34783014763226, 17.150438623417262, 15.179912511541243, 14.325280871170781, 12.449808248708916, 11.58082095136967, 11.208620192181495, 11.055973327848529, 8.727274517680945, 8.328475935578405, 8.144781898041737, 7.969997480952812, 7.353381263177583, 7.353219450572237, 6.9947300760775715, 6.959888248371195, 6.791379281495131, 6.756945459805916, 6.707937583766468, 6.321326568264147, 6.266407568552711, 6.125753698607398, 5.35434238043804, 5.073616868112051, 14.968477042983713, 11.013317341105447, 29.263783866266003, 11.963865140546783, 6.380349949673767, 128.30345327384083, 45.065874960742995, 42.3028603108674, 15.995687461977779, 15.574612411015304, 13.275012812382977, 12.395917309573857, 12.331191005755212, 11.63402742931999, 8.485693986621031, 8.325618977978218, 7.8834721990540295, 7.512228550134218, 7.085329267637165, 7.026445467064711, 6.7799482254663905, 6.613177869092033, 6.272527485205172, 6.207018954597416, 6.1924376348991395, 5.815044320445997, 5.539686663437824, 5.539539995914867, 5.20467680630931, 5.017447071227343, 4.806365838868068, 4.661609932008714, 4.581383784610639, 4.414736391917146, 4.28452526133284, 15.046232042212276, 9.08896368154062, 6.438804011535899, 12.673515967320023, 5.999224655008546, 9.413581873061018, 59.69218006612832, 44.75483389036272, 30.889751990187314, 29.79431368258559, 29.79431368258559, 24.051962883795138, 18.503474114036454, 15.103231579583033, 13.094558897155645, 9.658124357021782, 9.511836526324439, 8.547446817940685, 8.18978222346786, 7.840759023327527, 6.896131494958445, 6.713247623475769, 6.636030622752563, 6.508380314167968, 6.489517860474835, 5.986450197363061, 5.971869393462032, 5.327886070121645, 5.299788327902488, 5.138695696990178, 4.718987396989037, 4.621150576919714, 4.495340405068619, 4.418345530126459, 4.215148139058895, 4.152261290829054, 9.060605070743813, 15.974625874657802, 12.324703674378693, 4.92483112446699, 53.131417989444344, 21.04351075841455, 17.12218380818766, 14.144348329806688, 12.846414125214594, 10.507085628182912, 9.678886420517875, 9.24381156977372, 8.480061654536096, 8.139816328134826, 7.779006109719042, 7.764733617158914, 7.721388789780954, 7.404131195478269, 7.188419412850624, 7.063674579959756, 6.779150646562314, 6.640188326129444, 6.203216238807744, 6.140717878332714, 6.0017140858623685, 5.93916464929908, 5.93911793868845, 5.924882552688169, 5.487635440275844, 5.439580262536235, 5.439420049507252, 5.362889297741687, 5.119024986432632, 4.95998627093193, 49.988239172770925, 6.078884380100575, 5.439581572179523], \"Total\": [275.0, 129.0, 124.0, 331.0, 93.0, 85.0, 93.0, 76.0, 69.0, 80.0, 60.0, 53.0, 56.0, 54.0, 51.0, 53.0, 56.0, 45.0, 45.0, 48.0, 49.0, 43.0, 45.0, 42.0, 39.0, 36.0, 82.0, 31.0, 30.0, 30.0, 275.5141398137085, 49.37348877149067, 35.504658407939104, 23.782161931604314, 20.495548735814648, 17.56257674863272, 17.532803923841097, 17.474129550102095, 11.745535698240294, 11.136449778157498, 10.680348540712169, 10.175471071756716, 9.959044498877148, 9.549992000830487, 9.454762703894373, 9.150178011839845, 7.626719682245867, 7.6265251346134875, 7.098655201304427, 7.026208918207921, 6.27249413451555, 5.896107609452445, 5.6237171778502075, 5.5519421345465245, 5.478956104549953, 5.479206898865437, 5.391409473856401, 5.342700535970155, 5.230705136919057, 4.877349820318975, 19.108497925746473, 82.40880519401952, 14.150668468115896, 28.581380321887725, 22.91096695915479, 93.49805914890305, 67.91411002730477, 19.944611067704727, 18.163897203928112, 76.39645258417953, 69.03133695035, 42.41159576002947, 30.907808318060514, 30.32984918163791, 29.74808316223124, 29.584632782692236, 56.1695899835314, 23.018562017301686, 20.648726662049413, 19.77418121102358, 19.09349801523919, 16.94707486457663, 13.977722863637334, 13.77149565574631, 12.148366391627745, 11.195235659240305, 10.883762464772454, 9.50029012650622, 9.418543393452017, 9.41189874337445, 7.8353965651615995, 10.648446659194724, 7.324038168726007, 7.257450898197421, 7.130496803466063, 6.939433992880288, 6.606219915522478, 6.554610196899489, 6.361284986075278, 18.909995610690906, 18.29274396535219, 22.91096695915479, 82.40880519401952, 67.91411002730477, 10.790210172998881, 45.53123916854488, 39.64387901070731, 30.99877553392147, 30.681557068521883, 26.69523626236892, 23.01353136119567, 21.70795403467547, 18.37400940635625, 16.49619524648428, 15.797953006967436, 14.584217685884733, 12.914108334368724, 12.767578155100185, 11.897964893515528, 11.217650147534068, 10.985803277023816, 10.521245270599673, 10.388875363657798, 10.262500499119147, 9.855460918677055, 9.490905103487188, 9.393205210169807, 8.928554049260935, 7.926307360223357, 7.835212145956663, 6.802402511779946, 6.7047007821697875, 6.256838909336234, 6.256755449782943, 6.256551452554693, 30.379798117977924, 331.2611617679608, 14.877253926155813, 10.419239395756101, 82.40880519401952, 85.94062534158212, 56.43522084212147, 53.96062221762089, 21.158799774743702, 16.751613923960797, 15.709928355180645, 14.920725573762109, 11.986813435392026, 11.475908915151164, 10.790175682496148, 10.449550949618004, 10.257961966202384, 10.212637239266071, 9.550599707932632, 9.529072477897653, 8.007273471691693, 7.925199454486059, 7.664577869201821, 7.643085656112191, 7.470462965553626, 7.390762181596873, 7.345438147267684, 7.108393572564838, 6.877789843765088, 6.595379979286717, 6.573905864775589, 6.573457738227712, 5.8905108134218995, 5.890491277596622, 5.8902938130596105, 32.545038918590244, 28.88274602583761, 10.794313615537352, 67.91411002730477, 19.75867632328723, 331.2611617679608, 12.612697212031831, 93.1061762933707, 36.767673371911116, 29.606742182982526, 21.383396324242618, 21.209296530159545, 17.746846024812967, 124.30869471705647, 11.405855121149207, 10.343278904904828, 8.920262618856187, 7.760010510509326, 7.7226303250522905, 7.331517269911141, 6.856695031802785, 6.721465170573739, 6.653935015149623, 6.653640635278258, 6.3061422890374255, 6.201296055935583, 5.982796641804783, 5.960954578728265, 5.960592464574563, 93.49805914890305, 5.810049221163088, 5.727095426813311, 5.727159915471855, 5.659456310751811, 5.591588853959355, 5.591604057382579, 5.289875205553741, 18.285033009058015, 17.1676727117596, 11.735889699265071, 8.515008139809547, 30.379798117977924, 54.831177730108685, 48.24258999154766, 22.367556722452452, 21.422000754648522, 20.231888975101292, 19.94456380995884, 19.376064549617524, 18.681402598810468, 16.546158221171105, 16.48580372454907, 15.201178825998007, 14.446592428787342, 14.204431797253806, 13.310456443776523, 12.78484898040696, 12.253149341137563, 9.246754302350176, 8.633924550903298, 8.08687083889567, 7.356098913462275, 7.355808932524804, 7.1414893484117155, 6.779140055020308, 6.6098607920811405, 6.5283303509138895, 6.247060368384335, 6.181061235461208, 5.951343712219735, 5.929951048696761, 5.782090589890404, 80.90372403534839, 19.944611067704727, 22.39309857254861, 331.2611617679608, 11.569172973592465, 9.354684094689034, 67.91411002730477, 51.16708396174553, 29.306947757879378, 22.530474601101446, 20.743774616821614, 20.61718449145869, 19.284077036781518, 18.107249110271354, 17.909832079183488, 15.939495518114047, 15.084682811068438, 13.20968771222473, 12.340628759319198, 11.968080440162435, 11.815402481446316, 9.486696496221825, 9.08788065688851, 8.904546869458596, 8.72941092731514, 8.112793904405743, 8.112650813445574, 7.7543819774249565, 7.719340361635068, 7.55090578455522, 7.5163412855155425, 7.467359072604352, 7.080745229008395, 7.025810553338072, 6.885180458602756, 6.113765282300863, 5.833025937632119, 19.79240717223395, 15.754307089352707, 331.2611617679608, 82.40880519401952, 10.316435176635872, 129.06390463447173, 45.8226814808444, 43.05993499524001, 16.75232217973966, 16.331248110331316, 14.031623648519462, 13.153219556258765, 13.088017370893322, 12.39066386405245, 9.242330061874235, 9.082263164505937, 8.640102757773294, 8.269478673898249, 7.841946517148037, 7.78306381904026, 7.536576068628241, 7.369832975720626, 7.029153978265465, 6.963653065174381, 6.949054091112906, 6.5717275647524644, 6.296298442954761, 6.296172058164094, 5.961303251564903, 5.774056465146617, 5.5630113627670745, 5.41822068367645, 5.337999823170075, 5.171379996266943, 5.041124546491967, 19.657472495683248, 15.673309204076803, 11.115750471581766, 80.90372403534839, 13.905685835356705, 331.2611617679608, 60.451841743772626, 45.514531972184656, 31.649699906591938, 30.5538857439728, 30.5538857439728, 24.811605193163036, 19.263098944323342, 15.863040267090518, 13.854172720461595, 10.417765248367875, 10.27152635286266, 9.307045842225824, 8.949385240848738, 8.600344163116711, 7.655726057959983, 7.472877093300379, 7.395638756908941, 7.269912248970243, 7.249168209678928, 6.746025821215913, 6.731479600234825, 6.0876399449259635, 6.059396758620439, 5.898419750733355, 5.4785688257864935, 5.380922273475923, 5.254953543988164, 5.177934014291268, 4.974747020363111, 4.911866733062837, 11.97847489539993, 23.40371051299651, 18.163897203928112, 8.599202627909332, 53.90639540420121, 21.803895610565853, 17.882714420877708, 14.904602972952237, 13.606854701398314, 11.267326854508786, 10.43915043517177, 10.004054106845901, 9.240310115475406, 8.900029171473129, 8.539231016347488, 8.52497582620914, 8.482602221210792, 8.164359235199035, 7.948636671147366, 7.8238868639367665, 7.53937567310543, 7.400445530486192, 6.9634381976670365, 6.900939058784374, 6.761933937159926, 6.699395305385376, 6.699354111119304, 6.6851348258570615, 6.247868028421377, 6.199786088769427, 6.19962588574737, 6.123114122055701, 5.8792668676724045, 5.720213287532596, 331.2611617679608, 8.342644016056715, 8.900702987464669], \"Category\": [\"Default\", \"Default\", \"Default\", \"Default\", \"Default\", \"Default\", \"Default\", \"Default\", \"Default\", \"Default\", \"Default\", \"Default\", \"Default\", \"Default\", \"Default\", \"Default\", \"Default\", \"Default\", \"Default\", \"Default\", \"Default\", \"Default\", \"Default\", \"Default\", \"Default\", \"Default\", \"Default\", \"Default\", \"Default\", \"Default\", \"Topic1\", \"Topic1\", \"Topic1\", \"Topic1\", \"Topic1\", \"Topic1\", \"Topic1\", \"Topic1\", \"Topic1\", \"Topic1\", \"Topic1\", \"Topic1\", \"Topic1\", \"Topic1\", \"Topic1\", \"Topic1\", \"Topic1\", \"Topic1\", \"Topic1\", \"Topic1\", \"Topic1\", \"Topic1\", \"Topic1\", \"Topic1\", \"Topic1\", \"Topic1\", \"Topic1\", \"Topic1\", \"Topic1\", \"Topic1\", \"Topic1\", \"Topic1\", \"Topic1\", \"Topic1\", \"Topic1\", \"Topic1\", \"Topic1\", \"Topic1\", \"Topic1\", \"Topic2\", \"Topic2\", \"Topic2\", \"Topic2\", \"Topic2\", \"Topic2\", \"Topic2\", \"Topic2\", \"Topic2\", \"Topic2\", \"Topic2\", \"Topic2\", \"Topic2\", \"Topic2\", \"Topic2\", \"Topic2\", \"Topic2\", \"Topic2\", \"Topic2\", \"Topic2\", \"Topic2\", \"Topic2\", \"Topic2\", \"Topic2\", \"Topic2\", \"Topic2\", \"Topic2\", \"Topic2\", \"Topic2\", \"Topic2\", \"Topic2\", \"Topic2\", \"Topic2\", \"Topic2\", \"Topic2\", \"Topic2\", \"Topic3\", \"Topic3\", \"Topic3\", \"Topic3\", \"Topic3\", \"Topic3\", \"Topic3\", \"Topic3\", \"Topic3\", \"Topic3\", \"Topic3\", \"Topic3\", \"Topic3\", \"Topic3\", \"Topic3\", \"Topic3\", \"Topic3\", \"Topic3\", \"Topic3\", \"Topic3\", \"Topic3\", \"Topic3\", \"Topic3\", \"Topic3\", \"Topic3\", \"Topic3\", \"Topic3\", \"Topic3\", \"Topic3\", \"Topic3\", \"Topic3\", \"Topic3\", \"Topic3\", \"Topic3\", \"Topic3\", \"Topic4\", \"Topic4\", \"Topic4\", \"Topic4\", \"Topic4\", \"Topic4\", \"Topic4\", \"Topic4\", \"Topic4\", \"Topic4\", \"Topic4\", \"Topic4\", \"Topic4\", \"Topic4\", \"Topic4\", \"Topic4\", \"Topic4\", \"Topic4\", \"Topic4\", \"Topic4\", \"Topic4\", \"Topic4\", \"Topic4\", \"Topic4\", \"Topic4\", \"Topic4\", \"Topic4\", \"Topic4\", \"Topic4\", \"Topic4\", \"Topic4\", \"Topic4\", \"Topic4\", \"Topic4\", \"Topic4\", \"Topic4\", \"Topic4\", \"Topic5\", \"Topic5\", \"Topic5\", \"Topic5\", \"Topic5\", \"Topic5\", \"Topic5\", \"Topic5\", \"Topic5\", \"Topic5\", \"Topic5\", \"Topic5\", \"Topic5\", \"Topic5\", \"Topic5\", \"Topic5\", \"Topic5\", \"Topic5\", \"Topic5\", \"Topic5\", \"Topic5\", \"Topic5\", \"Topic5\", \"Topic5\", \"Topic5\", \"Topic5\", \"Topic5\", \"Topic5\", \"Topic5\", \"Topic5\", \"Topic5\", \"Topic5\", \"Topic5\", \"Topic5\", \"Topic5\", \"Topic6\", \"Topic6\", \"Topic6\", \"Topic6\", \"Topic6\", \"Topic6\", \"Topic6\", \"Topic6\", \"Topic6\", \"Topic6\", \"Topic6\", \"Topic6\", \"Topic6\", \"Topic6\", \"Topic6\", \"Topic6\", \"Topic6\", \"Topic6\", \"Topic6\", \"Topic6\", \"Topic6\", \"Topic6\", \"Topic6\", \"Topic6\", \"Topic6\", \"Topic6\", \"Topic6\", \"Topic6\", \"Topic6\", \"Topic6\", \"Topic6\", \"Topic6\", \"Topic6\", \"Topic6\", \"Topic6\", \"Topic6\", \"Topic6\", \"Topic7\", \"Topic7\", \"Topic7\", \"Topic7\", \"Topic7\", \"Topic7\", \"Topic7\", \"Topic7\", \"Topic7\", \"Topic7\", \"Topic7\", \"Topic7\", \"Topic7\", \"Topic7\", \"Topic7\", \"Topic7\", \"Topic7\", \"Topic7\", \"Topic7\", \"Topic7\", \"Topic7\", \"Topic7\", \"Topic7\", \"Topic7\", \"Topic7\", \"Topic7\", \"Topic7\", \"Topic7\", \"Topic7\", \"Topic7\", \"Topic7\", \"Topic7\", \"Topic7\", \"Topic7\", \"Topic7\", \"Topic8\", \"Topic8\", \"Topic8\", \"Topic8\", \"Topic8\", \"Topic8\", \"Topic8\", \"Topic8\", \"Topic8\", \"Topic8\", \"Topic8\", \"Topic8\", \"Topic8\", \"Topic8\", \"Topic8\", \"Topic8\", \"Topic8\", \"Topic8\", \"Topic8\", \"Topic8\", \"Topic8\", \"Topic8\", \"Topic8\", \"Topic8\", \"Topic8\", \"Topic8\", \"Topic8\", \"Topic8\", \"Topic8\", \"Topic8\", \"Topic8\", \"Topic8\", \"Topic8\", \"Topic8\", \"Topic8\", \"Topic8\", \"Topic9\", \"Topic9\", \"Topic9\", \"Topic9\", \"Topic9\", \"Topic9\", \"Topic9\", \"Topic9\", \"Topic9\", \"Topic9\", \"Topic9\", \"Topic9\", \"Topic9\", \"Topic9\", \"Topic9\", \"Topic9\", \"Topic9\", \"Topic9\", \"Topic9\", \"Topic9\", \"Topic9\", \"Topic9\", \"Topic9\", \"Topic9\", \"Topic9\", \"Topic9\", \"Topic9\", \"Topic9\", \"Topic9\", \"Topic9\", \"Topic9\", \"Topic9\", \"Topic9\", \"Topic9\", \"Topic10\", \"Topic10\", \"Topic10\", \"Topic10\", \"Topic10\", \"Topic10\", \"Topic10\", \"Topic10\", \"Topic10\", \"Topic10\", \"Topic10\", \"Topic10\", \"Topic10\", \"Topic10\", \"Topic10\", \"Topic10\", \"Topic10\", \"Topic10\", \"Topic10\", \"Topic10\", \"Topic10\", \"Topic10\", \"Topic10\", \"Topic10\", \"Topic10\", \"Topic10\", \"Topic10\", \"Topic10\", \"Topic10\", \"Topic10\", \"Topic10\", \"Topic10\", \"Topic10\"], \"logprob\": [30.0, 29.0, 28.0, 27.0, 26.0, 25.0, 24.0, 23.0, 22.0, 21.0, 20.0, 19.0, 18.0, 17.0, 16.0, 15.0, 14.0, 13.0, 12.0, 11.0, 10.0, 9.0, 8.0, 7.0, 6.0, 5.0, 4.0, 3.0, 2.0, 1.0, -1.6106, -3.3424, -3.6781, -4.0895, -4.2434, -4.4042, -4.406, -4.4095, -4.8288, -4.8858, -4.9307, -4.9828, -5.006, -5.0515, -5.0623, -5.098, -5.298, -5.298, -5.3779, -5.3894, -5.5172, -5.5878, -5.6422, -5.657, -5.6723, -5.6723, -5.691, -5.7015, -5.7262, -5.8083, -4.4753, -3.4874, -4.971, -4.7048, -4.9489, -4.7933, -5.0152, -5.3936, -5.5832, -2.8271, -2.9295, -3.4236, -3.7467, -3.7661, -3.786, -3.7916, -3.1511, -4.0501, -4.1626, -4.2076, -4.244, -4.3685, -4.5711, -4.5868, -4.721, -4.8073, -4.8376, -4.9845, -4.9939, -4.9947, -5.1957, -4.8932, -5.2706, -5.2808, -5.3005, -5.331, -5.3864, -5.3952, -5.4291, -4.4988, -4.5478, -4.6277, -4.3033, -4.8431, -5.2646, -3.3509, -3.4898, -3.7413, -3.7522, -3.8949, -4.0479, -4.1083, -4.2817, -4.3945, -4.4398, -4.5239, -4.6527, -4.6648, -4.74, -4.803, -4.8254, -4.8719, -4.8856, -4.8988, -4.9425, -4.9834, -4.9947, -5.05, -5.1809, -5.1937, -5.3515, -5.3678, -5.4461, -5.4461, -5.4462, -3.9885, -2.1322, -4.8569, -5.1128, -4.7902, -2.6714, -3.0967, -3.1421, -4.1005, -4.345, -4.4112, -4.4654, -4.6975, -4.744, -4.8101, -4.8447, -4.8646, -4.8694, -4.942, -4.9444, -5.1349, -5.1463, -5.1833, -5.1864, -5.2118, -5.2237, -5.2306, -5.2672, -5.3042, -5.3514, -5.3551, -5.3554, -5.48, -5.48, -5.4801, -3.8335, -3.9722, -4.9546, -3.5228, -4.7177, -3.373, -5.0346, -2.5756, -3.5173, -3.7392, -4.0745, -4.0829, -4.2684, -2.3257, -4.7354, -4.8405, -5.0011, -5.1544, -5.1597, -5.2175, -5.2924, -5.3148, -5.3262, -5.3263, -5.3869, -5.406, -5.4469, -5.4511, -5.4512, -2.7013, -5.4805, -5.497, -5.4971, -5.5107, -5.5247, -5.5247, -5.5891, -4.4927, -4.7546, -5.0738, -5.3225, -5.2943, -3.0941, -3.2243, -4.0107, -4.0555, -4.1148, -4.1296, -4.1598, -4.1977, -4.3246, -4.3284, -4.4136, -4.4672, -4.4851, -4.5539, -4.5966, -4.6418, -4.9449, -5.0198, -5.0918, -5.1968, -5.1968, -5.2298, -5.2882, -5.3167, -5.3308, -5.3807, -5.3928, -5.4361, -5.4402, -5.4692, -2.8713, -4.5167, -4.5747, -3.2527, -5.0988, -5.1965, -4.6112, -3.0515, -3.62, -3.891, -3.9766, -3.983, -4.0525, -4.1181, -4.1296, -4.2516, -4.3096, -4.4499, -4.5222, -4.5549, -4.5686, -4.8051, -4.8519, -4.8742, -4.8959, -4.9764, -4.9765, -5.0264, -5.0314, -5.0559, -5.061, -5.0683, -5.1277, -5.1364, -5.1591, -5.2937, -5.3475, -4.2656, -4.5725, -3.5952, -4.4897, -5.1184, -2.1121, -3.1584, -3.2216, -4.1942, -4.2208, -4.3806, -4.4491, -4.4544, -4.5126, -4.8281, -4.8472, -4.9017, -4.95, -5.0085, -5.0168, -5.0525, -5.0774, -5.1303, -5.1408, -5.1432, -5.206, -5.2546, -5.2546, -5.3169, -5.3536, -5.3965, -5.4271, -5.4445, -5.4815, -5.5115, -4.2554, -4.7594, -5.1041, -4.427, -5.1749, -4.7243, -2.8228, -3.1108, -3.4816, -3.5177, -3.5177, -3.7318, -3.994, -4.1971, -4.3398, -4.6442, -4.6594, -4.7663, -4.8091, -4.8526, -4.981, -5.0079, -5.0195, -5.0389, -5.0418, -5.1225, -5.1249, -5.239, -5.2443, -5.2752, -5.3604, -5.3813, -5.4089, -5.4262, -5.4733, -5.4883, -4.708, -4.141, -4.4004, -5.3177, -2.8704, -3.7966, -4.0028, -4.1939, -4.2901, -4.4911, -4.5732, -4.6192, -4.7055, -4.7464, -4.7918, -4.7936, -4.7992, -4.8412, -4.8707, -4.8882, -4.9293, -4.9501, -5.0181, -5.0283, -5.0511, -5.0616, -5.0616, -5.064, -5.1407, -5.1495, -5.1495, -5.1637, -5.2102, -5.2418, -2.9314, -5.0384, -5.1495], \"loglift\": [30.0, 29.0, 28.0, 27.0, 26.0, 25.0, 24.0, 23.0, 22.0, 21.0, 20.0, 19.0, 18.0, 17.0, 16.0, 15.0, 14.0, 13.0, 12.0, 11.0, 10.0, 9.0, 8.0, 7.0, 6.0, 5.0, 4.0, 3.0, 2.0, 1.0, 2.1324, 2.1199, 2.1139, 2.1033, 2.098, 2.0917, 2.0916, 2.0915, 2.0694, 2.0657, 2.0626, 2.0589, 2.0572, 2.0537, 2.0528, 2.05, 2.032, 2.032, 2.0239, 2.0227, 2.0083, 1.9996, 1.9925, 1.9905, 1.9885, 1.9885, 1.9859, 1.9844, 1.9809, 1.9688, 1.9362, 1.4626, 1.741, 1.3042, 1.2812, 0.0304, 0.1283, 0.9751, 0.879, 2.1987, 2.1977, 2.1907, 2.1839, 2.1835, 2.183, 2.1828, 2.1822, 2.1753, 2.1714, 2.1697, 2.1683, 2.1631, 2.1531, 2.1523, 2.1435, 2.1389, 2.1368, 2.1259, 2.1251, 2.125, 2.1074, 2.1031, 2.0999, 2.0988, 2.0968, 2.0935, 2.0873, 2.0863, 2.0823, 1.9232, 1.9074, 1.6024, 0.6467, 0.3003, 1.7184, 2.1924, 2.192, 2.1865, 2.1858, 2.1823, 2.1777, 2.1757, 2.1691, 2.1641, 2.162, 2.1578, 2.1507, 2.1499, 2.1453, 2.1412, 2.1397, 2.1364, 2.1354, 2.1344, 2.1311, 2.1279, 2.127, 2.1224, 2.1106, 2.1094, 2.0929, 2.0911, 2.0819, 2.0819, 2.0819, 1.9594, 1.4266, 1.8049, 1.9053, 0.1598, 2.2366, 2.2319, 2.2313, 2.2091, 2.1982, 2.1962, 2.1935, 2.1804, 2.1774, 2.1729, 2.1704, 2.169, 2.1687, 2.1631, 2.1629, 2.1464, 2.1454, 2.1418, 2.1415, 2.1389, 2.1377, 2.137, 2.1332, 2.1292, 2.1239, 2.1235, 2.1233, 2.1083, 2.1083, 2.1083, 2.0456, 2.0263, 2.0281, 1.6206, 1.6604, 0.1858, 1.7924, 2.2523, 2.2398, 2.2345, 2.2245, 2.2243, 2.2171, 2.2132, 2.1921, 2.1848, 2.1722, 2.1583, 2.1578, 2.152, 2.1441, 2.1416, 2.1403, 2.1403, 2.1332, 2.1309, 2.1259, 2.1254, 2.1253, 2.1224, 2.1216, 2.1194, 2.1194, 2.1176, 2.1157, 2.1157, 2.1068, 1.9629, 1.764, 1.8252, 1.8974, 0.6536, 2.2633, 2.2611, 2.2433, 2.2418, 2.2396, 2.2391, 2.2379, 2.2364, 2.231, 2.2308, 2.2267, 2.224, 2.2231, 2.2193, 2.2168, 2.2141, 2.1925, 2.1862, 2.1797, 2.1694, 2.1694, 2.1659, 2.1596, 2.1564, 2.1548, 2.1489, 2.1474, 2.142, 2.1415, 2.1377, 2.0971, 1.852, 1.6782, 0.3061, 1.8146, 1.9293, 0.5322, 2.3751, 2.3638, 2.3558, 2.3528, 2.3526, 2.3499, 2.3472, 2.3468, 2.3413, 2.3384, 2.3308, 2.3265, 2.3245, 2.3237, 2.3067, 2.3028, 2.3009, 2.2991, 2.2918, 2.2918, 2.287, 2.2865, 2.2841, 2.2836, 2.2828, 2.2766, 2.2757, 2.2732, 2.2575, 2.2506, 2.1107, 2.0321, -0.0365, 0.4603, 1.9096, 2.3893, 2.3785, 2.3775, 2.349, 2.3478, 2.3398, 2.3359, 2.3356, 2.3322, 2.3098, 2.3082, 2.3036, 2.2992, 2.2937, 2.2929, 2.2894, 2.2869, 2.2813, 2.2802, 2.2799, 2.2729, 2.2672, 2.2672, 2.2595, 2.2547, 2.249, 2.2448, 2.2423, 2.237, 2.2326, 2.1279, 1.8503, 1.8492, 0.5415, 1.5545, -1.1656, 2.4371, 2.4329, 2.4254, 2.4245, 2.4245, 2.4186, 2.4095, 2.4006, 2.3933, 2.374, 2.3729, 2.3646, 2.361, 2.3572, 2.3452, 2.3425, 2.3413, 2.3391, 2.339, 2.3303, 2.33, 2.3164, 2.3158, 2.3118, 2.3005, 2.2975, 2.2936, 2.2911, 2.284, 2.2817, 2.1705, 2.0678, 2.0619, 1.8923, 2.504, 2.483, 2.475, 2.4661, 2.461, 2.4486, 2.4429, 2.4395, 2.4326, 2.4292, 2.4253, 2.4251, 2.4245, 2.4208, 2.418, 2.4163, 2.4122, 2.4101, 2.4029, 2.4018, 2.3992, 2.398, 2.398, 2.3978, 2.3887, 2.3877, 2.3877, 2.3859, 2.38, 2.3759, 0.6274, 2.2019, 2.0261]}, \"token.table\": {\"Topic\": [10, 3, 6, 8, 7, 4, 7, 9, 6, 9, 3, 5, 2, 2, 1, 5, 7, 8, 5, 8, 9, 8, 8, 7, 9, 10, 4, 4, 1, 2, 4, 6, 1, 4, 5, 8, 6, 5, 3, 5, 1, 9, 5, 10, 6, 6, 1, 9, 10, 3, 6, 10, 9, 8, 4, 9, 9, 4, 2, 8, 6, 1, 6, 2, 8, 5, 10, 10, 5, 1, 2, 7, 3, 8, 6, 4, 3, 4, 1, 8, 4, 4, 4, 3, 2, 10, 1, 6, 2, 2, 9, 1, 2, 10, 9, 6, 2, 9, 6, 1, 2, 10, 3, 6, 2, 1, 1, 1, 6, 9, 5, 9, 10, 3, 5, 9, 3, 4, 2, 7, 7, 10, 9, 3, 5, 5, 1, 5, 8, 2, 3, 8, 1, 2, 8, 3, 8, 3, 6, 8, 4, 9, 5, 2, 6, 8, 9, 10, 3, 1, 4, 8, 8, 4, 3, 6, 9, 6, 7, 1, 8, 9, 7, 10, 2, 6, 2, 2, 2, 3, 1, 1, 2, 3, 6, 6, 10, 2, 8, 5, 4, 8, 3, 1, 4, 2, 1, 2, 1, 4, 7, 5, 2, 7, 8, 9, 3, 9, 6, 2, 6, 10, 6, 7, 9, 3, 10, 3, 7, 3, 7, 6, 10, 5, 1, 9, 8, 1, 8, 7, 10, 10, 9, 3, 7, 3, 1, 9, 8, 4, 1, 2, 9, 3, 9, 4, 5, 1, 7, 10, 7, 8, 5, 9, 1, 7, 2, 9, 10, 6, 7, 7, 10, 9, 2, 5, 3, 9, 4, 4, 6, 4, 6, 6, 10, 1, 3, 4, 8, 10, 4, 1, 5, 10, 7, 2, 10, 3, 7, 5, 4, 3, 10, 3, 3, 1, 5, 8, 1, 2, 3, 7, 3, 4, 3, 7, 1, 3, 5, 3, 4, 4, 7, 6, 3, 8, 1, 4, 8, 1, 8, 7, 7, 6, 5, 3, 4, 6, 7, 8, 9, 10, 7, 5, 9, 4, 6, 10, 7, 1, 5, 10, 7, 7, 5, 10, 2, 9, 5, 4, 10, 9, 9, 10, 1, 10, 6, 9, 5, 3, 1, 3, 4, 3, 5, 3, 4, 10, 5, 1, 10, 7, 7, 9, 7, 1, 7, 2, 8, 8, 1, 4, 2, 6, 8, 3, 7, 8, 3, 6, 8, 2, 5, 3, 4, 8, 2, 8, 4, 6, 1, 5, 6, 6, 4, 7, 2, 2, 7, 6, 1], \"Freq\": [0.8065002779433433, 0.8948945217594437, 0.840146400842827, 0.7734879283455238, 0.862834688330807, 0.84407256558743, 0.9164421364295333, 0.9672892911665918, 0.34886955567988176, 0.5814492594664695, 0.799125576421534, 0.9795066211867353, 0.893237114820912, 0.956236381775313, 0.9178257877099116, 0.8968345823237446, 0.203484959771832, 0.7630685991443701, 0.6816696650191744, 0.2556261243821904, 0.9455942711763152, 0.9288037347805997, 0.9264786688724855, 0.9852688289805271, 0.7611865578861546, 0.9393071405797362, 0.9748525129014605, 0.9370235863931144, 0.132520325987951, 0.14724480665327888, 0.530081303951804, 0.17669376798393466, 0.024133468755571836, 0.016088979170381223, 0.9572942606376829, 0.9228121724653207, 0.9152073230069884, 0.9791209695499095, 0.7899986664426668, 0.1974996666106667, 0.992435438921093, 0.9383454546369236, 0.892662514457074, 0.8002729854816298, 0.9209812054875852, 0.8431772807127744, 0.2752713222203605, 0.6606511733288651, 0.9384190833016609, 0.9796446492387847, 0.9803005909913924, 0.9431068192725055, 0.8276811665080325, 0.9259149137783798, 0.989054939525475, 0.8213363545206859, 0.8143543417159784, 0.982197717925736, 0.9187999124720947, 0.9529408515750546, 0.963525083558027, 0.9424091663341018, 0.8647391323723227, 0.9153862426232707, 0.9684711111253824, 0.9547819015210259, 0.8573851049842187, 0.8996352782459649, 0.9020606338767133, 0.9037011533601162, 0.9427292990332923, 0.9270410994026631, 0.8914522978057273, 0.9168691987441135, 0.8977283875150074, 0.938292171569646, 0.9292163027674177, 0.9132923064331748, 0.8373237950033668, 0.1569982115631313, 0.958529740984364, 0.9127616300181275, 0.9452331990906729, 0.7991362360460257, 0.9802386331110975, 0.8504461716975087, 0.9365260370072359, 0.9391115196105843, 0.9685827279973773, 0.9441157325293794, 0.9301953326831575, 0.3707064029215564, 0.6487362051127237, 0.8694468896030104, 0.9925255917646352, 0.8850680102938256, 0.9850598728648154, 0.959898765387008, 0.9690866596404125, 0.7066803962322962, 0.14133607924645922, 0.14133607924645922, 0.9102657081903544, 0.9265774738746152, 0.9748527272109747, 0.9728667714896663, 0.8539455729036788, 0.30083314132485084, 0.6518051395371768, 0.9465037747362472, 0.806283066459025, 0.8894125458474085, 0.8165779536902311, 0.23299605410464633, 0.5824901352616157, 0.11649802705232316, 0.9559593290882493, 0.9529724244705297, 0.9608488865980456, 0.9068132343004109, 0.8714368542807388, 0.8956087259279898, 0.9143482861069465, 0.2187581503417842, 0.7656535261962447, 0.9644169492915394, 0.8742999305203051, 0.8605779072899269, 0.8387427696598808, 0.7653307795985684, 0.2186659370281624, 0.8634268666397856, 0.9519012038549568, 0.9082349780548393, 0.8808377223933027, 0.7678103646662068, 0.1919525911665517, 0.882041306672106, 0.840505190716431, 0.16068481587225886, 0.16696616367815373, 0.7513477365516917, 0.8730330694088982, 0.9391041078620793, 0.9835674174424469, 0.9123241612955497, 0.9818718395226682, 0.8873201151858717, 0.9744213898804022, 0.8201175120423089, 0.9158604672187712, 0.9130019376002542, 0.9498179976481131, 0.8812611071111327, 0.22328307910587375, 0.535879389854097, 0.178626463284699, 0.25389882127556945, 0.698221758507816, 0.8480170870667566, 0.9550914690114113, 0.9126471089431297, 0.9374130709317352, 0.8806541661929513, 0.9439788041159933, 0.9742428838964623, 0.9557568978668536, 0.9891246019832632, 0.9791775232136407, 0.017803227694793467, 0.9274012712715677, 0.41985376020521853, 0.1399512534017395, 0.24491469345304415, 0.17493906675217438, 0.7482882296339791, 0.21379663703827975, 0.8646238304386024, 0.9797169139741521, 0.8941977916691927, 0.8723732676186916, 0.991756760827244, 0.9504578348671113, 0.8979522378499406, 0.8488256351412592, 0.9902952069439137, 0.4364721933311587, 0.5237666319973905, 0.9696110259285686, 0.7963231743763184, 0.17311373356006923, 0.9429827138094877, 0.21573908942859737, 0.21573908942859737, 0.43147817885719475, 0.14382605961906492, 0.9673873441253555, 0.7725088788230727, 0.9669918410140497, 0.8933817123084733, 0.9190711372564151, 0.8988734582625917, 0.8003764499066527, 0.9700645598959267, 0.9292087389268573, 0.9599417878649628, 0.8956032188721331, 0.2907981244135808, 0.5815962488271617, 0.9482762604688969, 0.8984174172229841, 0.8656005690522328, 0.8616433189584684, 0.9881191953379632, 0.7647152525894518, 0.8939161500708064, 0.8535877885948058, 0.8844799357722728, 0.8993887449407012, 0.9491992959419769, 0.9831857537977661, 0.9506386782172646, 0.9367208790675381, 0.9131992987709104, 0.8473684345285016, 0.8831350693171638, 0.9005857551878814, 0.9670093123606671, 0.8659423457635061, 0.9176750818129545, 0.9358563083102082, 0.9706285120989944, 0.9818718395226682, 0.29909787151540657, 0.6836522777495007, 0.8742051866652574, 0.838791830060668, 0.9857861353814277, 0.9313041723490437, 0.9631306430316839, 0.3598497474575643, 0.5397746211863464, 0.906426917431478, 0.9794721621844945, 0.8890916527049396, 0.902715396324148, 0.9054715379329388, 0.3370520288369423, 0.5617533813949038, 0.9516288506419, 0.9771907274876542, 0.972397779241032, 0.9762741546454906, 0.8913344994450689, 0.9557504062792413, 0.9017220616581393, 0.9398806769948328, 0.9735651408043182, 0.9548102105159166, 0.8832585274604856, 0.8089225797205548, 0.6342814598267239, 0.31714072991336195, 0.8401608834345478, 0.955400809759808, 0.20244271096670935, 0.20244271096670935, 0.5567174551584507, 0.9366804356749965, 0.8657718085242431, 0.9471282971910694, 0.9981338895562452, 0.9452018820312801, 0.936852508696019, 0.8571880278711258, 0.9555617704386223, 0.8975136861552789, 0.9777860990887867, 0.8178266206056071, 0.8388427878128513, 0.9126994093647278, 0.967780161741275, 0.8064794379046765, 0.962568098081323, 0.9739565420760496, 0.9679673002040252, 0.982070372805654, 0.8655825908015338, 0.5096542766409138, 0.206288635783227, 0.1334808819773822, 0.14561550761168965, 0.9837584255936861, 0.9569789216985981, 0.969920624782249, 0.9280937607602495, 0.9125408279499968, 0.7991622921854795, 0.9668114039985866, 0.8934027400409736, 0.9551318501385876, 0.9922881343312361, 0.919111469462241, 0.9766757477410415, 0.8960017440519614, 0.9753846587237723, 0.912582598690249, 0.3828164124037911, 0.5742246186056866, 0.9758216409717927, 0.8987937780362488, 0.8628499070117116, 0.9486969466752039, 0.9077346995247197, 0.8730428999996803, 0.45583369687561287, 0.1267881805879188, 0.13886324540581585, 0.08754421992975346, 0.027168895840268315, 0.009056298613422772, 0.15093831022371287, 0.9309881755846455, 0.8750571481115531, 0.9886952155742456, 0.8488540909307947, 0.9848411476003684, 0.8946959640055162, 0.9084242005883879, 0.11764950096431018, 0.8663281434644658, 0.8740932809092405, 0.8539939917892188, 0.9388505065828433, 0.704638198987582, 0.23487939966252733, 0.930051348622682, 0.9628726950578427, 0.9579166898856982, 0.829619533334685, 0.15363324691383057, 0.9863418162838812, 0.8251646490860197, 0.9579323587777625, 0.23973215159974334, 0.71919645479923, 0.951591336977459, 0.8040609871470482, 0.8942002229758979, 0.9245278582049838, 0.26886682312839805, 0.6721670578209951, 0.9097277213509226, 0.9494901012418817, 0.9514533172571095, 0.9581393995583006, 0.8488228200187979, 0.9284588410908481, 0.8834770913419759, 0.8452305161824818, 0.9458889969750397, 0.9895264508465624, 0.9641446828959244, 0.8476846700132431, 0.8802932501029369, 0.9671114033344087, 0.9764552407131489, 0.8414560956094195, 0.952959980218448, 0.967412858231459, 0.9178492008411587, 0.9444780718034396, 0.9948105890945305, 0.9805912831961046, 0.8616167324599119, 0.20209770166872146, 0.7578663812577056, 0.8926355190886667, 0.9883324245453025, 0.605056214128533, 0.3457464080734475, 0.9432056594121906, 0.9017619569333831, 0.09264136985612484, 0.8337723287051236, 0.7934737503725299, 0.9645259882831084, 0.9820464133861674, 0.9267689696861958, 0.8651684405593757, 0.9565572914582573, 0.8357295591600936, 0.9386110088895256, 0.9526405380955388, 0.9423492005978107, 0.9410586415958786, 0.9473394896530171, 0.7403491935283685, 0.21152834100810528, 0.9705319963366023, 0.9362990319914407], \"Term\": [\"adjust\", \"amethyst\", \"angel\", \"antique\", \"apple\", \"apples_design\", \"art\", \"assort\", \"assorted\", \"assorted\", \"baby_gift\", \"bag\", \"bag_charm\", \"bakelike\", \"ball\", \"balloon\", \"basket\", \"basket\", \"bauble\", \"bauble\", \"bead\", \"beaded_crystal\", \"beaker\", \"bell\", \"big\", \"bird\", \"birthday\", \"birthday_card\", \"black\", \"black\", \"black\", \"black\", \"blue\", \"blue\", \"blue\", \"blue_felt\", \"blue_polkadot\", \"bottle\", \"bowl\", \"bowl\", \"box\", \"bracelet\", \"brush\", \"bucket\", \"bunny\", \"bunt\", \"butterfly\", \"butterfly\", \"cabinet\", \"cake\", \"cake_case\", \"cake_stand\", \"cake_tin\", \"calendar\", \"candle\", \"candle_holder\", \"candy\", \"card\", \"case\", \"cat_bowl\", \"ceramic\", \"chain\", \"chair\", \"chandelier_light\", \"charm\", \"check\", \"chest\", \"chick\", \"chicken\", \"child\", \"chocolate\", \"christmas_decoration\", \"circus_parade\", \"classic\", \"clear\", \"clock\", \"coaster\", \"coffee_mug\", \"colour\", \"colour\", \"container\", \"cornice\", \"cover\", \"crackle_glaze\", \"cream\", \"cream_sweetheart\", \"crystal\", \"cup\", \"cushion_cover\", \"cutlery\", \"cutlery_set\", \"daisy\", \"daisy\", \"day\", \"decoration\", \"decorative\", \"design\", \"dinosaur\", \"dish\", \"dog\", \"dog\", \"dog\", \"doily\", \"doll\", \"dolly_girl\", \"door_mat\", \"doorknob_cracke\", \"doormat\", \"doormat\", \"doorstop\", \"dot\", \"dotcom\", \"double\", \"drawer\", \"drawer\", \"drawer\", \"drawer_knob\", \"dress\", \"earring\", \"easter\", \"easter_egg\", \"easter_tin\", \"edwardian\", \"egg\", \"egg\", \"egg_cup\", \"egg_frye\", \"embossed_heart\", \"empire\", \"fairy_cake\", \"fairy_cake\", \"feel\", \"find\", \"fire_polishe\", \"flag\", \"flock\", \"flock\", \"floral\", \"flower\", \"flower\", \"flower_fairy\", \"flower_fairy\", \"folding_stool\", \"folding_umbrella\", \"frame\", \"french\", \"french_blue\", \"french_style\", \"fridge_magnet\", \"frutti\", \"frying_pan\", \"fun\", \"fuschia\", \"game\", \"garden\", \"garden\", \"garden\", \"garland\", \"garland\", \"giant\", \"gift_bag\", \"gift_box\", \"gift_tag\", \"gift_wrap\", \"girl\", \"glass\", \"glove\", \"gold\", \"green\", \"green\", \"handbag\", \"hang\", \"hang\", \"hang\", \"hang\", \"hanging\", \"hanging\", \"hanging_chick\", \"hanging_heart\", \"hanging_metal\", \"happy_birthday\", \"heart\", \"heart_decoration\", \"heart_shape\", \"herb\", \"holder\", \"home\", \"home\", \"home_sweet\", \"hook\", \"hook\", \"hot_water\", \"incense\", \"incense\", \"incense\", \"incense\", \"ivory\", \"ivory_hange\", \"jar\", \"jar_light\", \"jardin_etched\", \"jug\", \"key\", \"key_re\", \"keyring\", \"kit\", \"kitchen\", \"knick_knack\", \"knick_knack\", \"lace\", \"lamp\", \"lampshade\", \"lantern\", \"large\", \"lattice\", \"lavender\", \"leaf\", \"leave\", \"letter\", \"letter_ble\", \"light\", \"light_holder\", \"love\", \"love_heart\", \"luggage_tag\", \"magic_drawe\", \"magic_toadstool\", \"magnet\", \"mat\", \"match\", \"measure\", \"metal\", \"metal_door\", \"mini\", \"mini\", \"mini_playe\", \"mint\", \"mirror\", \"mirrored_wall\", \"mug\", \"napkin\", \"napkin\", \"natural\", \"necklace\", \"nest\", \"new_baroque\", \"notebook\", \"order\", \"order\", \"oval\", \"pack\", \"pad\", \"paint\", \"pair\", \"pantry\", \"pantry_hook\", \"paper\", \"paper_doilie\", \"paper_lantern\", \"party\", \"party_candle\", \"party_pizza\", \"party_pizza\", \"pc\", \"pen\", \"photo_frame\", \"photo_frame\", \"photo_frame\", \"picture\", \"piece\", \"pin_cushion\", \"pink\", \"pink_flock\", \"pink_union\", \"place_setting\", \"placemat\", \"planter\", \"plate\", \"playing_card\", \"point\", \"point_holly\", \"polkadot\", \"poppy_playhouse\", \"print\", \"purple\", \"purse\", \"rabbit\", \"recycled_acapulco\", \"red\", \"red\", \"red\", \"red\", \"red_retrospot\", \"red_spot\", \"red_spotty\", \"reel\", \"regency\", \"regency_tea\", \"reindeer\", \"retro\", \"retro_spot\", \"retrospot\", \"ribbon\", \"ribbon_reel\", \"ring\", \"rise\", \"roll_wrap\", \"rose\", \"rose\", \"round\", \"round_cake\", \"santa\", \"saucer\", \"school\", \"scissor\", \"set\", \"set\", \"set\", \"set\", \"set\", \"set\", \"set\", \"shelf\", \"shell_necklace\", \"sign\", \"silk_purse\", \"silver\", \"sketchbook\", \"skull\", \"small\", \"small\", \"snowflake\", \"soap_dish\", \"spaceboy\", \"spoon\", \"spoon\", \"spot\", \"spotty\", \"stand\", \"star\", \"star\", \"sticker\", \"sticker_set\", \"strawberry\", \"string\", \"string\", \"sucker\", \"swallow\", \"sweet\", \"sweetheart\", \"table\", \"table\", \"tape\", \"tea\", \"tea_time\", \"tea_towel\", \"teacup\", \"thermometer\", \"throw\", \"tidy\", \"tier\", \"tin\", \"tissue\", \"toadstool\", \"traditional\", \"tray\", \"tree\", \"tree_decoration\", \"triple\", \"tube\", \"umbrella\", \"union_jack\", \"vintage\", \"vintage_christma\", \"vintage_cream\", \"vintage_doily\", \"vintage_doily\", \"vintage_spot\", \"wall_art\", \"wall_clock\", \"wall_clock\", \"wall_mirror\", \"wall_organiser\", \"wallet\", \"wallet\", \"wallet_vintage\", \"washing\", \"white\", \"white_spot\", \"wicker\", \"windmill\", \"wire\", \"wood\", \"wooden\", \"woodland\", \"wrap\", \"wreath\", \"yellow\", \"yellow\", \"zinc\", \"zinc_heart\"]}, \"R\": 30, \"lambda.step\": 0.01, \"plot.opts\": {\"xlab\": \"PC1\", \"ylab\": \"PC2\"}, \"topic.order\": [7, 4, 5, 9, 2, 1, 6, 10, 8, 3]};\n",
       "\n",
       "function LDAvis_load_lib(url, callback){\n",
       "  var s = document.createElement('script');\n",
       "  s.src = url;\n",
       "  s.async = true;\n",
       "  s.onreadystatechange = s.onload = callback;\n",
       "  s.onerror = function(){console.warn(\"failed to load library \" + url);};\n",
       "  document.getElementsByTagName(\"head\")[0].appendChild(s);\n",
       "}\n",
       "\n",
       "if(typeof(LDAvis) !== \"undefined\"){\n",
       "   // already loaded: just create the visualization\n",
       "   !function(LDAvis){\n",
       "       new LDAvis(\"#\" + \"ldavis_el3010831436168245925401640131\", ldavis_el3010831436168245925401640131_data);\n",
       "   }(LDAvis);\n",
       "}else if(typeof define === \"function\" && define.amd){\n",
       "   // require.js is available: use it to load d3/LDAvis\n",
       "   require.config({paths: {d3: \"https://d3js.org/d3.v5\"}});\n",
       "   require([\"d3\"], function(d3){\n",
       "      window.d3 = d3;\n",
       "      LDAvis_load_lib(\"https://cdn.jsdelivr.net/gh/bmabey/pyLDAvis@3.4.0/pyLDAvis/js/ldavis.v3.0.0.js\", function(){\n",
       "        new LDAvis(\"#\" + \"ldavis_el3010831436168245925401640131\", ldavis_el3010831436168245925401640131_data);\n",
       "      });\n",
       "    });\n",
       "}else{\n",
       "    // require.js not available: dynamically load d3 & LDAvis\n",
       "    LDAvis_load_lib(\"https://d3js.org/d3.v5.js\", function(){\n",
       "         LDAvis_load_lib(\"https://cdn.jsdelivr.net/gh/bmabey/pyLDAvis@3.4.0/pyLDAvis/js/ldavis.v3.0.0.js\", function(){\n",
       "                 new LDAvis(\"#\" + \"ldavis_el3010831436168245925401640131\", ldavis_el3010831436168245925401640131_data);\n",
       "            })\n",
       "         });\n",
       "}\n",
       "</script>"
      ],
      "text/plain": [
       "PreparedData(topic_coordinates=              x         y  topics  cluster       Freq\n",
       "topic                                                \n",
       "6     -0.196982  0.030148       1        1  11.821742\n",
       "3     -0.181681  0.230396       2        1  10.984637\n",
       "4      0.139439  0.019583       3        1  10.955770\n",
       "8      0.095255  0.046899       4        1  10.588193\n",
       "1     -0.146476 -0.245543       5        1  10.430001\n",
       "0      0.105724  0.029405       6        1  10.252098\n",
       "5      0.067045  0.034723       7        1   9.162111\n",
       "9      0.023629 -0.035828       8        1   9.115454\n",
       "7     -0.012980 -0.098262       9        1   8.631895\n",
       "2      0.107025 -0.011520      10        1   8.058098, topic_info=                  Term        Freq       Total Category  logprob  loglift\n",
       "3                 pink  275.000000  275.000000  Default  30.0000  30.0000\n",
       "29               heart  129.000000  129.000000  Default  29.0000  29.0000\n",
       "54                blue  124.000000  124.000000  Default  28.0000  28.0000\n",
       "41                 set  331.000000  331.000000  Default  27.0000  27.0000\n",
       "13               large   93.000000   93.000000  Default  26.0000  26.0000\n",
       "...                ...         ...         ...      ...      ...      ...\n",
       "194   cream_sweetheart    5.119025    5.879267  Topic10  -5.2102   2.3800\n",
       "517          snowflake    4.959986    5.720213  Topic10  -5.2418   2.3759\n",
       "41                 set   49.988239  331.261162  Topic10  -2.9314   0.6274\n",
       "177             string    6.078884    8.342644  Topic10  -5.0384   2.2019\n",
       "2542             order    5.439582    8.900703  Topic10  -5.1495   2.0261\n",
       "\n",
       "[387 rows x 6 columns], token_table=      Topic      Freq        Term\n",
       "term                             \n",
       "2624     10  0.806500      adjust\n",
       "240       3  0.894895    amethyst\n",
       "497       6  0.840146       angel\n",
       "1602      8  0.773488     antique\n",
       "629       7  0.862835       apple\n",
       "...     ...       ...         ...\n",
       "66        2  0.947339      wreath\n",
       "381       2  0.740349      yellow\n",
       "381       7  0.211528      yellow\n",
       "379       6  0.970532        zinc\n",
       "1332      1  0.936299  zinc_heart\n",
       "\n",
       "[401 rows x 3 columns], R=30, lambda_step=0.01, plot_opts={'xlab': 'PC1', 'ylab': 'PC2'}, topic_order=[7, 4, 5, 9, 2, 1, 6, 10, 8, 3])"
      ]
     },
     "execution_count": 189,
     "metadata": {},
     "output_type": "execute_result"
    }
   ],
   "source": [
    "# Visualize the topics\n",
    "pyLDAvis.enable_notebook()\n",
    "vis = pyLDAvis.gensim.prepare(lda_model, corpus, id2word)\n",
    "vis"
   ]
  },
  {
   "cell_type": "markdown",
   "metadata": {},
   "source": [
    "<u>How to infer pyLDAvis's output</u>  \n",
    "\n",
    "Each bubble on the left-hand side plot represents a topic. The larger the bubble, the more prevalent the topic. Ideally, a good topic model will have fairly large, non-overlapping bubbles scattered throughout the chart instead of being clustered in one quadrant.  \n",
    "\n",
    "A model that has too many topics will typically have many overlaps, small sized bubbles clustered in one region of the chart.\n"
   ]
  },
  {
   "cell_type": "markdown",
   "metadata": {},
   "source": [
    "<u>Finding the optimal number of topics for LDA</u>  \n",
    "\n",
    "Next, we will find the optimal number of topics by building many LDA models with different values of number of topics (k) and pick the one that gives the highest coherence value.   \n",
    "\n",
    "Choosing a k value that marks the end of a rapid growth of topic coherence usually offers meaningful and interpretable topics. Picking an even higher value cna sometimes provide more granular subtopics. If we see repeated keywords in multiple topics, it probably means our k is too large.  \n",
    "\n",
    "We will create a `compute_coherence_values()` function that trains multiple LDA models and provides the models and their corresponding coherence scores."
   ]
  },
  {
   "cell_type": "code",
   "execution_count": 190,
   "metadata": {},
   "outputs": [],
   "source": [
    "# This might take a long time to run...\n",
    "model_list, coherence_values = compute_coherence_values(\n",
    "    dictionary=id2word, corpus=corpus, texts=data_lemmatized, start=2, limit=40, id2word=id2word, step=6\n",
    ")"
   ]
  },
  {
   "cell_type": "code",
   "execution_count": 191,
   "metadata": {},
   "outputs": [
    {
     "data": {
      "image/png": "[encoded data removed]",
      "text/plain": [
       "<Figure size 640x480 with 1 Axes>"
      ]
     },
     "metadata": {},
     "output_type": "display_data"
    }
   ],
   "source": [
    "# Show graph\n",
    "limit=40; start=2; step=6; \n",
    "x = range(start, limit, step)\n",
    "plt.plot(x, coherence_values)\n",
    "plt.xlabel('Num Topics')\n",
    "plt.ylabel('Coherence Score')\n",
    "plt.legend(('coherence_values'), loc='best')\n",
    "plt.title('Choosing Optimal Model with Coherence Scores')\n",
    "plt.show()\n"
   ]
  },
  {
   "cell_type": "code",
   "execution_count": 192,
   "metadata": {},
   "outputs": [
    {
     "name": "stdout",
     "output_type": "stream",
     "text": [
      "Num Topics = 2  has Coherence Value of 0.5752\n",
      "Num Topics = 8  has Coherence Value of 0.6418\n",
      "Num Topics = 14  has Coherence Value of 0.6585\n",
      "Num Topics = 20  has Coherence Value of 0.6764\n",
      "Num Topics = 26  has Coherence Value of 0.664\n",
      "Num Topics = 32  has Coherence Value of 0.6601\n",
      "Num Topics = 38  has Coherence Value of 0.6433\n"
     ]
    }
   ],
   "source": [
    "# Print the coherence scores\n",
    "for m, cv in zip(x, coherence_values):\n",
    "    print('Num Topics =', m, ' has Coherence Value of', round(cv, 4))"
   ]
  },
  {
   "cell_type": "markdown",
   "metadata": {},
   "source": [
    "Because the delta of coherence value from 2 topics to 8 topics is the largest, we are going to use 8 topics. Even though 14 topics has a slightly higher coherence score (.02 higher), adding 6 more topics of complexity to our forecasting model later on is not worth it for such a small gain in coherence."
   ]
  },
  {
   "cell_type": "code",
   "execution_count": 193,
   "metadata": {},
   "outputs": [
    {
     "name": "stdout",
     "output_type": "stream",
     "text": [
      "[(0, '0.044*\"set\" + 0.042*\"flower\" + 0.033*\"card\" + 0.028*\"silver\" + 0.024*\"cream\" + 0.019*\"pink\" + 0.016*\"ceramic\" + 0.014*\"paper_lantern\" + 0.014*\"jar\" + 0.013*\"blue_polkadot\" + 0.013*\"white\" + 0.011*\"blue\" + 0.010*\"heart\" + 0.009*\"purple\" + 0.008*\"glass\" + 0.008*\"party_pizza\" + 0.008*\"folding_umbrella\" + 0.008*\"paint\" + 0.008*\"wicker\" + 0.008*\"dish\" + 0.007*\"wood\" + 0.007*\"red\" + 0.007*\"egg_frye\" + 0.007*\"game\" + 0.007*\"tea_towel\" + 0.007*\"drawer\" + 0.007*\"small\" + 0.007*\"doll\" + 0.006*\"tier\" + 0.006*\"party\"'), (1, '0.034*\"blue\" + 0.033*\"large\" + 0.027*\"small\" + 0.025*\"star\" + 0.025*\"bottle\" + 0.023*\"pantry\" + 0.019*\"ivory\" + 0.018*\"frame\" + 0.015*\"hot_water\" + 0.011*\"light\" + 0.010*\"egg_cup\" + 0.009*\"flower_fairy\" + 0.009*\"bird\" + 0.008*\"set\" + 0.008*\"mini\" + 0.007*\"clear\" + 0.007*\"bowl\" + 0.007*\"candle\" + 0.007*\"reindeer\" + 0.007*\"tea\" + 0.007*\"glass\" + 0.006*\"balloon\" + 0.006*\"bag\" + 0.006*\"spoon\" + 0.006*\"yellow\" + 0.006*\"check\" + 0.005*\"triple\" + 0.005*\"spot\" + 0.005*\"chicken\" + 0.005*\"medium\"'), (2, '0.031*\"set\" + 0.023*\"sign\" + 0.022*\"home\" + 0.019*\"light\" + 0.018*\"mug\" + 0.017*\"light_holder\" + 0.015*\"french\" + 0.015*\"sticker\" + 0.014*\"colour\" + 0.011*\"kit\" + 0.010*\"candle\" + 0.010*\"zinc_heart\" + 0.009*\"heart\" + 0.008*\"hanging\" + 0.008*\"calendar\" + 0.008*\"french_blue\" + 0.008*\"metal_door\" + 0.008*\"kitchen\" + 0.008*\"easter_tin\" + 0.008*\"sketchbook\" + 0.008*\"french_style\" + 0.007*\"cutlery_set\" + 0.006*\"chain\" + 0.006*\"herb\" + 0.006*\"soap_dish\" + 0.006*\"round_cake\" + 0.006*\"skull\" + 0.006*\"lantern\" + 0.006*\"design\" + 0.006*\"bucket\"'), (3, '0.038*\"heart\" + 0.037*\"design\" + 0.033*\"green\" + 0.029*\"set\" + 0.026*\"holder\" + 0.021*\"dolly_girl\" + 0.019*\"metal\" + 0.018*\"vintage\" + 0.017*\"gold\" + 0.011*\"earring\" + 0.011*\"cutlery\" + 0.011*\"pink\" + 0.009*\"home_sweet\" + 0.008*\"doormat\" + 0.008*\"magnet\" + 0.008*\"piece\" + 0.007*\"girl\" + 0.007*\"classic\" + 0.007*\"bauble\" + 0.007*\"tin\" + 0.007*\"rabbit\" + 0.006*\"animal\" + 0.006*\"flag\" + 0.006*\"pink_union\" + 0.006*\"pad\" + 0.006*\"red_spot\" + 0.006*\"retro\" + 0.006*\"hang\" + 0.005*\"crystal\" + 0.005*\"zinc\"'), (4, '0.107*\"set\" + 0.017*\"garden\" + 0.017*\"plate\" + 0.015*\"necklace\" + 0.014*\"tin\" + 0.013*\"light\" + 0.013*\"egg\" + 0.012*\"cushion_cover\" + 0.012*\"candle\" + 0.011*\"mini\" + 0.010*\"table\" + 0.010*\"sweetheart\" + 0.008*\"design\" + 0.008*\"wooden\" + 0.008*\"blue\" + 0.008*\"wall_clock\" + 0.007*\"love_heart\" + 0.007*\"leave\" + 0.007*\"chest\" + 0.007*\"hang\" + 0.007*\"coaster\" + 0.007*\"bunny\" + 0.007*\"chocolate\" + 0.006*\"red\" + 0.006*\"paper\" + 0.006*\"vintage_cream\" + 0.005*\"jug\" + 0.005*\"heart_decoration\" + 0.005*\"playing_card\" + 0.005*\"cat_bowl\"'), (5, '0.038*\"pack\" + 0.031*\"set\" + 0.028*\"polkadot\" + 0.022*\"drawer_knob\" + 0.021*\"hook\" + 0.017*\"candle\" + 0.017*\"cake_case\" + 0.017*\"tissue\" + 0.015*\"vintage\" + 0.015*\"key_re\" + 0.015*\"large\" + 0.014*\"bell\" + 0.014*\"gift_bag\" + 0.013*\"cup\" + 0.013*\"tree\" + 0.012*\"letter_ble\" + 0.012*\"blue\" + 0.011*\"small\" + 0.011*\"stand\" + 0.010*\"spaceboy\" + 0.010*\"garland\" + 0.010*\"ribbon_reel\" + 0.009*\"black\" + 0.008*\"photo_frame\" + 0.008*\"card\" + 0.008*\"red\" + 0.008*\"child\" + 0.007*\"birthday\" + 0.007*\"apple\" + 0.007*\"hanging_heart\"'), (6, '0.108*\"pink\" + 0.039*\"red\" + 0.033*\"heart\" + 0.021*\"rise\" + 0.021*\"box\" + 0.020*\"large\" + 0.015*\"mirror\" + 0.014*\"blue\" + 0.014*\"black\" + 0.013*\"beaker\" + 0.012*\"small\" + 0.010*\"tray\" + 0.010*\"bag\" + 0.010*\"hang\" + 0.010*\"cover\" + 0.009*\"cake\" + 0.006*\"daisy\" + 0.006*\"purple\" + 0.006*\"union_jack\" + 0.005*\"butterfly\" + 0.005*\"lamp\" + 0.005*\"home_sweet\" + 0.005*\"purse\" + 0.005*\"candle\" + 0.005*\"art\" + 0.005*\"double\" + 0.005*\"pair\" + 0.004*\"set\" + 0.004*\"list\" + 0.004*\"chick\"'), (7, '0.049*\"retrospot\" + 0.045*\"decoration\" + 0.037*\"red_retrospot\" + 0.027*\"pink\" + 0.023*\"set\" + 0.021*\"vintage\" + 0.021*\"sign\" + 0.015*\"white\" + 0.014*\"assort\" + 0.013*\"bowl\" + 0.012*\"glass\" + 0.012*\"heart\" + 0.012*\"wrap\" + 0.010*\"bead\" + 0.010*\"container\" + 0.009*\"clock\" + 0.009*\"metal_door\" + 0.009*\"french_blue\" + 0.008*\"small\" + 0.007*\"santa\" + 0.007*\"hanging_heart\" + 0.006*\"box\" + 0.006*\"jar_light\" + 0.006*\"pen\" + 0.006*\"frying_pan\" + 0.006*\"cake_tin\" + 0.006*\"edwardian\" + 0.005*\"chocolate\" + 0.005*\"hanging_chick\" + 0.005*\"necklace\"')]\n"
     ]
    }
   ],
   "source": [
    "# Select the optimal model and print the topics\n",
    "optimal_model = model_list[1]\n",
    "model_topics = optimal_model.show_topics(formatted=False)\n",
    "print(optimal_model.print_topics(num_words=30))"
   ]
  },
  {
   "cell_type": "code",
   "execution_count": 194,
   "metadata": {},
   "outputs": [
    {
     "data": {
      "text/html": [
       "\n",
       "<link rel=\"stylesheet\" type=\"text/css\" href=\"https://cdn.jsdelivr.net/gh/bmabey/pyLDAvis@3.4.0/pyLDAvis/js/ldavis.v1.0.0.css\">\n",
       "\n",
       "\n",
       "<div id=\"ldavis_el3010831440995161922478392223\" style=\"background-color:white;\"></div>\n",
       "<script type=\"text/javascript\">\n",
       "\n",
       "var ldavis_el3010831440995161922478392223_data = {\"mdsDat\": {\"x\": [0.004102748904134271, -0.12864769727041478, 0.02521915451185675, -0.016136837847339842, 0.14743898039006273, -0.14215266252844933, 0.1427779339105838, -0.032601620070433296], \"y\": [0.04596533667170004, -0.03968682705138624, -0.1353089381275923, 0.06051748013426443, 0.1479588213763891, 0.09677524990658981, -0.08386609186448762, -0.0923550310454774], \"topics\": [1, 2, 3, 4, 5, 6, 7, 8], \"cluster\": [1, 1, 1, 1, 1, 1, 1, 1], \"Freq\": [14.593490555230687, 13.346142436299758, 12.835859389806748, 12.796220156230278, 12.284582649552222, 12.182237407621525, 12.123952069327194, 9.837515335931588]}, \"tinfo\": {\"Term\": [\"pink\", \"retrospot\", \"set\", \"decoration\", \"red_retrospot\", \"pack\", \"flower\", \"large\", \"heart\", \"card\", \"design\", \"green\", \"polkadot\", \"red\", \"sign\", \"cream\", \"pantry\", \"star\", \"bottle\", \"holder\", \"drawer_knob\", \"vintage\", \"silver\", \"dolly_girl\", \"home\", \"hook\", \"ivory\", \"light\", \"blue\", \"metal\", \"beaker\", \"double\", \"pair\", \"list\", \"lid\", \"handbag\", \"tablecloth\", \"beaded_crystal\", \"ball\", \"magic_toadstool\", \"turq\", \"daisy\", \"monkey\", \"quilt\", \"giant\", \"bank\", \"easter_decoration\", \"sock_puppet\", \"pencil_case\", \"sweet_home\", \"world\", \"union_jack\", \"vintage_spot\", \"art\", \"lamp\", \"bathroom_scale\", \"little\", \"rope\", \"necklace_tassel\", \"mirrored_wall\", \"pot\", \"pink\", \"box\", \"cover\", \"rise\", \"red\", \"mirror\", \"tray\", \"cake\", \"heart\", \"bag\", \"hang\", \"large\", \"black\", \"blue\", \"butterfly\", \"small\", \"purse\", \"purple\", \"home_sweet\", \"chick\", \"candle\", \"set\", \"dolly_girl\", \"animal\", \"magnet\", \"piece\", \"easter\", \"mat\", \"flag\", \"retro\", \"fire_polishe\", \"cutlery\", \"earring\", \"tube\", \"windmill\", \"gift_wrap\", \"poppy\", \"cafe\", \"zinc_light\", \"rest\", \"jingle_bell\", \"gardeners_kneele\", \"asst\", \"metal\", \"slide\", \"heart_light\", \"big\", \"green\", \"red_spot\", \"glass_light\", \"rustic\", \"pink_yellow\", \"gold\", \"holder\", \"glove\", \"design\", \"bauble\", \"girl\", \"placemat\", \"crystal\", \"pink_union\", \"washing\", \"home_sweet\", \"heart\", \"pad\", \"classic\", \"doormat\", \"vintage\", \"set\", \"rabbit\", \"tin\", \"pink\", \"hang\", \"zinc\", \"love_heart\", \"leave\", \"chest\", \"vintage_cream\", \"garden\", \"sweetheart\", \"playing_card\", \"cat_bowl\", \"teacup\", \"milk\", \"school\", \"key\", \"curtain\", \"pink_butterfly\", \"crate\", \"campagne\", \"egg\", \"vegetable\", \"picture\", \"turquoise\", \"dog_bowl\", \"table\", \"oil_burner\", \"storage\", \"carry\", \"happy\", \"alarm_clock\", \"family\", \"cute\", \"rack\", \"wall_clock\", \"coaster\", \"cushion_cover\", \"oval\", \"heart_decoration\", \"plate\", \"necklace\", \"set\", \"tin\", \"jug\", \"mini\", \"jack\", \"bunny\", \"paper\", \"light\", \"wooden\", \"candle\", \"chocolate\", \"hang\", \"design\", \"blue\", \"red\", \"cream\", \"ceramic\", \"paper_lantern\", \"blue_polkadot\", \"wicker\", \"jar\", \"egg_frye\", \"doll\", \"tier\", \"party\", \"apples_design\", \"dotcom\", \"party_pizza\", \"folding_umbrella\", \"leaf\", \"lampshade\", \"sucker\", \"silk_purse\", \"game\", \"baroque_butterfly\", \"paint\", \"teapot\", \"diamante_necklace\", \"tea_towel\", \"dish_blue\", \"pc\", \"bunting\", \"tall\", \"dish\", \"woodland\", \"wood\", \"flower\", \"card\", \"silver\", \"white\", \"set\", \"purple\", \"pink\", \"drawer\", \"glass\", \"blue\", \"heart\", \"red\", \"small\", \"drawer_knob\", \"key_re\", \"letter_ble\", \"gift_bag\", \"child\", \"tissue\", \"cake_case\", \"apple\", \"polkadot\", \"gift_tag\", \"traditional\", \"easter_egg\", \"hook\", \"spaceboy\", \"bell\", \"pack\", \"christmas_light\", \"birthday\", \"garland\", \"pin_cushion\", \"post\", \"suki_design\", \"white_chocolate\", \"jewellery_stand\", \"pannetone\", \"cup\", \"stacking_tin\", \"ribbon_reel\", \"blue_felt\", \"dress\", \"tree\", \"stand\", \"napkin\", \"charm\", \"luggage_tag\", \"photo_frame\", \"candle\", \"vintage\", \"set\", \"large\", \"hanging_heart\", \"small\", \"blue\", \"black\", \"card\", \"red\", \"retrospot\", \"red_retrospot\", \"container\", \"santa\", \"jar_light\", \"frying_pan\", \"cake_tin\", \"edwardian\", \"wrap\", \"jardin_etched\", \"decoration\", \"ice_cream\", \"chair\", \"cottage\", \"straw\", \"clock\", \"milk_pan\", \"tidy\", \"hanging_chick\", \"cut\", \"hot\", \"card_hold\", \"cup_saucer\", \"hen_house\", \"bell_jar\", \"bead\", \"silver_orbit\", \"gold_orbit\", \"towel_chocolate\", \"lead\", \"tape\", \"assort\", \"single\", \"bowl\", \"sign\", \"french_blue\", \"metal_door\", \"white\", \"vintage\", \"pen\", \"glass\", \"hanging_heart\", \"pink\", \"set\", \"day\", \"heart\", \"small\", \"box\", \"chocolate\", \"necklace\", \"pantry\", \"hot_water\", \"flower_fairy\", \"balloon\", \"check\", \"triple\", \"chicken\", \"frame\", \"point\", \"egg_cup\", \"mint\", \"ivory\", \"embossed_heart\", \"sweet\", \"pudding\", \"cubic_mug\", \"brush\", \"bottle\", \"scissor\", \"pretty\", \"liner\", \"small_tube\", \"star\", \"pear\", \"spoon\", \"grip_pack\", \"biscuit\", \"bunt\", \"oven_glove\", \"scottie_dog\", \"reindeer\", \"owl\", \"bird\", \"clear\", \"medium\", \"large\", \"blue\", \"small\", \"tea\", \"light\", \"mini\", \"bowl\", \"spot\", \"yellow\", \"glass\", \"candle\", \"set\", \"bag\", \"french\", \"kitchen\", \"easter_tin\", \"sketchbook\", \"french_style\", \"herb\", \"round_cake\", \"calendar\", \"bucket\", \"zinc_heart\", \"cocktail\", \"mug\", \"light_holder\", \"soap_dish\", \"stool\", \"salt\", \"font\", \"pattern\", \"hanging\", \"snowflake\", \"home\", \"mini_case\", \"picture_frame\", \"holly\", \"lantern\", \"large_milk\", \"dinner\", \"collar\", \"scandinavian_heart\", \"photoframe\", \"colour\", \"sticker\", \"chain\", \"kit\", \"hanging_metal\", \"cutlery_set\", \"sign\", \"light\", \"skull\", \"french_blue\", \"metal_door\", \"set\", \"candle\", \"heart\", \"design\"], \"Freq\": [281.0, 70.0, 402.0, 72.0, 53.0, 61.0, 81.0, 107.0, 160.0, 68.0, 83.0, 63.0, 43.0, 104.0, 64.0, 36.0, 33.0, 42.0, 41.0, 51.0, 32.0, 90.0, 58.0, 34.0, 30.0, 33.0, 31.0, 65.0, 125.0, 35.0, 21.28204209149592, 7.95681526152597, 7.76244159745697, 7.60711580822626, 7.055107410036495, 5.58658988907187, 5.24566691802727, 7.193925411726741, 7.273177813375146, 5.148413280051813, 5.016788973707865, 11.035148426290792, 4.68475237871474, 4.684057043506797, 6.153569538160103, 4.489099519231924, 4.115656681094321, 3.9994495256571154, 3.9616610811613517, 3.7829377958403043, 3.782232973398143, 9.79847400564033, 3.5833797535722334, 8.095611126336372, 8.70257907235482, 3.214709191897328, 3.214721446241527, 3.2133434254712667, 3.0599488813561924, 6.819790796094027, 7.233740961933891, 183.37197000237305, 35.05548855850923, 16.147557257181376, 35.69749286049718, 66.382228426528, 25.19875502873783, 17.383253702104465, 15.657404044891551, 56.57855067291874, 17.182518056889002, 16.869905783355726, 33.604254801783874, 23.080193960689222, 24.26220689078604, 8.846890182657669, 19.757792999018072, 8.509080605642492, 10.475221349939854, 8.525884078649437, 7.486504599604469, 8.42262027779646, 7.6140240959431456, 32.40827169137554, 9.884848228345525, 11.88422522622192, 11.879764868190016, 7.724345225111358, 6.8448159806656745, 9.54977115185434, 8.779192063089594, 6.110109189419968, 17.068031061648462, 17.208311454683674, 7.252153893990168, 5.301989055148236, 7.25120383556029, 4.703584196884157, 4.699902901225307, 4.698340799826712, 4.697524863039711, 4.652932489650386, 4.651816496357754, 4.49456447354739, 29.262031009145726, 4.1958965426606225, 4.057821384184871, 5.511171821236858, 51.654766487960316, 8.823305430611496, 3.7235794047153856, 3.7214620180244413, 3.6874714001581874, 26.645891117568535, 40.67572931406806, 6.4891340600841625, 57.13919206761568, 10.763722409672889, 11.200369697861923, 7.286990092780123, 8.343601841433653, 8.940239981453129, 6.6176572992926905, 14.004551024865892, 58.47622650404427, 8.937232909147294, 11.059571616976031, 11.968808624562406, 27.882349505420343, 45.272192976927904, 10.1458135170289, 10.69462698821706, 16.669560360336174, 8.6826671388527, 7.969969311538133, 10.656097565389706, 10.56154632217431, 10.25779880180993, 9.119936444041405, 25.80246614547045, 15.032272203431097, 7.786689508710163, 7.785431560640908, 6.991744211850527, 6.960308722398477, 6.983299479206504, 6.78512571993799, 5.925728142952869, 4.924428252075822, 4.819575255586803, 4.785888463274491, 19.179482908289938, 4.755555851455298, 4.440788942434503, 5.961923529880902, 4.278933652906768, 15.329883663119352, 3.759946628364183, 3.4557443274374524, 3.4556869583298164, 3.4553399621515086, 3.4554355773309022, 3.455343091375562, 4.279283778309129, 4.69970267902711, 11.277872298546415, 10.250148196692214, 18.641943409720987, 6.562731071117108, 7.983395314206318, 25.461686692281237, 21.749066796184284, 160.12104296077496, 21.04105829734472, 8.127328494508559, 15.735769056569541, 7.664973123800205, 10.042214039911224, 9.419600674708347, 19.93158008788513, 11.410736370298956, 18.216030982332402, 9.863560380284538, 10.252862277020741, 11.85371489028879, 11.365670676255709, 9.639736719146176, 36.07720692749009, 23.75839250462646, 21.063111645732295, 19.01890801906649, 11.561663121670268, 20.15278923089575, 10.77058833316013, 9.788200604662288, 9.494382372918265, 9.001481415841765, 8.70463859688689, 8.703561308661893, 12.200210119235287, 11.751416281409425, 8.21567937780739, 7.516488817414448, 6.881259645747009, 6.633264984762695, 10.606600663420007, 5.654461631276018, 11.684657686771525, 4.868095646027333, 4.516672649997396, 10.28241870950423, 4.408580918626443, 7.479422199587927, 4.083346286351812, 3.2974451156171956, 11.379315105315555, 6.95483344021757, 10.946071929949895, 63.09444483923181, 49.812936819906355, 41.53941316489044, 18.674949438070445, 65.76560941577641, 12.793517250471389, 27.562855975040858, 10.138823260115803, 12.519844447181962, 15.950106237434444, 15.212342658112716, 10.882152135364354, 9.814885325154465, 31.533354044307345, 21.583485285416252, 17.68947075658155, 19.660389405958686, 10.892355606559615, 23.769022740420347, 24.281559207392664, 10.144301082049846, 39.72720247687661, 8.946667398196992, 8.507210097348528, 7.274077034577811, 29.39889240967464, 14.714958091075252, 19.983168146002523, 53.59655645750176, 6.251284164227272, 10.16615867942896, 14.132856391364024, 6.601982036739253, 4.587027413078976, 4.586409812665865, 4.326771730373899, 4.3116112374744615, 4.307185877617798, 18.950951545210543, 5.359712081649995, 14.036597244217896, 5.0525883141466945, 6.099096241739488, 18.013474049168625, 15.060608011934809, 9.35504701963698, 9.075311301487963, 5.5363584446359, 11.584534597142651, 24.85290880336011, 21.67372948371141, 43.81891968278173, 21.486222537598817, 9.56017421201847, 15.890938491478762, 16.510229319513982, 13.389309418145208, 11.028108569778233, 11.02033865078785, 69.37668688553332, 52.89930671319859, 13.77949713519053, 10.286517409980053, 9.07584356191417, 8.63572332117289, 8.632246582726426, 8.308558801500222, 17.093556165060818, 6.1559145452525215, 63.190859058183975, 5.405139342660813, 5.40499744843796, 5.127150740817118, 5.125189630662663, 12.884448176627146, 4.997309277242425, 6.338696743373702, 7.012605205553374, 4.391870387360967, 4.367499229619538, 4.338909193647464, 3.903022350545679, 3.9029926517548494, 4.511725797512452, 14.2717552531662, 3.1520527858673186, 3.1520385964450335, 3.150939411197769, 3.1506354935716114, 5.438219835806339, 19.16375723793836, 3.9027055634434955, 18.13601804178658, 29.449595535568108, 12.347467639500701, 12.347467639500701, 20.948112068891792, 30.124563254620707, 8.913606987288986, 17.59237309599795, 9.82917121058441, 38.707764594197805, 32.971412786674236, 6.187368864606838, 17.407560820530275, 11.356533824837626, 9.120479524584974, 7.413214834947929, 6.93959501812386, 32.627741794557096, 21.16422230859544, 13.283976965636406, 9.131976116663761, 8.015803527550565, 7.712337023593097, 7.256704754637404, 24.931519082915667, 6.9308401846546746, 13.714380293678449, 6.860866343301011, 27.320154827601787, 6.383632725545025, 5.905344262064967, 5.90539155278236, 5.870265058807668, 6.861799678154004, 35.46355330838731, 4.878102852232595, 4.745263227075645, 4.719024432301, 4.576698420598118, 35.7232029922336, 5.9055754611277775, 8.224395657000395, 4.062912033967176, 5.566856354615902, 4.562459973769707, 3.4232525359852417, 3.423122158104651, 9.808586085317616, 4.5759473520517435, 13.143331744847533, 10.458102413798395, 7.0227306462579175, 46.88107468989804, 48.306096386149754, 38.09788534802671, 9.798334508691644, 15.88213554736327, 10.668677469301135, 10.381974867843969, 7.437949713123691, 8.167207386546346, 9.398207092013914, 9.839051816367022, 11.816706267918194, 8.258356303428247, 17.484799928834907, 9.233133971415555, 9.229793455038497, 8.879568985491874, 8.715779758208507, 7.096577962296258, 7.0424619167565545, 9.575471880440846, 6.305383480120997, 10.884980947634173, 5.689458452299654, 20.064160356672478, 19.081443113195128, 7.082050873048356, 4.983990211477126, 4.888879826479332, 4.85507921549245, 4.854779698867704, 9.59144325803939, 6.034715848994621, 25.26143251940742, 3.8414302186634615, 4.853561380354948, 3.497804974394267, 6.687682875901964, 3.0089261584473044, 3.008690329076397, 2.972838402273417, 2.9725820544148713, 2.9722321742295588, 16.252184560250697, 17.079135038637382, 7.176246186792255, 12.380726467587143, 5.180008386889056, 8.40851460640367, 26.449176886739235, 21.872479720777424, 7.031678252370244, 9.346763757113155, 9.346763757113155, 35.24114738549985, 11.609522321848875, 10.531499101556506, 6.5317668854466575], \"Total\": [281.0, 70.0, 402.0, 72.0, 53.0, 61.0, 81.0, 107.0, 160.0, 68.0, 83.0, 63.0, 43.0, 104.0, 64.0, 36.0, 33.0, 42.0, 41.0, 51.0, 32.0, 90.0, 58.0, 34.0, 30.0, 33.0, 31.0, 65.0, 125.0, 35.0, 22.132564568687513, 8.807479311537314, 8.613124366690766, 8.462371618142463, 7.9058244441608645, 6.436863566091681, 6.097210601806755, 8.370052392057032, 8.465244303187433, 6.001571936114108, 5.8677444137604144, 12.93255918619331, 5.535095821590959, 5.534689006350548, 7.310725485818531, 5.340091528694801, 4.966303105279499, 4.851153508629236, 4.812210237463021, 4.633365231436709, 4.63296299637908, 12.126532755746107, 4.446109151534372, 10.088270556300015, 10.907284184073145, 4.065175562116566, 4.065223203931326, 4.064401346545745, 3.910670894513364, 8.812872147760071, 9.472022361708706, 281.04687818610483, 50.23762328564119, 22.611181070970733, 52.879391266576604, 104.06389674310321, 38.09556259006983, 25.988354427752594, 24.72605512705511, 160.83978437037803, 33.06641445998501, 37.02196009118398, 107.80453982285944, 63.51214241675517, 125.23284218074798, 17.531439057893845, 100.0051842237516, 16.61656902532111, 30.879456403133986, 23.259123947566778, 14.334733729866915, 83.62037072884208, 402.6210555722964, 34.922603881890026, 10.750140349573712, 13.060396509457057, 13.088171816557166, 8.589553216567289, 7.710920827894526, 10.788712949774965, 9.98901690487003, 6.974896879814907, 19.523796301670437, 19.767833570659068, 8.42380706591018, 6.166931967510654, 8.454882326145842, 5.56824691065513, 5.566211914383757, 5.565001412025678, 5.565084943536998, 5.517892105280978, 5.518157818645549, 5.3595181244550965, 35.139925451354074, 5.060925651832626, 4.922783410961192, 6.7177296572356, 63.425388508158385, 10.847052058522205, 4.588355958921795, 4.587252495540928, 4.552260041035019, 32.98803222592312, 51.768730219075984, 8.164180702373372, 83.58678057941712, 13.998712069449134, 15.678475932868805, 9.525862578765866, 11.359656916097288, 12.552082885833133, 8.644277599187301, 23.259123947566778, 160.83978437037803, 13.130189201367521, 18.45042859233421, 21.971695649329725, 90.2405288303472, 402.6210555722964, 22.642029949237585, 37.387994123392936, 281.04687818610483, 37.02196009118398, 18.601655311994023, 11.519428695219585, 11.424323627334656, 11.120277593984047, 9.984051771611842, 28.48927994600354, 16.62749567052459, 8.649188898063956, 8.648703901798676, 7.855234566631671, 7.822871521250304, 7.849149669317868, 7.648030392589317, 6.7882418209713125, 5.787037900609347, 5.682250322193308, 5.648289838731736, 22.656851913473332, 5.619003155900632, 5.30428303914648, 7.131150667454822, 5.141402657567231, 18.52189160902481, 4.622358106941233, 4.318069985856919, 4.318069941824637, 4.317738709529275, 4.317893869092465, 4.31803189160671, 5.4526347267267505, 5.992861790545541, 14.396106122701656, 13.119168404546139, 24.420643032615352, 8.45762932316771, 10.675226389145168, 40.277152652425634, 37.009695149969865, 402.6210555722964, 37.387994123392936, 11.872404357482846, 30.405562301038277, 11.28975981468392, 17.466502086632037, 16.374255989131164, 65.38875615852682, 24.4487984728232, 83.62037072884208, 22.517533751132753, 37.02196009118398, 83.58678057941712, 125.23284218074798, 104.06389674310321, 36.94583139407703, 24.627547672157046, 21.946977096372162, 19.89263421343414, 12.430835989467925, 21.741764801117213, 11.638985742577152, 10.656312432412387, 10.363796692136386, 9.8701132555575, 9.572782363218822, 9.572795962340408, 13.44246390789243, 12.95882838544766, 9.084237827187565, 8.38468370331903, 7.752522154686662, 7.501371864599282, 12.160235670440738, 6.522666879270355, 13.732042667493639, 5.736764779346972, 5.388359946257313, 12.304863765294757, 5.276820937202736, 9.041341579195224, 4.951384188978393, 4.1654470430960355, 14.404489646082181, 8.810109038046225, 13.929170371639183, 81.9924297314481, 68.9012835160667, 58.53441511099291, 46.12804603582942, 402.6210555722964, 30.879456403133986, 281.04687818610483, 22.910044503830967, 49.362608017223955, 125.23284218074798, 160.83978437037803, 104.06389674310321, 100.0051842237516, 32.417956862613885, 22.459701675706928, 18.56555909854654, 20.909249512641157, 11.768036621607864, 25.732388429582596, 26.319075908129612, 11.02156159034842, 43.51369115335675, 9.821777219395697, 9.389009916946032, 8.149233143927034, 33.220765340307054, 16.72528271618806, 22.73400069722812, 61.00279338756868, 7.128780715367657, 11.641207199048473, 16.452228639788178, 7.795384901718568, 5.462007523879964, 5.461826441574065, 5.20313432218804, 5.186528752508362, 5.183253922217668, 22.877746309275896, 6.56938469213469, 17.305647930430887, 6.239026956298308, 7.665233300721935, 23.107852614743962, 20.498839807492764, 12.672805586282756, 12.436910807722684, 7.112203144113917, 23.0009323412528, 83.62037072884208, 90.2405288303472, 402.6210555722964, 107.80453982285944, 20.150101638969574, 100.0051842237516, 125.23284218074798, 63.51214241675517, 68.9012835160667, 104.06389674310321, 70.25087898323174, 53.77370367762827, 14.653405276791403, 11.165231163153408, 9.950231777121777, 9.510075682852525, 9.508334550675963, 9.187666401489397, 19.47893270901436, 7.029472650284438, 72.20476978058528, 6.278579748111658, 6.278444231430111, 6.000507017239164, 5.999974766316319, 15.105793360244661, 5.87114350387054, 7.5141687650421884, 8.317005629742962, 5.269249541514937, 5.244548043013575, 5.213563630551766, 4.776417546584349, 4.776482271542826, 5.623510561881904, 18.139663014516728, 4.02542096801431, 4.02541803768876, 4.024812874493246, 4.024744857704929, 6.980429901542374, 26.366358421778465, 5.1107528440332, 31.685338105365837, 64.70639703953458, 22.455510715342307, 22.455510715342307, 46.12804603582942, 90.2405288303472, 16.268649707800282, 49.362608017223955, 20.150101638969574, 281.04687818610483, 402.6210555722964, 9.335570307958315, 160.83978437037803, 100.0051842237516, 50.23762328564119, 22.517533751132753, 37.009695149969865, 33.50003950454449, 23.02988235821653, 14.45895386591183, 9.996005034787697, 8.879326381791474, 8.576665172304242, 8.12106667273981, 27.976116846266585, 7.795210634097877, 15.431473230088603, 7.724558279868806, 31.00021378086548, 7.247460779565564, 6.769482066100559, 6.769670126100182, 6.73380591886461, 8.001397601000786, 41.56495031854465, 5.74201981647762, 5.611110627231415, 5.582708012269645, 5.440322861647745, 42.51813546410764, 7.0948259101079705, 9.906199433373573, 4.926417828915047, 6.8044564920007415, 5.583115300693312, 4.286682565298688, 4.286555185649265, 12.506388773305991, 5.765461850838362, 17.518807139393076, 13.983559665479207, 9.507071355776336, 107.80453982285944, 125.23284218074798, 100.0051842237516, 17.713407680165545, 65.38875615852682, 30.405562301038277, 31.685338105365837, 14.393247836351037, 20.804445842579838, 49.362608017223955, 83.62037072884208, 402.6210555722964, 33.06641445998501, 18.6569471554363, 10.096091672974874, 10.094267297184228, 9.741620712471533, 9.57660171733084, 7.960212807675533, 7.904753358540612, 10.790117501697864, 7.166663617136692, 12.414218271193205, 6.550519605771977, 23.148485743583525, 22.121752508948386, 8.276272661384823, 5.84542267155132, 5.7507799720306325, 5.715781018597475, 5.715481381008267, 11.397178151094725, 7.236844342636318, 30.607131883144678, 4.703382349286613, 6.0404232819776364, 4.35853191953922, 8.536776974741642, 3.8699984128711242, 3.869922570301343, 3.833492213840926, 3.833332385383053, 3.8331317329109047, 21.018105045578153, 23.202359073151232, 9.637626972336204, 17.289070184545427, 6.87691966156004, 12.300381034114896, 64.70639703953458, 65.38875615852682, 12.661567238894735, 22.455510715342307, 22.455510715342307, 402.6210555722964, 83.62037072884208, 160.83978437037803, 83.58678057941712], \"Category\": [\"Default\", \"Default\", \"Default\", \"Default\", \"Default\", \"Default\", \"Default\", \"Default\", \"Default\", \"Default\", \"Default\", \"Default\", \"Default\", \"Default\", \"Default\", \"Default\", \"Default\", \"Default\", \"Default\", \"Default\", \"Default\", \"Default\", \"Default\", \"Default\", \"Default\", \"Default\", \"Default\", \"Default\", \"Default\", \"Default\", \"Topic1\", \"Topic1\", \"Topic1\", \"Topic1\", \"Topic1\", \"Topic1\", \"Topic1\", \"Topic1\", \"Topic1\", \"Topic1\", \"Topic1\", \"Topic1\", \"Topic1\", \"Topic1\", \"Topic1\", \"Topic1\", \"Topic1\", \"Topic1\", \"Topic1\", \"Topic1\", \"Topic1\", \"Topic1\", \"Topic1\", \"Topic1\", \"Topic1\", \"Topic1\", \"Topic1\", \"Topic1\", \"Topic1\", \"Topic1\", \"Topic1\", \"Topic1\", \"Topic1\", \"Topic1\", \"Topic1\", \"Topic1\", \"Topic1\", \"Topic1\", \"Topic1\", \"Topic1\", \"Topic1\", \"Topic1\", \"Topic1\", \"Topic1\", \"Topic1\", \"Topic1\", \"Topic1\", \"Topic1\", \"Topic1\", \"Topic1\", \"Topic1\", \"Topic1\", \"Topic1\", \"Topic2\", \"Topic2\", \"Topic2\", \"Topic2\", \"Topic2\", \"Topic2\", \"Topic2\", \"Topic2\", \"Topic2\", \"Topic2\", \"Topic2\", \"Topic2\", \"Topic2\", \"Topic2\", \"Topic2\", \"Topic2\", \"Topic2\", \"Topic2\", \"Topic2\", \"Topic2\", \"Topic2\", \"Topic2\", \"Topic2\", \"Topic2\", \"Topic2\", \"Topic2\", \"Topic2\", \"Topic2\", \"Topic2\", \"Topic2\", \"Topic2\", \"Topic2\", \"Topic2\", \"Topic2\", \"Topic2\", \"Topic2\", \"Topic2\", \"Topic2\", \"Topic2\", \"Topic2\", \"Topic2\", \"Topic2\", \"Topic2\", \"Topic2\", \"Topic2\", \"Topic2\", \"Topic2\", \"Topic2\", \"Topic2\", \"Topic2\", \"Topic2\", \"Topic2\", \"Topic3\", \"Topic3\", \"Topic3\", \"Topic3\", \"Topic3\", \"Topic3\", \"Topic3\", \"Topic3\", \"Topic3\", \"Topic3\", \"Topic3\", \"Topic3\", \"Topic3\", \"Topic3\", \"Topic3\", \"Topic3\", \"Topic3\", \"Topic3\", \"Topic3\", \"Topic3\", \"Topic3\", \"Topic3\", \"Topic3\", \"Topic3\", \"Topic3\", \"Topic3\", \"Topic3\", \"Topic3\", \"Topic3\", \"Topic3\", \"Topic3\", \"Topic3\", \"Topic3\", \"Topic3\", \"Topic3\", \"Topic3\", \"Topic3\", \"Topic3\", \"Topic3\", \"Topic3\", \"Topic3\", \"Topic3\", \"Topic3\", \"Topic3\", \"Topic3\", \"Topic3\", \"Topic3\", \"Topic3\", \"Topic3\", \"Topic3\", \"Topic3\", \"Topic3\", \"Topic4\", \"Topic4\", \"Topic4\", \"Topic4\", \"Topic4\", \"Topic4\", \"Topic4\", \"Topic4\", \"Topic4\", \"Topic4\", \"Topic4\", \"Topic4\", \"Topic4\", \"Topic4\", \"Topic4\", \"Topic4\", \"Topic4\", \"Topic4\", \"Topic4\", \"Topic4\", \"Topic4\", \"Topic4\", \"Topic4\", \"Topic4\", \"Topic4\", \"Topic4\", \"Topic4\", \"Topic4\", \"Topic4\", \"Topic4\", \"Topic4\", \"Topic4\", \"Topic4\", \"Topic4\", \"Topic4\", \"Topic4\", \"Topic4\", \"Topic4\", \"Topic4\", \"Topic4\", \"Topic4\", \"Topic4\", \"Topic4\", \"Topic4\", \"Topic5\", \"Topic5\", \"Topic5\", \"Topic5\", \"Topic5\", \"Topic5\", \"Topic5\", \"Topic5\", \"Topic5\", \"Topic5\", \"Topic5\", \"Topic5\", \"Topic5\", \"Topic5\", \"Topic5\", \"Topic5\", \"Topic5\", \"Topic5\", \"Topic5\", \"Topic5\", \"Topic5\", \"Topic5\", \"Topic5\", \"Topic5\", \"Topic5\", \"Topic5\", \"Topic5\", \"Topic5\", \"Topic5\", \"Topic5\", \"Topic5\", \"Topic5\", \"Topic5\", \"Topic5\", \"Topic5\", \"Topic5\", \"Topic5\", \"Topic5\", \"Topic5\", \"Topic5\", \"Topic5\", \"Topic5\", \"Topic5\", \"Topic5\", \"Topic5\", \"Topic5\", \"Topic6\", \"Topic6\", \"Topic6\", \"Topic6\", \"Topic6\", \"Topic6\", \"Topic6\", \"Topic6\", \"Topic6\", \"Topic6\", \"Topic6\", \"Topic6\", \"Topic6\", \"Topic6\", \"Topic6\", \"Topic6\", \"Topic6\", \"Topic6\", \"Topic6\", \"Topic6\", \"Topic6\", \"Topic6\", \"Topic6\", \"Topic6\", \"Topic6\", \"Topic6\", \"Topic6\", \"Topic6\", \"Topic6\", \"Topic6\", \"Topic6\", \"Topic6\", \"Topic6\", \"Topic6\", \"Topic6\", \"Topic6\", \"Topic6\", \"Topic6\", \"Topic6\", \"Topic6\", \"Topic6\", \"Topic6\", \"Topic6\", \"Topic6\", \"Topic6\", \"Topic6\", \"Topic6\", \"Topic6\", \"Topic6\", \"Topic6\", \"Topic7\", \"Topic7\", \"Topic7\", \"Topic7\", \"Topic7\", \"Topic7\", \"Topic7\", \"Topic7\", \"Topic7\", \"Topic7\", \"Topic7\", \"Topic7\", \"Topic7\", \"Topic7\", \"Topic7\", \"Topic7\", \"Topic7\", \"Topic7\", \"Topic7\", \"Topic7\", \"Topic7\", \"Topic7\", \"Topic7\", \"Topic7\", \"Topic7\", \"Topic7\", \"Topic7\", \"Topic7\", \"Topic7\", \"Topic7\", \"Topic7\", \"Topic7\", \"Topic7\", \"Topic7\", \"Topic7\", \"Topic7\", \"Topic7\", \"Topic7\", \"Topic7\", \"Topic7\", \"Topic7\", \"Topic7\", \"Topic7\", \"Topic7\", \"Topic7\", \"Topic7\", \"Topic7\", \"Topic7\", \"Topic8\", \"Topic8\", \"Topic8\", \"Topic8\", \"Topic8\", \"Topic8\", \"Topic8\", \"Topic8\", \"Topic8\", \"Topic8\", \"Topic8\", \"Topic8\", \"Topic8\", \"Topic8\", \"Topic8\", \"Topic8\", \"Topic8\", \"Topic8\", \"Topic8\", \"Topic8\", \"Topic8\", \"Topic8\", \"Topic8\", \"Topic8\", \"Topic8\", \"Topic8\", \"Topic8\", \"Topic8\", \"Topic8\", \"Topic8\", \"Topic8\", \"Topic8\", \"Topic8\", \"Topic8\", \"Topic8\", \"Topic8\", \"Topic8\", \"Topic8\", \"Topic8\", \"Topic8\", \"Topic8\", \"Topic8\", \"Topic8\", \"Topic8\", \"Topic8\"], \"logprob\": [30.0, 29.0, 28.0, 27.0, 26.0, 25.0, 24.0, 23.0, 22.0, 21.0, 20.0, 19.0, 18.0, 17.0, 16.0, 15.0, 14.0, 13.0, 12.0, 11.0, 10.0, 9.0, 8.0, 7.0, 6.0, 5.0, 4.0, 3.0, 2.0, 1.0, -4.3792, -5.3631, -5.3878, -5.408, -5.4833, -5.7167, -5.7797, -5.4639, -5.4529, -5.7984, -5.8243, -5.036, -5.8928, -5.8929, -5.6201, -5.9354, -6.0223, -6.0509, -6.0604, -6.1066, -6.1068, -5.1549, -6.1608, -5.3458, -5.2735, -6.2694, -6.2694, -6.2698, -6.3187, -5.5173, -5.4583, -2.2256, -3.8802, -4.6553, -3.862, -3.2417, -4.2103, -4.5816, -4.6861, -3.4015, -4.5932, -4.6116, -3.9224, -4.2981, -4.2482, -5.257, -4.4535, -5.296, -5.0881, -5.294, -5.424, -5.3062, -5.4071, -3.8693, -5.0567, -4.8725, -4.8729, -5.3034, -5.4243, -5.0912, -5.1754, -5.5378, -4.5105, -4.5024, -5.3664, -5.6797, -5.3666, -5.7994, -5.8002, -5.8005, -5.8007, -5.8102, -5.8105, -5.8449, -3.9715, -5.9136, -5.9471, -5.641, -3.4032, -5.1703, -6.0331, -6.0336, -6.0428, -4.0651, -3.6421, -5.4776, -3.3023, -4.9716, -4.9318, -5.3617, -5.2262, -5.1572, -5.458, -4.7084, -3.2791, -5.1575, -4.9444, -4.8654, -4.0198, -3.5351, -5.0307, -4.978, -4.5342, -5.1864, -5.2721, -4.9426, -4.9515, -4.9807, -5.0983, -4.0583, -4.5986, -5.2563, -5.2565, -5.364, -5.3685, -5.3652, -5.394, -5.5295, -5.7146, -5.7361, -5.7431, -4.3549, -5.7494, -5.8179, -5.5234, -5.8551, -4.579, -5.9844, -6.0687, -6.0687, -6.0688, -6.0688, -6.0688, -5.855, -5.7613, -4.8859, -4.9815, -4.3833, -5.4274, -5.2314, -4.0716, -4.2292, -2.2328, -4.2623, -5.2135, -4.5528, -5.2721, -5.002, -5.066, -4.3165, -4.8742, -4.4065, -5.0199, -4.9812, -4.8361, -4.8782, -5.0429, -3.72, -4.1377, -4.2581, -4.3602, -4.858, -4.3023, -4.9288, -5.0245, -5.055, -5.1083, -5.1418, -5.1419, -4.8042, -4.8417, -5.1996, -5.2886, -5.3769, -5.4136, -4.9442, -5.5732, -4.8474, -5.723, -5.7979, -4.9752, -5.8221, -5.2935, -5.8987, -6.1125, -4.8739, -5.3662, -4.9127, -3.161, -3.3974, -3.579, -4.3785, -3.1196, -4.7567, -3.9892, -4.9893, -4.7784, -4.5362, -4.5836, -4.9185, -5.0218, -3.8138, -4.1929, -4.3919, -4.2863, -4.8768, -4.0965, -4.0751, -4.9479, -3.5828, -5.0736, -5.1239, -5.2805, -3.8839, -4.576, -4.27, -3.2834, -5.4321, -4.9458, -4.6164, -5.3775, -5.7416, -5.7418, -5.8, -5.8036, -5.8046, -4.323, -5.586, -4.6232, -5.645, -5.4567, -4.3737, -4.5528, -5.0289, -5.0593, -5.5535, -4.8152, -4.0519, -4.1888, -3.4848, -4.1975, -5.0073, -4.4991, -4.4609, -4.6704, -4.8644, -4.8651, -3.0169, -3.2881, -4.6333, -4.9257, -5.0509, -5.1006, -5.101, -5.1392, -4.4178, -5.4391, -3.1103, -5.5691, -5.5692, -5.6219, -5.6223, -4.7005, -5.6476, -5.4098, -5.3088, -5.7767, -5.7823, -5.7889, -5.8947, -5.8948, -5.7498, -4.5982, -6.1084, -6.1084, -6.1088, -6.1089, -5.563, -4.3035, -5.8948, -4.3586, -3.8738, -4.743, -4.743, -4.2144, -3.8512, -5.0689, -4.389, -4.9711, -3.6005, -3.7609, -5.434, -4.3996, -4.8267, -5.046, -5.2532, -5.3193, -3.7665, -4.1994, -4.6651, -5.0399, -5.1703, -5.2089, -5.2698, -4.0356, -5.3157, -4.6333, -5.3259, -3.9441, -5.398, -5.4758, -5.4758, -5.4818, -5.3257, -3.6832, -5.6669, -5.6946, -5.7001, -5.7307, -3.6759, -5.4758, -5.1446, -5.8498, -5.5349, -5.7338, -6.0211, -6.0211, -4.9684, -5.7309, -4.6758, -4.9043, -5.3025, -3.4041, -3.3741, -3.6115, -4.9695, -4.4865, -4.8844, -4.9116, -5.2451, -5.1516, -5.0112, -4.9653, -4.7822, -5.1405, -4.1814, -4.8199, -4.8203, -4.859, -4.8776, -5.0831, -5.0908, -4.7835, -5.2013, -4.6553, -5.3041, -4.0438, -4.094, -5.0852, -5.4365, -5.4558, -5.4627, -5.4628, -4.7818, -5.2452, -3.8134, -5.6969, -5.463, -5.7906, -5.1425, -5.9411, -5.9412, -5.9532, -5.9533, -5.9534, -4.2545, -4.2049, -5.0719, -4.5266, -5.3979, -4.9135, -3.7675, -3.9575, -5.0923, -4.8077, -4.8077, -3.4805, -4.5909, -4.6883, -5.166], \"loglift\": [30.0, 29.0, 28.0, 27.0, 26.0, 25.0, 24.0, 23.0, 22.0, 21.0, 20.0, 19.0, 18.0, 17.0, 16.0, 15.0, 14.0, 13.0, 12.0, 11.0, 10.0, 9.0, 8.0, 7.0, 6.0, 5.0, 4.0, 3.0, 2.0, 1.0, 1.8854, 1.823, 1.8206, 1.818, 1.8107, 1.7829, 1.7742, 1.7732, 1.7728, 1.7713, 1.7679, 1.7659, 1.7578, 1.7577, 1.7523, 1.751, 1.7367, 1.7315, 1.7301, 1.7218, 1.7217, 1.7114, 1.7089, 1.7045, 1.6988, 1.6899, 1.6899, 1.6896, 1.6793, 1.6682, 1.655, 1.4976, 1.5648, 1.5879, 1.5317, 1.475, 1.5113, 1.5225, 1.4677, 0.8798, 1.27, 1.1386, 0.7589, 0.9123, 0.2833, 1.2407, 0.3029, 1.2553, 0.8435, 0.921, 1.275, -0.3708, -2.0434, 1.9392, 1.93, 1.9196, 1.9171, 1.9078, 1.8948, 1.892, 1.8848, 1.8816, 1.8795, 1.8753, 1.8642, 1.8628, 1.8604, 1.8452, 1.8448, 1.8447, 1.8445, 1.8434, 1.8432, 1.8379, 1.8309, 1.8265, 1.8207, 1.816, 1.8087, 1.8074, 1.8051, 1.8048, 1.8033, 1.8004, 1.7728, 1.7843, 1.6335, 1.7512, 1.6776, 1.746, 1.7054, 1.6746, 1.7468, 1.5066, 1.0022, 1.6293, 1.5022, 1.4065, 0.8395, -0.1714, 1.2112, 0.7623, -0.811, 0.5638, 1.1664, 1.975, 1.9744, 1.9722, 1.9624, 1.9539, 1.9521, 1.9479, 1.9478, 1.9365, 1.9361, 1.936, 1.9332, 1.917, 1.8915, 1.8883, 1.8872, 1.8863, 1.8861, 1.8752, 1.8738, 1.8693, 1.8638, 1.8464, 1.8302, 1.8301, 1.8301, 1.8301, 1.83, 1.8106, 1.8099, 1.8088, 1.8061, 1.7829, 1.7993, 1.7624, 1.5943, 1.5213, 1.1309, 1.4781, 1.6739, 1.3942, 1.6657, 1.4994, 1.5, 0.8649, 1.2909, 0.5289, 1.2275, 0.769, 0.0997, -0.3466, -0.3262, 2.0322, 2.0201, 2.0149, 2.0111, 1.9835, 1.9801, 1.9785, 1.971, 1.9684, 1.9639, 1.961, 1.9608, 1.9591, 1.9582, 1.9555, 1.9467, 1.9368, 1.933, 1.9193, 1.9132, 1.8946, 1.8918, 1.8796, 1.8765, 1.8762, 1.8664, 1.8633, 1.8223, 1.8203, 1.8196, 1.815, 1.794, 1.7316, 1.713, 1.1518, 0.2441, 1.1749, -0.266, 1.2408, 0.6841, -0.0047, -0.3023, -0.2019, -0.2653, 2.0692, 2.057, 2.0485, 2.0352, 2.0195, 2.0175, 2.0162, 2.0139, 2.0058, 2.0035, 1.9982, 1.9832, 1.9746, 1.9688, 1.9679, 1.9674, 1.9655, 1.9613, 1.9449, 1.9307, 1.9222, 1.9221, 1.9124, 1.9121, 1.9117, 1.9085, 1.8933, 1.8875, 1.8859, 1.8683, 1.8478, 1.7885, 1.7933, 1.7817, 1.8464, 1.411, 0.8835, 0.6704, -0.1211, 0.4839, 1.3512, 0.2574, 0.0706, 0.5401, 0.2646, -0.1484, 2.0927, 2.0888, 2.0437, 2.0232, 2.0132, 2.0087, 2.0085, 2.0046, 1.9746, 1.9725, 1.9718, 1.9554, 1.9554, 1.9479, 1.9476, 1.9461, 1.944, 1.9351, 1.9346, 1.9231, 1.9222, 1.9216, 1.9033, 1.9032, 1.8849, 1.8654, 1.8606, 1.8606, 1.8604, 1.8603, 1.8555, 1.7861, 1.8355, 1.5472, 1.318, 1.5071, 1.5071, 1.3158, 1.0081, 1.5035, 1.0735, 1.3873, 0.1227, -0.3972, 1.6939, -0.1183, -0.0702, 0.3989, 0.9942, 0.4313, 2.0836, 2.0255, 2.0252, 2.0196, 2.0077, 2.0038, 1.9975, 1.9948, 1.9925, 1.992, 1.9914, 1.9836, 1.9831, 1.9734, 1.9734, 1.9727, 1.9563, 1.9512, 1.9469, 1.9424, 1.9419, 1.9371, 1.9359, 1.9265, 1.9239, 1.9173, 1.9092, 1.9081, 1.8851, 1.8851, 1.867, 1.8789, 1.8226, 1.8195, 1.8071, 1.2773, 1.1574, 1.1449, 1.5179, 0.6948, 1.0627, 0.9942, 1.4498, 1.1749, 0.4513, -0.0299, -1.4185, 0.7227, 2.2541, 2.2296, 2.2294, 2.2263, 2.2248, 2.2041, 2.2035, 2.1995, 2.1909, 2.1875, 2.178, 2.176, 2.1711, 2.1631, 2.1595, 2.1566, 2.1558, 2.1558, 2.1465, 2.1373, 2.127, 2.1165, 2.1002, 2.099, 2.0749, 2.0673, 2.0672, 2.0647, 2.0647, 2.0646, 2.0618, 2.0126, 2.0241, 1.985, 2.0356, 1.9386, 1.4243, 1.2238, 1.7308, 1.4425, 1.4425, -0.1168, 0.3445, -0.4071, -0.2302]}, \"token.table\": {\"Topic\": [3, 2, 5, 4, 1, 2, 2, 3, 4, 5, 6, 7, 8, 2, 1, 2, 3, 4, 6, 7, 8, 1, 7, 1, 4, 1, 2, 4, 3, 6, 7, 8, 1, 1, 4, 5, 6, 6, 2, 2, 3, 7, 8, 5, 1, 7, 1, 2, 3, 4, 5, 6, 7, 8, 1, 2, 3, 4, 5, 6, 7, 8, 5, 4, 2, 3, 7, 8, 1, 2, 6, 7, 8, 1, 3, 4, 5, 6, 7, 8, 7, 8, 3, 7, 7, 4, 1, 2, 3, 6, 7, 2, 1, 3, 6, 7, 1, 5, 8, 6, 8, 3, 1, 2, 3, 4, 5, 6, 7, 8, 1, 4, 5, 6, 6, 3, 3, 4, 1, 8, 6, 2, 5, 6, 7, 3, 1, 8, 7, 5, 2, 3, 5, 6, 5, 2, 4, 1, 4, 7, 1, 6, 1, 2, 3, 5, 8, 8, 8, 1, 5, 8, 6, 6, 1, 2, 3, 5, 8, 3, 4, 1, 2, 7, 7, 4, 5, 6, 6, 3, 1, 2, 3, 6, 3, 2, 5, 8, 6, 8, 1, 5, 2, 6, 1, 2, 4, 6, 7, 8, 1, 2, 3, 6, 7, 8, 4, 8, 2, 4, 4, 3, 4, 1, 2, 4, 1, 2, 4, 4, 1, 3, 4, 6, 7, 5, 5, 8, 2, 3, 5, 2, 1, 5, 8, 6, 3, 4, 8, 1, 7, 4, 7, 3, 2, 1, 2, 1, 2, 3, 4, 5, 6, 7, 7, 4, 8, 3, 4, 7, 8, 6, 8, 8, 6, 1, 4, 3, 4, 2, 1, 5, 7, 1, 5, 5, 2, 1, 2, 6, 1, 2, 3, 4, 6, 7, 8, 2, 2, 6, 1, 2, 3, 4, 7, 6, 2, 3, 4, 5, 6, 7, 7, 1, 1, 2, 3, 5, 7, 8, 2, 6, 5, 6, 7, 8, 3, 1, 2, 4, 5, 6, 7, 8, 1, 2, 3, 6, 2, 6, 8, 2, 3, 5, 6, 8, 8, 1, 8, 1, 2, 1, 4, 5, 8, 6, 7, 6, 3, 7, 1, 2, 3, 6, 1, 4, 6, 6, 5, 2, 3, 8, 3, 5, 1, 3, 4, 7, 8, 8, 1, 5, 4, 7, 8, 1, 2, 3, 4, 5, 6, 7, 8, 6, 4, 3, 5, 1, 1, 2, 3, 4, 7, 8, 1, 3, 8, 7, 1, 1, 3, 1, 5, 1, 2, 2, 1, 7, 1, 2, 4, 7, 6, 8, 3, 6, 2, 3, 4, 7, 8, 7, 1, 4, 6, 7, 8, 1, 2, 1, 2, 5, 6, 7, 8, 3, 5, 6, 2, 3, 4, 5, 6, 7, 1, 3, 3, 4, 7, 7, 1, 2, 3, 5, 6, 2, 3, 7, 4, 8, 1, 5, 7, 3, 7, 8, 4, 4, 1, 4, 8, 4, 5, 7, 2, 6, 8, 1, 1, 3, 5, 7, 8, 3, 8, 2, 5, 1, 2, 3, 4, 5, 6, 7, 8, 3, 1, 2, 2, 2, 6, 1, 3, 4, 8, 3, 7, 3, 5, 2, 5, 1, 6, 7, 7, 1, 2, 3, 4, 1, 2, 3, 5, 6, 1, 2, 3, 4, 6, 8, 3, 1, 3, 4, 5, 7, 8, 6, 1, 2, 7, 3, 4, 7, 2, 2, 6, 4, 5, 1, 3, 4, 5, 6, 7, 8, 1, 8, 2, 8, 6, 8, 3, 7, 7, 1, 2, 3, 4, 5, 6, 7, 8, 2, 5, 6, 8, 4, 1, 2, 3, 4, 6, 7, 8, 6, 6, 8, 5, 6, 8, 2, 1, 2, 4, 5, 6, 7, 8, 7, 8, 8, 1, 1, 5, 3, 7, 1, 2, 4, 6, 7, 5, 1, 4, 5, 6, 1, 7, 8, 1, 2, 4, 6, 8, 8, 3, 6, 4, 5, 7, 1, 3, 8, 2, 3, 1, 4, 2, 6, 3, 5, 7, 8, 4, 7, 3, 4, 6, 4, 1, 2, 3, 6, 8, 1, 5, 6, 5, 1, 3, 4, 1, 2, 5, 7, 7, 2, 1, 3, 1, 2, 3, 1, 2, 4, 5, 6, 3, 1, 3, 6, 2, 6, 1, 2, 3, 4, 6, 5, 4, 2, 4, 7, 3, 4, 7, 4, 1, 3, 6, 1, 3, 5, 6, 7, 1, 2, 3, 6, 3, 8, 2], \"Freq\": [0.6947831722947233, 0.9302204133917695, 0.9073124455210593, 0.9401655295727182, 0.7930001436176874, 0.09912501795221093, 0.03792711848952207, 0.03792711848952207, 0.03792711848952207, 0.07585423697904414, 0.7206152513009194, 0.03792711848952207, 0.07585423697904414, 0.7463357539082268, 0.5141168245070048, 0.03024216614747087, 0.06048433229494174, 0.03024216614747087, 0.06048433229494174, 0.24193732917976696, 0.06048433229494174, 0.826910570952368, 0.9003596905642365, 0.749050831527163, 0.9198691441791333, 0.7379755078617137, 0.7857865741810963, 0.1428702862147448, 0.05512781572621964, 0.771789420167075, 0.05512781572621964, 0.11025563145243927, 0.8363149562412325, 0.9488281366954722, 0.04398697850492838, 0.8797395700985675, 0.04398697850492838, 0.8891243192271614, 0.8931588953624324, 0.057081512002685596, 0.057081512002685596, 0.7420596560349128, 0.057081512002685596, 0.8590174394299397, 0.14696250922841392, 0.8817750553704835, 0.362135477167156, 0.1102151452247866, 0.015745020746398088, 0.1259601659711847, 0.20468526970317513, 0.07872510373199043, 0.07872510373199043, 0.015745020746398088, 0.1916430193715552, 0.0239553774214444, 0.08783638387862946, 0.12776201291437014, 0.13574713872151828, 0.015970251614296268, 0.3832860387431104, 0.039925629035740665, 0.8014070198803183, 0.955127400229814, 0.024058731992609626, 0.0962349279704385, 0.842055619741337, 0.024058731992609626, 0.03156033862332851, 0.03156033862332851, 0.5680860952199132, 0.3156033862332851, 0.03156033862332851, 0.6966890093704656, 0.01990540026772759, 0.01990540026772759, 0.03981080053545518, 0.1791486024095483, 0.03981080053545518, 0.01990540026772759, 0.8748471640909915, 0.8372096585715277, 0.5725244785934264, 0.40076713501539846, 0.8955573601317349, 0.8078549042717912, 0.5133634478196237, 0.0570403830910693, 0.0570403830910693, 0.3422422985464158, 0.0570403830910693, 0.8982769748811399, 0.6470906870418197, 0.2426590076406824, 0.04044316794011373, 0.08088633588022746, 0.03799525498124018, 0.9118861195497643, 0.03799525498124018, 0.9465380032678988, 0.9267739668661128, 0.8852236947392023, 0.09567046797653894, 0.08371165947947157, 0.2152585529472126, 0.011958808497067368, 0.2989702124266842, 0.0358764254912021, 0.11958808497067368, 0.1435057019648084, 0.07256758865506589, 0.7256758865506588, 0.15964869504114496, 0.029027035462026354, 0.7672295350074531, 0.6947548419589342, 0.9249940905406919, 0.974518466860323, 0.1037599818783602, 0.7263198731485214, 0.7963756331496624, 0.1608116381085649, 0.7236523714885421, 0.08040581905428246, 0.9009692465416433, 0.8992581269203113, 0.4883243827135245, 0.4185637566115924, 0.8619557358760614, 0.9347353644194449, 0.1776393473729679, 0.44409836843241973, 0.04440983684324198, 0.3108688579026938, 0.8416586565870484, 0.5961921125545172, 0.37939498071651095, 0.07151254930235466, 0.14302509860470933, 0.7151254930235467, 0.06619976694714984, 0.8605969703129479, 0.07622434358365836, 0.07622434358365836, 0.7622434358365836, 0.07622434358365836, 0.07622434358365836, 0.9159578722141541, 0.7825762601443196, 0.14273408537517746, 0.047578028458392485, 0.7612484553342798, 0.9554093219665267, 0.8332629202224485, 0.7076145182235319, 0.044225907388970746, 0.044225907388970746, 0.044225907388970746, 0.13267772216691223, 0.879933075188781, 0.9743995098123935, 0.08803082763731557, 0.7042466210985245, 0.08803082763731557, 0.8910265713466928, 0.08742119844160917, 0.8305013851952872, 0.043710599220804586, 0.837447723317328, 0.8838812991994258, 0.12284688801983246, 0.08189792534655498, 0.7780302907922723, 0.7591213831277345, 0.733590310092388, 0.8707322970044251, 0.051219546882613244, 0.051219546882613244, 0.2438948835551965, 0.6503863561471906, 0.8505663760459343, 0.07732421600417584, 0.21423436748101563, 0.6427031024430468, 0.013849500566773972, 0.013849500566773972, 0.05539800226709589, 0.8725185357067602, 0.027699001133547944, 0.013849500566773972, 0.011963614258954312, 0.6819260127603958, 0.14356337110745174, 0.011963614258954312, 0.059818071294771555, 0.08374529981268018, 0.9279261314888471, 0.7752093085847959, 0.13884559947210431, 0.7636507970965737, 0.7580321651241052, 0.7779978084604423, 0.9384109243629027, 0.02863474909780638, 0.9163119711298041, 0.02863474909780638, 0.2275655042651445, 0.5461572102363468, 0.1820524034121156, 0.9401641939728164, 0.9083189090799725, 0.3491918140386963, 0.43648976754837043, 0.04364897675483704, 0.17459590701934816, 0.9871072423106376, 0.7827550401414268, 0.13045917335690446, 0.8599829586400758, 0.050587232861180935, 0.050587232861180935, 0.9313639252586299, 0.8054280850775587, 0.858976529002184, 0.8915951732832089, 0.8707325288501043, 0.8385984104305897, 0.08827351688743049, 0.04413675844371524, 0.06480262675440343, 0.907236774561648, 0.9450995338674876, 0.827876160008645, 0.6947609640936951, 0.8602277715909717, 0.09268946209388752, 0.9268946209388752, 0.03658874373922052, 0.012196247913073506, 0.024392495826147012, 0.7683636185236309, 0.024392495826147012, 0.048784991652294024, 0.08537373539151455, 0.8990968586357113, 0.9260096393803322, 0.8747710914276573, 0.03574477492695524, 0.03574477492695524, 0.8936193731738811, 0.911188730844773, 0.5343899834707935, 0.40079248760309505, 0.9397905713999403, 0.9463647083511402, 0.08223524832095264, 0.904587731530479, 0.912623978186829, 0.07020184447590992, 0.9060994926794731, 0.06078203882856292, 0.8509485435998809, 0.06078203882856292, 0.8207119815453202, 0.956514483597728, 0.9163311077986089, 0.827924000592324, 0.19134512900649445, 0.7015988063571463, 0.06378170966883148, 0.08103299563516358, 0.04051649781758179, 0.04051649781758179, 0.26335723581428166, 0.36464848035823616, 0.18232424017911808, 0.020258248908790896, 0.8717719452916963, 0.7349175892512726, 0.1224862648752121, 0.030314023981526425, 0.8184786475012135, 0.030314023981526425, 0.06062804796305285, 0.06062804796305285, 0.7452642115457118, 0.8198609614083997, 0.015766556950161534, 0.0472996708504846, 0.0472996708504846, 0.0472996708504846, 0.03153311390032307, 0.8119489939571217, 0.9321309887018571, 0.45918692468279665, 0.24309896012618645, 0.27010995569576274, 0.02701099556957627, 0.08774101683265763, 0.8774101683265763, 0.12023558051035071, 0.841649063572455, 0.49627541236121403, 0.49627541236121403, 0.1454139424646337, 0.7270697123231686, 0.6948081395891286, 0.354389930471069, 0.3606072976723158, 0.09326050801870236, 0.0062173672012468244, 0.10569524242119602, 0.0062173672012468244, 0.06839103921371507, 0.0936748283874171, 0.0936748283874171, 0.7493986270993368, 0.0936748283874171, 0.8125484438526182, 0.8374363752653439, 0.8793734751978415, 0.7919838834465391, 0.09658340042030965, 0.01931668008406193, 0.01931668008406193, 0.07726672033624772, 0.6883051576497706, 0.16336061866526919, 0.8168030933263459, 0.3869449262271773, 0.6019143296867203, 0.03010165448496429, 0.06020330896992858, 0.8729479800639643, 0.03010165448496429, 0.7626967981213413, 0.9118587612979137, 0.7963584442013016, 0.09677352618296184, 0.8709617356466566, 0.08857584363303808, 0.08857584363303808, 0.7086067490643047, 0.08857584363303808, 0.04599442635625487, 0.9198885271250974, 0.9045015434407656, 0.8535490923002905, 0.7712287332959408, 0.9061431257807085, 0.6738314968996, 0.25268681133735, 0.9152683293181946, 0.9795321557541365, 0.05784001044161951, 0.05784001044161951, 0.11568002088323902, 0.05784001044161951, 0.6940801252994341, 0.8914340609734278, 0.8251366562119865, 0.09168185069022072, 0.9541206660942075, 0.11714022785868365, 0.8199815950107856, 0.31538560487218426, 0.009276047202123066, 0.0278281416063692, 0.009276047202123066, 0.19479699124458438, 0.009276047202123066, 0.4359742184997841, 0.7751941163651076, 0.7453888646523348, 0.8806462525735922, 0.9628578775272622, 0.9695371900439661, 0.8854231521887772, 0.015293149139824984, 0.030586298279649968, 0.30586298279649965, 0.07646574569912491, 0.24469038623719974, 0.33644928107614963, 0.04520437517757663, 0.09040875035515326, 0.858883128373956, 0.8956226958334607, 0.9453614614192569, 0.7379668592609655, 0.9549084673413413, 0.14060340793662557, 0.8436204476197533, 0.8331150660567429, 0.9188082453171141, 0.9078033812352547, 0.10518486320105475, 0.7362940424073833, 0.08537297565280973, 0.8252720979771606, 0.05691531710187315, 0.028457658550936574, 0.5343899834707935, 0.40079248760309505, 0.8948120879890422, 0.8516228562125521, 0.06577743835810282, 0.5262195068648226, 0.06577743835810282, 0.36177591096956546, 0.8504518031808962, 0.9062006844123245, 0.6562444101171148, 0.13124888202342294, 0.02624977640468459, 0.13124888202342294, 0.02624977640468459, 0.7942926985249819, 0.11347038550356885, 0.9033267284183789, 0.04319936997508304, 0.04319936997508304, 0.04319936997508304, 0.04319936997508304, 0.8639873995016609, 0.07890912499142382, 0.7101821249228144, 0.07890912499142382, 0.08105984088340816, 0.5944388331449932, 0.08105984088340816, 0.027019946961136052, 0.18913962872795237, 0.027019946961136052, 0.7671317993567224, 0.8653591754376063, 0.8276550948887209, 0.11823644212696013, 0.6998418833914672, 0.8672332120752728, 0.03278538389698669, 0.016392691948493344, 0.04917807584548003, 0.8852053652186405, 0.016392691948493344, 0.6854432835638531, 0.07616036484042812, 0.22848109452128437, 0.8738685343882805, 0.07282237786569004, 0.9288151034876635, 0.7717160031180934, 0.9850734652275065, 0.5496432940815132, 0.12214295424033628, 0.3053573856008407, 0.9568515931732258, 0.9118436401864415, 0.07439112404184127, 0.8926934885020952, 0.8748169518344141, 0.7742213850328918, 0.11060305500469883, 0.84568671254524, 0.12293583277787742, 0.5532112475004485, 0.24587166555575485, 0.8312188791877856, 0.30433548936819876, 0.13042949544351376, 0.521717981774055, 0.04347649848117125, 0.7826498563152122, 0.7541075712738825, 0.8277565605241821, 0.9168583793207409, 0.8979672060140074, 0.651136924847179, 0.06048812963061225, 0.021348751634333737, 0.09962750762689077, 0.003558125272388956, 0.13876688562316927, 0.01779062636194478, 0.007116250544777912, 0.8639998710693643, 0.2390041578984425, 0.7170124736953275, 0.8786844257452711, 0.7348415896323893, 0.10497736994748419, 0.1241398577289669, 0.6206992886448345, 0.14896782927476027, 0.07448391463738013, 0.9249422222459182, 0.8979872807260063, 0.06894381792220292, 0.9192509056293723, 0.8979486865843251, 0.9154143377027473, 0.7390185255788643, 0.1055740750826949, 0.8910891857548451, 0.8863061106725495, 0.3238398976150723, 0.12953595904602894, 0.0971519692845217, 0.42099186689959406, 0.5416280572894066, 0.06018089525437851, 0.06018089525437851, 0.1805426857631355, 0.1805426857631355, 0.9033931254787683, 0.44165651323752997, 0.088331302647506, 0.132496953971259, 0.264993907942518, 0.044165651323753, 0.8343259322095665, 0.634225721557694, 0.0960948062966203, 0.10570428692628234, 0.10570428692628234, 0.038437922518648124, 0.019218961259324062, 0.9856118581255515, 0.09219094686784782, 0.8297185218106304, 0.09219094686784782, 0.07995913273817537, 0.07995913273817537, 0.7995913273817538, 0.8984588826100025, 0.9009895654108017, 0.9821941162682062, 0.17335380981169102, 0.8089844457878914, 0.6807945238725632, 0.11346575397876055, 0.03782191799292018, 0.01891095899646009, 0.03782191799292018, 0.11346575397876055, 0.01891095899646009, 0.7381160825934774, 0.8855431260783008, 0.8719816499938099, 0.8694472792069755, 0.8956375245504268, 0.7826088891846041, 0.8918163488922662, 0.8707737276788425, 0.6998626799541842, 0.019869800372532886, 0.1117676270954975, 0.39739600745065773, 0.16392585307339633, 0.10928390204893088, 0.08196292653669816, 0.029804700558799333, 0.08693037662983139, 0.07727211263122995, 0.04636326757873797, 0.4481782532611337, 0.4018149856823957, 0.933162643627178, 0.10250380034758705, 0.08541983362298922, 0.017083966724597843, 0.7175266024331094, 0.017083966724597843, 0.017083966724597843, 0.06833586689839137, 0.7452636690268603, 0.7826635570276103, 0.9238709107692843, 0.157958328717495, 0.157958328717495, 0.5528541505112324, 0.7903692476793348, 0.19998963208999246, 0.019998963208999247, 0.09999481604499623, 0.15999170567199397, 0.10999429764949585, 0.3799803009709857, 0.029998444813498868, 0.9190631010611782, 0.829090652765685, 0.8457913708740389, 0.8245461605955773, 0.05978972176249794, 0.8968458264374691, 0.100946887524901, 0.807575100199208, 0.13895404447555446, 0.06947702223777723, 0.2084310667133317, 0.06947702223777723, 0.48633915566444064, 0.7611062883844109, 0.048783248680956015, 0.09756649736191203, 0.7317487302143402, 0.09756649736191203, 0.023519375651930127, 0.8466975234694846, 0.0940775026077205, 0.12929719734712108, 0.04309906578237369, 0.04309906578237369, 0.04309906578237369, 0.7326841183003527, 0.8553701384733309, 0.6947548348743707, 0.8333368380263618, 0.9029319568946041, 0.915444687502562, 0.8863307327522317, 0.8633034091205636, 0.9021202168520401, 0.06014134779013601, 0.10798033171868353, 0.8098524878901265, 0.8200471209766603, 0.7202108126599064, 0.14325765233729273, 0.7162882616864636, 0.0564544111475367, 0.2822720557376835, 0.564544111475367, 0.1129088222950734, 0.8126867709177319, 0.0812686770917732, 0.8911255215388946, 0.871571380789498, 0.7984915148450639, 0.8684076181105349, 0.026746553899084934, 0.2942120928899343, 0.5616776318807837, 0.05349310779816987, 0.08023966169725481, 0.03886153058572577, 0.9326767340574186, 0.7453762680526415, 0.9585675251824034, 0.6541391471037482, 0.11543632007713203, 0.15391509343617604, 0.043275332272196945, 0.12982599681659085, 0.7789559808995451, 0.043275332272196945, 0.9327634738305502, 0.8309781961089656, 0.8521161876571393, 0.8413789414635183, 0.8246380232025962, 0.16492760464051923, 0.8898375496994331, 0.011081495343184509, 0.31028186960916626, 0.09973345808866059, 0.2437928975500592, 0.33244486029553527, 0.9014376333253954, 0.899663023032078, 0.7640955065379635, 0.13892645573417517, 0.8097842670691314, 0.11568346672416163, 0.10839392581503036, 0.021678785163006073, 0.021678785163006073, 0.4118969180971154, 0.45525448842312755, 0.7687673914053225, 0.9653413503457892, 0.8107759298045738, 0.7897096314075396, 0.14358356934682537, 0.44991986057013733, 0.3681162495573851, 0.16360722202550448, 0.7945418121127313, 0.8633783613480669, 0.051337514993171324, 0.8727377548839126, 0.2883998951666369, 0.04806664919443948, 0.04806664919443948, 0.19226659677775793, 0.38453319355551585, 0.16127596978241246, 0.4300692527530999, 0.053758656594137484, 0.3225519395648249, 0.08055279665256634, 0.8860807631782298, 0.8984723686134671], \"Term\": [\"alarm_clock\", \"animal\", \"apple\", \"apples_design\", \"art\", \"art\", \"assort\", \"assort\", \"assort\", \"assort\", \"assort\", \"assort\", \"assort\", \"asst\", \"bag\", \"bag\", \"bag\", \"bag\", \"bag\", \"bag\", \"bag\", \"ball\", \"balloon\", \"bank\", \"baroque_butterfly\", \"bathroom_scale\", \"bauble\", \"bauble\", \"bead\", \"bead\", \"bead\", \"bead\", \"beaded_crystal\", \"beaker\", \"bell\", \"bell\", \"bell\", \"bell_jar\", \"big\", \"bird\", \"bird\", \"bird\", \"bird\", \"birthday\", \"biscuit\", \"biscuit\", \"black\", \"black\", \"black\", \"black\", \"black\", \"black\", \"black\", \"black\", \"blue\", \"blue\", \"blue\", \"blue\", \"blue\", \"blue\", \"blue\", \"blue\", \"blue_felt\", \"blue_polkadot\", \"bottle\", \"bottle\", \"bottle\", \"bottle\", \"bowl\", \"bowl\", \"bowl\", \"bowl\", \"bowl\", \"box\", \"box\", \"box\", \"box\", \"box\", \"box\", \"box\", \"brush\", \"bucket\", \"bunny\", \"bunny\", \"bunt\", \"bunting\", \"butterfly\", \"butterfly\", \"butterfly\", \"butterfly\", \"butterfly\", \"cafe\", \"cake\", \"cake\", \"cake\", \"cake\", \"cake_case\", \"cake_case\", \"cake_case\", \"cake_tin\", \"calendar\", \"campagne\", \"candle\", \"candle\", \"candle\", \"candle\", \"candle\", \"candle\", \"candle\", \"candle\", \"card\", \"card\", \"card\", \"card\", \"card_hold\", \"carry\", \"cat_bowl\", \"ceramic\", \"chain\", \"chain\", \"chair\", \"charm\", \"charm\", \"charm\", \"check\", \"chest\", \"chick\", \"chick\", \"chicken\", \"child\", \"chocolate\", \"chocolate\", \"chocolate\", \"chocolate\", \"christmas_light\", \"classic\", \"classic\", \"clear\", \"clear\", \"clear\", \"clock\", \"clock\", \"coaster\", \"coaster\", \"coaster\", \"coaster\", \"coaster\", \"cocktail\", \"collar\", \"colour\", \"colour\", \"colour\", \"container\", \"cottage\", \"cover\", \"cover\", \"cover\", \"cover\", \"cover\", \"crate\", \"cream\", \"crystal\", \"crystal\", \"crystal\", \"cubic_mug\", \"cup\", \"cup\", \"cup\", \"cup_saucer\", \"curtain\", \"cushion_cover\", \"cushion_cover\", \"cushion_cover\", \"cut\", \"cute\", \"cutlery\", \"cutlery\", \"cutlery\", \"cutlery_set\", \"cutlery_set\", \"daisy\", \"daisy\", \"day\", \"day\", \"decoration\", \"decoration\", \"decoration\", \"decoration\", \"decoration\", \"decoration\", \"design\", \"design\", \"design\", \"design\", \"design\", \"design\", \"diamante_necklace\", \"dinner\", \"dish\", \"dish\", \"dish_blue\", \"dog_bowl\", \"doll\", \"dolly_girl\", \"dolly_girl\", \"dolly_girl\", \"doormat\", \"doormat\", \"doormat\", \"dotcom\", \"double\", \"drawer\", \"drawer\", \"drawer\", \"drawer\", \"drawer_knob\", \"dress\", \"dress\", \"earring\", \"earring\", \"earring\", \"easter\", \"easter_decoration\", \"easter_egg\", \"easter_tin\", \"edwardian\", \"egg\", \"egg\", \"egg\", \"egg_cup\", \"egg_cup\", \"egg_frye\", \"embossed_heart\", \"family\", \"fire_polishe\", \"flag\", \"flag\", \"flower\", \"flower\", \"flower\", \"flower\", \"flower\", \"flower\", \"flower\", \"flower_fairy\", \"folding_umbrella\", \"font\", \"frame\", \"frame\", \"frame\", \"french\", \"french_blue\", \"french_blue\", \"french_style\", \"frying_pan\", \"game\", \"game\", \"garden\", \"garden\", \"gardeners_kneele\", \"garland\", \"garland\", \"garland\", \"giant\", \"gift_bag\", \"gift_tag\", \"gift_wrap\", \"girl\", \"girl\", \"girl\", \"glass\", \"glass\", \"glass\", \"glass\", \"glass\", \"glass\", \"glass\", \"glass_light\", \"glove\", \"glove\", \"gold\", \"gold\", \"gold\", \"gold\", \"gold\", \"gold_orbit\", \"green\", \"green\", \"green\", \"green\", \"green\", \"green\", \"grip_pack\", \"handbag\", \"hang\", \"hang\", \"hang\", \"hang\", \"hanging\", \"hanging\", \"hanging_chick\", \"hanging_chick\", \"hanging_heart\", \"hanging_heart\", \"hanging_metal\", \"hanging_metal\", \"happy\", \"heart\", \"heart\", \"heart\", \"heart\", \"heart\", \"heart\", \"heart\", \"heart_decoration\", \"heart_decoration\", \"heart_decoration\", \"heart_decoration\", \"heart_light\", \"hen_house\", \"herb\", \"holder\", \"holder\", \"holder\", \"holder\", \"holder\", \"holly\", \"home\", \"home\", \"home_sweet\", \"home_sweet\", \"hook\", \"hook\", \"hook\", \"hook\", \"hot\", \"hot_water\", \"ice_cream\", \"ivory\", \"ivory\", \"jack\", \"jack\", \"jack\", \"jack\", \"jar\", \"jar\", \"jar_light\", \"jardin_etched\", \"jewellery_stand\", \"jingle_bell\", \"jug\", \"jug\", \"key\", \"key_re\", \"kit\", \"kit\", \"kit\", \"kit\", \"kit\", \"kitchen\", \"lamp\", \"lamp\", \"lampshade\", \"lantern\", \"lantern\", \"large\", \"large\", \"large\", \"large\", \"large\", \"large\", \"large\", \"large_milk\", \"lead\", \"leaf\", \"leave\", \"letter_ble\", \"lid\", \"light\", \"light\", \"light\", \"light\", \"light\", \"light\", \"light_holder\", \"light_holder\", \"light_holder\", \"liner\", \"list\", \"little\", \"love_heart\", \"luggage_tag\", \"luggage_tag\", \"magic_toadstool\", \"magnet\", \"mat\", \"medium\", \"medium\", \"metal\", \"metal\", \"metal\", \"metal\", \"metal_door\", \"metal_door\", \"milk\", \"milk_pan\", \"mini\", \"mini\", \"mini\", \"mini\", \"mini_case\", \"mint\", \"mirror\", \"mirror\", \"mirror\", \"mirror\", \"mirror\", \"mirrored_wall\", \"mirrored_wall\", \"monkey\", \"mug\", \"mug\", \"mug\", \"mug\", \"mug\", \"napkin\", \"napkin\", \"napkin\", \"necklace\", \"necklace\", \"necklace\", \"necklace\", \"necklace\", \"necklace\", \"necklace_tassel\", \"oil_burner\", \"oval\", \"oval\", \"oven_glove\", \"owl\", \"pack\", \"pack\", \"pack\", \"pack\", \"pack\", \"pad\", \"pad\", \"pad\", \"paint\", \"paint\", \"pair\", \"pannetone\", \"pantry\", \"paper\", \"paper\", \"paper\", \"paper_lantern\", \"party\", \"party_pizza\", \"party_pizza\", \"pattern\", \"pc\", \"pc\", \"pear\", \"pen\", \"pen\", \"pen\", \"pencil_case\", \"photo_frame\", \"photo_frame\", \"photo_frame\", \"photo_frame\", \"photoframe\", \"picture\", \"picture_frame\", \"piece\", \"pin_cushion\", \"pink\", \"pink\", \"pink\", \"pink\", \"pink\", \"pink\", \"pink\", \"pink\", \"pink_butterfly\", \"pink_union\", \"pink_union\", \"pink_yellow\", \"placemat\", \"placemat\", \"plate\", \"plate\", \"plate\", \"plate\", \"playing_card\", \"point\", \"polkadot\", \"polkadot\", \"poppy\", \"post\", \"pot\", \"pot\", \"pretty\", \"pudding\", \"purple\", \"purple\", \"purple\", \"purple\", \"purse\", \"purse\", \"purse\", \"purse\", \"purse\", \"quilt\", \"rabbit\", \"rabbit\", \"rabbit\", \"rabbit\", \"rabbit\", \"rack\", \"red\", \"red\", \"red\", \"red\", \"red\", \"red\", \"red_retrospot\", \"red_spot\", \"red_spot\", \"red_spot\", \"reindeer\", \"reindeer\", \"reindeer\", \"rest\", \"retro\", \"retrospot\", \"ribbon_reel\", \"ribbon_reel\", \"rise\", \"rise\", \"rise\", \"rise\", \"rise\", \"rise\", \"rise\", \"rope\", \"round_cake\", \"rustic\", \"salt\", \"santa\", \"scandinavian_heart\", \"school\", \"scissor\", \"scottie_dog\", \"set\", \"set\", \"set\", \"set\", \"set\", \"set\", \"set\", \"set\", \"sign\", \"sign\", \"sign\", \"sign\", \"silk_purse\", \"silver\", \"silver\", \"silver\", \"silver\", \"silver\", \"silver\", \"silver\", \"silver_orbit\", \"single\", \"sketchbook\", \"skull\", \"skull\", \"skull\", \"slide\", \"small\", \"small\", \"small\", \"small\", \"small\", \"small\", \"small\", \"small_tube\", \"snowflake\", \"soap_dish\", \"sock_puppet\", \"spaceboy\", \"spaceboy\", \"spoon\", \"spoon\", \"spot\", \"spot\", \"spot\", \"spot\", \"spot\", \"stacking_tin\", \"stand\", \"stand\", \"stand\", \"stand\", \"star\", \"star\", \"star\", \"sticker\", \"sticker\", \"sticker\", \"sticker\", \"sticker\", \"stool\", \"storage\", \"straw\", \"sucker\", \"suki_design\", \"sweet\", \"sweet_home\", \"sweetheart\", \"sweetheart\", \"table\", \"table\", \"tablecloth\", \"tall\", \"tape\", \"tape\", \"tea\", \"tea\", \"tea\", \"tea\", \"tea_towel\", \"tea_towel\", \"teacup\", \"teapot\", \"tidy\", \"tier\", \"tin\", \"tin\", \"tin\", \"tin\", \"tin\", \"tissue\", \"tissue\", \"towel_chocolate\", \"traditional\", \"tray\", \"tray\", \"tray\", \"tree\", \"tree\", \"tree\", \"tree\", \"triple\", \"tube\", \"turq\", \"turquoise\", \"union_jack\", \"union_jack\", \"vegetable\", \"vintage\", \"vintage\", \"vintage\", \"vintage\", \"vintage\", \"vintage_cream\", \"vintage_spot\", \"wall_clock\", \"wall_clock\", \"washing\", \"washing\", \"white\", \"white\", \"white\", \"white\", \"white\", \"white_chocolate\", \"wicker\", \"windmill\", \"wood\", \"wood\", \"wooden\", \"wooden\", \"wooden\", \"woodland\", \"world\", \"wrap\", \"wrap\", \"yellow\", \"yellow\", \"yellow\", \"yellow\", \"yellow\", \"zinc\", \"zinc\", \"zinc\", \"zinc\", \"zinc_heart\", \"zinc_heart\", \"zinc_light\"]}, \"R\": 30, \"lambda.step\": 0.01, \"plot.opts\": {\"xlab\": \"PC1\", \"ylab\": \"PC2\"}, \"topic.order\": [7, 4, 5, 1, 6, 8, 2, 3]};\n",
       "\n",
       "function LDAvis_load_lib(url, callback){\n",
       "  var s = document.createElement('script');\n",
       "  s.src = url;\n",
       "  s.async = true;\n",
       "  s.onreadystatechange = s.onload = callback;\n",
       "  s.onerror = function(){console.warn(\"failed to load library \" + url);};\n",
       "  document.getElementsByTagName(\"head\")[0].appendChild(s);\n",
       "}\n",
       "\n",
       "if(typeof(LDAvis) !== \"undefined\"){\n",
       "   // already loaded: just create the visualization\n",
       "   !function(LDAvis){\n",
       "       new LDAvis(\"#\" + \"ldavis_el3010831440995161922478392223\", ldavis_el3010831440995161922478392223_data);\n",
       "   }(LDAvis);\n",
       "}else if(typeof define === \"function\" && define.amd){\n",
       "   // require.js is available: use it to load d3/LDAvis\n",
       "   require.config({paths: {d3: \"https://d3js.org/d3.v5\"}});\n",
       "   require([\"d3\"], function(d3){\n",
       "      window.d3 = d3;\n",
       "      LDAvis_load_lib(\"https://cdn.jsdelivr.net/gh/bmabey/pyLDAvis@3.4.0/pyLDAvis/js/ldavis.v3.0.0.js\", function(){\n",
       "        new LDAvis(\"#\" + \"ldavis_el3010831440995161922478392223\", ldavis_el3010831440995161922478392223_data);\n",
       "      });\n",
       "    });\n",
       "}else{\n",
       "    // require.js not available: dynamically load d3 & LDAvis\n",
       "    LDAvis_load_lib(\"https://d3js.org/d3.v5.js\", function(){\n",
       "         LDAvis_load_lib(\"https://cdn.jsdelivr.net/gh/bmabey/pyLDAvis@3.4.0/pyLDAvis/js/ldavis.v3.0.0.js\", function(){\n",
       "                 new LDAvis(\"#\" + \"ldavis_el3010831440995161922478392223\", ldavis_el3010831440995161922478392223_data);\n",
       "            })\n",
       "         });\n",
       "}\n",
       "</script>"
      ],
      "text/plain": [
       "PreparedData(topic_coordinates=              x         y  topics  cluster       Freq\n",
       "topic                                                \n",
       "6      0.004103  0.045965       1        1  14.593491\n",
       "3     -0.128648 -0.039687       2        1  13.346142\n",
       "4      0.025219 -0.135309       3        1  12.835859\n",
       "0     -0.016137  0.060517       4        1  12.796220\n",
       "5      0.147439  0.147959       5        1  12.284583\n",
       "7     -0.142153  0.096775       6        1  12.182237\n",
       "1      0.142778 -0.083866       7        1  12.123952\n",
       "2     -0.032602 -0.092355       8        1   9.837515, topic_info=               Term        Freq       Total Category  logprob  loglift\n",
       "3              pink  281.000000  281.000000  Default  30.0000  30.0000\n",
       "1236      retrospot   70.000000   70.000000  Default  29.0000  29.0000\n",
       "41              set  402.000000  402.000000  Default  28.0000  28.0000\n",
       "61       decoration   72.000000   72.000000  Default  27.0000  27.0000\n",
       "504   red_retrospot   53.000000   53.000000  Default  26.0000  26.0000\n",
       "...             ...         ...         ...      ...      ...      ...\n",
       "2295     metal_door    9.346764   22.455511   Topic8  -4.8077   1.4425\n",
       "41              set   35.241147  402.621056   Topic8  -3.4805  -0.1168\n",
       "234          candle   11.609522   83.620371   Topic8  -4.5909   0.3445\n",
       "29            heart   10.531499  160.839784   Topic8  -4.6883  -0.4071\n",
       "10           design    6.531767   83.586781   Topic8  -5.1660  -0.2302\n",
       "\n",
       "[420 rows x 6 columns], token_table=      Topic      Freq           Term\n",
       "term                                \n",
       "1464      3  0.694783    alarm_clock\n",
       "630       2  0.930220         animal\n",
       "629       5  0.907312          apple\n",
       "399       4  0.940166  apples_design\n",
       "335       1  0.793000            art\n",
       "...     ...       ...            ...\n",
       "379       3  0.053759           zinc\n",
       "379       6  0.322552           zinc\n",
       "1332      3  0.080553     zinc_heart\n",
       "1332      8  0.886081     zinc_heart\n",
       "827       2  0.898472     zinc_light\n",
       "\n",
       "[703 rows x 3 columns], R=30, lambda_step=0.01, plot_opts={'xlab': 'PC1', 'ylab': 'PC2'}, topic_order=[7, 4, 5, 1, 6, 8, 2, 3])"
      ]
     },
     "execution_count": 194,
     "metadata": {},
     "output_type": "execute_result"
    }
   ],
   "source": [
    "# Visualize the topics in the optimal lda model\n",
    "pyLDAvis.enable_notebook()\n",
    "vis = pyLDAvis.gensim.prepare(optimal_model, corpus, id2word\n",
    ")\n",
    "vis"
   ]
  },
  {
   "cell_type": "markdown",
   "metadata": {},
   "source": [
    "<u>Find the dominant in each sentence</u>  \n",
    "\n",
    "Now, we need to determine what topic a given document is about. To do this, we find the topic number that has the highest percentage contribution in that document. The `format_topics_sentences()` function nicely aggregates this information in a presentable table."
   ]
  },
  {
   "cell_type": "code",
   "execution_count": 195,
   "metadata": {},
   "outputs": [
    {
     "data": {
      "text/html": [
       "<div>\n",
       "<style scoped>\n",
       "    .dataframe tbody tr th:only-of-type {\n",
       "        vertical-align: middle;\n",
       "    }\n",
       "\n",
       "    .dataframe tbody tr th {\n",
       "        vertical-align: top;\n",
       "    }\n",
       "\n",
       "    .dataframe thead th {\n",
       "        text-align: right;\n",
       "    }\n",
       "</style>\n",
       "<table border=\"1\" class=\"dataframe\">\n",
       "  <thead>\n",
       "    <tr style=\"text-align: right;\">\n",
       "      <th></th>\n",
       "      <th>Document_No</th>\n",
       "      <th>Dominant_Topic</th>\n",
       "      <th>Topic_Perc_Contrib</th>\n",
       "      <th>Keywords</th>\n",
       "      <th>Text</th>\n",
       "    </tr>\n",
       "  </thead>\n",
       "  <tbody>\n",
       "    <tr>\n",
       "      <th>0</th>\n",
       "      <td>0</td>\n",
       "      <td>3</td>\n",
       "      <td>0.3891</td>\n",
       "      <td>heart, design, green, set, holder, dolly_girl,...</td>\n",
       "      <td>15CM CHRISTMAS GLASS BALL 20 LIGHTS</td>\n",
       "    </tr>\n",
       "    <tr>\n",
       "      <th>1</th>\n",
       "      <td>1</td>\n",
       "      <td>6</td>\n",
       "      <td>0.7081</td>\n",
       "      <td>pink, red, heart, rise, box, large, mirror, bl...</td>\n",
       "      <td>PINK CHERRY LIGHTS</td>\n",
       "    </tr>\n",
       "    <tr>\n",
       "      <th>2</th>\n",
       "      <td>2</td>\n",
       "      <td>0</td>\n",
       "      <td>0.7082</td>\n",
       "      <td>set, flower, card, silver, cream, pink, cerami...</td>\n",
       "      <td>WHITE CHERRY LIGHTS</td>\n",
       "    </tr>\n",
       "    <tr>\n",
       "      <th>3</th>\n",
       "      <td>3</td>\n",
       "      <td>7</td>\n",
       "      <td>0.7083</td>\n",
       "      <td>retrospot, decoration, red_retrospot, pink, se...</td>\n",
       "      <td>RECORD FRAME 7\" SINGLE SIZE</td>\n",
       "    </tr>\n",
       "    <tr>\n",
       "      <th>4</th>\n",
       "      <td>4</td>\n",
       "      <td>0</td>\n",
       "      <td>0.1250</td>\n",
       "      <td>set, flower, card, silver, cream, pink, cerami...</td>\n",
       "      <td>STRAWBERRY CERAMIC TRINKET BOX</td>\n",
       "    </tr>\n",
       "    <tr>\n",
       "      <th>5</th>\n",
       "      <td>5</td>\n",
       "      <td>6</td>\n",
       "      <td>0.5624</td>\n",
       "      <td>pink, red, heart, rise, box, large, mirror, bl...</td>\n",
       "      <td>PINK DOUGHNUT TRINKET POT</td>\n",
       "    </tr>\n",
       "    <tr>\n",
       "      <th>6</th>\n",
       "      <td>6</td>\n",
       "      <td>2</td>\n",
       "      <td>0.7083</td>\n",
       "      <td>set, sign, home, light, mug, light_holder, fre...</td>\n",
       "      <td>SAVE THE PLANET MUG</td>\n",
       "    </tr>\n",
       "    <tr>\n",
       "      <th>7</th>\n",
       "      <td>7</td>\n",
       "      <td>0</td>\n",
       "      <td>0.1250</td>\n",
       "      <td>set, flower, card, silver, cream, pink, cerami...</td>\n",
       "      <td>FANCY FONT HOME SWEET HOME DOORMAT</td>\n",
       "    </tr>\n",
       "    <tr>\n",
       "      <th>8</th>\n",
       "      <td>8</td>\n",
       "      <td>4</td>\n",
       "      <td>0.5625</td>\n",
       "      <td>set, garden, plate, necklace, tin, light, egg,...</td>\n",
       "      <td>CAT BOWL</td>\n",
       "    </tr>\n",
       "    <tr>\n",
       "      <th>9</th>\n",
       "      <td>9</td>\n",
       "      <td>4</td>\n",
       "      <td>0.7080</td>\n",
       "      <td>set, garden, plate, necklace, tin, light, egg,...</td>\n",
       "      <td>DOG BOWL , CHASING BALL DESIGN</td>\n",
       "    </tr>\n",
       "  </tbody>\n",
       "</table>\n",
       "</div>"
      ],
      "text/plain": [
       "   Document_No  Dominant_Topic  Topic_Perc_Contrib  \\\n",
       "0            0               3              0.3891   \n",
       "1            1               6              0.7081   \n",
       "2            2               0              0.7082   \n",
       "3            3               7              0.7083   \n",
       "4            4               0              0.1250   \n",
       "5            5               6              0.5624   \n",
       "6            6               2              0.7083   \n",
       "7            7               0              0.1250   \n",
       "8            8               4              0.5625   \n",
       "9            9               4              0.7080   \n",
       "\n",
       "                                            Keywords  \\\n",
       "0  heart, design, green, set, holder, dolly_girl,...   \n",
       "1  pink, red, heart, rise, box, large, mirror, bl...   \n",
       "2  set, flower, card, silver, cream, pink, cerami...   \n",
       "3  retrospot, decoration, red_retrospot, pink, se...   \n",
       "4  set, flower, card, silver, cream, pink, cerami...   \n",
       "5  pink, red, heart, rise, box, large, mirror, bl...   \n",
       "6  set, sign, home, light, mug, light_holder, fre...   \n",
       "7  set, flower, card, silver, cream, pink, cerami...   \n",
       "8  set, garden, plate, necklace, tin, light, egg,...   \n",
       "9  set, garden, plate, necklace, tin, light, egg,...   \n",
       "\n",
       "                                  Text  \n",
       "0  15CM CHRISTMAS GLASS BALL 20 LIGHTS  \n",
       "1                   PINK CHERRY LIGHTS  \n",
       "2                  WHITE CHERRY LIGHTS  \n",
       "3         RECORD FRAME 7\" SINGLE SIZE   \n",
       "4       STRAWBERRY CERAMIC TRINKET BOX  \n",
       "5           PINK DOUGHNUT TRINKET POT   \n",
       "6                  SAVE THE PLANET MUG  \n",
       "7   FANCY FONT HOME SWEET HOME DOORMAT  \n",
       "8                            CAT BOWL   \n",
       "9       DOG BOWL , CHASING BALL DESIGN  "
      ]
     },
     "execution_count": 195,
     "metadata": {},
     "output_type": "execute_result"
    }
   ],
   "source": [
    "df_topic_sents_keywords = format_topics_sentences(ldamodel=optimal_model, corpus=corpus, texts=unique_docs)\n",
    "\n",
    "# Format\n",
    "df_dominant_topic = df_topic_sents_keywords.reset_index()\n",
    "df_dominant_topic.columns = ['Document_No', 'Dominant_Topic', 'Topic_Perc_Contrib', 'Keywords', 'Text']\n",
    "\n",
    "# Show\n",
    "df_dominant_topic.head(10)"
   ]
  },
  {
   "cell_type": "markdown",
   "metadata": {},
   "source": [
    "This on its own is still pretty difficult to interpret (topic keywords may not be enough to make sense of what the topic is about) So, to help with understanding the topic, we can find the documents a given topic has contributed to the most and infer the ropic by reading that document. "
   ]
  },
  {
   "cell_type": "code",
   "execution_count": 196,
   "metadata": {},
   "outputs": [
    {
     "data": {
      "text/html": [
       "<div>\n",
       "<style scoped>\n",
       "    .dataframe tbody tr th:only-of-type {\n",
       "        vertical-align: middle;\n",
       "    }\n",
       "\n",
       "    .dataframe tbody tr th {\n",
       "        vertical-align: top;\n",
       "    }\n",
       "\n",
       "    .dataframe thead th {\n",
       "        text-align: right;\n",
       "    }\n",
       "</style>\n",
       "<table border=\"1\" class=\"dataframe\">\n",
       "  <thead>\n",
       "    <tr style=\"text-align: right;\">\n",
       "      <th></th>\n",
       "      <th>Topic_Num</th>\n",
       "      <th>Topic_Perc_Contrib</th>\n",
       "      <th>Keywords</th>\n",
       "      <th>Text</th>\n",
       "    </tr>\n",
       "  </thead>\n",
       "  <tbody>\n",
       "    <tr>\n",
       "      <th>0</th>\n",
       "      <td>0</td>\n",
       "      <td>0.8541</td>\n",
       "      <td>set, flower, card, silver, cream, pink, cerami...</td>\n",
       "      <td>PURPLE TINT ACRYLIC FLOWER VASE</td>\n",
       "    </tr>\n",
       "    <tr>\n",
       "      <th>1</th>\n",
       "      <td>1</td>\n",
       "      <td>0.8541</td>\n",
       "      <td>blue, large, small, star, bottle, pantry, ivor...</td>\n",
       "      <td>SMALL FOLDING SCISSOR(POINTED EDGE)</td>\n",
       "    </tr>\n",
       "    <tr>\n",
       "      <th>2</th>\n",
       "      <td>2</td>\n",
       "      <td>0.8541</td>\n",
       "      <td>set, sign, home, light, mug, light_holder, fre...</td>\n",
       "      <td>MAGIC SHEEP WOOL GROWING FROM PAPER</td>\n",
       "    </tr>\n",
       "    <tr>\n",
       "      <th>3</th>\n",
       "      <td>3</td>\n",
       "      <td>0.8541</td>\n",
       "      <td>heart, design, green, set, holder, dolly_girl,...</td>\n",
       "      <td>CLASSIC METAL BIRDCAGE PLANT HOLDER</td>\n",
       "    </tr>\n",
       "    <tr>\n",
       "      <th>4</th>\n",
       "      <td>4</td>\n",
       "      <td>0.8540</td>\n",
       "      <td>set, garden, plate, necklace, tin, light, egg,...</td>\n",
       "      <td>SET 6 SCHOOL MILK BOTTLES IN CRATE</td>\n",
       "    </tr>\n",
       "    <tr>\n",
       "      <th>5</th>\n",
       "      <td>5</td>\n",
       "      <td>0.8540</td>\n",
       "      <td>pack, set, polkadot, drawer_knob, hook, candle...</td>\n",
       "      <td>BASKET/8 SCENTED LOVE TOKEN CANDLES</td>\n",
       "    </tr>\n",
       "    <tr>\n",
       "      <th>6</th>\n",
       "      <td>6</td>\n",
       "      <td>0.8540</td>\n",
       "      <td>pink, red, heart, rise, box, large, mirror, bl...</td>\n",
       "      <td>PINK/BLUE DISC/MIRROR STRING</td>\n",
       "    </tr>\n",
       "    <tr>\n",
       "      <th>7</th>\n",
       "      <td>7</td>\n",
       "      <td>0.8250</td>\n",
       "      <td>retrospot, decoration, red_retrospot, pink, se...</td>\n",
       "      <td>FRIDGE MAGNETS LES ENFANTS ASSORTED</td>\n",
       "    </tr>\n",
       "  </tbody>\n",
       "</table>\n",
       "</div>"
      ],
      "text/plain": [
       "   Topic_Num  Topic_Perc_Contrib  \\\n",
       "0          0              0.8541   \n",
       "1          1              0.8541   \n",
       "2          2              0.8541   \n",
       "3          3              0.8541   \n",
       "4          4              0.8540   \n",
       "5          5              0.8540   \n",
       "6          6              0.8540   \n",
       "7          7              0.8250   \n",
       "\n",
       "                                            Keywords  \\\n",
       "0  set, flower, card, silver, cream, pink, cerami...   \n",
       "1  blue, large, small, star, bottle, pantry, ivor...   \n",
       "2  set, sign, home, light, mug, light_holder, fre...   \n",
       "3  heart, design, green, set, holder, dolly_girl,...   \n",
       "4  set, garden, plate, necklace, tin, light, egg,...   \n",
       "5  pack, set, polkadot, drawer_knob, hook, candle...   \n",
       "6  pink, red, heart, rise, box, large, mirror, bl...   \n",
       "7  retrospot, decoration, red_retrospot, pink, se...   \n",
       "\n",
       "                                  Text  \n",
       "0      PURPLE TINT ACRYLIC FLOWER VASE  \n",
       "1  SMALL FOLDING SCISSOR(POINTED EDGE)  \n",
       "2  MAGIC SHEEP WOOL GROWING FROM PAPER  \n",
       "3  CLASSIC METAL BIRDCAGE PLANT HOLDER  \n",
       "4   SET 6 SCHOOL MILK BOTTLES IN CRATE  \n",
       "5  BASKET/8 SCENTED LOVE TOKEN CANDLES  \n",
       "6         PINK/BLUE DISC/MIRROR STRING  \n",
       "7  FRIDGE MAGNETS LES ENFANTS ASSORTED  "
      ]
     },
     "execution_count": 196,
     "metadata": {},
     "output_type": "execute_result"
    }
   ],
   "source": [
    "# Group the top 5 sentences under each topic\n",
    "sent_topics_sorted = pd.DataFrame()\n",
    "\n",
    "sent_topics_grouped = df_topic_sents_keywords.groupby('Dominant_Topic')\n",
    "\n",
    "for i, grp in sent_topics_grouped:\n",
    "    sent_topics_sorted = pd.concat([sent_topics_sorted, grp.sort_values(['Perc_Contribution'], ascending=[0]).head(1)],\n",
    "                                   axis=0)\n",
    "    \n",
    "# Reset Index \n",
    "sent_topics_sorted.reset_index(drop=True, inplace=True)\n",
    "\n",
    "# Format\n",
    "sent_topics_sorted.columns = ['Topic_Num', 'Topic_Perc_Contrib', 'Keywords', 'Text']\n",
    "\n",
    "# Show\n",
    "sent_topics_sorted"
   ]
  },
  {
   "cell_type": "code",
   "execution_count": 197,
   "metadata": {},
   "outputs": [
    {
     "name": "stdout",
     "output_type": "stream",
     "text": [
      "0 set, flower, card, silver, cream, pink, ceramic, paper_lantern, jar, blue_polkadot\n",
      "---\n",
      "1 blue, large, small, star, bottle, pantry, ivory, frame, hot_water, light\n",
      "---\n",
      "2 set, sign, home, light, mug, light_holder, french, sticker, colour, kit\n",
      "---\n",
      "3 heart, design, green, set, holder, dolly_girl, metal, vintage, gold, earring\n",
      "---\n",
      "4 set, garden, plate, necklace, tin, light, egg, cushion_cover, candle, mini\n",
      "---\n",
      "5 pack, set, polkadot, drawer_knob, hook, candle, cake_case, tissue, vintage, key_re\n",
      "---\n",
      "6 pink, red, heart, rise, box, large, mirror, blue, black, beaker\n",
      "---\n",
      "7 retrospot, decoration, red_retrospot, pink, set, vintage, sign, white, assort, bowl\n",
      "---\n"
     ]
    }
   ],
   "source": [
    "for idx, kw in enumerate(sent_topics_sorted.Keywords):\n",
    "    print(idx, kw)\n",
    "    print('---')"
   ]
  },
  {
   "cell_type": "markdown",
   "metadata": {},
   "source": [
    "<u>Rationale for Classifications</u>  \n",
    "\n",
    "<u>*Topic 0*:</u>  \n",
    "\n",
    "1. Color Palette: The presence of words like \"white,\" \"silver,\" \"cream,\" and \"pink\" suggests a focus on color, which is often associated with home decor and accessories.\n",
    "\n",
    "1. Home-related Items: Words like \"doormat,\" \"cup,\" and \"sticker\" are often associated with items found in homes.\n",
    "\n",
    "1. Garden Element: The word \"garden\" suggests a connection to outdoor or garden-related items, which can still fall under the broader category of home decor.\n",
    "\n",
    "1. Set: The term \"set\" might indicate that these items are sold together as part of a collection, common in the context of home decor.\n",
    "\n",
    "1. Heart: The word \"heart\" might be associated with decorative elements or items related to love and sentiment, fitting well with the theme of unique gifts.\n",
    "\n",
    "Given these observations, the predicted category is \"Home Decor and Accessories,\" where the company likely specializes in providing unique and stylish items for home decoration and personal use.\n",
    "\n",
    "Predicted category: **Home Decor and Accessories**  \n",
    "\n",
    "<u>*Topic 1*:</u>  \n",
    "\n",
    "1. Color Palette: The words \"red_retrospot,\" \"vintage,\" \"black,\" \"blue_polkadot,\" and \"pink\" indicate a specific color palette associated with vintage and retro aesthetics.\n",
    "\n",
    "1. Materials: The presence of \"tin\" and \"metal\" suggests items made from these materials, commonly used in crafting vintage-style decor.\n",
    "\n",
    "1. Home Decor Elements: The words \"frame,\" \"clock,\" and \"bucket\" are indicative of home decor and accessories. Frames and clocks are classic decorative items, while a \"tin seaside bucket\" aligns with vintage-themed decor.\n",
    "\n",
    "1. Sentimental Touch: The term \"sweetheart\" implies items with a sentimental or romantic touch, fitting well within the category of unique gifts.\n",
    "\n",
    "1. Representative Sentence: The sentence \"GIRLS VINTAGE TIN SEASIDE BUCKET\" contains keywords like \"vintage,\" \"tin,\" and \"seaside,\" reinforcing the association with vintage-inspired and coastal-themed decor.\n",
    "\n",
    "Predicted category: **Vintage Home Decor and Accessories**  \n",
    "\n",
    "<u>*Topic 2*:</u>  \n",
    "\n",
    "1. Crafting and Design Elements: Keywords like \"design,\" \"large,\" \"holder,\" and \"set\" suggest items related to crafting and design. The mention of \"ribbon_reel\" and \"bunny\" further emphasizes the creative and decorative nature of these items.\n",
    "\n",
    "1. Decorative Themes: Terms such as \"decoration,\" \"dolly_girl,\" \"ivory,\" and \"hanging_heart\" point towards decorative elements with a focus on aesthetics and design.\n",
    "\n",
    "1. Artistic Touch: The inclusion of \"bunny\" implies a cute or whimsical aspect, aligning with artistic and creative themes commonly found in unique gifts.\n",
    "\n",
    "1. Representative Sentence: The sentence \"SET 12 RETRO WHITE CHALK STICKS\" includes keywords like \"set,\" \"retro,\" and \"white chalk sticks,\" suggesting artistic materials or decorative craft supplies.\n",
    "\n",
    "Predicted category: **Artistic and Decorative Craft Supplies**  \n",
    "\n",
    "<u>*Topic 3*:</u>  \n",
    "\n",
    "1. Set: The term \"set\" suggests that the items are sold together as a collection or grouping. This could include multiple candles along with additional components.\n",
    "\n",
    "1. Red: The color \"red\" indicates a specific color theme for the items. This suggests that the candles or related items are predominantly red in color.\n",
    "\n",
    "1. Candle: The presence of the word \"candle\" indicates that the items are indeed related to candles. This aligns with the theme of a candle set.\n",
    "\n",
    "1. Polkadot, Ceramic, Gold: These words provide additional characteristics of the items. \"Polkadot\" suggests a pattern, \"ceramic\" indicates a possible material, and \"gold\" may be a color or accent.\n",
    "\n",
    "1. Light: The term \"light\" may emphasize that these items are associated with lighting, confirming the focus on candles.\n",
    "\n",
    "1. Tray, Mini, Beaker: These words suggest additional accessories or components that may accompany the candle set, such as a tray, mini items, or a beaker.\n",
    "\n",
    "Predicted category: **Decorative or Themed Candle Set**\n",
    "\n",
    "<u>*Topic 4*:</u>  \n",
    "\n",
    "1. Small: Indicates that the items are of a small size, possibly decorative or party-related accessories.\n",
    "\n",
    "1. Retrospot: Suggests a retro or vintage spotted pattern, which is commonly associated with party and decorative items.\n",
    "\n",
    "1. Pink, Purple: Color indicators. Pink and purple are colors often associated with festive and decorative items, especially in the context of gifts.\n",
    "\n",
    "1. Bottle: Could refer to decorative bottles, possibly containing party favors or decorative elements.\n",
    "\n",
    "1. Heart: Implies that some items in this category may have a heart shape, commonly used in decorative and gift-related items.\n",
    "\n",
    "1. Paper Lantern: A specific item mentioned that is often associated with decorative lighting for parties or events.\n",
    "\n",
    "1. Gift Bag: Indicates the presence of gift bags, commonly used for packaging small gifts and party favors.\n",
    "\n",
    "1. Drawer: While less common, the term \"drawer\" could suggest a decorative drawer or container for storing small items.\n",
    "\n",
    "1. Hot Water: Although seemingly unrelated, it might be an outlier or part of a specific product name. Alternatively, it could relate to items associated with warm beverages in a festive context.\n",
    "\n",
    "1. Assorted: The term \"assorted\" in the most representative sentence suggests a variety of items, reinforcing the idea of a collection of party and decorative items.\n",
    "\n",
    "Predicted category: **Assorted Party and Decorative Items**  \n",
    "\n",
    "<u>*Topic 5*:</u>   \n",
    "\n",
    "1. Green, Pink: Color indicators. Green and pink are often associated with artistic and vibrant home decor items.\n",
    "\n",
    "1. Necklace: Indicates the presence of a wearable accessory, possibly a decorative necklace.\n",
    "\n",
    "1. Hang, Decoration: Suggests items designed for hanging and decoration, aligning with home decor and accessory categories.\n",
    "\n",
    "1. Plate: Could refer to a decorative plate, commonly used in home decor.\n",
    "\n",
    "1. Key_Re (Key Ring): While the term is truncated, \"key_re\" likely refers to a key ring, a small decorative item often associated with home decor and accessories.\n",
    "\n",
    "1. Wrap: Implies that some items may be gift-worthy or come with decorative packaging.\n",
    "\n",
    "1. Jar: Might indicate a decorative jar, commonly used for storing small items or as a decorative element.\n",
    "\n",
    "1. Letter_Ble (Letter B): Possibly indicates a decorative item related to the letter 'B', which could be part of a personalized or alphabet-themed home decor item.\n",
    "\n",
    "1. Painted Sea Shell Metal Windchime: The most representative sentence provides additional context, suggesting a specific item in the category—painted sea shell metal windchime. Windchimes are often considered decorative and artistic elements for homes.\n",
    "\n",
    "Predicted category: **Artistic Home Decor and Accessories**  \n",
    "\n",
    "<u>*Topic 6*:</u>  \n",
    "\n",
    "1. Heart, Star: These shapes are commonly used in decorative elements for gift wrapping and presentation.\n",
    "\n",
    "1. Blue, Pink: Colors often associated with various occasions, including those for which gifts are exchanged.\n",
    "\n",
    "1. Card, Sign: Suggestive of items used for creating personalized gift cards or signs for special occasions.\n",
    "\n",
    "1. Pack, Set: Indicators of items available in packs or sets, common in gift wrapping materials.\n",
    "\n",
    "1. Drawer_Knob: While less common, decorative drawer knobs could be used in the context of gift packaging or decorative boxes.\n",
    "\n",
    "1. Pantry: May suggest items like decorative labels or tags used in gift presentation.\n",
    "\n",
    "Predicted category: **Retro-inspired Kitchen or Home Decor Gifts**\n",
    "\n",
    "<u>*Topic 7*:</u>\n",
    "\n",
    "1. Pink, Blue: Colors commonly associated with home decor and floral arrangements.\n",
    "\n",
    "1. Flower, Rose: Direct references to floral elements, indicating a focus on botanical or floral-themed items.\n",
    "\n",
    "1. Box, Cushion Cover: Suggestive of home decor items, such as decorative boxes or cushion covers with floral designs.\n",
    "\n",
    "1. Rise, Table: Implies items that could be used for tabletop decor, such as flower arrangements or art pieces.\n",
    "\n",
    "1. Classic: Suggests a timeless and sophisticated style, often associated with artistic and decorative elements in home decor.\n",
    "\n",
    "1. Home: Indicates items designed for home use or decoration.\n",
    "\n",
    "1. Paper: Could be related to art prints, floral-themed paper products, or decorative paper used in home decor.\n",
    "\n",
    "1. MEDIUM WHITE/PINK ROSE ART FLOWER: The most representative sentence aligns with the theme, describing a medium-sized artistic floral arrangement in white and pink.\n",
    "\n",
    "Predicted category: **Home Decor and Artistic Floral Arrangements**\n"
   ]
  },
  {
   "cell_type": "code",
   "execution_count": 198,
   "metadata": {},
   "outputs": [],
   "source": [
    "# Now that we have our categories, let's map them to our descriptions.\n",
    "categories = {0:'Home Decor/Accessories', 1:'Vintage Home Decor/Accessories', 2:'Artistic/Decorative Craft Supplies',\n",
    "              3:'Decorative/Themed Candle Set', 4:'Assorted Party/Decorative Items', 5:'Artistic Home Decor/Accessories',\n",
    "              6:'Retro-inspired Kitchen or Home Decor Gifts', 7:\n",
    "              'Home Decor/Artistic Floral Arrangements'}\n",
    "\n",
    "# Get the document-topic distribution\n",
    "all_topics = optimal_model.get_document_topics(corpus, minimum_probability=0.0)\n",
    "\n",
    "# Convert the distribution to a DataFrame\n",
    "all_topics_csr = gensim.matutils.corpus2csc(all_topics)\n",
    "all_topics_numpy = all_topics_csr.T.toarray()\n",
    "all_topics_df = pd.DataFrame(all_topics_numpy)\n",
    "\n",
    "\n",
    "# Display the DataFrame\n",
    "all_topics_df['descriptions'] = unique_docs\n",
    "\n",
    "# Create a new column with the maximum value and the corresponding column name\n",
    "all_topics_df['topic'] = all_topics_df.iloc[:, :-1].apply(lambda row: row.idxmax(), axis=1)\n",
    "all_topics_df['topic'] = all_topics_df['topic'].map(categories)\n",
    "\n",
    "# Create a dictioanry to map 'descriptions' to keys and 'topic' to values\n",
    "topic_to_description = all_topics_df.set_index('descriptions')['topic'].to_dict()"
   ]
  },
  {
   "cell_type": "code",
   "execution_count": 199,
   "metadata": {},
   "outputs": [
    {
     "data": {
      "text/html": [
       "<div>\n",
       "<style scoped>\n",
       "    .dataframe tbody tr th:only-of-type {\n",
       "        vertical-align: middle;\n",
       "    }\n",
       "\n",
       "    .dataframe tbody tr th {\n",
       "        vertical-align: top;\n",
       "    }\n",
       "\n",
       "    .dataframe thead th {\n",
       "        text-align: right;\n",
       "    }\n",
       "</style>\n",
       "<table border=\"1\" class=\"dataframe\">\n",
       "  <thead>\n",
       "    <tr style=\"text-align: right;\">\n",
       "      <th></th>\n",
       "      <th>0</th>\n",
       "      <th>1</th>\n",
       "      <th>2</th>\n",
       "      <th>3</th>\n",
       "      <th>4</th>\n",
       "      <th>5</th>\n",
       "      <th>6</th>\n",
       "      <th>7</th>\n",
       "      <th>descriptions</th>\n",
       "      <th>topic</th>\n",
       "    </tr>\n",
       "  </thead>\n",
       "  <tbody>\n",
       "    <tr>\n",
       "      <th>0</th>\n",
       "      <td>0.041688</td>\n",
       "      <td>0.041738</td>\n",
       "      <td>0.360755</td>\n",
       "      <td>0.389057</td>\n",
       "      <td>0.041751</td>\n",
       "      <td>0.041670</td>\n",
       "      <td>0.041672</td>\n",
       "      <td>0.041670</td>\n",
       "      <td>15CM CHRISTMAS GLASS BALL 20 LIGHTS</td>\n",
       "      <td>Decorative/Themed Candle Set</td>\n",
       "    </tr>\n",
       "    <tr>\n",
       "      <th>1</th>\n",
       "      <td>0.041792</td>\n",
       "      <td>0.041693</td>\n",
       "      <td>0.041678</td>\n",
       "      <td>0.041695</td>\n",
       "      <td>0.041678</td>\n",
       "      <td>0.041691</td>\n",
       "      <td>0.708085</td>\n",
       "      <td>0.041688</td>\n",
       "      <td>PINK CHERRY LIGHTS</td>\n",
       "      <td>Retro-inspired Kitchen or Home Decor Gifts</td>\n",
       "    </tr>\n",
       "    <tr>\n",
       "      <th>2</th>\n",
       "      <td>0.708182</td>\n",
       "      <td>0.041679</td>\n",
       "      <td>0.041672</td>\n",
       "      <td>0.041679</td>\n",
       "      <td>0.041672</td>\n",
       "      <td>0.041678</td>\n",
       "      <td>0.041703</td>\n",
       "      <td>0.041736</td>\n",
       "      <td>WHITE CHERRY LIGHTS</td>\n",
       "      <td>Home Decor/Accessories</td>\n",
       "    </tr>\n",
       "    <tr>\n",
       "      <th>3</th>\n",
       "      <td>0.041670</td>\n",
       "      <td>0.041670</td>\n",
       "      <td>0.041670</td>\n",
       "      <td>0.041671</td>\n",
       "      <td>0.041670</td>\n",
       "      <td>0.041670</td>\n",
       "      <td>0.041670</td>\n",
       "      <td>0.708312</td>\n",
       "      <td>RECORD FRAME 7\" SINGLE SIZE</td>\n",
       "      <td>Home Decor/Artistic Floral Arrangements</td>\n",
       "    </tr>\n",
       "    <tr>\n",
       "      <th>4</th>\n",
       "      <td>0.125000</td>\n",
       "      <td>0.125000</td>\n",
       "      <td>0.125000</td>\n",
       "      <td>0.125000</td>\n",
       "      <td>0.125000</td>\n",
       "      <td>0.125000</td>\n",
       "      <td>0.125000</td>\n",
       "      <td>0.125000</td>\n",
       "      <td>STRAWBERRY CERAMIC TRINKET BOX</td>\n",
       "      <td>Home Decor/Accessories</td>\n",
       "    </tr>\n",
       "  </tbody>\n",
       "</table>\n",
       "</div>"
      ],
      "text/plain": [
       "          0         1         2         3         4         5         6  \\\n",
       "0  0.041688  0.041738  0.360755  0.389057  0.041751  0.041670  0.041672   \n",
       "1  0.041792  0.041693  0.041678  0.041695  0.041678  0.041691  0.708085   \n",
       "2  0.708182  0.041679  0.041672  0.041679  0.041672  0.041678  0.041703   \n",
       "3  0.041670  0.041670  0.041670  0.041671  0.041670  0.041670  0.041670   \n",
       "4  0.125000  0.125000  0.125000  0.125000  0.125000  0.125000  0.125000   \n",
       "\n",
       "          7                         descriptions  \\\n",
       "0  0.041670  15CM CHRISTMAS GLASS BALL 20 LIGHTS   \n",
       "1  0.041688                   PINK CHERRY LIGHTS   \n",
       "2  0.041736                  WHITE CHERRY LIGHTS   \n",
       "3  0.708312         RECORD FRAME 7\" SINGLE SIZE    \n",
       "4  0.125000       STRAWBERRY CERAMIC TRINKET BOX   \n",
       "\n",
       "                                        topic  \n",
       "0                Decorative/Themed Candle Set  \n",
       "1  Retro-inspired Kitchen or Home Decor Gifts  \n",
       "2                      Home Decor/Accessories  \n",
       "3     Home Decor/Artistic Floral Arrangements  \n",
       "4                      Home Decor/Accessories  "
      ]
     },
     "execution_count": 199,
     "metadata": {},
     "output_type": "execute_result"
    }
   ],
   "source": [
    "all_topics_df.head()"
   ]
  },
  {
   "cell_type": "code",
   "execution_count": 200,
   "metadata": {},
   "outputs": [],
   "source": [
    "# Map the topics to descriptions in the main dataframe\n",
    "retail_data['topic'] = retail_data['description'].map(topic_to_description)"
   ]
  },
  {
   "cell_type": "code",
   "execution_count": 201,
   "metadata": {},
   "outputs": [
    {
     "data": {
      "text/html": [
       "<div>\n",
       "<style scoped>\n",
       "    .dataframe tbody tr th:only-of-type {\n",
       "        vertical-align: middle;\n",
       "    }\n",
       "\n",
       "    .dataframe tbody tr th {\n",
       "        vertical-align: top;\n",
       "    }\n",
       "\n",
       "    .dataframe thead th {\n",
       "        text-align: right;\n",
       "    }\n",
       "</style>\n",
       "<table border=\"1\" class=\"dataframe\">\n",
       "  <thead>\n",
       "    <tr style=\"text-align: right;\">\n",
       "      <th></th>\n",
       "      <th>invoice</th>\n",
       "      <th>stock_code</th>\n",
       "      <th>description</th>\n",
       "      <th>quantity</th>\n",
       "      <th>invoice_date</th>\n",
       "      <th>price</th>\n",
       "      <th>customer_id</th>\n",
       "      <th>country</th>\n",
       "      <th>revenue</th>\n",
       "      <th>month</th>\n",
       "      <th>topic</th>\n",
       "    </tr>\n",
       "  </thead>\n",
       "  <tbody>\n",
       "    <tr>\n",
       "      <th>0</th>\n",
       "      <td>489434</td>\n",
       "      <td>85048</td>\n",
       "      <td>15CM CHRISTMAS GLASS BALL 20 LIGHTS</td>\n",
       "      <td>medium_quantity</td>\n",
       "      <td>2009-12-01 07:45:00</td>\n",
       "      <td>high_price</td>\n",
       "      <td>13085.0</td>\n",
       "      <td>United Kingdom</td>\n",
       "      <td>83.4</td>\n",
       "      <td>December</td>\n",
       "      <td>Decorative/Themed Candle Set</td>\n",
       "    </tr>\n",
       "    <tr>\n",
       "      <th>1</th>\n",
       "      <td>489434</td>\n",
       "      <td>79323P</td>\n",
       "      <td>PINK CHERRY LIGHTS</td>\n",
       "      <td>medium_quantity</td>\n",
       "      <td>2009-12-01 07:45:00</td>\n",
       "      <td>high_price</td>\n",
       "      <td>13085.0</td>\n",
       "      <td>United Kingdom</td>\n",
       "      <td>81.0</td>\n",
       "      <td>December</td>\n",
       "      <td>Retro-inspired Kitchen or Home Decor Gifts</td>\n",
       "    </tr>\n",
       "    <tr>\n",
       "      <th>2</th>\n",
       "      <td>489434</td>\n",
       "      <td>79323W</td>\n",
       "      <td>WHITE CHERRY LIGHTS</td>\n",
       "      <td>medium_quantity</td>\n",
       "      <td>2009-12-01 07:45:00</td>\n",
       "      <td>high_price</td>\n",
       "      <td>13085.0</td>\n",
       "      <td>United Kingdom</td>\n",
       "      <td>81.0</td>\n",
       "      <td>December</td>\n",
       "      <td>Home Decor/Accessories</td>\n",
       "    </tr>\n",
       "    <tr>\n",
       "      <th>3</th>\n",
       "      <td>489434</td>\n",
       "      <td>22041</td>\n",
       "      <td>RECORD FRAME 7\" SINGLE SIZE</td>\n",
       "      <td>high_quantity</td>\n",
       "      <td>2009-12-01 07:45:00</td>\n",
       "      <td>low_price</td>\n",
       "      <td>13085.0</td>\n",
       "      <td>United Kingdom</td>\n",
       "      <td>100.8</td>\n",
       "      <td>December</td>\n",
       "      <td>Home Decor/Artistic Floral Arrangements</td>\n",
       "    </tr>\n",
       "    <tr>\n",
       "      <th>4</th>\n",
       "      <td>489434</td>\n",
       "      <td>21232</td>\n",
       "      <td>STRAWBERRY CERAMIC TRINKET BOX</td>\n",
       "      <td>high_quantity</td>\n",
       "      <td>2009-12-01 07:45:00</td>\n",
       "      <td>very_low_price</td>\n",
       "      <td>13085.0</td>\n",
       "      <td>United Kingdom</td>\n",
       "      <td>30.0</td>\n",
       "      <td>December</td>\n",
       "      <td>Home Decor/Accessories</td>\n",
       "    </tr>\n",
       "  </tbody>\n",
       "</table>\n",
       "</div>"
      ],
      "text/plain": [
       "  invoice stock_code                          description         quantity  \\\n",
       "0  489434      85048  15CM CHRISTMAS GLASS BALL 20 LIGHTS  medium_quantity   \n",
       "1  489434     79323P                   PINK CHERRY LIGHTS  medium_quantity   \n",
       "2  489434     79323W                  WHITE CHERRY LIGHTS  medium_quantity   \n",
       "3  489434      22041         RECORD FRAME 7\" SINGLE SIZE     high_quantity   \n",
       "4  489434      21232       STRAWBERRY CERAMIC TRINKET BOX    high_quantity   \n",
       "\n",
       "         invoice_date           price customer_id         country  revenue  \\\n",
       "0 2009-12-01 07:45:00      high_price     13085.0  United Kingdom     83.4   \n",
       "1 2009-12-01 07:45:00      high_price     13085.0  United Kingdom     81.0   \n",
       "2 2009-12-01 07:45:00      high_price     13085.0  United Kingdom     81.0   \n",
       "3 2009-12-01 07:45:00       low_price     13085.0  United Kingdom    100.8   \n",
       "4 2009-12-01 07:45:00  very_low_price     13085.0  United Kingdom     30.0   \n",
       "\n",
       "      month                                       topic  \n",
       "0  December                Decorative/Themed Candle Set  \n",
       "1  December  Retro-inspired Kitchen or Home Decor Gifts  \n",
       "2  December                      Home Decor/Accessories  \n",
       "3  December     Home Decor/Artistic Floral Arrangements  \n",
       "4  December                      Home Decor/Accessories  "
      ]
     },
     "execution_count": 201,
     "metadata": {},
     "output_type": "execute_result"
    }
   ],
   "source": [
    "retail_data.head()"
   ]
  },
  {
   "cell_type": "code",
   "execution_count": 202,
   "metadata": {},
   "outputs": [
    {
     "data": {
      "text/plain": [
       "0"
      ]
     },
     "execution_count": 202,
     "metadata": {},
     "output_type": "execute_result"
    }
   ],
   "source": [
    "# Make sure there are no null values for topic\n",
    "retail_data['topic'].isna().sum()"
   ]
  },
  {
   "cell_type": "markdown",
   "metadata": {},
   "source": [
    "Because we have no na values for the `topic` column, this means we have successfully mapped all topics to our descriptions for our entire retail dataset."
   ]
  },
  {
   "cell_type": "markdown",
   "metadata": {},
   "source": [
    "## Exploratory Data Analysis (EDA)\n",
    "---\n"
   ]
  },
  {
   "cell_type": "markdown",
   "metadata": {},
   "source": [
    "To begin EDA, I am going to perform a univartiate analysis on variables that might give me more information on specific demographics. "
   ]
  },
  {
   "cell_type": "markdown",
   "metadata": {},
   "source": [
    "### Analyzing Country Distribution at the Store Level"
   ]
  },
  {
   "cell_type": "code",
   "execution_count": 203,
   "metadata": {},
   "outputs": [
    {
     "name": "stdout",
     "output_type": "stream",
     "text": [
      "country\n",
      "United Kingdom    5354\n",
      "Other              530\n",
      "Name: customer_id, dtype: int64\n"
     ]
    }
   ],
   "source": [
    "# Create category counts and make sure that this is the number of unique customers\n",
    "# per country not just the number of orders\n",
    "unique_country_counts = (\n",
    "    retail_data.groupby(\"country\")[\"customer_id\"].nunique().sort_values(ascending=False)\n",
    ")\n",
    "print(unique_country_counts)"
   ]
  },
  {
   "cell_type": "markdown",
   "metadata": {},
   "source": [
    "When looking at the unique category counts for country, we can immediately see that the overwhelming majority country is the United Kingdom, followed by Germany, France, Spain, and then everything else. Any way we choose to visualize this, it will look very messy (overlap of labels and metrics). To mitigate this problem, I will create a donut chart with a threshold that classifies anything country with less than 41 users as 'Other'. This also tells us that between 2009-2011, 5970 retail stores/whole salers/resellers accrue over 1 million transactions. "
   ]
  },
  {
   "cell_type": "code",
   "execution_count": 204,
   "metadata": {},
   "outputs": [
    {
     "data": {
      "image/png": "[encoded data removed]",
      "text/plain": [
       "<Figure size 640x480 with 1 Axes>"
      ]
     },
     "metadata": {},
     "output_type": "display_data"
    }
   ],
   "source": [
    "# Plot donut chart for countries distribution\n",
    "plot_donut_chart(\n",
    "    unique_country_counts,\n",
    "    title=\"Donut Chart of Customer Base by Country\",\n",
    "    legend=\"country\",\n",
    ")"
   ]
  },
  {
   "cell_type": "markdown",
   "metadata": {},
   "source": [
    "The U.K. sweeps all other countries with a majority percenteage of 91.0%. The second largest customer base is Other at 9.0% accounting for 40 different countries."
   ]
  },
  {
   "cell_type": "markdown",
   "metadata": {},
   "source": [
    "### Analyzing the Frequency of Transactions per month.\n"
   ]
  },
  {
   "cell_type": "code",
   "execution_count": 205,
   "metadata": {},
   "outputs": [
    {
     "name": "stdout",
     "output_type": "stream",
     "text": [
      "month\n",
      "November     157133\n",
      "October      115596\n",
      "December     109439\n",
      "September     89565\n",
      "March         75408\n",
      "June          74227\n",
      "July          70530\n",
      "May           69422\n",
      "August        66494\n",
      "January       64394\n",
      "April         61791\n",
      "February      54893\n",
      "Name: count, dtype: int64\n"
     ]
    }
   ],
   "source": [
    "# Count the number of orders for each month\n",
    "month_counts = retail_data[\"month\"].value_counts()\n",
    "print(month_counts)"
   ]
  },
  {
   "cell_type": "code",
   "execution_count": 206,
   "metadata": {},
   "outputs": [
    {
     "data": {
      "image/png": "[encoded data removed]",
      "text/plain": [
       "<Figure size 640x480 with 1 Axes>"
      ]
     },
     "metadata": {},
     "output_type": "display_data"
    }
   ],
   "source": [
    "# Plot donut chart illustrating transaction distribution by month\n",
    "plot_donut_chart(\n",
    "    month_counts,\n",
    "    title=\"Donut Chart of Transactions by Month\",\n",
    "    legend=\"month\",\n",
    "    threshold=41,\n",
    ")"
   ]
  },
  {
   "cell_type": "markdown",
   "metadata": {},
   "source": [
    "According to out dataset, the highest volume of transactions occurs in the months November, October, and December. I think this makes sense because the U.K.-based store we are analyzing sells gifts and the majority of gift giving holidays occur at the end of the year."
   ]
  },
  {
   "cell_type": "markdown",
   "metadata": {},
   "source": [
    "### Analyzing the Distribution of Topics"
   ]
  },
  {
   "cell_type": "code",
   "execution_count": 207,
   "metadata": {},
   "outputs": [
    {
     "name": "stdout",
     "output_type": "stream",
     "text": [
      "topic\n",
      "Home Decor/Accessories                        179636\n",
      "Artistic Home Decor/Accessories               133598\n",
      "Home Decor/Artistic Floral Arrangements       131592\n",
      "Assorted Party/Decorative Items               123345\n",
      "Decorative/Themed Candle Set                  116994\n",
      "Vintage Home Decor/Accessories                112589\n",
      "Artistic/Decorative Craft Supplies            111270\n",
      "Retro-inspired Kitchen or Home Decor Gifts     99868\n",
      "Name: count, dtype: int64\n"
     ]
    }
   ],
   "source": [
    "# Count number of orders for each topic\n",
    "topic_counts = retail_data['topic'].value_counts()\n",
    "print(topic_counts)"
   ]
  },
  {
   "cell_type": "code",
   "execution_count": 208,
   "metadata": {},
   "outputs": [
    {
     "data": {
      "image/png": "[encoded data removed]",
      "text/plain": [
       "<Figure size 640x480 with 1 Axes>"
      ]
     },
     "metadata": {},
     "output_type": "display_data"
    }
   ],
   "source": [
    "# Plot donut chart analyzing how often each topic category was purchased\n",
    "plot_donut_chart(\n",
    "    topic_counts,\n",
    "    title=\"Donut Chart of Transactions by Topic\",\n",
    "    legend=\"topic\"\n",
    ")"
   ]
  },
  {
   "cell_type": "markdown",
   "metadata": {},
   "source": [
    "This donut chart shows us that the most commonly purchasesd item categories from the U.K. store are 'Home Decor/Accessories', 'Decorative/Themed Candle Set', and 'Vintage Home Decor/Accessories'. These are all home related items and probably tangentially related in terms of our LDA topic model."
   ]
  },
  {
   "cell_type": "markdown",
   "metadata": {},
   "source": [
    "### Analyzing Diustribution of Quantities Purchased "
   ]
  },
  {
   "cell_type": "code",
   "execution_count": 209,
   "metadata": {},
   "outputs": [
    {
     "name": "stdout",
     "output_type": "stream",
     "text": [
      "quantity\n",
      "low_quantity       503355\n",
      "medium_quantity    371088\n",
      "high_quantity      134449\n",
      "Name: count, dtype: int64\n"
     ]
    }
   ],
   "source": [
    "# Count number of orders for each quantity cateogry\n",
    "quantity_counts = retail_data['quantity'].value_counts()\n",
    "print(quantity_counts)\n"
   ]
  },
  {
   "cell_type": "code",
   "execution_count": 210,
   "metadata": {},
   "outputs": [
    {
     "data": {
      "image/png": "[encoded data removed]",
      "text/plain": [
       "<Figure size 640x480 with 1 Axes>"
      ]
     },
     "metadata": {},
     "output_type": "display_data"
    }
   ],
   "source": [
    "# Plot donut chart analyzing the distriubtion of quantity categories we defined \n",
    "plot_donut_chart(\n",
    "    quantity_counts,\n",
    "    title=\"Donut Chart of Quantities Purchased\",\n",
    "    legend=\"quantity\",\n",
    ")"
   ]
  },
  {
   "cell_type": "markdown",
   "metadata": {},
   "source": [
    "This donut chart shows us that customers most commonly buy low quantities, medium quantities, and high quantities of gifts, in that order. To break down the proportions more analytically:\n",
    "\n",
    "- 49.9% of purchases were a low quantity (1-3) of items.\n",
    "- 36.8% of purchases were a medium quantity (3-12) of items.\n",
    "- 13.3% of purchases were a high quantity (12-80,996) of items.\n"
   ]
  },
  {
   "cell_type": "markdown",
   "metadata": {},
   "source": [
    "### Analyzing Diustribution of Prices sold"
   ]
  },
  {
   "cell_type": "code",
   "execution_count": 211,
   "metadata": {},
   "outputs": [
    {
     "name": "stdout",
     "output_type": "stream",
     "text": [
      "price\n",
      "very_low_price    304053\n",
      "high_price        251066\n",
      "low_price         227507\n",
      "medium_price      226266\n",
      "Name: count, dtype: int64\n"
     ]
    }
   ],
   "source": [
    "# Count number of orders for each price cateogry\n",
    "price_counts = retail_data['price'].value_counts()\n",
    "print(price_counts)\n"
   ]
  },
  {
   "cell_type": "code",
   "execution_count": 212,
   "metadata": {},
   "outputs": [
    {
     "data": {
      "image/png": "[encoded data removed]",
      "text/plain": [
       "<Figure size 640x480 with 1 Axes>"
      ]
     },
     "metadata": {},
     "output_type": "display_data"
    }
   ],
   "source": [
    "# Plot donut chart analyzing the distriubtion of price categories we defined \n",
    "plot_donut_chart(\n",
    "    price_counts,\n",
    "    title=\"Donut Chart of Prices Purchased\",\n",
    "    legend=\"price\",\n",
    ")"
   ]
  },
  {
   "cell_type": "markdown",
   "metadata": {},
   "source": [
    "Here, this donut chart illustrates that customers most commonly tend to buy very low price items, low price items, high price items, low price items, and medium price items, in that order. To break down these categories analytically:\n",
    "\n",
    "- 30.1% of the purchases were very low priced (0£-1.25£) items.\n",
    "- 24.9% of the purchases were high priced (4.13£-25111.90£) items.\n",
    "- 22.6% of the purchases were low priced (1.25£-2.10£) items.\n",
    "- 22.4% of the purchases were medium priced (2.10£-4.13£) items."
   ]
  },
  {
   "cell_type": "markdown",
   "metadata": {},
   "source": [
    "## Customer Segmentation using K-Modes Clustering\n",
    "---"
   ]
  },
  {
   "cell_type": "markdown",
   "metadata": {},
   "source": [
    "While the traditional K-Means clustring algorithm does a great job with continuous numeric data, it does not work well for variable data which is the format I would like to use. I think it will be easier to intuitively categorize customer clusters by combinations of categories (i.e. 'medium price, high quantity, U.K., and 'Home Decor/Accessores'). Fortunately, there is an approach well-tailored for this task called \"K-Modes clustering\".\n",
    "\n",
    "K-Modes (proposed by Huang, Z in 1997) uses a measure of dissimilarity for categorical objects and iterates over clusters, choosing new modes each time with the aim of minimizing the measure of dissimilarity. Just like any other clustering approach, I need to decide when to stop with segmenting the data into clusters, choosing an optimal number of clusters. The best way to do this is by evaluating an Elbow Plot."
   ]
  },
  {
   "cell_type": "code",
   "execution_count": 213,
   "metadata": {},
   "outputs": [],
   "source": [
    "# Create a relevant subset of retail_data that you want to cluster on\n",
    "cluster_input = retail_data[['quantity', 'price', 'country', 'month', 'topic']]"
   ]
  },
  {
   "cell_type": "code",
   "execution_count": 214,
   "metadata": {},
   "outputs": [
    {
     "data": {
      "text/html": [
       "<div>\n",
       "<style scoped>\n",
       "    .dataframe tbody tr th:only-of-type {\n",
       "        vertical-align: middle;\n",
       "    }\n",
       "\n",
       "    .dataframe tbody tr th {\n",
       "        vertical-align: top;\n",
       "    }\n",
       "\n",
       "    .dataframe thead th {\n",
       "        text-align: right;\n",
       "    }\n",
       "</style>\n",
       "<table border=\"1\" class=\"dataframe\">\n",
       "  <thead>\n",
       "    <tr style=\"text-align: right;\">\n",
       "      <th></th>\n",
       "      <th>quantity</th>\n",
       "      <th>price</th>\n",
       "      <th>country</th>\n",
       "      <th>month</th>\n",
       "      <th>topic</th>\n",
       "    </tr>\n",
       "  </thead>\n",
       "  <tbody>\n",
       "    <tr>\n",
       "      <th>0</th>\n",
       "      <td>medium_quantity</td>\n",
       "      <td>high_price</td>\n",
       "      <td>United Kingdom</td>\n",
       "      <td>December</td>\n",
       "      <td>Decorative/Themed Candle Set</td>\n",
       "    </tr>\n",
       "    <tr>\n",
       "      <th>1</th>\n",
       "      <td>medium_quantity</td>\n",
       "      <td>high_price</td>\n",
       "      <td>United Kingdom</td>\n",
       "      <td>December</td>\n",
       "      <td>Retro-inspired Kitchen or Home Decor Gifts</td>\n",
       "    </tr>\n",
       "    <tr>\n",
       "      <th>2</th>\n",
       "      <td>medium_quantity</td>\n",
       "      <td>high_price</td>\n",
       "      <td>United Kingdom</td>\n",
       "      <td>December</td>\n",
       "      <td>Home Decor/Accessories</td>\n",
       "    </tr>\n",
       "    <tr>\n",
       "      <th>3</th>\n",
       "      <td>high_quantity</td>\n",
       "      <td>low_price</td>\n",
       "      <td>United Kingdom</td>\n",
       "      <td>December</td>\n",
       "      <td>Home Decor/Artistic Floral Arrangements</td>\n",
       "    </tr>\n",
       "    <tr>\n",
       "      <th>4</th>\n",
       "      <td>high_quantity</td>\n",
       "      <td>very_low_price</td>\n",
       "      <td>United Kingdom</td>\n",
       "      <td>December</td>\n",
       "      <td>Home Decor/Accessories</td>\n",
       "    </tr>\n",
       "  </tbody>\n",
       "</table>\n",
       "</div>"
      ],
      "text/plain": [
       "          quantity           price         country     month  \\\n",
       "0  medium_quantity      high_price  United Kingdom  December   \n",
       "1  medium_quantity      high_price  United Kingdom  December   \n",
       "2  medium_quantity      high_price  United Kingdom  December   \n",
       "3    high_quantity       low_price  United Kingdom  December   \n",
       "4    high_quantity  very_low_price  United Kingdom  December   \n",
       "\n",
       "                                        topic  \n",
       "0                Decorative/Themed Candle Set  \n",
       "1  Retro-inspired Kitchen or Home Decor Gifts  \n",
       "2                      Home Decor/Accessories  \n",
       "3     Home Decor/Artistic Floral Arrangements  \n",
       "4                      Home Decor/Accessories  "
      ]
     },
     "execution_count": 214,
     "metadata": {},
     "output_type": "execute_result"
    }
   ],
   "source": [
    "cluster_input.head()"
   ]
  },
  {
   "cell_type": "code",
   "execution_count": 215,
   "metadata": {},
   "outputs": [
    {
     "name": "stdout",
     "output_type": "stream",
     "text": [
      "KModes started at 2023-10-19 11:51:05.332207\n",
      "Initialization method and algorithm are deterministic. Setting n_init to 1.\n"
     ]
    },
    {
     "name": "stdout",
     "output_type": "stream",
     "text": [
      "Init: initializing centroids\n",
      "Init: initializing clusters\n",
      "Starting iterations...\n",
      "Run 1, iteration: 1/100, moves: 0, cost: 2973293.0\n",
      "Initialization method and algorithm are deterministic. Setting n_init to 1.\n",
      "Init: initializing centroids\n",
      "Init: initializing clusters\n",
      "Starting iterations...\n",
      "Run 1, iteration: 1/100, moves: 98411, cost: 2557809.0\n",
      "Initialization method and algorithm are deterministic. Setting n_init to 1.\n",
      "Init: initializing centroids\n",
      "Init: initializing clusters\n",
      "Starting iterations...\n",
      "Run 1, iteration: 1/100, moves: 0, cost: 2494774.0\n",
      "Initialization method and algorithm are deterministic. Setting n_init to 1.\n",
      "Init: initializing centroids\n",
      "Init: initializing clusters\n",
      "Starting iterations...\n",
      "Run 1, iteration: 1/100, moves: 0, cost: 2306008.0\n",
      "Initialization method and algorithm are deterministic. Setting n_init to 1.\n",
      "Init: initializing centroids\n",
      "Init: initializing clusters\n",
      "Starting iterations...\n",
      "Run 1, iteration: 1/100, moves: 0, cost: 2197525.0\n",
      "Initialization method and algorithm are deterministic. Setting n_init to 1.\n",
      "Init: initializing centroids\n",
      "Init: initializing clusters\n",
      "Starting iterations...\n",
      "Run 1, iteration: 1/100, moves: 0, cost: 2130731.0\n",
      "Initialization method and algorithm are deterministic. Setting n_init to 1.\n",
      "Init: initializing centroids\n",
      "Init: initializing clusters\n",
      "Starting iterations...\n",
      "Run 1, iteration: 1/100, moves: 0, cost: 2014413.0\n",
      "Initialization method and algorithm are deterministic. Setting n_init to 1.\n",
      "Init: initializing centroids\n",
      "Init: initializing clusters\n",
      "Starting iterations...\n",
      "Run 1, iteration: 1/100, moves: 0, cost: 1922183.0\n",
      "Initialization method and algorithm are deterministic. Setting n_init to 1.\n",
      "Init: initializing centroids\n",
      "Init: initializing clusters\n",
      "Starting iterations...\n",
      "Run 1, iteration: 1/100, moves: 0, cost: 1858093.0\n",
      "Completed at 2023-10-19 11:57:41.588838\n"
     ]
    },
    {
     "data": {
      "image/png": "[encoded data removed]",
      "text/plain": [
       "<Figure size 640x480 with 1 Axes>"
      ]
     },
     "metadata": {},
     "output_type": "display_data"
    }
   ],
   "source": [
    "print(f'KModes started at {pd.Timestamp.now()}')\n",
    "\n",
    "# Use an elbow curve to find the optimal k\n",
    "cost = []\n",
    "k = range(1,10)\n",
    "for num_clusters in list(k):\n",
    "    kmode = KModes(n_clusters=num_clusters, n_init=5, verbose=1, random_state=42)\n",
    "    kmode.fit_predict(cluster_input)\n",
    "    cost.append(kmode.cost_)\n",
    "\n",
    "print(f'Completed at {pd.Timestamp.now()}')\n",
    "\n",
    "plt.plot(k, cost, 'bx--')\n",
    "plt.xlabel('No. of clusters')\n",
    "plt.ylabel('Cost')\n",
    "plt.title('Elbow Method For Optimal k')\n",
    "plt.show()"
   ]
  },
  {
   "cell_type": "markdown",
   "metadata": {},
   "source": [
    "The result of our Elbow Plot indicates that 4 clustrers is a good number to go with. The pace of the decline in the cost metric slows significantly after 4 clusters.  \n",
    "\n",
    "With 4 clusters decided, we will re-run the K-Modes clustering specifying 4 clusters."
   ]
  },
  {
   "cell_type": "code",
   "execution_count": 223,
   "metadata": {},
   "outputs": [
    {
     "name": "stdout",
     "output_type": "stream",
     "text": [
      "Initialization method and algorithm are deterministic. Setting n_init to 1.\n",
      "Init: initializing centroids\n",
      "Init: initializing clusters\n",
      "Starting iterations...\n",
      "Run 1, iteration: 1/100, moves: 0, cost: 2306008.0\n"
     ]
    }
   ],
   "source": [
    "# Fit optimal K-Modes model with 4 clusters\n",
    "kmode_opt = KModes(n_clusters=4, n_init=5, verbose=1, random_state=42)\n",
    "cluster_assignmnets = kmode_opt.fit_predict(cluster_input)"
   ]
  },
  {
   "cell_type": "code",
   "execution_count": 224,
   "metadata": {},
   "outputs": [],
   "source": [
    "# Add cluster assignments back to the original dataframe\n",
    "retail_data['cluster'] = cluster_assignmnets"
   ]
  },
  {
   "cell_type": "code",
   "execution_count": 225,
   "metadata": {},
   "outputs": [
    {
     "data": {
      "text/html": [
       "<div>\n",
       "<style scoped>\n",
       "    .dataframe tbody tr th:only-of-type {\n",
       "        vertical-align: middle;\n",
       "    }\n",
       "\n",
       "    .dataframe tbody tr th {\n",
       "        vertical-align: top;\n",
       "    }\n",
       "\n",
       "    .dataframe thead th {\n",
       "        text-align: right;\n",
       "    }\n",
       "</style>\n",
       "<table border=\"1\" class=\"dataframe\">\n",
       "  <thead>\n",
       "    <tr style=\"text-align: right;\">\n",
       "      <th></th>\n",
       "      <th>invoice</th>\n",
       "      <th>stock_code</th>\n",
       "      <th>description</th>\n",
       "      <th>quantity</th>\n",
       "      <th>invoice_date</th>\n",
       "      <th>price</th>\n",
       "      <th>customer_id</th>\n",
       "      <th>country</th>\n",
       "      <th>revenue</th>\n",
       "      <th>month</th>\n",
       "      <th>topic</th>\n",
       "      <th>cluster</th>\n",
       "    </tr>\n",
       "  </thead>\n",
       "  <tbody>\n",
       "    <tr>\n",
       "      <th>0</th>\n",
       "      <td>489434</td>\n",
       "      <td>85048</td>\n",
       "      <td>15CM CHRISTMAS GLASS BALL 20 LIGHTS</td>\n",
       "      <td>medium_quantity</td>\n",
       "      <td>2009-12-01 07:45:00</td>\n",
       "      <td>high_price</td>\n",
       "      <td>13085.0</td>\n",
       "      <td>United Kingdom</td>\n",
       "      <td>83.4</td>\n",
       "      <td>December</td>\n",
       "      <td>Decorative/Themed Candle Set</td>\n",
       "      <td>1</td>\n",
       "    </tr>\n",
       "    <tr>\n",
       "      <th>1</th>\n",
       "      <td>489434</td>\n",
       "      <td>79323P</td>\n",
       "      <td>PINK CHERRY LIGHTS</td>\n",
       "      <td>medium_quantity</td>\n",
       "      <td>2009-12-01 07:45:00</td>\n",
       "      <td>high_price</td>\n",
       "      <td>13085.0</td>\n",
       "      <td>United Kingdom</td>\n",
       "      <td>81.0</td>\n",
       "      <td>December</td>\n",
       "      <td>Retro-inspired Kitchen or Home Decor Gifts</td>\n",
       "      <td>1</td>\n",
       "    </tr>\n",
       "    <tr>\n",
       "      <th>2</th>\n",
       "      <td>489434</td>\n",
       "      <td>79323W</td>\n",
       "      <td>WHITE CHERRY LIGHTS</td>\n",
       "      <td>medium_quantity</td>\n",
       "      <td>2009-12-01 07:45:00</td>\n",
       "      <td>high_price</td>\n",
       "      <td>13085.0</td>\n",
       "      <td>United Kingdom</td>\n",
       "      <td>81.0</td>\n",
       "      <td>December</td>\n",
       "      <td>Home Decor/Accessories</td>\n",
       "      <td>1</td>\n",
       "    </tr>\n",
       "    <tr>\n",
       "      <th>3</th>\n",
       "      <td>489434</td>\n",
       "      <td>22041</td>\n",
       "      <td>RECORD FRAME 7\" SINGLE SIZE</td>\n",
       "      <td>high_quantity</td>\n",
       "      <td>2009-12-01 07:45:00</td>\n",
       "      <td>low_price</td>\n",
       "      <td>13085.0</td>\n",
       "      <td>United Kingdom</td>\n",
       "      <td>100.8</td>\n",
       "      <td>December</td>\n",
       "      <td>Home Decor/Artistic Floral Arrangements</td>\n",
       "      <td>2</td>\n",
       "    </tr>\n",
       "    <tr>\n",
       "      <th>4</th>\n",
       "      <td>489434</td>\n",
       "      <td>21232</td>\n",
       "      <td>STRAWBERRY CERAMIC TRINKET BOX</td>\n",
       "      <td>high_quantity</td>\n",
       "      <td>2009-12-01 07:45:00</td>\n",
       "      <td>very_low_price</td>\n",
       "      <td>13085.0</td>\n",
       "      <td>United Kingdom</td>\n",
       "      <td>30.0</td>\n",
       "      <td>December</td>\n",
       "      <td>Home Decor/Accessories</td>\n",
       "      <td>0</td>\n",
       "    </tr>\n",
       "  </tbody>\n",
       "</table>\n",
       "</div>"
      ],
      "text/plain": [
       "  invoice stock_code                          description         quantity  \\\n",
       "0  489434      85048  15CM CHRISTMAS GLASS BALL 20 LIGHTS  medium_quantity   \n",
       "1  489434     79323P                   PINK CHERRY LIGHTS  medium_quantity   \n",
       "2  489434     79323W                  WHITE CHERRY LIGHTS  medium_quantity   \n",
       "3  489434      22041         RECORD FRAME 7\" SINGLE SIZE     high_quantity   \n",
       "4  489434      21232       STRAWBERRY CERAMIC TRINKET BOX    high_quantity   \n",
       "\n",
       "         invoice_date           price customer_id         country  revenue  \\\n",
       "0 2009-12-01 07:45:00      high_price     13085.0  United Kingdom     83.4   \n",
       "1 2009-12-01 07:45:00      high_price     13085.0  United Kingdom     81.0   \n",
       "2 2009-12-01 07:45:00      high_price     13085.0  United Kingdom     81.0   \n",
       "3 2009-12-01 07:45:00       low_price     13085.0  United Kingdom    100.8   \n",
       "4 2009-12-01 07:45:00  very_low_price     13085.0  United Kingdom     30.0   \n",
       "\n",
       "      month                                       topic  cluster  \n",
       "0  December                Decorative/Themed Candle Set        1  \n",
       "1  December  Retro-inspired Kitchen or Home Decor Gifts        1  \n",
       "2  December                      Home Decor/Accessories        1  \n",
       "3  December     Home Decor/Artistic Floral Arrangements        2  \n",
       "4  December                      Home Decor/Accessories        0  "
      ]
     },
     "execution_count": 225,
     "metadata": {},
     "output_type": "execute_result"
    }
   ],
   "source": [
    "retail_data.head()"
   ]
  },
  {
   "cell_type": "markdown",
   "metadata": {},
   "source": [
    "### Visualizing the Distribution of Our Clusters"
   ]
  },
  {
   "cell_type": "code",
   "execution_count": 226,
   "metadata": {},
   "outputs": [
    {
     "name": "stdout",
     "output_type": "stream",
     "text": [
      "cluster\n",
      "0    526103\n",
      "1    236042\n",
      "3    154137\n",
      "2     92610\n",
      "Name: count, dtype: int64\n"
     ]
    }
   ],
   "source": [
    "# Count the number of orders for each cluster\n",
    "cluster_counts = retail_data['cluster'].value_counts()\n",
    "print(cluster_counts)"
   ]
  },
  {
   "cell_type": "code",
   "execution_count": 227,
   "metadata": {},
   "outputs": [
    {
     "data": {
      "image/png": "[encoded data removed]",
      "text/plain": [
       "<Figure size 640x480 with 1 Axes>"
      ]
     },
     "metadata": {},
     "output_type": "display_data"
    }
   ],
   "source": [
    "# Plot a donut chart visualizing the distribution of our 4 clusters\n",
    "plot_donut_chart(\n",
    "    cluster_counts,\n",
    "    title=\"Donut Chart of Customer Clusters\",\n",
    "    legend=\"cluster\",\n",
    ")"
   ]
  },
  {
   "cell_type": "code",
   "execution_count": 228,
   "metadata": {},
   "outputs": [
    {
     "data": {
      "text/plain": [
       "array([['low_quantity', 'very_low_price', 'United Kingdom', 'November',\n",
       "        'Home Decor/Accessories'],\n",
       "       ['medium_quantity', 'high_price', 'United Kingdom', 'October',\n",
       "        'Artistic Home Decor/Accessories'],\n",
       "       ['high_quantity', 'low_price', 'United Kingdom', 'December',\n",
       "        'Home Decor/Artistic Floral Arrangements'],\n",
       "       ['low_quantity', 'high_price', 'United Kingdom', 'December',\n",
       "        'Assorted Party/Decorative Items']], dtype='<U39')"
      ]
     },
     "execution_count": 228,
     "metadata": {},
     "output_type": "execute_result"
    }
   ],
   "source": [
    "kmode_opt.cluster_centroids_"
   ]
  },
  {
   "cell_type": "markdown",
   "metadata": {},
   "source": [
    "Of our four clusters, cluster 0 makes up the most of our transactions, followed by cluster 1, cluster 3, and cluster 2. Here is a more comprehensive breakdown of cluster demographics:\n",
    "\n",
    "- Cluster 1: These customers are from the United Kingdom and tend to make a \"low quantity\" (1-3 items) of purchases in November that are classified as \"very low price\" (0£-1.25£) in the \"Home Decor/Accessories\" category.\n",
    "\n",
    "- Cluster 2: These customers are from the United Kingdom and tend to make a \"medium quantity\" (3-12 items) of purchases in October that are classified as \"high price\" (4.13£-25111.90£) in the \"Artistic Home Decor/Accessories\" category.\n",
    "\n",
    "- Cluster 3: These customers are from the United Kingdom and tend to make a \"high quantity\" (12-80,996 items) of purchases in December classified as \"low price\" (1.25£-2.10£) in the \"Home Decor/Artistic Floral Arrangements\" category.\n",
    "\n",
    "- Cluster 4: These customers are from the United Kingdom and tend to make a \"low quantity\" (1-3 items) of purchases in December classified as \"high price\" (4.13£-25111.90£) in the \"Assorted Party/Decorative Items\" category.  \n",
    "\n",
    "General impressions: One of the first things I notice here is that all of our defined clusters only include United Kingdom customers. As we know from earlier the overwhelming majority of the customer base in our dataset is from the U.K. and any outside customer base is so nominal that our clusters do not count them as significant. This will make our time series forecasting later on more straightforward since we won't include the noise of international customers.\n",
    "\n"
   ]
  },
  {
   "cell_type": "markdown",
   "metadata": {},
   "source": [
    "## Using ARIMA/SARIMA  for Time Series Forecasting\n",
    "---"
   ]
  },
  {
   "cell_type": "markdown",
   "metadata": {},
   "source": [
    "For this problem, we use forecasting in an attempt to provide this U.K. company with business insights so it can plan procurement and production activities. We will use ARIMA (AutoRegressive Integrated Moving Average) and SARIMA (Seasonal ARIMA) to tackle this problem, making the fundamental assumption that the information in the past values of our time series can alone be used to predict the future values of revenue.  \n",
    "\n",
    "<u>ARIMA model</u>\n",
    "\n",
    "ARIMA is a popular time series forecasting model that combines autoregressive (AR) and moving average (MA) components with differencing to handle non-stationary data. There are three components:  \n",
    "\n",
    "1. **Autoregressive (AR)**: It models the linear relationship between the current observation and a number *p* of lagged observations. It captures the dependency of the current value on its past values.\n",
    "1. **Moving Average (MA)**: It models the dependency of the current observation on a number *q* of residual errors from previous observations. It captures the short-term shocks or random fluctuations in the data.\n",
    "1. **Integration (I)**: It accounts for the differencing required to make the time series stationary. Differencing involves subtracting the previous observation from the current observation to remove trends or seasonality. The order of differencing, denoted by *d*, represents the number of times differencing is applied to achieve stationarity.  \n",
    "\n",
    "By combining these three components (AR, I, MA), the ARIMA model is capable of capturing the linear dependencies and trends in time series data. The order of the ARIMA model is typically represented as (*p*, *d*, *q*) where *p* represents the order of the AR component, *d* represents the order of differencing, and *q* represents the order of the MA component.  \n",
    "\n",
    "<u>SARIMA model</u>  \n",
    "\n",
    "Since our data most likely has seasonal components, we will use SARIMA which incorporates seasonal components to handle time series data with recurring patterns at fixed intervals, such as daily, weekly, or yearly cycles. SARIMA includes additional seasoal AR, MA, and I components in addition to the ones included in ATIMA. The order of the SARIMA model is typically denoted as (*p*, *d*, *q*)(*P*, *D*, *Q*, *m*) where lowercase parameters refer to non-seasonal components and uppercase represent seasonal componenets.\n",
    "\n",
    "\n",
    "To get a general trend of seasonality's impact on revenue, we will look at a plot of average revenue vs. month."
   ]
  },
  {
   "cell_type": "code",
   "execution_count": 262,
   "metadata": {},
   "outputs": [
    {
     "name": "stderr",
     "output_type": "stream",
     "text": [
      "C:\\Users\\evans\\AppData\\Local\\Temp\\ipykernel_30108\\2440084345.py:6: FutureWarning: The default of observed=False is deprecated and will be changed to True in a future version of pandas. Pass observed=False to retain current behavior or observed=True to adopt the future default and silence this warning.\n",
      "  avg_monthly_rev = retail_data.sort_values('month').groupby('month')['revenue'].mean()\n"
     ]
    },
    {
     "data": {
      "image/png": "[encoded data removed]",
      "text/plain": [
       "<Figure size 1000x500 with 1 Axes>"
      ]
     },
     "metadata": {},
     "output_type": "display_data"
    }
   ],
   "source": [
    "# Convert 'month' to a categorical type with abbreviations with a custom ordering\n",
    "month_order = ['January', 'February', 'March', 'April', 'May', 'June', 'July', 'August', 'September', 'October', 'November', 'December']\n",
    "retail_data['month'] = pd.Categorical(retail_data['month'], categories=month_order, ordered=True)\n",
    "\n",
    "# Sort the DataFrame based on the custom ordering of 'month'\n",
    "avg_monthly_rev = retail_data.sort_values('month').groupby('month')['revenue'].mean()\n",
    "\n",
    "# Set the figure size to make it longer\n",
    "plt.figure(figsize=(10, 5))\n",
    "\n",
    "# Plot average revenue line\n",
    "plt.plot(avg_monthly_rev.index, avg_monthly_rev.values, marker='o', label='Average Monthly Revenue (£)')\n",
    "\n",
    "# Months to highlight\n",
    "highlight_months = ['July', 'September', 'November', 'December']\n",
    "\n",
    "# Draw vertical lines for selected months\n",
    "for month in highlight_months:\n",
    "    month_index = month_order.index(month)\n",
    "    x_value = avg_monthly_rev.index[month_index]\n",
    "    y_value = avg_monthly_rev.values[month_index]\n",
    "    plt.vlines(x=x_value, ymin=18, ymax=y_value, linestyles='dotted', colors='red')\n",
    "\n",
    "# Shade the regions between vertical lines\n",
    "for i in range(1, len(highlight_months), 2):\n",
    "    start_month = highlight_months[i - 1]\n",
    "    end_month = highlight_months[i]\n",
    "    start_index = month_order.index(start_month)\n",
    "    end_index = month_order.index(end_month)\n",
    "    plt.fill_between(\n",
    "        avg_monthly_rev.index[start_index:end_index + 1],\n",
    "        18,\n",
    "        avg_monthly_rev.values[start_index:end_index + 1],\n",
    "        alpha=0.2,\n",
    "        color='gray',\n",
    "    )\n",
    "\n",
    "plt.xlabel('Month')\n",
    "plt.ylabel('Average Monthly Revenue (£)')\n",
    "plt.title('Month vs. Average Monthly Revenue')\n",
    "plt.xticks(rotation=45)  # Rotate x-axis tick labels for better visibility\n",
    "plt.legend()\n",
    "plt.show()\n"
   ]
  },
  {
   "cell_type": "markdown",
   "metadata": {},
   "source": [
    "The plot of Month Vs. Average Monthly Revenue, indicates that there could indeed be seasonal impact for revenue of our store. Betwen the months of July and Septmber, there is a clear increase in average monthly revenue followed by a steady decrease from September to November. From November to December, the average monthly revenue begins to swiftly increase again."
   ]
  }
 ],
 "metadata": {
  "kernelspec": {
   "display_name": ".venv",
   "language": "python",
   "name": "python3"
  },
  "language_info": {
   "codemirror_mode": {
    "name": "ipython",
    "version": 3
   },
   "file_extension": ".py",
   "mimetype": "text/x-python",
   "name": "python",
   "nbconvert_exporter": "python",
   "pygments_lexer": "ipython3",
   "version": "3.11.0"
  },
  "orig_nbformat": 4
 },
 "nbformat": 4,
 "nbformat_minor": 2
}
