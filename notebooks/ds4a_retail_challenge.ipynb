{
 "cells": [
  {
   "cell_type": "markdown",
   "metadata": {},
   "source": [
    "## <center>Exploring Customer Segmentation and Customer Lifetime Value for Sales Forecasting</center>\n",
    "---\n"
   ]
  },
  {
   "cell_type": "code",
   "execution_count": 1122,
   "metadata": {},
   "outputs": [
    {
     "name": "stderr",
     "output_type": "stream",
     "text": [
      "[nltk_data] Downloading package stopwords to\n",
      "[nltk_data]     C:\\Users\\evans\\AppData\\Roaming\\nltk_data...\n",
      "[nltk_data]   Package stopwords is already up-to-date!\n"
     ]
    }
   ],
   "source": [
    "# Import all necessary packages\n",
    "import numpy as np\n",
    "import pandas as pd\n",
    "import matplotlib.pyplot as plt\n",
    "import seaborn as sns\n",
    "\n",
    "# Import topic modeling packages\n",
    "# Top2Vec\n",
    "from top2vec import Top2Vec\n",
    "\n",
    "# Import customized Top2Vec utility functions\n",
    "from top2vec_utils import compute_cv_coherence\n",
    "\n",
    "# Gensim version\n",
    "import gensim\n",
    "import gensim.corpora as corpora\n",
    "from gensim.models import CoherenceModel\n",
    "from gensim.models.phrases import Phraser, Phrases\n",
    "from gensim.models.ldamodel import LdaModel\n",
    "\n",
    "# Import customized Gensim functions\n",
    "from gensim_lda import (\n",
    "    sent_to_words,\n",
    "    remove_stopwords,\n",
    "    make_bigrams,\n",
    "    lemmatization,\n",
    "    compute_coherence_values,\n",
    "    format_topics_sentences,\n",
    ")\n",
    "\n",
    "# spacy for lemmatization\n",
    "import spacy\n",
    "\n",
    "# nltk\n",
    "import nltk\n",
    "\n",
    "nltk.download(\"stopwords\")\n",
    "from nltk.corpus import stopwords\n",
    "\n",
    "# Plotting tools\n",
    "import pyLDAvis\n",
    "import pyLDAvis.gensim  # don't skip this\n",
    "import matplotlib.pyplot as plt\n",
    "\n",
    "# Time Series related packages\n",
    "import calendar\n",
    "\n",
    "# Import KModes for segmentation clustering\n",
    "from kmodes.kmodes import KModes\n",
    "\n",
    "# Import custom modules\n",
    "from utils import plot_donut_chart"
   ]
  },
  {
   "cell_type": "code",
   "execution_count": 1123,
   "metadata": {},
   "outputs": [],
   "source": [
    "# Create np random seed\n",
    "np.random.seed(42)"
   ]
  },
  {
   "cell_type": "code",
   "execution_count": 1124,
   "metadata": {},
   "outputs": [],
   "source": [
    "# Read in data\n",
    "retail_2009_2010 = pd.read_csv(\n",
    "    r\"C:\\Users\\evans\\OneDrive\\Desktop\\DS4A\\data_scientist_retail_challenge\\retail-customer-segmentation-forecasting\\data\\online_retail_2009_2010.csv\"\n",
    ")\n",
    "retail_2010_2011 = pd.read_csv(\n",
    "    r\"C:\\Users\\evans\\OneDrive\\Desktop\\DS4A\\data_scientist_retail_challenge\\retail-customer-segmentation-forecasting\\data\\online_retail_2010_2011.csv\"\n",
    ")"
   ]
  },
  {
   "cell_type": "markdown",
   "metadata": {},
   "source": [
    "## Data Preprocessing\n",
    "---"
   ]
  },
  {
   "cell_type": "code",
   "execution_count": 1125,
   "metadata": {},
   "outputs": [],
   "source": [
    "# Concatenate datasets to create a dataset ranging from 2009-2011\n",
    "retail_data = pd.concat([retail_2009_2010, retail_2010_2011], axis=0)"
   ]
  },
  {
   "cell_type": "markdown",
   "metadata": {},
   "source": [
    "### Variable Names and Data Types"
   ]
  },
  {
   "cell_type": "code",
   "execution_count": 1126,
   "metadata": {},
   "outputs": [
    {
     "data": {
      "text/html": [
       "<div>\n",
       "<style scoped>\n",
       "    .dataframe tbody tr th:only-of-type {\n",
       "        vertical-align: middle;\n",
       "    }\n",
       "\n",
       "    .dataframe tbody tr th {\n",
       "        vertical-align: top;\n",
       "    }\n",
       "\n",
       "    .dataframe thead th {\n",
       "        text-align: right;\n",
       "    }\n",
       "</style>\n",
       "<table border=\"1\" class=\"dataframe\">\n",
       "  <thead>\n",
       "    <tr style=\"text-align: right;\">\n",
       "      <th></th>\n",
       "      <th>Invoice</th>\n",
       "      <th>StockCode</th>\n",
       "      <th>Description</th>\n",
       "      <th>Quantity</th>\n",
       "      <th>InvoiceDate</th>\n",
       "      <th>Price</th>\n",
       "      <th>Customer ID</th>\n",
       "      <th>Country</th>\n",
       "    </tr>\n",
       "  </thead>\n",
       "  <tbody>\n",
       "    <tr>\n",
       "      <th>0</th>\n",
       "      <td>489434</td>\n",
       "      <td>85048</td>\n",
       "      <td>15CM CHRISTMAS GLASS BALL 20 LIGHTS</td>\n",
       "      <td>12</td>\n",
       "      <td>12/1/2009 7:45</td>\n",
       "      <td>6.95</td>\n",
       "      <td>13085.0</td>\n",
       "      <td>United Kingdom</td>\n",
       "    </tr>\n",
       "    <tr>\n",
       "      <th>1</th>\n",
       "      <td>489434</td>\n",
       "      <td>79323P</td>\n",
       "      <td>PINK CHERRY LIGHTS</td>\n",
       "      <td>12</td>\n",
       "      <td>12/1/2009 7:45</td>\n",
       "      <td>6.75</td>\n",
       "      <td>13085.0</td>\n",
       "      <td>United Kingdom</td>\n",
       "    </tr>\n",
       "    <tr>\n",
       "      <th>2</th>\n",
       "      <td>489434</td>\n",
       "      <td>79323W</td>\n",
       "      <td>WHITE CHERRY LIGHTS</td>\n",
       "      <td>12</td>\n",
       "      <td>12/1/2009 7:45</td>\n",
       "      <td>6.75</td>\n",
       "      <td>13085.0</td>\n",
       "      <td>United Kingdom</td>\n",
       "    </tr>\n",
       "    <tr>\n",
       "      <th>3</th>\n",
       "      <td>489434</td>\n",
       "      <td>22041</td>\n",
       "      <td>RECORD FRAME 7\" SINGLE SIZE</td>\n",
       "      <td>48</td>\n",
       "      <td>12/1/2009 7:45</td>\n",
       "      <td>2.10</td>\n",
       "      <td>13085.0</td>\n",
       "      <td>United Kingdom</td>\n",
       "    </tr>\n",
       "    <tr>\n",
       "      <th>4</th>\n",
       "      <td>489434</td>\n",
       "      <td>21232</td>\n",
       "      <td>STRAWBERRY CERAMIC TRINKET BOX</td>\n",
       "      <td>24</td>\n",
       "      <td>12/1/2009 7:45</td>\n",
       "      <td>1.25</td>\n",
       "      <td>13085.0</td>\n",
       "      <td>United Kingdom</td>\n",
       "    </tr>\n",
       "  </tbody>\n",
       "</table>\n",
       "</div>"
      ],
      "text/plain": [
       "  Invoice StockCode                          Description  Quantity  \\\n",
       "0  489434     85048  15CM CHRISTMAS GLASS BALL 20 LIGHTS        12   \n",
       "1  489434    79323P                   PINK CHERRY LIGHTS        12   \n",
       "2  489434    79323W                  WHITE CHERRY LIGHTS        12   \n",
       "3  489434     22041         RECORD FRAME 7\" SINGLE SIZE         48   \n",
       "4  489434     21232       STRAWBERRY CERAMIC TRINKET BOX        24   \n",
       "\n",
       "      InvoiceDate  Price  Customer ID         Country  \n",
       "0  12/1/2009 7:45   6.95      13085.0  United Kingdom  \n",
       "1  12/1/2009 7:45   6.75      13085.0  United Kingdom  \n",
       "2  12/1/2009 7:45   6.75      13085.0  United Kingdom  \n",
       "3  12/1/2009 7:45   2.10      13085.0  United Kingdom  \n",
       "4  12/1/2009 7:45   1.25      13085.0  United Kingdom  "
      ]
     },
     "execution_count": 1126,
     "metadata": {},
     "output_type": "execute_result"
    }
   ],
   "source": [
    "# Preview data\n",
    "retail_data.head()"
   ]
  },
  {
   "cell_type": "markdown",
   "metadata": {},
   "source": [
    "Let's convert the variable names from camel case to snake case so we can conform with standard python naming conventions."
   ]
  },
  {
   "cell_type": "code",
   "execution_count": 1127,
   "metadata": {},
   "outputs": [],
   "source": [
    "# Convert all features from camel case to snake case\n",
    "retail_data.rename(\n",
    "    columns={\n",
    "        \"Invoice\": \"invoice\",\n",
    "        \"StockCode\": \"stock_code\",\n",
    "        \"Description\": \"description\",\n",
    "        \"Quantity\": \"quantity\",\n",
    "        \"InvoiceDate\": \"invoice_date\",\n",
    "        \"Price\": \"price\",\n",
    "        \"Customer ID\": \"customer_id\",\n",
    "        \"Country\": \"country\",\n",
    "    },\n",
    "    inplace=True,\n",
    ")"
   ]
  },
  {
   "cell_type": "code",
   "execution_count": 1128,
   "metadata": {},
   "outputs": [
    {
     "data": {
      "text/plain": [
       "invoice          object\n",
       "stock_code       object\n",
       "description      object\n",
       "quantity          int64\n",
       "invoice_date     object\n",
       "price           float64\n",
       "customer_id     float64\n",
       "country          object\n",
       "dtype: object"
      ]
     },
     "execution_count": 1128,
     "metadata": {},
     "output_type": "execute_result"
    }
   ],
   "source": [
    "# Confirm the feature types\n",
    "retail_data.dtypes"
   ]
  },
  {
   "cell_type": "markdown",
   "metadata": {},
   "source": [
    "There are some descrepancies between what the schema was advertised as and its actual contents. Namely, the `invoice_date` variable is an object but we were told it was datetime and the `customer_id` is provided as a float64 type when we were told it was int64. I think in this context it does make sense to convert `invoice_date` to datetime but it would make more sense to convert `customer_id` to a string object because there is no significance in its ordinality."
   ]
  },
  {
   "cell_type": "code",
   "execution_count": 1129,
   "metadata": {},
   "outputs": [],
   "source": [
    "# Convert mistyped features: invoice_date and customer_id\n",
    "retail_data[\"invoice_date\"] = pd.to_datetime(\n",
    "    retail_data[\"invoice_date\"], format=\"%m/%d/%Y %H:%M\"\n",
    ")\n",
    "retail_data[\"customer_id\"] = (\n",
    "    retail_data[\"customer_id\"].fillna(\"Not Provided\").astype(str)\n",
    ")  # replace na values with 0"
   ]
  },
  {
   "cell_type": "code",
   "execution_count": 1130,
   "metadata": {},
   "outputs": [
    {
     "data": {
      "text/plain": [
       "invoice                 object\n",
       "stock_code              object\n",
       "description             object\n",
       "quantity                 int64\n",
       "invoice_date    datetime64[ns]\n",
       "price                  float64\n",
       "customer_id             object\n",
       "country                 object\n",
       "dtype: object"
      ]
     },
     "execution_count": 1130,
     "metadata": {},
     "output_type": "execute_result"
    }
   ],
   "source": [
    "# Confirm newly casted data types\n",
    "retail_data.dtypes"
   ]
  },
  {
   "cell_type": "code",
   "execution_count": 1131,
   "metadata": {},
   "outputs": [
    {
     "data": {
      "text/html": [
       "<div>\n",
       "<style scoped>\n",
       "    .dataframe tbody tr th:only-of-type {\n",
       "        vertical-align: middle;\n",
       "    }\n",
       "\n",
       "    .dataframe tbody tr th {\n",
       "        vertical-align: top;\n",
       "    }\n",
       "\n",
       "    .dataframe thead th {\n",
       "        text-align: right;\n",
       "    }\n",
       "</style>\n",
       "<table border=\"1\" class=\"dataframe\">\n",
       "  <thead>\n",
       "    <tr style=\"text-align: right;\">\n",
       "      <th></th>\n",
       "      <th>invoice</th>\n",
       "      <th>stock_code</th>\n",
       "      <th>description</th>\n",
       "      <th>quantity</th>\n",
       "      <th>invoice_date</th>\n",
       "      <th>price</th>\n",
       "      <th>customer_id</th>\n",
       "      <th>country</th>\n",
       "    </tr>\n",
       "  </thead>\n",
       "  <tbody>\n",
       "    <tr>\n",
       "      <th>0</th>\n",
       "      <td>489434</td>\n",
       "      <td>85048</td>\n",
       "      <td>15CM CHRISTMAS GLASS BALL 20 LIGHTS</td>\n",
       "      <td>12</td>\n",
       "      <td>2009-12-01 07:45:00</td>\n",
       "      <td>6.95</td>\n",
       "      <td>13085.0</td>\n",
       "      <td>United Kingdom</td>\n",
       "    </tr>\n",
       "    <tr>\n",
       "      <th>1</th>\n",
       "      <td>489434</td>\n",
       "      <td>79323P</td>\n",
       "      <td>PINK CHERRY LIGHTS</td>\n",
       "      <td>12</td>\n",
       "      <td>2009-12-01 07:45:00</td>\n",
       "      <td>6.75</td>\n",
       "      <td>13085.0</td>\n",
       "      <td>United Kingdom</td>\n",
       "    </tr>\n",
       "    <tr>\n",
       "      <th>2</th>\n",
       "      <td>489434</td>\n",
       "      <td>79323W</td>\n",
       "      <td>WHITE CHERRY LIGHTS</td>\n",
       "      <td>12</td>\n",
       "      <td>2009-12-01 07:45:00</td>\n",
       "      <td>6.75</td>\n",
       "      <td>13085.0</td>\n",
       "      <td>United Kingdom</td>\n",
       "    </tr>\n",
       "    <tr>\n",
       "      <th>3</th>\n",
       "      <td>489434</td>\n",
       "      <td>22041</td>\n",
       "      <td>RECORD FRAME 7\" SINGLE SIZE</td>\n",
       "      <td>48</td>\n",
       "      <td>2009-12-01 07:45:00</td>\n",
       "      <td>2.10</td>\n",
       "      <td>13085.0</td>\n",
       "      <td>United Kingdom</td>\n",
       "    </tr>\n",
       "    <tr>\n",
       "      <th>4</th>\n",
       "      <td>489434</td>\n",
       "      <td>21232</td>\n",
       "      <td>STRAWBERRY CERAMIC TRINKET BOX</td>\n",
       "      <td>24</td>\n",
       "      <td>2009-12-01 07:45:00</td>\n",
       "      <td>1.25</td>\n",
       "      <td>13085.0</td>\n",
       "      <td>United Kingdom</td>\n",
       "    </tr>\n",
       "  </tbody>\n",
       "</table>\n",
       "</div>"
      ],
      "text/plain": [
       "  invoice stock_code                          description  quantity  \\\n",
       "0  489434      85048  15CM CHRISTMAS GLASS BALL 20 LIGHTS        12   \n",
       "1  489434     79323P                   PINK CHERRY LIGHTS        12   \n",
       "2  489434     79323W                  WHITE CHERRY LIGHTS        12   \n",
       "3  489434      22041         RECORD FRAME 7\" SINGLE SIZE         48   \n",
       "4  489434      21232       STRAWBERRY CERAMIC TRINKET BOX        24   \n",
       "\n",
       "         invoice_date  price customer_id         country  \n",
       "0 2009-12-01 07:45:00   6.95     13085.0  United Kingdom  \n",
       "1 2009-12-01 07:45:00   6.75     13085.0  United Kingdom  \n",
       "2 2009-12-01 07:45:00   6.75     13085.0  United Kingdom  \n",
       "3 2009-12-01 07:45:00   2.10     13085.0  United Kingdom  \n",
       "4 2009-12-01 07:45:00   1.25     13085.0  United Kingdom  "
      ]
     },
     "execution_count": 1131,
     "metadata": {},
     "output_type": "execute_result"
    }
   ],
   "source": [
    "# Get a quick preview of the data\n",
    "retail_data.head()"
   ]
  },
  {
   "cell_type": "markdown",
   "metadata": {},
   "source": [
    "### Unique Customers"
   ]
  },
  {
   "cell_type": "markdown",
   "metadata": {},
   "source": [
    "Let's check how many unique customers we have across our 1M+ recorded orders."
   ]
  },
  {
   "cell_type": "code",
   "execution_count": 1132,
   "metadata": {},
   "outputs": [
    {
     "name": "stdout",
     "output_type": "stream",
     "text": [
      "There are 5943 unique customers in our dataset.\n"
     ]
    }
   ],
   "source": [
    "# Count unique customers\n",
    "unique_customer_count = retail_data['customer_id'].nunique()\n",
    "print(f'There are {unique_customer_count} unique customers in our dataset.')"
   ]
  },
  {
   "cell_type": "markdown",
   "metadata": {},
   "source": [
    "### NA Values and Duplicates"
   ]
  },
  {
   "cell_type": "code",
   "execution_count": 1133,
   "metadata": {},
   "outputs": [
    {
     "name": "stdout",
     "output_type": "stream",
     "text": [
      "The total number of na values in retail_data is 4382.\n"
     ]
    }
   ],
   "source": [
    "# Check for how many na values are in the dataset\n",
    "num_nas = retail_data.isna().sum().sum()\n",
    "print(f\"The total number of na values in retail_data is {num_nas}.\")"
   ]
  },
  {
   "cell_type": "code",
   "execution_count": 1134,
   "metadata": {},
   "outputs": [
    {
     "data": {
      "text/html": [
       "<div>\n",
       "<style scoped>\n",
       "    .dataframe tbody tr th:only-of-type {\n",
       "        vertical-align: middle;\n",
       "    }\n",
       "\n",
       "    .dataframe tbody tr th {\n",
       "        vertical-align: top;\n",
       "    }\n",
       "\n",
       "    .dataframe thead th {\n",
       "        text-align: right;\n",
       "    }\n",
       "</style>\n",
       "<table border=\"1\" class=\"dataframe\">\n",
       "  <thead>\n",
       "    <tr style=\"text-align: right;\">\n",
       "      <th></th>\n",
       "      <th>feature</th>\n",
       "      <th>count_na</th>\n",
       "    </tr>\n",
       "  </thead>\n",
       "  <tbody>\n",
       "    <tr>\n",
       "      <th>0</th>\n",
       "      <td>invoice</td>\n",
       "      <td>0</td>\n",
       "    </tr>\n",
       "    <tr>\n",
       "      <th>1</th>\n",
       "      <td>stock_code</td>\n",
       "      <td>0</td>\n",
       "    </tr>\n",
       "    <tr>\n",
       "      <th>2</th>\n",
       "      <td>description</td>\n",
       "      <td>4382</td>\n",
       "    </tr>\n",
       "    <tr>\n",
       "      <th>3</th>\n",
       "      <td>quantity</td>\n",
       "      <td>0</td>\n",
       "    </tr>\n",
       "    <tr>\n",
       "      <th>4</th>\n",
       "      <td>invoice_date</td>\n",
       "      <td>0</td>\n",
       "    </tr>\n",
       "    <tr>\n",
       "      <th>5</th>\n",
       "      <td>price</td>\n",
       "      <td>0</td>\n",
       "    </tr>\n",
       "    <tr>\n",
       "      <th>6</th>\n",
       "      <td>customer_id</td>\n",
       "      <td>0</td>\n",
       "    </tr>\n",
       "    <tr>\n",
       "      <th>7</th>\n",
       "      <td>country</td>\n",
       "      <td>0</td>\n",
       "    </tr>\n",
       "  </tbody>\n",
       "</table>\n",
       "</div>"
      ],
      "text/plain": [
       "        feature  count_na\n",
       "0       invoice         0\n",
       "1    stock_code         0\n",
       "2   description      4382\n",
       "3      quantity         0\n",
       "4  invoice_date         0\n",
       "5         price         0\n",
       "6   customer_id         0\n",
       "7       country         0"
      ]
     },
     "execution_count": 1134,
     "metadata": {},
     "output_type": "execute_result"
    }
   ],
   "source": [
    "# Investigate which features have the majority of na values\n",
    "na_features_ct = retail_data.isna().sum().reset_index()\n",
    "na_features_ct = na_features_ct.rename({\"index\": \"feature\", 0: \"count_na\"}, axis=1)\n",
    "na_features_ct"
   ]
  },
  {
   "cell_type": "markdown",
   "metadata": {},
   "source": [
    "The `description` variable will provide information about the customers and their preferences and has very few missing values (4382). Because our dataset has over 1 million rows, it is safe to remove all missing values for `description`."
   ]
  },
  {
   "cell_type": "code",
   "execution_count": 1135,
   "metadata": {},
   "outputs": [],
   "source": [
    "# Clean the dataset by dropping all na values of Description\n",
    "retail_data = retail_data.dropna(subset=[\"description\"])"
   ]
  },
  {
   "cell_type": "code",
   "execution_count": 1136,
   "metadata": {},
   "outputs": [
    {
     "data": {
      "text/html": [
       "<div>\n",
       "<style scoped>\n",
       "    .dataframe tbody tr th:only-of-type {\n",
       "        vertical-align: middle;\n",
       "    }\n",
       "\n",
       "    .dataframe tbody tr th {\n",
       "        vertical-align: top;\n",
       "    }\n",
       "\n",
       "    .dataframe thead th {\n",
       "        text-align: right;\n",
       "    }\n",
       "</style>\n",
       "<table border=\"1\" class=\"dataframe\">\n",
       "  <thead>\n",
       "    <tr style=\"text-align: right;\">\n",
       "      <th></th>\n",
       "      <th>feature</th>\n",
       "      <th>count_na</th>\n",
       "    </tr>\n",
       "  </thead>\n",
       "  <tbody>\n",
       "    <tr>\n",
       "      <th>0</th>\n",
       "      <td>invoice</td>\n",
       "      <td>0</td>\n",
       "    </tr>\n",
       "    <tr>\n",
       "      <th>1</th>\n",
       "      <td>stock_code</td>\n",
       "      <td>0</td>\n",
       "    </tr>\n",
       "    <tr>\n",
       "      <th>2</th>\n",
       "      <td>description</td>\n",
       "      <td>0</td>\n",
       "    </tr>\n",
       "    <tr>\n",
       "      <th>3</th>\n",
       "      <td>quantity</td>\n",
       "      <td>0</td>\n",
       "    </tr>\n",
       "    <tr>\n",
       "      <th>4</th>\n",
       "      <td>invoice_date</td>\n",
       "      <td>0</td>\n",
       "    </tr>\n",
       "    <tr>\n",
       "      <th>5</th>\n",
       "      <td>price</td>\n",
       "      <td>0</td>\n",
       "    </tr>\n",
       "    <tr>\n",
       "      <th>6</th>\n",
       "      <td>customer_id</td>\n",
       "      <td>0</td>\n",
       "    </tr>\n",
       "    <tr>\n",
       "      <th>7</th>\n",
       "      <td>country</td>\n",
       "      <td>0</td>\n",
       "    </tr>\n",
       "  </tbody>\n",
       "</table>\n",
       "</div>"
      ],
      "text/plain": [
       "        feature  count_na\n",
       "0       invoice         0\n",
       "1    stock_code         0\n",
       "2   description         0\n",
       "3      quantity         0\n",
       "4  invoice_date         0\n",
       "5         price         0\n",
       "6   customer_id         0\n",
       "7       country         0"
      ]
     },
     "execution_count": 1136,
     "metadata": {},
     "output_type": "execute_result"
    }
   ],
   "source": [
    "# Investigate which features have the majority of na values in cleaned dataset\n",
    "na_features_cleaned_ct = retail_data.isna().sum().reset_index()\n",
    "na_features_cleaned_ct = na_features_cleaned_ct.rename(\n",
    "    {\"index\": \"feature\", 0: \"count_na\"}, axis=1\n",
    ")\n",
    "na_features_cleaned_ct"
   ]
  },
  {
   "cell_type": "markdown",
   "metadata": {},
   "source": [
    "Now all of the na values in our `description` feature have been removed. Let's see if we can find any duplicate values within our dataset."
   ]
  },
  {
   "cell_type": "code",
   "execution_count": 1137,
   "metadata": {},
   "outputs": [
    {
     "name": "stdout",
     "output_type": "stream",
     "text": [
      "Number of duplicates: 34228\n"
     ]
    }
   ],
   "source": [
    "# Count all duplicate values\n",
    "duplicate_count = retail_data.duplicated().sum()\n",
    "\n",
    "# Display the count\n",
    "print(\"Number of duplicates:\", duplicate_count)"
   ]
  },
  {
   "cell_type": "markdown",
   "metadata": {},
   "source": [
    "There are 34228 duplicates in this dataset. Let's drop them all because they provide no extra relevant information."
   ]
  },
  {
   "cell_type": "code",
   "execution_count": 1138,
   "metadata": {},
   "outputs": [],
   "source": [
    "# Drop all duplicates\n",
    "retail_data = retail_data.drop_duplicates()"
   ]
  },
  {
   "cell_type": "markdown",
   "metadata": {},
   "source": [
    "### Canceled Transactions"
   ]
  },
  {
   "cell_type": "markdown",
   "metadata": {},
   "source": [
    "Recall from the 'Data Description' part of the project that the `invoice` variable contains a unique number for each transaction beginning with a 'c' if the transaction was cancelled. Let's see how often transactions are really canceled."
   ]
  },
  {
   "cell_type": "code",
   "execution_count": 1139,
   "metadata": {},
   "outputs": [
    {
     "name": "stdout",
     "output_type": "stream",
     "text": [
      "Out of 1028761 transactions, 19104 were canceled\n",
      " (2.0%)\n"
     ]
    }
   ],
   "source": [
    "# Create a 'canceled' feature that indicates wheter or not a tranaction was canceled\n",
    "canceled_transactions = (retail_data[\"invoice\"].str.startswith(\"C\")).sum()\n",
    "print(\n",
    "    f\"Out of {len(retail_data)} transactions, {canceled_transactions} were canceled\\n ({100*(round(canceled_transactions/len(retail_data), 2))}%)\"\n",
    ")"
   ]
  },
  {
   "cell_type": "markdown",
   "metadata": {},
   "source": [
    "We are now going to drop the records where a transaction was canceled because they make up so little of the data."
   ]
  },
  {
   "cell_type": "code",
   "execution_count": 1140,
   "metadata": {},
   "outputs": [],
   "source": [
    "# Drop rows where 'invoice' starts with 'C'\n",
    "retail_data = retail_data[~retail_data['invoice'].str.lower().str.startswith('c')]"
   ]
  },
  {
   "cell_type": "code",
   "execution_count": 1141,
   "metadata": {},
   "outputs": [
    {
     "name": "stdout",
     "output_type": "stream",
     "text": [
      "(1009657, 8)\n",
      "19104 of canceled transactions were dropped.\n"
     ]
    }
   ],
   "source": [
    "# Now look at dimensions to make sure all canceled transactions have been dropped\n",
    "num_dropped_rows = 1028761 - retail_data.shape[0]\n",
    "print(retail_data.shape)\n",
    "print(f'{num_dropped_rows} of canceled transactions were dropped.')"
   ]
  },
  {
   "cell_type": "markdown",
   "metadata": {},
   "source": [
    "Because the amount of rows we dropped is the same as the number of canceled transactions from earlier, this is confrimation we dropped all canceled transactions from our dataset."
   ]
  },
  {
   "cell_type": "code",
   "execution_count": 1142,
   "metadata": {},
   "outputs": [
    {
     "name": "stdout",
     "output_type": "stream",
     "text": [
      "Number\n"
     ]
    }
   ],
   "source": [
    "num_dropped_rows = 1028761 - retail_data.shape[0]\n",
    "print('Number')"
   ]
  },
  {
   "cell_type": "markdown",
   "metadata": {},
   "source": [
    "### Outliers/Ambiguous Values"
   ]
  },
  {
   "cell_type": "code",
   "execution_count": 1143,
   "metadata": {},
   "outputs": [
    {
     "name": "stdout",
     "output_type": "stream",
     "text": [
      "Count of quantities less than 0: 760\n",
      "Count of prices less than 0: 5\n"
     ]
    }
   ],
   "source": [
    "# Check for 'price' and 'quantity' of values negative (nonsensical in terms of transaction)\n",
    "neg_quantity = (retail_data[\"quantity\"] < 0).sum()\n",
    "neg_price = (retail_data[\"price\"] < 0).sum()\n",
    "\n",
    "# Display the result\n",
    "print(\n",
    "    f\"Count of quantities less than 0: {neg_quantity}\\nCount of prices less than 0: {neg_price}\"\n",
    ")"
   ]
  },
  {
   "cell_type": "markdown",
   "metadata": {},
   "source": [
    "We have 19863 `quantity` values that are less than 0 and 1744 `price` values less than 0. Since this makes no sense in terms of transactions, we will drop these values. This usually represents items that were returned/cancelled orders. In order to preserve information and keep canceled records while still maintaioning a realistic range for our `quantity` and `price` variables, we will set all `price` and `quantity` values less than 0 to be equal to 0."
   ]
  },
  {
   "cell_type": "code",
   "execution_count": 1144,
   "metadata": {},
   "outputs": [
    {
     "name": "stdout",
     "output_type": "stream",
     "text": [
      "New shape of data: (1009657, 8)\n",
      "Count of quantities less than 0: 0\n",
      "Count of prices less than 0: 0\n"
     ]
    }
   ],
   "source": [
    "# Set'quantity' and 'price' values to be equal to 0 if they are less than 0\n",
    "retail_data['quantity'] = retail_data['quantity'].apply(lambda x: max(0.0, x))\n",
    "retail_data['price'] = retail_data['price'].apply(lambda x: max(0.0, x))\n",
    "\n",
    "# Assign new variales to check for count of 'price' and 'quantity' less than 0\n",
    "neg_quantity_filtered = (retail_data[\"quantity\"] < 0).sum()\n",
    "neg_price_filtered = (retail_data[\"price\"] < 0).sum()\n",
    "\n",
    "print(f\"New shape of data: {retail_data.shape}\")\n",
    "# Display the result\n",
    "print(\n",
    "    f\"Count of quantities less than 0: {neg_quantity_filtered}\\nCount of prices less than 0: {neg_price_filtered}\"\n",
    ")"
   ]
  },
  {
   "cell_type": "markdown",
   "metadata": {},
   "source": [
    "Now that we've dropped entries fitting unreasonable patterns in our numeric data, let's check out our `description` variable to see if there are any entries that are lowercased compared to the majority of upeercased desctiptions."
   ]
  },
  {
   "cell_type": "code",
   "execution_count": 1145,
   "metadata": {},
   "outputs": [
    {
     "name": "stdout",
     "output_type": "stream",
     "text": [
      "The count of lowercased descriptions is 725\n"
     ]
    }
   ],
   "source": [
    "count_descriptions_lower = retail_data['description'].apply(lambda t: t.islower()).sum()\n",
    "print(f'The count of lowercased descriptions is {count_descriptions_lower}')"
   ]
  },
  {
   "cell_type": "markdown",
   "metadata": {},
   "source": [
    "725 lowercased descriptions is a decent amount. Let's see if we can find any patterns among these lowercased entries."
   ]
  },
  {
   "cell_type": "code",
   "execution_count": 1146,
   "metadata": {},
   "outputs": [
    {
     "data": {
      "image/png": "[encoded data removed]",
      "text/plain": [
       "<Figure size 1000x600 with 1 Axes>"
      ]
     },
     "metadata": {},
     "output_type": "display_data"
    }
   ],
   "source": [
    "# # Sort the phrases by count in descending order\n",
    "descriptions_lower = retail_data[retail_data['description'].apply(lambda t: t.islower())]['description'].value_counts()\n",
    "\n",
    "# # Plot the histogram\n",
    "plt.figure(figsize=(10, 6))\n",
    "descriptions_lower[:20].plot(kind='bar', color='skyblue')\n",
    "plt.title('Top 20 Most Frequent Lowercased Descriptions')\n",
    "plt.xlabel('Lowercased Descriptions')\n",
    "plt.ylabel('Frequency')\n",
    "plt.xticks(rotation=45)\n",
    "plt.tight_layout()\n",
    "plt.show()"
   ]
  },
  {
   "cell_type": "code",
   "execution_count": 1147,
   "metadata": {},
   "outputs": [
    {
     "name": "stdout",
     "output_type": "stream",
     "text": [
      "The total number of lowercased descriptions in our histogram is 506, making up\n",
      "69.79% of all lowercased descriptions.\n"
     ]
    }
   ],
   "source": [
    "# Determine proportion of lowercased descriptions visible in histogram\n",
    "count_lower_descriptions = descriptions_lower[:20].sum()\n",
    "proportion_lower_descriptions = round(100*(count_lower_descriptions / 725), 2)\n",
    "print(f'The total number of lowercased descriptions in our histogram is {count_lower_descriptions}, making up\\n{proportion_lower_descriptions}% of all lowercased descriptions.')"
   ]
  },
  {
   "cell_type": "markdown",
   "metadata": {},
   "source": [
    "Looking at this histogram, the majority of these lowercase listings indicate that a product was either damaged, missing, or categorized as something else. There are so few of these instances though that it is best to just remove them given that we have 1M+ rows of data to work with in total."
   ]
  },
  {
   "cell_type": "code",
   "execution_count": 1148,
   "metadata": {},
   "outputs": [],
   "source": [
    "# Remove the lowercase descriptions from the original DataFrame\n",
    "retail_data = retail_data[~retail_data['description'].apply(lambda t: t.islower())]"
   ]
  },
  {
   "cell_type": "code",
   "execution_count": 1196,
   "metadata": {},
   "outputs": [
    {
     "name": "stdout",
     "output_type": "stream",
     "text": [
      "The new count of lowercase descriptions is 0\n"
     ]
    }
   ],
   "source": [
    "new_lower_count = retail_data['description'].apply(lambda t: t.islower()).sum()\n",
    "print(f'The new count of lowercase descriptions is {new_lower_count}')"
   ]
  },
  {
   "cell_type": "markdown",
   "metadata": {},
   "source": [
    "## Feature Engineering\n",
    "---"
   ]
  },
  {
   "cell_type": "markdown",
   "metadata": {},
   "source": [
    "First off, we need to create the value we are going to be forecasting - revenue. Recall from any economics class:  \n",
    "$$\n",
    "Revenue = Price * Quantity\n",
    "$$"
   ]
  },
  {
   "cell_type": "code",
   "execution_count": 1149,
   "metadata": {},
   "outputs": [],
   "source": [
    "# Create a revenue value\n",
    "retail_data[\"revenue\"] = round(retail_data[\"price\"] * retail_data[\"quantity\"], 2)"
   ]
  },
  {
   "cell_type": "code",
   "execution_count": 1150,
   "metadata": {},
   "outputs": [
    {
     "data": {
      "text/html": [
       "<div>\n",
       "<style scoped>\n",
       "    .dataframe tbody tr th:only-of-type {\n",
       "        vertical-align: middle;\n",
       "    }\n",
       "\n",
       "    .dataframe tbody tr th {\n",
       "        vertical-align: top;\n",
       "    }\n",
       "\n",
       "    .dataframe thead th {\n",
       "        text-align: right;\n",
       "    }\n",
       "</style>\n",
       "<table border=\"1\" class=\"dataframe\">\n",
       "  <thead>\n",
       "    <tr style=\"text-align: right;\">\n",
       "      <th></th>\n",
       "      <th>invoice</th>\n",
       "      <th>stock_code</th>\n",
       "      <th>description</th>\n",
       "      <th>quantity</th>\n",
       "      <th>invoice_date</th>\n",
       "      <th>price</th>\n",
       "      <th>customer_id</th>\n",
       "      <th>country</th>\n",
       "      <th>revenue</th>\n",
       "    </tr>\n",
       "  </thead>\n",
       "  <tbody>\n",
       "    <tr>\n",
       "      <th>0</th>\n",
       "      <td>489434</td>\n",
       "      <td>85048</td>\n",
       "      <td>15CM CHRISTMAS GLASS BALL 20 LIGHTS</td>\n",
       "      <td>12.0</td>\n",
       "      <td>2009-12-01 07:45:00</td>\n",
       "      <td>6.95</td>\n",
       "      <td>13085.0</td>\n",
       "      <td>United Kingdom</td>\n",
       "      <td>83.4</td>\n",
       "    </tr>\n",
       "    <tr>\n",
       "      <th>1</th>\n",
       "      <td>489434</td>\n",
       "      <td>79323P</td>\n",
       "      <td>PINK CHERRY LIGHTS</td>\n",
       "      <td>12.0</td>\n",
       "      <td>2009-12-01 07:45:00</td>\n",
       "      <td>6.75</td>\n",
       "      <td>13085.0</td>\n",
       "      <td>United Kingdom</td>\n",
       "      <td>81.0</td>\n",
       "    </tr>\n",
       "    <tr>\n",
       "      <th>2</th>\n",
       "      <td>489434</td>\n",
       "      <td>79323W</td>\n",
       "      <td>WHITE CHERRY LIGHTS</td>\n",
       "      <td>12.0</td>\n",
       "      <td>2009-12-01 07:45:00</td>\n",
       "      <td>6.75</td>\n",
       "      <td>13085.0</td>\n",
       "      <td>United Kingdom</td>\n",
       "      <td>81.0</td>\n",
       "    </tr>\n",
       "    <tr>\n",
       "      <th>3</th>\n",
       "      <td>489434</td>\n",
       "      <td>22041</td>\n",
       "      <td>RECORD FRAME 7\" SINGLE SIZE</td>\n",
       "      <td>48.0</td>\n",
       "      <td>2009-12-01 07:45:00</td>\n",
       "      <td>2.10</td>\n",
       "      <td>13085.0</td>\n",
       "      <td>United Kingdom</td>\n",
       "      <td>100.8</td>\n",
       "    </tr>\n",
       "    <tr>\n",
       "      <th>4</th>\n",
       "      <td>489434</td>\n",
       "      <td>21232</td>\n",
       "      <td>STRAWBERRY CERAMIC TRINKET BOX</td>\n",
       "      <td>24.0</td>\n",
       "      <td>2009-12-01 07:45:00</td>\n",
       "      <td>1.25</td>\n",
       "      <td>13085.0</td>\n",
       "      <td>United Kingdom</td>\n",
       "      <td>30.0</td>\n",
       "    </tr>\n",
       "  </tbody>\n",
       "</table>\n",
       "</div>"
      ],
      "text/plain": [
       "  invoice stock_code                          description  quantity  \\\n",
       "0  489434      85048  15CM CHRISTMAS GLASS BALL 20 LIGHTS      12.0   \n",
       "1  489434     79323P                   PINK CHERRY LIGHTS      12.0   \n",
       "2  489434     79323W                  WHITE CHERRY LIGHTS      12.0   \n",
       "3  489434      22041         RECORD FRAME 7\" SINGLE SIZE       48.0   \n",
       "4  489434      21232       STRAWBERRY CERAMIC TRINKET BOX      24.0   \n",
       "\n",
       "         invoice_date  price customer_id         country  revenue  \n",
       "0 2009-12-01 07:45:00   6.95     13085.0  United Kingdom     83.4  \n",
       "1 2009-12-01 07:45:00   6.75     13085.0  United Kingdom     81.0  \n",
       "2 2009-12-01 07:45:00   6.75     13085.0  United Kingdom     81.0  \n",
       "3 2009-12-01 07:45:00   2.10     13085.0  United Kingdom    100.8  \n",
       "4 2009-12-01 07:45:00   1.25     13085.0  United Kingdom     30.0  "
      ]
     },
     "execution_count": 1150,
     "metadata": {},
     "output_type": "execute_result"
    }
   ],
   "source": [
    "# Preview data with added 'revenue' column\n",
    "retail_data.head()"
   ]
  },
  {
   "cell_type": "markdown",
   "metadata": {},
   "source": [
    "Looking at our dataset, there are four feature changes I want to make: `price`, `invoice_date`, `quantity`, and `description`. I plan on categorizing `quantity` and `price` by using 'low', 'medium', and 'high' bins and breaking `invoice_date` by months so I can get a general trend of how seasonality influences sales. I also plan on using clustering to categorize the `description` feature.  \n",
    "\n",
    "Before doing any bucketing, we need to make sure that our continuous variables `price` and `quantity` are normally distributed first."
   ]
  },
  {
   "cell_type": "code",
   "execution_count": 1151,
   "metadata": {},
   "outputs": [
    {
     "data": {
      "image/png": "[encoded data removed]",
      "text/plain": [
       "<Figure size 1200x500 with 2 Axes>"
      ]
     },
     "metadata": {},
     "output_type": "display_data"
    }
   ],
   "source": [
    "import matplotlib.pyplot as plt\n",
    "\n",
    "# Set the figure size and create subplots\n",
    "plt.figure(figsize=(12, 5))\n",
    "\n",
    "# Create a subplot for the 'price' variable\n",
    "plt.subplot(1, 2, 1)  # 1 row, 2 columns, first subplot\n",
    "plt.hist(retail_data['price'], bins=30, edgecolor='k', alpha=0.75)\n",
    "plt.title('Price Distribution Histogram')\n",
    "plt.xlabel('Price')\n",
    "plt.ylabel('Frequency')\n",
    "\n",
    "# Create a subplot for the 'quantity' variable\n",
    "plt.subplot(1, 2, 2)  # 1 row, 2 columns, second subplot\n",
    "plt.hist(retail_data['quantity'], bins=30, edgecolor='k', alpha=0.75)\n",
    "plt.title('Quantity Distribution Histogram')\n",
    "plt.xlabel('Quantity')\n",
    "plt.ylabel('Frequency')\n",
    "\n",
    "# Adjust the spacing between subplots\n",
    "plt.tight_layout()\n",
    "\n",
    "plt.show()\n"
   ]
  },
  {
   "cell_type": "markdown",
   "metadata": {},
   "source": [
    "These histograms indicate that both of our `quantity` and `price` variables are very skewed with most of the distbituion lying near zero. This indicates that there are most likely outliers causing this skew.\n",
    "\n",
    "Now we will make a scatterplot to see how many outliers there are and whether or not removing them makes a significant difference to our distribution."
   ]
  },
  {
   "cell_type": "code",
   "execution_count": 1152,
   "metadata": {},
   "outputs": [
    {
     "data": {
      "image/png": "[encoded data removed]",
      "text/plain": [
       "<Figure size 1200x500 with 2 Axes>"
      ]
     },
     "metadata": {},
     "output_type": "display_data"
    }
   ],
   "source": [
    "# Create a Scatter plot figure with two subplots side by side\n",
    "fig, (ax1, ax2) = plt.subplots(1, 2, figsize=(12, 5))  # 1 row, 2 columns\n",
    "\n",
    "# Plot 'price' (scatter plot) on the first subplot\n",
    "ax1.scatter(range(len(retail_data['price'])), retail_data['price'])\n",
    "ax1.set_title('Scatter Plot for Price')\n",
    "ax1.set_ylabel('Price (£)')  # Set the y-label for the first subplot\n",
    "\n",
    "# Plot 'quantity' (scatter plot) on the first subplot\n",
    "ax2.scatter(range(len(retail_data['quantity'])), retail_data['quantity'])\n",
    "ax2.set_title('Scatter Plot for Quantity')\n",
    "ax2.set_ylabel('Quantity')  # Set the y-label for the second subplot\n",
    "\n",
    "# Adjust layout to prevent overlapping titles\n",
    "plt.tight_layout()\n",
    "\n",
    "# Show the plots\n",
    "plt.show()"
   ]
  },
  {
   "cell_type": "markdown",
   "metadata": {},
   "source": [
    "Though there are outliers in both the `price` and `quantity` variables, I think that it is reasonable for a store to sell very high priced items and high quantities because they are selling to wholesalers, retail stores, and resellers who can definitely afford to buy this kind of quantity and price.  \n",
    "\n",
    "Next, we'll check to see the exact records where the `price` was greater than 20,000£ and separately where `quantity` was greater than 60,000"
   ]
  },
  {
   "cell_type": "code",
   "execution_count": 1153,
   "metadata": {},
   "outputs": [
    {
     "data": {
      "text/html": [
       "<div>\n",
       "<style scoped>\n",
       "    .dataframe tbody tr th:only-of-type {\n",
       "        vertical-align: middle;\n",
       "    }\n",
       "\n",
       "    .dataframe tbody tr th {\n",
       "        vertical-align: top;\n",
       "    }\n",
       "\n",
       "    .dataframe thead th {\n",
       "        text-align: right;\n",
       "    }\n",
       "</style>\n",
       "<table border=\"1\" class=\"dataframe\">\n",
       "  <thead>\n",
       "    <tr style=\"text-align: right;\">\n",
       "      <th></th>\n",
       "      <th>invoice</th>\n",
       "      <th>stock_code</th>\n",
       "      <th>description</th>\n",
       "      <th>quantity</th>\n",
       "      <th>invoice_date</th>\n",
       "      <th>price</th>\n",
       "      <th>customer_id</th>\n",
       "      <th>country</th>\n",
       "      <th>revenue</th>\n",
       "    </tr>\n",
       "  </thead>\n",
       "  <tbody>\n",
       "    <tr>\n",
       "      <th>241827</th>\n",
       "      <td>512771</td>\n",
       "      <td>M</td>\n",
       "      <td>Manual</td>\n",
       "      <td>1.0</td>\n",
       "      <td>2010-06-17 16:53:00</td>\n",
       "      <td>25111.09</td>\n",
       "      <td>Not Provided</td>\n",
       "      <td>United Kingdom</td>\n",
       "      <td>25111.09</td>\n",
       "    </tr>\n",
       "    <tr>\n",
       "      <th>61619</th>\n",
       "      <td>541431</td>\n",
       "      <td>23166</td>\n",
       "      <td>MEDIUM CERAMIC TOP STORAGE JAR</td>\n",
       "      <td>74215.0</td>\n",
       "      <td>2011-01-18 10:01:00</td>\n",
       "      <td>1.04</td>\n",
       "      <td>12346.0</td>\n",
       "      <td>United Kingdom</td>\n",
       "      <td>77183.60</td>\n",
       "    </tr>\n",
       "    <tr>\n",
       "      <th>540421</th>\n",
       "      <td>581483</td>\n",
       "      <td>23843</td>\n",
       "      <td>PAPER CRAFT , LITTLE BIRDIE</td>\n",
       "      <td>80995.0</td>\n",
       "      <td>2011-12-09 09:15:00</td>\n",
       "      <td>2.08</td>\n",
       "      <td>16446.0</td>\n",
       "      <td>United Kingdom</td>\n",
       "      <td>168469.60</td>\n",
       "    </tr>\n",
       "  </tbody>\n",
       "</table>\n",
       "</div>"
      ],
      "text/plain": [
       "       invoice stock_code                     description  quantity  \\\n",
       "241827  512771          M                          Manual       1.0   \n",
       "61619   541431      23166  MEDIUM CERAMIC TOP STORAGE JAR   74215.0   \n",
       "540421  581483      23843     PAPER CRAFT , LITTLE BIRDIE   80995.0   \n",
       "\n",
       "              invoice_date     price   customer_id         country    revenue  \n",
       "241827 2010-06-17 16:53:00  25111.09  Not Provided  United Kingdom   25111.09  \n",
       "61619  2011-01-18 10:01:00      1.04       12346.0  United Kingdom   77183.60  \n",
       "540421 2011-12-09 09:15:00      2.08       16446.0  United Kingdom  168469.60  "
      ]
     },
     "execution_count": 1153,
     "metadata": {},
     "output_type": "execute_result"
    }
   ],
   "source": [
    "# Looking at specific instances of our continuous outliers for price and quantity\n",
    "outliers_df = retail_data[(retail_data['quantity']>60000) | (retail_data['price']>20000)]\n",
    "outliers_df.head()"
   ]
  },
  {
   "cell_type": "markdown",
   "metadata": {},
   "source": [
    "These outliers seem reasonable. The most expensive item is labeled 'Manual' for the stock code and this indicates in the context of e-commerce or retail data that the particular item doesn't have an automated stock code and was either a unique or custom product or a non-inventory item. The other two outliers were bought in massive quantities but is not surprisinig because of the clientele of this U.K. based store.  \n",
    "\n",
    "Because these outliers do not seem like mistakes we are going to adjust this distribution with a log to try to make the distribution more normal for categorical binning later."
   ]
  },
  {
   "cell_type": "code",
   "execution_count": 1154,
   "metadata": {},
   "outputs": [
    {
     "data": {
      "image/png": "[encoded data removed]",
      "text/plain": [
       "<Figure size 1200x500 with 2 Axes>"
      ]
     },
     "metadata": {},
     "output_type": "display_data"
    }
   ],
   "source": [
    "# Apply the natural logarithm to 'quantity' and 'price'\n",
    "log_quantity = np.log1p(retail_data['quantity'])  # Add 1 to avoid log(0)\n",
    "log_price = np.log1p(retail_data['price'])  # Add 1 to avoid log(0)\n",
    "\n",
    "# Set the figure size and create subplots\n",
    "plt.figure(figsize=(12, 5))\n",
    "\n",
    "# Create a subplot for the 'log(price)' variable\n",
    "plt.subplot(1, 2, 1)  # 1 row, 2 columns, first subplot\n",
    "plt.hist(log_price, bins=30, edgecolor='k', alpha=0.75)\n",
    "plt.title('Log(Price) Distribution Histogram')\n",
    "plt.xlabel('Log(Price)')\n",
    "plt.ylabel('Frequency')\n",
    "\n",
    "# Create a subplot for the 'log(quantity)' variable\n",
    "plt.subplot(1, 2, 2)  # 1 row, 2 columns, second subplot\n",
    "plt.hist(log_quantity, bins=30, edgecolor='k', alpha=0.75)\n",
    "plt.title('Log(Quantity) Distribution Histogram')\n",
    "plt.xlabel('Log(Quantity)')\n",
    "plt.ylabel('Frequency')\n",
    "\n",
    "# Adjust the spacing between subplots\n",
    "plt.tight_layout()\n",
    "\n",
    "plt.show()"
   ]
  },
  {
   "cell_type": "markdown",
   "metadata": {},
   "source": [
    "The distribution is still slightly right skewed for both Log(Price) and Log(Quantity) but not nearly as extreme before we applied a log transformation. This will make our binning much easier (and less skewed) when trying to make these variables categorical so we will create new log transformed variables of `price` and `quantity`."
   ]
  },
  {
   "cell_type": "code",
   "execution_count": 1155,
   "metadata": {},
   "outputs": [],
   "source": [
    "# Create new log transformed variables of 'price' and 'quantity'\n",
    "retail_data['log_price'] = np.log1p(retail_data['price'])\n",
    "retail_data['log_quantity'] = np.log1p(retail_data['quantity'])\n",
    "\n",
    "# To stay consistent, we will also create a log transformed 'revenue' variable\n",
    "retail_data['log_revenue'] = np.log1p(retail_data['revenue'])"
   ]
  },
  {
   "cell_type": "code",
   "execution_count": 1156,
   "metadata": {},
   "outputs": [
    {
     "data": {
      "text/html": [
       "<div>\n",
       "<style scoped>\n",
       "    .dataframe tbody tr th:only-of-type {\n",
       "        vertical-align: middle;\n",
       "    }\n",
       "\n",
       "    .dataframe tbody tr th {\n",
       "        vertical-align: top;\n",
       "    }\n",
       "\n",
       "    .dataframe thead th {\n",
       "        text-align: right;\n",
       "    }\n",
       "</style>\n",
       "<table border=\"1\" class=\"dataframe\">\n",
       "  <thead>\n",
       "    <tr style=\"text-align: right;\">\n",
       "      <th></th>\n",
       "      <th>invoice</th>\n",
       "      <th>stock_code</th>\n",
       "      <th>description</th>\n",
       "      <th>quantity</th>\n",
       "      <th>invoice_date</th>\n",
       "      <th>price</th>\n",
       "      <th>customer_id</th>\n",
       "      <th>country</th>\n",
       "      <th>revenue</th>\n",
       "      <th>log_price</th>\n",
       "      <th>log_quantity</th>\n",
       "      <th>log_revenue</th>\n",
       "    </tr>\n",
       "  </thead>\n",
       "  <tbody>\n",
       "    <tr>\n",
       "      <th>0</th>\n",
       "      <td>489434</td>\n",
       "      <td>85048</td>\n",
       "      <td>15CM CHRISTMAS GLASS BALL 20 LIGHTS</td>\n",
       "      <td>12.0</td>\n",
       "      <td>2009-12-01 07:45:00</td>\n",
       "      <td>6.95</td>\n",
       "      <td>13085.0</td>\n",
       "      <td>United Kingdom</td>\n",
       "      <td>83.4</td>\n",
       "      <td>2.073172</td>\n",
       "      <td>2.564949</td>\n",
       "      <td>4.435567</td>\n",
       "    </tr>\n",
       "    <tr>\n",
       "      <th>1</th>\n",
       "      <td>489434</td>\n",
       "      <td>79323P</td>\n",
       "      <td>PINK CHERRY LIGHTS</td>\n",
       "      <td>12.0</td>\n",
       "      <td>2009-12-01 07:45:00</td>\n",
       "      <td>6.75</td>\n",
       "      <td>13085.0</td>\n",
       "      <td>United Kingdom</td>\n",
       "      <td>81.0</td>\n",
       "      <td>2.047693</td>\n",
       "      <td>2.564949</td>\n",
       "      <td>4.406719</td>\n",
       "    </tr>\n",
       "    <tr>\n",
       "      <th>2</th>\n",
       "      <td>489434</td>\n",
       "      <td>79323W</td>\n",
       "      <td>WHITE CHERRY LIGHTS</td>\n",
       "      <td>12.0</td>\n",
       "      <td>2009-12-01 07:45:00</td>\n",
       "      <td>6.75</td>\n",
       "      <td>13085.0</td>\n",
       "      <td>United Kingdom</td>\n",
       "      <td>81.0</td>\n",
       "      <td>2.047693</td>\n",
       "      <td>2.564949</td>\n",
       "      <td>4.406719</td>\n",
       "    </tr>\n",
       "    <tr>\n",
       "      <th>3</th>\n",
       "      <td>489434</td>\n",
       "      <td>22041</td>\n",
       "      <td>RECORD FRAME 7\" SINGLE SIZE</td>\n",
       "      <td>48.0</td>\n",
       "      <td>2009-12-01 07:45:00</td>\n",
       "      <td>2.10</td>\n",
       "      <td>13085.0</td>\n",
       "      <td>United Kingdom</td>\n",
       "      <td>100.8</td>\n",
       "      <td>1.131402</td>\n",
       "      <td>3.891820</td>\n",
       "      <td>4.623010</td>\n",
       "    </tr>\n",
       "    <tr>\n",
       "      <th>4</th>\n",
       "      <td>489434</td>\n",
       "      <td>21232</td>\n",
       "      <td>STRAWBERRY CERAMIC TRINKET BOX</td>\n",
       "      <td>24.0</td>\n",
       "      <td>2009-12-01 07:45:00</td>\n",
       "      <td>1.25</td>\n",
       "      <td>13085.0</td>\n",
       "      <td>United Kingdom</td>\n",
       "      <td>30.0</td>\n",
       "      <td>0.810930</td>\n",
       "      <td>3.218876</td>\n",
       "      <td>3.433987</td>\n",
       "    </tr>\n",
       "  </tbody>\n",
       "</table>\n",
       "</div>"
      ],
      "text/plain": [
       "  invoice stock_code                          description  quantity  \\\n",
       "0  489434      85048  15CM CHRISTMAS GLASS BALL 20 LIGHTS      12.0   \n",
       "1  489434     79323P                   PINK CHERRY LIGHTS      12.0   \n",
       "2  489434     79323W                  WHITE CHERRY LIGHTS      12.0   \n",
       "3  489434      22041         RECORD FRAME 7\" SINGLE SIZE       48.0   \n",
       "4  489434      21232       STRAWBERRY CERAMIC TRINKET BOX      24.0   \n",
       "\n",
       "         invoice_date  price customer_id         country  revenue  log_price  \\\n",
       "0 2009-12-01 07:45:00   6.95     13085.0  United Kingdom     83.4   2.073172   \n",
       "1 2009-12-01 07:45:00   6.75     13085.0  United Kingdom     81.0   2.047693   \n",
       "2 2009-12-01 07:45:00   6.75     13085.0  United Kingdom     81.0   2.047693   \n",
       "3 2009-12-01 07:45:00   2.10     13085.0  United Kingdom    100.8   1.131402   \n",
       "4 2009-12-01 07:45:00   1.25     13085.0  United Kingdom     30.0   0.810930   \n",
       "\n",
       "   log_quantity  log_revenue  \n",
       "0      2.564949     4.435567  \n",
       "1      2.564949     4.406719  \n",
       "2      2.564949     4.406719  \n",
       "3      3.891820     4.623010  \n",
       "4      3.218876     3.433987  "
      ]
     },
     "execution_count": 1156,
     "metadata": {},
     "output_type": "execute_result"
    }
   ],
   "source": [
    "# Check to make sure our new variables look how we expect\n",
    "retail_data.head()"
   ]
  },
  {
   "cell_type": "code",
   "execution_count": 1157,
   "metadata": {},
   "outputs": [
    {
     "data": {
      "text/html": [
       "<div>\n",
       "<style scoped>\n",
       "    .dataframe tbody tr th:only-of-type {\n",
       "        vertical-align: middle;\n",
       "    }\n",
       "\n",
       "    .dataframe tbody tr th {\n",
       "        vertical-align: top;\n",
       "    }\n",
       "\n",
       "    .dataframe thead th {\n",
       "        text-align: right;\n",
       "    }\n",
       "</style>\n",
       "<table border=\"1\" class=\"dataframe\">\n",
       "  <thead>\n",
       "    <tr style=\"text-align: right;\">\n",
       "      <th></th>\n",
       "      <th>quantity</th>\n",
       "      <th>invoice_date</th>\n",
       "      <th>price</th>\n",
       "      <th>revenue</th>\n",
       "      <th>log_price</th>\n",
       "      <th>log_quantity</th>\n",
       "      <th>log_revenue</th>\n",
       "    </tr>\n",
       "  </thead>\n",
       "  <tbody>\n",
       "    <tr>\n",
       "      <th>count</th>\n",
       "      <td>1.008932e+06</td>\n",
       "      <td>1008932</td>\n",
       "      <td>1.008932e+06</td>\n",
       "      <td>1.008932e+06</td>\n",
       "      <td>1.008932e+06</td>\n",
       "      <td>1.008932e+06</td>\n",
       "      <td>1.008932e+06</td>\n",
       "    </tr>\n",
       "    <tr>\n",
       "      <th>mean</th>\n",
       "      <td>1.115949e+01</td>\n",
       "      <td>2011-01-04 10:11:41.637573888</td>\n",
       "      <td>4.070137e+00</td>\n",
       "      <td>2.029499e+01</td>\n",
       "      <td>1.253749e+00</td>\n",
       "      <td>1.720367e+00</td>\n",
       "      <td>2.358967e+00</td>\n",
       "    </tr>\n",
       "    <tr>\n",
       "      <th>min</th>\n",
       "      <td>0.000000e+00</td>\n",
       "      <td>2009-12-01 07:45:00</td>\n",
       "      <td>0.000000e+00</td>\n",
       "      <td>0.000000e+00</td>\n",
       "      <td>0.000000e+00</td>\n",
       "      <td>0.000000e+00</td>\n",
       "      <td>0.000000e+00</td>\n",
       "    </tr>\n",
       "    <tr>\n",
       "      <th>25%</th>\n",
       "      <td>1.000000e+00</td>\n",
       "      <td>2010-07-06 11:21:00</td>\n",
       "      <td>1.250000e+00</td>\n",
       "      <td>4.130000e+00</td>\n",
       "      <td>8.109302e-01</td>\n",
       "      <td>6.931472e-01</td>\n",
       "      <td>1.635106e+00</td>\n",
       "    </tr>\n",
       "    <tr>\n",
       "      <th>50%</th>\n",
       "      <td>4.000000e+00</td>\n",
       "      <td>2010-12-09 15:23:00</td>\n",
       "      <td>2.100000e+00</td>\n",
       "      <td>1.008000e+01</td>\n",
       "      <td>1.131402e+00</td>\n",
       "      <td>1.609438e+00</td>\n",
       "      <td>2.405142e+00</td>\n",
       "    </tr>\n",
       "    <tr>\n",
       "      <th>75%</th>\n",
       "      <td>1.200000e+01</td>\n",
       "      <td>2011-07-28 11:29:00</td>\n",
       "      <td>4.130000e+00</td>\n",
       "      <td>1.770000e+01</td>\n",
       "      <td>1.635106e+00</td>\n",
       "      <td>2.564949e+00</td>\n",
       "      <td>2.928524e+00</td>\n",
       "    </tr>\n",
       "    <tr>\n",
       "      <th>max</th>\n",
       "      <td>8.099500e+04</td>\n",
       "      <td>2011-12-09 12:50:00</td>\n",
       "      <td>2.511109e+04</td>\n",
       "      <td>1.684696e+05</td>\n",
       "      <td>1.013110e+01</td>\n",
       "      <td>1.130216e+01</td>\n",
       "      <td>1.203452e+01</td>\n",
       "    </tr>\n",
       "    <tr>\n",
       "      <th>std</th>\n",
       "      <td>1.296109e+02</td>\n",
       "      <td>NaN</td>\n",
       "      <td>5.040515e+01</td>\n",
       "      <td>2.056129e+02</td>\n",
       "      <td>6.457492e-01</td>\n",
       "      <td>9.973460e-01</td>\n",
       "      <td>1.011556e+00</td>\n",
       "    </tr>\n",
       "  </tbody>\n",
       "</table>\n",
       "</div>"
      ],
      "text/plain": [
       "           quantity                   invoice_date         price  \\\n",
       "count  1.008932e+06                        1008932  1.008932e+06   \n",
       "mean   1.115949e+01  2011-01-04 10:11:41.637573888  4.070137e+00   \n",
       "min    0.000000e+00            2009-12-01 07:45:00  0.000000e+00   \n",
       "25%    1.000000e+00            2010-07-06 11:21:00  1.250000e+00   \n",
       "50%    4.000000e+00            2010-12-09 15:23:00  2.100000e+00   \n",
       "75%    1.200000e+01            2011-07-28 11:29:00  4.130000e+00   \n",
       "max    8.099500e+04            2011-12-09 12:50:00  2.511109e+04   \n",
       "std    1.296109e+02                            NaN  5.040515e+01   \n",
       "\n",
       "            revenue     log_price  log_quantity   log_revenue  \n",
       "count  1.008932e+06  1.008932e+06  1.008932e+06  1.008932e+06  \n",
       "mean   2.029499e+01  1.253749e+00  1.720367e+00  2.358967e+00  \n",
       "min    0.000000e+00  0.000000e+00  0.000000e+00  0.000000e+00  \n",
       "25%    4.130000e+00  8.109302e-01  6.931472e-01  1.635106e+00  \n",
       "50%    1.008000e+01  1.131402e+00  1.609438e+00  2.405142e+00  \n",
       "75%    1.770000e+01  1.635106e+00  2.564949e+00  2.928524e+00  \n",
       "max    1.684696e+05  1.013110e+01  1.130216e+01  1.203452e+01  \n",
       "std    2.056129e+02  6.457492e-01  9.973460e-01  1.011556e+00  "
      ]
     },
     "execution_count": 1157,
     "metadata": {},
     "output_type": "execute_result"
    }
   ],
   "source": [
    "# Get summary statistics of continuous features\n",
    "retail_data.describe()"
   ]
  },
  {
   "cell_type": "markdown",
   "metadata": {},
   "source": [
    "Our continuous variables `log_quantity` and `log_price` are fairly well spread out across all quartiles. Here, it makes no sense to look at the summary statistics of `invoice_date` for binning so we'll ignore that for now.  \n",
    "\n",
    "`log_quantity`: \n",
    "* Min: 0.00 log(items) \n",
    "* 25th percentile: 0.69 log(items)\n",
    "* 50th percentile (median): 1.61 log(items)\n",
    "* 75th percentile: 2.56 log(items)\n",
    "* Max: 11.31 log(items)\n",
    "\n",
    "`log_price`:\n",
    "* Min: 0.00 log(£)\n",
    "* 25th percentile: 0.81 log(£)\n",
    "* 50th percentile (median): 1.13 log(£)\n",
    "* 75th percentile: 1.64 log(£)\n",
    "* Max: 10.58 log(£)\n",
    "\n",
    "<u>*Approach*</u>: \n",
    "* 'low': Values between the 25th and 50th percentile (Q1 to Q2)\n",
    "* 'medium': Values between the 50th and 75th percentile (Q2 to Q3)\n",
    "* 'high': Values greater than or equal to the 75th percentile (Q3)\n"
   ]
  },
  {
   "cell_type": "code",
   "execution_count": 1158,
   "metadata": {},
   "outputs": [],
   "source": [
    "# Define the bin edges and labels for 'quantity' and 'price'\n",
    "log_quantity_bin_edges = [0, 0.69, 1.61, 2.56, 11.31]\n",
    "log_price_bin_edges = [0, 0.81, 1.13, 1.64, 10.58]\n",
    "log_quantity_bin_labels = [\"very_low_quantity\", \"low_quantity\", \"medium_quantity\", \"high_quantity\"]\n",
    "log_price_bin_labels = [\"very_low_price\", \"low_price\", \"medium_price\", \"high_price\"]\n",
    "\n",
    "# Use pd.cut() to categorize the 'quantity' and 'price' columns\n",
    "retail_data[\"quantity\"] = pd.cut(\n",
    "    retail_data[\"log_quantity\"],\n",
    "    bins=log_quantity_bin_edges,\n",
    "    labels=log_quantity_bin_labels,\n",
    "    include_lowest=True,\n",
    ")\n",
    "retail_data[\"price\"] = pd.cut(\n",
    "    retail_data[\"log_price\"],\n",
    "    bins=log_price_bin_edges,\n",
    "    labels=log_price_bin_labels,\n",
    "    include_lowest=True,\n",
    ")"
   ]
  },
  {
   "cell_type": "markdown",
   "metadata": {},
   "source": [
    "Though it seems strange to use a different number of bins for `quantity` and `price`, I think that it is justified to use one extra bin of 'very_low' for price because a price can be fractions of a pound but we assuume a quantity cannot be fractional. Because the minimum and 25th percentile are both 1, we lose a bin as well for `quantity` "
   ]
  },
  {
   "cell_type": "code",
   "execution_count": 1159,
   "metadata": {},
   "outputs": [
    {
     "data": {
      "text/html": [
       "<div>\n",
       "<style scoped>\n",
       "    .dataframe tbody tr th:only-of-type {\n",
       "        vertical-align: middle;\n",
       "    }\n",
       "\n",
       "    .dataframe tbody tr th {\n",
       "        vertical-align: top;\n",
       "    }\n",
       "\n",
       "    .dataframe thead th {\n",
       "        text-align: right;\n",
       "    }\n",
       "</style>\n",
       "<table border=\"1\" class=\"dataframe\">\n",
       "  <thead>\n",
       "    <tr style=\"text-align: right;\">\n",
       "      <th></th>\n",
       "      <th>invoice</th>\n",
       "      <th>stock_code</th>\n",
       "      <th>description</th>\n",
       "      <th>quantity</th>\n",
       "      <th>invoice_date</th>\n",
       "      <th>price</th>\n",
       "      <th>customer_id</th>\n",
       "      <th>country</th>\n",
       "      <th>revenue</th>\n",
       "      <th>log_price</th>\n",
       "      <th>log_quantity</th>\n",
       "      <th>log_revenue</th>\n",
       "    </tr>\n",
       "  </thead>\n",
       "  <tbody>\n",
       "    <tr>\n",
       "      <th>0</th>\n",
       "      <td>489434</td>\n",
       "      <td>85048</td>\n",
       "      <td>15CM CHRISTMAS GLASS BALL 20 LIGHTS</td>\n",
       "      <td>high_quantity</td>\n",
       "      <td>2009-12-01 07:45:00</td>\n",
       "      <td>high_price</td>\n",
       "      <td>13085.0</td>\n",
       "      <td>United Kingdom</td>\n",
       "      <td>83.4</td>\n",
       "      <td>2.073172</td>\n",
       "      <td>2.564949</td>\n",
       "      <td>4.435567</td>\n",
       "    </tr>\n",
       "    <tr>\n",
       "      <th>1</th>\n",
       "      <td>489434</td>\n",
       "      <td>79323P</td>\n",
       "      <td>PINK CHERRY LIGHTS</td>\n",
       "      <td>high_quantity</td>\n",
       "      <td>2009-12-01 07:45:00</td>\n",
       "      <td>high_price</td>\n",
       "      <td>13085.0</td>\n",
       "      <td>United Kingdom</td>\n",
       "      <td>81.0</td>\n",
       "      <td>2.047693</td>\n",
       "      <td>2.564949</td>\n",
       "      <td>4.406719</td>\n",
       "    </tr>\n",
       "    <tr>\n",
       "      <th>2</th>\n",
       "      <td>489434</td>\n",
       "      <td>79323W</td>\n",
       "      <td>WHITE CHERRY LIGHTS</td>\n",
       "      <td>high_quantity</td>\n",
       "      <td>2009-12-01 07:45:00</td>\n",
       "      <td>high_price</td>\n",
       "      <td>13085.0</td>\n",
       "      <td>United Kingdom</td>\n",
       "      <td>81.0</td>\n",
       "      <td>2.047693</td>\n",
       "      <td>2.564949</td>\n",
       "      <td>4.406719</td>\n",
       "    </tr>\n",
       "    <tr>\n",
       "      <th>3</th>\n",
       "      <td>489434</td>\n",
       "      <td>22041</td>\n",
       "      <td>RECORD FRAME 7\" SINGLE SIZE</td>\n",
       "      <td>high_quantity</td>\n",
       "      <td>2009-12-01 07:45:00</td>\n",
       "      <td>medium_price</td>\n",
       "      <td>13085.0</td>\n",
       "      <td>United Kingdom</td>\n",
       "      <td>100.8</td>\n",
       "      <td>1.131402</td>\n",
       "      <td>3.891820</td>\n",
       "      <td>4.623010</td>\n",
       "    </tr>\n",
       "    <tr>\n",
       "      <th>4</th>\n",
       "      <td>489434</td>\n",
       "      <td>21232</td>\n",
       "      <td>STRAWBERRY CERAMIC TRINKET BOX</td>\n",
       "      <td>high_quantity</td>\n",
       "      <td>2009-12-01 07:45:00</td>\n",
       "      <td>low_price</td>\n",
       "      <td>13085.0</td>\n",
       "      <td>United Kingdom</td>\n",
       "      <td>30.0</td>\n",
       "      <td>0.810930</td>\n",
       "      <td>3.218876</td>\n",
       "      <td>3.433987</td>\n",
       "    </tr>\n",
       "  </tbody>\n",
       "</table>\n",
       "</div>"
      ],
      "text/plain": [
       "  invoice stock_code                          description       quantity  \\\n",
       "0  489434      85048  15CM CHRISTMAS GLASS BALL 20 LIGHTS  high_quantity   \n",
       "1  489434     79323P                   PINK CHERRY LIGHTS  high_quantity   \n",
       "2  489434     79323W                  WHITE CHERRY LIGHTS  high_quantity   \n",
       "3  489434      22041         RECORD FRAME 7\" SINGLE SIZE   high_quantity   \n",
       "4  489434      21232       STRAWBERRY CERAMIC TRINKET BOX  high_quantity   \n",
       "\n",
       "         invoice_date         price customer_id         country  revenue  \\\n",
       "0 2009-12-01 07:45:00    high_price     13085.0  United Kingdom     83.4   \n",
       "1 2009-12-01 07:45:00    high_price     13085.0  United Kingdom     81.0   \n",
       "2 2009-12-01 07:45:00    high_price     13085.0  United Kingdom     81.0   \n",
       "3 2009-12-01 07:45:00  medium_price     13085.0  United Kingdom    100.8   \n",
       "4 2009-12-01 07:45:00     low_price     13085.0  United Kingdom     30.0   \n",
       "\n",
       "   log_price  log_quantity  log_revenue  \n",
       "0   2.073172      2.564949     4.435567  \n",
       "1   2.047693      2.564949     4.406719  \n",
       "2   2.047693      2.564949     4.406719  \n",
       "3   1.131402      3.891820     4.623010  \n",
       "4   0.810930      3.218876     3.433987  "
      ]
     },
     "execution_count": 1159,
     "metadata": {},
     "output_type": "execute_result"
    }
   ],
   "source": [
    "retail_data.head()"
   ]
  },
  {
   "cell_type": "code",
   "execution_count": 1160,
   "metadata": {},
   "outputs": [
    {
     "data": {
      "text/html": [
       "<div>\n",
       "<style scoped>\n",
       "    .dataframe tbody tr th:only-of-type {\n",
       "        vertical-align: middle;\n",
       "    }\n",
       "\n",
       "    .dataframe tbody tr th {\n",
       "        vertical-align: top;\n",
       "    }\n",
       "\n",
       "    .dataframe thead th {\n",
       "        text-align: right;\n",
       "    }\n",
       "</style>\n",
       "<table border=\"1\" class=\"dataframe\">\n",
       "  <thead>\n",
       "    <tr style=\"text-align: right;\">\n",
       "      <th></th>\n",
       "      <th>invoice</th>\n",
       "      <th>stock_code</th>\n",
       "      <th>description</th>\n",
       "      <th>quantity</th>\n",
       "      <th>invoice_date</th>\n",
       "      <th>price</th>\n",
       "      <th>customer_id</th>\n",
       "      <th>country</th>\n",
       "      <th>revenue</th>\n",
       "      <th>log_price</th>\n",
       "      <th>log_quantity</th>\n",
       "      <th>log_revenue</th>\n",
       "    </tr>\n",
       "  </thead>\n",
       "  <tbody>\n",
       "  </tbody>\n",
       "</table>\n",
       "</div>"
      ],
      "text/plain": [
       "Empty DataFrame\n",
       "Columns: [invoice, stock_code, description, quantity, invoice_date, price, customer_id, country, revenue, log_price, log_quantity, log_revenue]\n",
       "Index: []"
      ]
     },
     "execution_count": 1160,
     "metadata": {},
     "output_type": "execute_result"
    }
   ],
   "source": [
    "retail_data[retail_data[\"quantity\"].isna()==True]"
   ]
  },
  {
   "cell_type": "code",
   "execution_count": 1161,
   "metadata": {},
   "outputs": [
    {
     "name": "stdout",
     "output_type": "stream",
     "text": [
      "There are 0 missing values for the `quantity` column.\n",
      "There are 0 missing values for the `price` column.\n"
     ]
    }
   ],
   "source": [
    "# Check for missing values after binning in 'quantity'\n",
    "quantity_counts_na = retail_data[\"quantity\"].isna().sum()\n",
    "print(f\"There are {quantity_counts_na} missing values for the `quantity` column.\")\n",
    "\n",
    "# Check for missing values after binning in 'price'\n",
    "price_counts_na = retail_data[\"price\"].isna().sum()\n",
    "print(f\"There are {price_counts_na} missing values for the `price` column.\")"
   ]
  },
  {
   "cell_type": "markdown",
   "metadata": {},
   "source": [
    "Looking better. Now, let's create a variable called `month` so that in addition to the datetime timestamp, we can also analyze how customer behavior changes by month/season."
   ]
  },
  {
   "cell_type": "code",
   "execution_count": 1162,
   "metadata": {},
   "outputs": [],
   "source": [
    "# Create a new 'month' column\n",
    "retail_data[\"month\"] = retail_data[\"invoice_date\"].dt.strftime(\"%B\")"
   ]
  },
  {
   "cell_type": "code",
   "execution_count": 1163,
   "metadata": {},
   "outputs": [
    {
     "data": {
      "text/html": [
       "<div>\n",
       "<style scoped>\n",
       "    .dataframe tbody tr th:only-of-type {\n",
       "        vertical-align: middle;\n",
       "    }\n",
       "\n",
       "    .dataframe tbody tr th {\n",
       "        vertical-align: top;\n",
       "    }\n",
       "\n",
       "    .dataframe thead th {\n",
       "        text-align: right;\n",
       "    }\n",
       "</style>\n",
       "<table border=\"1\" class=\"dataframe\">\n",
       "  <thead>\n",
       "    <tr style=\"text-align: right;\">\n",
       "      <th></th>\n",
       "      <th>invoice</th>\n",
       "      <th>stock_code</th>\n",
       "      <th>description</th>\n",
       "      <th>quantity</th>\n",
       "      <th>invoice_date</th>\n",
       "      <th>price</th>\n",
       "      <th>customer_id</th>\n",
       "      <th>country</th>\n",
       "      <th>revenue</th>\n",
       "      <th>log_price</th>\n",
       "      <th>log_quantity</th>\n",
       "      <th>log_revenue</th>\n",
       "      <th>month</th>\n",
       "    </tr>\n",
       "  </thead>\n",
       "  <tbody>\n",
       "    <tr>\n",
       "      <th>0</th>\n",
       "      <td>489434</td>\n",
       "      <td>85048</td>\n",
       "      <td>15CM CHRISTMAS GLASS BALL 20 LIGHTS</td>\n",
       "      <td>high_quantity</td>\n",
       "      <td>2009-12-01 07:45:00</td>\n",
       "      <td>high_price</td>\n",
       "      <td>13085.0</td>\n",
       "      <td>United Kingdom</td>\n",
       "      <td>83.4</td>\n",
       "      <td>2.073172</td>\n",
       "      <td>2.564949</td>\n",
       "      <td>4.435567</td>\n",
       "      <td>December</td>\n",
       "    </tr>\n",
       "    <tr>\n",
       "      <th>1</th>\n",
       "      <td>489434</td>\n",
       "      <td>79323P</td>\n",
       "      <td>PINK CHERRY LIGHTS</td>\n",
       "      <td>high_quantity</td>\n",
       "      <td>2009-12-01 07:45:00</td>\n",
       "      <td>high_price</td>\n",
       "      <td>13085.0</td>\n",
       "      <td>United Kingdom</td>\n",
       "      <td>81.0</td>\n",
       "      <td>2.047693</td>\n",
       "      <td>2.564949</td>\n",
       "      <td>4.406719</td>\n",
       "      <td>December</td>\n",
       "    </tr>\n",
       "    <tr>\n",
       "      <th>2</th>\n",
       "      <td>489434</td>\n",
       "      <td>79323W</td>\n",
       "      <td>WHITE CHERRY LIGHTS</td>\n",
       "      <td>high_quantity</td>\n",
       "      <td>2009-12-01 07:45:00</td>\n",
       "      <td>high_price</td>\n",
       "      <td>13085.0</td>\n",
       "      <td>United Kingdom</td>\n",
       "      <td>81.0</td>\n",
       "      <td>2.047693</td>\n",
       "      <td>2.564949</td>\n",
       "      <td>4.406719</td>\n",
       "      <td>December</td>\n",
       "    </tr>\n",
       "    <tr>\n",
       "      <th>3</th>\n",
       "      <td>489434</td>\n",
       "      <td>22041</td>\n",
       "      <td>RECORD FRAME 7\" SINGLE SIZE</td>\n",
       "      <td>high_quantity</td>\n",
       "      <td>2009-12-01 07:45:00</td>\n",
       "      <td>medium_price</td>\n",
       "      <td>13085.0</td>\n",
       "      <td>United Kingdom</td>\n",
       "      <td>100.8</td>\n",
       "      <td>1.131402</td>\n",
       "      <td>3.891820</td>\n",
       "      <td>4.623010</td>\n",
       "      <td>December</td>\n",
       "    </tr>\n",
       "    <tr>\n",
       "      <th>4</th>\n",
       "      <td>489434</td>\n",
       "      <td>21232</td>\n",
       "      <td>STRAWBERRY CERAMIC TRINKET BOX</td>\n",
       "      <td>high_quantity</td>\n",
       "      <td>2009-12-01 07:45:00</td>\n",
       "      <td>low_price</td>\n",
       "      <td>13085.0</td>\n",
       "      <td>United Kingdom</td>\n",
       "      <td>30.0</td>\n",
       "      <td>0.810930</td>\n",
       "      <td>3.218876</td>\n",
       "      <td>3.433987</td>\n",
       "      <td>December</td>\n",
       "    </tr>\n",
       "  </tbody>\n",
       "</table>\n",
       "</div>"
      ],
      "text/plain": [
       "  invoice stock_code                          description       quantity  \\\n",
       "0  489434      85048  15CM CHRISTMAS GLASS BALL 20 LIGHTS  high_quantity   \n",
       "1  489434     79323P                   PINK CHERRY LIGHTS  high_quantity   \n",
       "2  489434     79323W                  WHITE CHERRY LIGHTS  high_quantity   \n",
       "3  489434      22041         RECORD FRAME 7\" SINGLE SIZE   high_quantity   \n",
       "4  489434      21232       STRAWBERRY CERAMIC TRINKET BOX  high_quantity   \n",
       "\n",
       "         invoice_date         price customer_id         country  revenue  \\\n",
       "0 2009-12-01 07:45:00    high_price     13085.0  United Kingdom     83.4   \n",
       "1 2009-12-01 07:45:00    high_price     13085.0  United Kingdom     81.0   \n",
       "2 2009-12-01 07:45:00    high_price     13085.0  United Kingdom     81.0   \n",
       "3 2009-12-01 07:45:00  medium_price     13085.0  United Kingdom    100.8   \n",
       "4 2009-12-01 07:45:00     low_price     13085.0  United Kingdom     30.0   \n",
       "\n",
       "   log_price  log_quantity  log_revenue     month  \n",
       "0   2.073172      2.564949     4.435567  December  \n",
       "1   2.047693      2.564949     4.406719  December  \n",
       "2   2.047693      2.564949     4.406719  December  \n",
       "3   1.131402      3.891820     4.623010  December  \n",
       "4   0.810930      3.218876     3.433987  December  "
      ]
     },
     "execution_count": 1163,
     "metadata": {},
     "output_type": "execute_result"
    }
   ],
   "source": [
    "# Preview updated dataframe\n",
    "retail_data.head()"
   ]
  },
  {
   "cell_type": "markdown",
   "metadata": {},
   "source": [
    "Now, let's take a look at our distribution for `country` and see if we need to do any modifications."
   ]
  },
  {
   "cell_type": "code",
   "execution_count": 1164,
   "metadata": {},
   "outputs": [
    {
     "name": "stdout",
     "output_type": "stream",
     "text": [
      "country\n",
      "United Kingdom          927030\n",
      "EIRE                     17159\n",
      "Germany                  16440\n",
      "France                   13640\n",
      "Netherlands               5090\n",
      "Spain                     3663\n",
      "Switzerland               3123\n",
      "Belgium                   3056\n",
      "Portugal                  2470\n",
      "Australia                 1792\n",
      "Channel Islands           1551\n",
      "Italy                     1442\n",
      "Sweden                    1336\n",
      "Norway                    1290\n",
      "Cyprus                    1136\n",
      "Finland                   1032\n",
      "Austria                    922\n",
      "Denmark                    778\n",
      "Unspecified                748\n",
      "Greece                     657\n",
      "Poland                     504\n",
      "Japan                      468\n",
      "United Arab Emirates       467\n",
      "USA                        409\n",
      "Israel                     366\n",
      "Hong Kong                  354\n",
      "Singapore                  339\n",
      "Malta                      282\n",
      "Canada                     228\n",
      "Iceland                    222\n",
      "RSA                        168\n",
      "Lithuania                  154\n",
      "Bahrain                    124\n",
      "Brazil                      94\n",
      "Thailand                    76\n",
      "European Community          60\n",
      "Lebanon                     57\n",
      "West Indies                 54\n",
      "Korea                       53\n",
      "Bermuda                     34\n",
      "Nigeria                     30\n",
      "Czech Republic              25\n",
      "Saudi Arabia                 9\n",
      "Name: count, dtype: int64\n"
     ]
    }
   ],
   "source": [
    "# Looking at our distribution of country\n",
    "country_counts = retail_data[\"country\"].value_counts()\n",
    "print(country_counts)"
   ]
  },
  {
   "cell_type": "code",
   "execution_count": 1165,
   "metadata": {},
   "outputs": [
    {
     "name": "stdout",
     "output_type": "stream",
     "text": [
      "The U.K. makes up 91.88% of all country entries.\n"
     ]
    }
   ],
   "source": [
    "# Calculate the proportion of U.K. countries for all recorded transactions\n",
    "prop_uk = country_counts = round(100*(retail_data[\"country\"].value_counts().iloc[0] / retail_data[\"country\"].value_counts().sum()), 2)\n",
    "print(f'The U.K. makes up {prop_uk}% of all country entries.')"
   ]
  },
  {
   "cell_type": "markdown",
   "metadata": {},
   "source": [
    "Immediately, we see that the overwhelming majority is U.K. (91.88%) To make things simpler for our model in the future, we are going to just drop all non-U.K. countries because it is unlikely they will influence our clusters or timeseries forecasting later on."
   ]
  },
  {
   "cell_type": "code",
   "execution_count": 1166,
   "metadata": {},
   "outputs": [
    {
     "name": "stdout",
     "output_type": "stream",
     "text": [
      "(927030, 13)\n"
     ]
    }
   ],
   "source": [
    "# Dropping all rows in 'country' not equal to \"United Kingdom\"\n",
    "retail_data = retail_data[retail_data['country'].str.lower() == 'United Kingdom'.lower()]\n",
    "print(retail_data.shape)"
   ]
  },
  {
   "cell_type": "markdown",
   "metadata": {},
   "source": [
    "After dropping non-U.K. countries, we have less than a million rows."
   ]
  },
  {
   "cell_type": "markdown",
   "metadata": {},
   "source": [
    "### Topic Modeling `description` with Top2Vec vs LDA (gensim) "
   ]
  },
  {
   "cell_type": "markdown",
   "metadata": {},
   "source": [
    "#### Top2Vec"
   ]
  },
  {
   "cell_type": "code",
   "execution_count": 1167,
   "metadata": {},
   "outputs": [
    {
     "name": "stdout",
     "output_type": "stream",
     "text": [
      "There are 5454 unique descriptions in out dataset.\n",
      "Each description has an average of 4.0 words.\n"
     ]
    }
   ],
   "source": [
    "# Let's determine the total number of documents in our corpus along with\n",
    "unique_descriptions = retail_data[\"description\"].nunique()\n",
    "avg_doc_len = np.mean(\n",
    "    [len(d.split()) for d in retail_data[\"description\"].unique().tolist()]\n",
    ").round()\n",
    "print(f\"There are {unique_descriptions} unique descriptions in out dataset.\")\n",
    "print(f\"Each description has an average of {avg_doc_len} words.\")"
   ]
  },
  {
   "cell_type": "markdown",
   "metadata": {},
   "source": [
    "Our data now has more categorical features. One issue we may face in the future is our `description` variable having so many unique descriptions (5399). With all of these descriptions it will be very difficult to make any meaningful model unless we categorize them. We will first try do this with Topic Modeling via the *Top2Vec* library. I do have some doubts though just because there are only 5399 descriptions, each with an average of ~4 words. It will definitely be difficult to generalize."
   ]
  },
  {
   "cell_type": "code",
   "execution_count": 1168,
   "metadata": {},
   "outputs": [],
   "source": [
    "# Create list of descriptions\n",
    "unique_docs = retail_data[\"description\"].unique().tolist()"
   ]
  },
  {
   "cell_type": "code",
   "execution_count": 1169,
   "metadata": {},
   "outputs": [],
   "source": [
    "# Instantiate/train Top2Vec model\n",
    "# model = Top2Vec(unique_docs)\n",
    "# Save model\n",
    "# model.save(\n",
    "#     r\"C:\\Users\\evans\\OneDrive\\Desktop\\DS4A\\data_scientist_retail_challenge\\models\\t2v\"\n",
    "# )"
   ]
  },
  {
   "cell_type": "code",
   "execution_count": 1170,
   "metadata": {},
   "outputs": [],
   "source": [
    "# Load in model trained on 30% of total documents\n",
    "model = Top2Vec.load(\n",
    "    r\"C:\\Users\\evans\\OneDrive\\Desktop\\DS4A\\data_scientist_retail_challenge\\retail-customer-segmentation-forecasting\\models\\t2v\"\n",
    ")"
   ]
  },
  {
   "cell_type": "code",
   "execution_count": 1171,
   "metadata": {},
   "outputs": [
    {
     "name": "stdout",
     "output_type": "stream",
     "text": [
      "[272 264 264 263 253 251 247 240 240 238 237 234 233 232 227 226 220 218\n",
      " 215 214 205 204 202]\n"
     ]
    }
   ],
   "source": [
    "# Grab the size and number of all of our topics\n",
    "topic_sizes, topic_nums = model.get_topic_sizes()\n",
    "print(topic_sizes)"
   ]
  },
  {
   "cell_type": "markdown",
   "metadata": {},
   "source": [
    "`topic_sizes` shows us the amount of documents that correspond to each topic where each index in this list is an individual topic ordered from topics with the most documents to fewest documents at the end of the list."
   ]
  },
  {
   "cell_type": "code",
   "execution_count": 1172,
   "metadata": {},
   "outputs": [
    {
     "name": "stdout",
     "output_type": "stream",
     "text": [
      "[ 0  1  2  3  4  5  6  7  8  9 10 11 12 13 14 15 16 17 18 19 20 21 22]\n"
     ]
    }
   ],
   "source": [
    "print(topic_nums)"
   ]
  },
  {
   "cell_type": "markdown",
   "metadata": {},
   "source": [
    "`topic_nums` simply displays the index numbers sequentially. Here, we can see that we have 23 unique topics in our model."
   ]
  },
  {
   "cell_type": "code",
   "execution_count": 1173,
   "metadata": {},
   "outputs": [],
   "source": [
    "# Rank top 5 topics on most common to least common basis\n",
    "topic_words, word_scores, topic_nums = model.get_topics(3)"
   ]
  },
  {
   "cell_type": "code",
   "execution_count": 1174,
   "metadata": {},
   "outputs": [
    {
     "name": "stdout",
     "output_type": "stream",
     "text": [
      "0\n",
      "Words: ['in' 'bottle' 'of' 'cake' 'ring' 'rose' 'pink' 'black' 'cards' 'small'\n",
      " 'and' 'earrings' 'bowl' 'candles' 'love' 'enamel' 'wall' 'gift' 'cushion'\n",
      " 'paper' 'ceramic' 'crystal' 'easter' 'tile' 'green' 'hanging' 'spotty'\n",
      " 'cutlery' 'gold' 'assorted' 'art' 'silver' 'bag' 'purple' 'cover' 'egg'\n",
      " 'fairy' 'polkadot' 'design' 'sign' 'mug' 'zinc' 'star' 'cream' 'tea'\n",
      " 'door' 'retro' 'holder' 'round' 'card']\n",
      "1\n",
      "Words: ['card' 'of' 'hanging' 'tree' 'frame' 'blue' 'fairy' 'black' 'cake'\n",
      " 'clock' 'spot' 'assorted' 'green' 'cards' 'mini' 'glass' 'tile'\n",
      " 'retrospot' 'and' 'decoration' 'heart' 'pack' 'girl' 'cover' 'flower'\n",
      " 'retro' 'candle' 'mirror' 'door' 'vintage' 'wooden' 'lights' 'art'\n",
      " 'photo' 'paper' 'metal' 'crystal' 'holder' 'wrap' 'garden' 'silver'\n",
      " 'cutlery' 'wall' 'bottle' 'ring' 'rose' 'bowl' 'in' 'christmas' 'cushion']\n",
      "2\n",
      "Words: ['bottle' 'retro' 'tree' 'bird' 'ceramic' 'red' 'enamel' 'round' 'star'\n",
      " 'and' 'cushion' 'ring' 'earrings' 'crystal' 'white' 'home' 'easter'\n",
      " 'sign' 'garden' 'rose' 'tea' 'wall' 'fairy' 'zinc' 'large' 'love' 'black'\n",
      " 'gift' 'small' 'bracelet' 'pink' 'tile' 'clock' 'photo' 'of' 'hanging'\n",
      " 'ivory' 'lights' 'tin' 'set' 'vintage' 'candles' 'cards' 'mini' 'door'\n",
      " 'bowl' 'christmas' 'wrap' 'light' 'metal']\n"
     ]
    }
   ],
   "source": [
    "# Iterate over these three outputs\n",
    "for words, scores, num in zip(topic_words, word_scores, topic_nums):\n",
    "    print(num)\n",
    "    print(f\"Words: {words}\")"
   ]
  },
  {
   "cell_type": "markdown",
   "metadata": {},
   "source": [
    "Let's just look at topic one right now. We are going to look at topic one and the documents that correspond to it."
   ]
  },
  {
   "cell_type": "code",
   "execution_count": 1175,
   "metadata": {},
   "outputs": [
    {
     "name": "stdout",
     "output_type": "stream",
     "text": [
      "Document: 5077, Score: 0.2994881272315979\n",
      "--------------\n",
      "HOME SWEET HOME CUSHION COVER \n",
      "--------------\n",
      "\n",
      "Document: 5339, Score: 0.27533596754074097\n",
      "--------------\n",
      "SET 10 CARD SNOWMAN 16965\n",
      "--------------\n",
      "\n",
      "Document: 4339, Score: 0.26661357283592224\n",
      "--------------\n",
      "T-LIGHT HOLDER SWEETHEART HANGING\n",
      "--------------\n",
      "\n"
     ]
    }
   ],
   "source": [
    "# Grab corresponding top 10 documents for topic one\n",
    "documents, document_scores, document_ids = model.search_documents_by_topic(\n",
    "    topic_num=0, num_docs=3\n",
    ")\n",
    "for doc, score, doc_id in zip(documents, document_scores, document_ids):\n",
    "    print(f\"Document: {doc_id}, Score: {score}\")\n",
    "    print(\"--------------\")\n",
    "    print(doc)\n",
    "    print(\"--------------\")\n",
    "    print()"
   ]
  },
  {
   "cell_type": "markdown",
   "metadata": {},
   "source": [
    "These cosine similarities are very low and indicate weak or no similarity between our documents and the topics we classified. This is really no surprise since we have such few documents (<6000) with the average length of 4 words per document.  \n",
    "\n",
    "However, the main metric that topic models tend to use is the CV Coherence score - a measure used to evaluate the quality of topics generated by a topic modeling algorithm. It asseses how well the words within a topic are related and how distinct different topics are from each other (the higher the score, the more coherent the topics). Analytically, this is the normalized NPMI (Normalized Pointwise Mutual Information) and cosine similarity.  \n",
    "\n",
    "$$\n",
    "C_V = \\frac{\\sum_{i < j} \\text{score}(w_i, w_j)}{\\sum_{i < j} \\text{normalization}(w_i, w_j)}\n",
    "$$\n",
    "\n",
    "Here, $w_i$ and $w_j$ are words, and the function $text{score}(w_i, w_j)$ and $text{normalization}(w_i, w_j)$ contribute to the score and normalization, respectively. The summations are over all pairs of words $i$ and $j$ $(i < j)$ in the set of top words for each topic.  \n",
    "\n",
    "The specific formulas for $text{score}(w_i, w_j)$ uses cosine similarity:\n",
    "\n",
    "$$\n",
    "\\text{Cosine Similarity} = \\frac{{w_i \\cdot w_j}}{{\\|w_i\\| \\cdot \\|w_j\\|}}\n",
    "$$"
   ]
  },
  {
   "cell_type": "code",
   "execution_count": 1176,
   "metadata": {},
   "outputs": [
    {
     "data": {
      "text/plain": [
       "0.0"
      ]
     },
     "execution_count": 1176,
     "metadata": {},
     "output_type": "execute_result"
    }
   ],
   "source": [
    "# Compute the NPMI (Normalized Pointwise Mutual Information) Coherence Score for Top2Vec\n",
    "compute_cv_coherence(model, unique_docs)"
   ]
  },
  {
   "cell_type": "markdown",
   "metadata": {},
   "source": [
    "Using my handcrafted formula for Coherence CV score (see `top2vec_utils.py`) indicates that our score is ~0 and there is little to no semantic coherence among the rop words in the topics genreated by our Top2Vec topic model. This could be because of a number of reasons but is probably mainly due to a short corpus size and how Top2Vec is configured."
   ]
  },
  {
   "cell_type": "markdown",
   "metadata": {},
   "source": [
    "#### LDA (gensim)"
   ]
  },
  {
   "cell_type": "markdown",
   "metadata": {},
   "source": [
    "To get a variety of topic modeling outputs, we are also going to test gensim's LDA model on our descriptions."
   ]
  },
  {
   "cell_type": "code",
   "execution_count": 1177,
   "metadata": {},
   "outputs": [],
   "source": [
    "# Create list of Stop words using NLTK\n",
    "stop_words = stopwords.words(\"english\")\n",
    "stop_words.extend([\"from\", \"subject\", \"re\", \"edu\", \"use\", \"cm\", \"ft\"])"
   ]
  },
  {
   "cell_type": "code",
   "execution_count": 1178,
   "metadata": {},
   "outputs": [
    {
     "name": "stdout",
     "output_type": "stream",
     "text": [
      "[['cm', 'christmas', 'glass', 'ball', 'lights']]\n"
     ]
    }
   ],
   "source": [
    "# Tokenize each sentence into a list of words using simple_preprocess (gensim)\n",
    "data_words = list(sent_to_words(unique_docs))\n",
    "print(data_words[:1])"
   ]
  },
  {
   "cell_type": "code",
   "execution_count": 1179,
   "metadata": {},
   "outputs": [
    {
     "name": "stdout",
     "output_type": "stream",
     "text": [
      "['cm', 'christmas', 'glass_ball', 'lights']\n"
     ]
    }
   ],
   "source": [
    "# Create bigram and trigram models using gensim's Phrases model\n",
    "bigram = Phrases(data_words, min_count=1, threshold=2)\n",
    "trigram = Phrases(bigram[data_words], threshold=2)\n",
    "\n",
    "# Use the 'Phraser' class from gensim to apply bigram/trigram models in memory-effieicent way\n",
    "bigram_mod = Phraser(bigram)\n",
    "trigram_mod = Phraser(trigram)\n",
    "\n",
    "# See trigram example\n",
    "print(trigram_mod[bigram_mod[data_words[0]]])"
   ]
  },
  {
   "cell_type": "code",
   "execution_count": 1180,
   "metadata": {},
   "outputs": [],
   "source": [
    "# Remove Stop Words\n",
    "data_words_nostops = remove_stopwords(data_words, stop_words=stop_words)\n",
    "\n",
    "# Form Bigrams\n",
    "data_words_bigrams = make_bigrams(data_words_nostops, bigram_mod=bigram_mod)\n",
    "\n",
    "# Initialize spacy 'en_core_web_sm' model, keeping only tagger component (for efficiency)\n",
    "#nlp = spacy.load(\"en_core_web_sm\", disable=[\"parser\", \"ner\"])\n",
    "\n",
    "nlp = spacy.load(\"en_core_web_lg\", disable=[\"parser\", \"ner\"])\n",
    "\n",
    "# Do lemmatization keeping only noun, adj, vb, adv\n",
    "data_lemmatized = lemmatization(\n",
    "    data_words_bigrams, nlp=nlp, allowed_postags=[\"NOUN\", \"ADJ\", \"VERB\", \"ADV\"]\n",
    ")"
   ]
  },
  {
   "cell_type": "code",
   "execution_count": 1181,
   "metadata": {},
   "outputs": [
    {
     "name": "stdout",
     "output_type": "stream",
     "text": [
      "[['light']]\n"
     ]
    }
   ],
   "source": [
    "# Preview the first element of data_lemmatized\n",
    "print(data_lemmatized[:1])"
   ]
  },
  {
   "cell_type": "markdown",
   "metadata": {},
   "source": [
    "The two main inputs to the gensim LDA topic model are the dictionary (id2word) and the corpus. Let's create them."
   ]
  },
  {
   "cell_type": "code",
   "execution_count": 1182,
   "metadata": {},
   "outputs": [
    {
     "name": "stdout",
     "output_type": "stream",
     "text": [
      "[[(0, 1)], [(1, 1), (2, 1)]]\n"
     ]
    }
   ],
   "source": [
    "# Create a dictionary\n",
    "id2word = corpora.Dictionary(data_lemmatized)\n",
    "\n",
    "# Create corpus\n",
    "texts = data_lemmatized\n",
    "\n",
    "# Term Document Frequency\n",
    "corpus = [id2word.doc2bow(text) for text in texts]\n",
    "\n",
    "# View\n",
    "print(corpus[:2])"
   ]
  },
  {
   "cell_type": "markdown",
   "metadata": {},
   "source": [
    "Gensim creates a unique id for each word in the document. The produced corpus shown above is a mapping of (word_id, word_frequency).  For example, (0,1) above implies that word id 0 occurs once in the first document, word id 1 occurs once as well. Since our documents are so shorty, each element of corpus will only contain a few (word_id, word_frequency) tuples."
   ]
  },
  {
   "cell_type": "markdown",
   "metadata": {},
   "source": [
    "<u>Building the Topic Model</u>\n",
    "\n",
    "  Parameters: `alpha` and `eta` - hyperparameters that affect the sparsity of the topics. `chunksize` - the number of documents to be used in each training chunk. `update_every` - determines how often the model parameters should be updated. `passes` is the total number of training passes."
   ]
  },
  {
   "cell_type": "code",
   "execution_count": 1183,
   "metadata": {},
   "outputs": [],
   "source": [
    "# Build LDA model\n",
    "lda_model = LdaModel(\n",
    "    corpus=corpus,\n",
    "    id2word=id2word,\n",
    "    num_topics=10,\n",
    "    random_state=42,\n",
    "    update_every=1,\n",
    "    passes=10,\n",
    "    alpha=\"auto\",\n",
    "    per_word_topics=True,\n",
    ")"
   ]
  },
  {
   "cell_type": "markdown",
   "metadata": {},
   "source": [
    "The above LDA model is built with 10 different topics where each topic is a combination of keywords and each keyword contributes a certain weightage to the topic. We will now look at the weightage (importance) of each keyword using `lda_model.print_topics()` "
   ]
  },
  {
   "cell_type": "code",
   "execution_count": 1184,
   "metadata": {},
   "outputs": [
    {
     "name": "stdout",
     "output_type": "stream",
     "text": [
      "[(0, '0.051*\"rise\" + 0.045*\"star\" + 0.034*\"tin\" + 0.031*\"cream\" + 0.022*\"pink_polkadot\" + 0.021*\"paper_lantern\" + 0.019*\"butterfly\" + 0.017*\"purse\" + 0.010*\"girl\" + 0.010*\"notebook\"'), (1, '0.060*\"design\" + 0.056*\"vintage\" + 0.026*\"dolly_girl\" + 0.024*\"hook\" + 0.022*\"pantry\" + 0.018*\"travel_card\" + 0.018*\"mirror\" + 0.016*\"mini\" + 0.015*\"wall_art\" + 0.015*\"pink\"'), (2, '0.162*\"pink\" + 0.104*\"blue\" + 0.052*\"white\" + 0.047*\"black\" + 0.013*\"bag\" + 0.012*\"french\" + 0.010*\"earring\" + 0.009*\"spot\" + 0.009*\"cover\" + 0.008*\"photo_frame\"'), (3, '0.210*\"set\" + 0.093*\"heart\" + 0.059*\"flower\" + 0.028*\"bottle\" + 0.017*\"hot_water\" + 0.013*\"basket\" + 0.013*\"garden\" + 0.009*\"doily\" + 0.009*\"beaker\" + 0.009*\"charm\"'), (4, '0.089*\"red\" + 0.077*\"small\" + 0.048*\"light\" + 0.047*\"set\" + 0.032*\"mug\" + 0.032*\"silver\" + 0.016*\"vintage\" + 0.015*\"vintage_doily\" + 0.011*\"coaster\" + 0.011*\"pen\"'), (5, '0.094*\"large\" + 0.085*\"candle\" + 0.021*\"bowl\" + 0.020*\"metal\" + 0.020*\"home\" + 0.019*\"letter_ble\" + 0.019*\"key_ring\" + 0.014*\"bracelet\" + 0.013*\"wood\" + 0.013*\"christmas_tree\"'), (6, '0.052*\"pack\" + 0.036*\"holder\" + 0.034*\"glass\" + 0.026*\"set_card\" + 0.026*\"vintage_christma\" + 0.019*\"tissue\" + 0.017*\"sticker\" + 0.017*\"colour\" + 0.015*\"cutlery\" + 0.015*\"spaceboy\"'), (7, '0.053*\"decoration\" + 0.044*\"sign\" + 0.040*\"card\" + 0.033*\"wrap\" + 0.028*\"metal_door\" + 0.028*\"french_blue\" + 0.021*\"box\" + 0.018*\"light_holder\" + 0.017*\"bird\" + 0.016*\"ivory\"'), (8, '0.037*\"necklace\" + 0.030*\"gold\" + 0.026*\"hang\" + 0.025*\"tree\" + 0.023*\"frame\" + 0.021*\"cake\" + 0.020*\"bell\" + 0.018*\"drawer\" + 0.017*\"stand\" + 0.017*\"wooden\"'), (9, '0.053*\"green\" + 0.041*\"retrospot\" + 0.033*\"polkadot\" + 0.031*\"plate\" + 0.022*\"doormat\" + 0.020*\"assort\" + 0.020*\"purple\" + 0.019*\"rabbit\" + 0.018*\"egg\" + 0.017*\"kit\"')]\n"
     ]
    }
   ],
   "source": [
    "print(lda_model.print_topics())\n",
    "doc_lda = lda_model[corpus]"
   ]
  },
  {
   "cell_type": "markdown",
   "metadata": {},
   "source": [
    "How to interpret?  \n",
    "Topic 0 is represented as '0.043*\"white\" + 0.029*\"mirror\" + 0.026*\"cream\" + 0.025*\"heart\" + 0.022*\"vintage\" + 0.020*\"garden\" + 0.020*\"assort\" + 0.018*\"rabbit\" + 0.018*\"pink\" + 0.016*\"round\"  \n",
    "\n",
    "This means that the top 10 keywords that contribute to this topic are: 'white', 'mirror', 'cream'... and so on and the weight of 'white' on topic 0 is 0.043  \n",
    "\n",
    "Looking at these keywords in the context of gifts, category one might be 'Vintage-inspired Home Decor'.\n",
    "\n"
   ]
  },
  {
   "cell_type": "markdown",
   "metadata": {},
   "source": [
    "Compute Model Perplexity and Coherence Score  \n",
    "Model preplexity and topic coherence provide a convenient measure to judge how good a given topic model is."
   ]
  },
  {
   "cell_type": "code",
   "execution_count": 1185,
   "metadata": {},
   "outputs": [
    {
     "name": "stdout",
     "output_type": "stream",
     "text": [
      "Perplexity: -7.9750444211319245\n",
      "\n",
      "Coherence Score: 0.7070839106221978\n"
     ]
    }
   ],
   "source": [
    "# Compute Perplexity\n",
    "print(\n",
    "    f\"Perplexity: {lda_model.log_perplexity(corpus)}\"\n",
    ")  # A measure of how good the model is - the lower the  better\n",
    "\n",
    "# Compute Coherence Score\n",
    "coherence_model_lda = CoherenceModel(\n",
    "    model=lda_model, texts=data_lemmatized, dictionary=id2word, coherence=\"c_v\"\n",
    ")\n",
    "coherence_lda = coherence_model_lda.get_coherence()\n",
    "print(f\"\\nCoherence Score: {coherence_lda}\")"
   ]
  },
  {
   "cell_type": "markdown",
   "metadata": {},
   "source": [
    "Here, we get a coherence score of ~0.71 when using 10 topics.  \n",
    "\n",
    "Now that the LDA model is built, the next step is to examine the produced topics and the associated keywords. We will use pyLDAvis package's interactive chart. "
   ]
  },
  {
   "cell_type": "code",
   "execution_count": 1186,
   "metadata": {},
   "outputs": [
    {
     "data": {
      "text/html": [
       "\n",
       "<link rel=\"stylesheet\" type=\"text/css\" href=\"https://cdn.jsdelivr.net/gh/bmabey/pyLDAvis@3.4.0/pyLDAvis/js/ldavis.v1.0.0.css\">\n",
       "\n",
       "\n",
       "<div id=\"ldavis_el3010831440995188806739097162\" style=\"background-color:white;\"></div>\n",
       "<script type=\"text/javascript\">\n",
       "\n",
       "var ldavis_el3010831440995188806739097162_data = {\"mdsDat\": {\"x\": [0.05909769450553394, -0.2926316072581198, -0.18297141201194211, 0.08660833831309767, 0.09613786903043521, 0.014384458555185187, 0.0787520138711854, 0.05246213760618631, 0.06481452634054612, 0.023345981047892535], \"y\": [-0.2695020120532002, 0.01827753496393385, 0.026395993776293397, 0.05568397153257106, 0.13428116474779417, -0.15300359911695732, -0.018618786583566853, 0.07782656708987816, 0.11945346304710283, 0.00920570259615096], \"topics\": [1, 2, 3, 4, 5, 6, 7, 8, 9, 10], \"cluster\": [1, 1, 1, 1, 1, 1, 1, 1, 1, 1], \"Freq\": [13.66766477922898, 13.105638239903762, 10.91316176406814, 9.456369585099667, 9.396795963023319, 9.33783095460601, 8.797379896217448, 8.767669557453996, 8.388285598445176, 8.169203661953501]}, \"tinfo\": {\"Term\": [\"set\", \"pink\", \"blue\", \"heart\", \"red\", \"large\", \"small\", \"candle\", \"flower\", \"white\", \"design\", \"vintage\", \"black\", \"decoration\", \"light\", \"pack\", \"green\", \"rise\", \"sign\", \"star\", \"card\", \"retrospot\", \"holder\", \"silver\", \"necklace\", \"mug\", \"bottle\", \"wrap\", \"polkadot\", \"glass\", \"blue\", \"white\", \"black\", \"french\", \"spot\", \"photo_frame\", \"chain\", \"acrylic_edwardian\", \"alphabet\", \"apron\", \"saucer\", \"tier\", \"jack\", \"vintage_bead\", \"pink\", \"pair\", \"jardin_etched\", \"list\", \"fork\", \"bunting\", \"animal\", \"cotton\", \"candleholder\", \"glass_bracelet\", \"lampshade\", \"amber\", \"doorknob_cracked\", \"paper_gift\", \"oven_glove\", \"stacking_tin\", \"cover\", \"bag\", \"earring\", \"flock\", \"thermometer\", \"clear\", \"flower_fairy\", \"lace\", \"light_holder\", \"mirror\", \"glass\", \"fairy_cake\", \"heart\", \"flower\", \"bottle\", \"hot_water\", \"basket\", \"doily\", \"beaker\", \"charm\", \"dog\", \"tea_towel\", \"paper_doilie\", \"white_spot\", \"lavender\", \"jug\", \"pink_butterfly\", \"stick\", \"sucker\", \"bucket\", \"kitchen\", \"blue_felt\", \"baby_gift\", \"vintage_spot\", \"kid\", \"spoon\", \"toadstool\", \"herb\", \"funky\", \"cottage\", \"milk\", \"scent\", \"set\", \"knick_knack\", \"garden\", \"yellow\", \"cushion\", \"pantry_design\", \"red\", \"small\", \"light\", \"mug\", \"coaster\", \"pen\", \"clock\", \"blue_polkadot\", \"retro_spot\", \"alarm_clock\", \"new_baroque\", \"red_spot\", \"dinosaur\", \"bakelike\", \"art\", \"acrylic_jewel\", \"lantern\", \"owl\", \"lid\", \"pot\", \"planter\", \"angel\", \"gift_wrap\", \"blue_paisley\", \"union_jack\", \"snowflake\", \"umbrella\", \"stool\", \"revolutionary\", \"biscuit_tin\", \"vintage_doily\", \"silver\", \"set\", \"vintage\", \"brown\", \"decoration\", \"sign\", \"card\", \"wrap\", \"french_blue\", \"metal_door\", \"bird\", \"ivory\", \"door_mat\", \"round\", \"cup\", \"strawberry\", \"love_london\", \"sweetheart\", \"game\", \"playing_card\", \"child\", \"calendar\", \"flag\", \"hanger\", \"tube\", \"cake_case\", \"mini_playe\", \"triple\", \"fun\", \"oval\", \"pudding\", \"sweet\", \"picture\", \"decoupage\", \"chocolate\", \"light_holder\", \"box\", \"fairy_cake\", \"bead\", \"wicker\", \"hang\", \"pack\", \"holder\", \"vintage_christma\", \"tissue\", \"sticker\", \"cutlery\", \"spaceboy\", \"colour\", \"table\", \"napkin\", \"ribbon\", \"chick\", \"heart_decoration\", \"wreath\", \"dotcom\", \"traditional\", \"damage\", \"love\", \"medium\", \"sell\", \"dress\", \"natural\", \"day\", \"water\", \"chandelier_light\", \"windmill\", \"heart_shape\", \"cream_sweetheart\", \"summer\", \"throw\", \"glass\", \"set_card\", \"tray\", \"zinc\", \"metal\", \"design\", \"dolly_girl\", \"hook\", \"pantry\", \"travel_card\", \"mini\", \"wall_art\", \"wallet\", \"reel\", \"skull\", \"embroidered_ribbon\", \"garland\", \"container\", \"enamel\", \"hanging_heart\", \"cabinet\", \"pin_cushion\", \"leaf\", \"ball\", \"key\", \"silk_purse\", \"tidy\", \"brush\", \"wrap_vintage\", \"russian_doll\", \"tape\", \"trim\", \"measuring_tape\", \"red_enamel\", \"boy\", \"vintage\", \"mirror\", \"doiley\", \"party\", \"box\", \"pink\", \"placemat\", \"green\", \"retrospot\", \"polkadot\", \"plate\", \"doormat\", \"assort\", \"purple\", \"rabbit\", \"egg\", \"kit\", \"bunny\", \"jar\", \"cat\", \"chest\", \"egg_frye\", \"woodland\", \"paper_chain\", \"candy_spot\", \"biscuit\", \"mini_jigsaw\", \"floral\", \"shell_necklace\", \"washing\", \"regency_tea\", \"sketchbook\", \"christmas_decoration\", \"chair\", \"sweet_home\", \"pink_felt\", \"candy\", \"print\", \"metal_sign\", \"ribbon_reel\", \"glove\", \"bag\", \"earring\", \"large\", \"candle\", \"home\", \"key_ring\", \"letter_ble\", \"bracelet\", \"wood\", \"christmas_tree\", \"ceramic\", \"paint\", \"birthday\", \"pad\", \"piece\", \"magnet\", \"birthday_card\", \"letter\", \"beaded_crystal\", \"doll\", \"chicken\", \"danish_rose\", \"double\", \"clip\", \"coloured\", \"mint\", \"point\", \"shell\", \"base\", \"polyester_filler\", \"folding_stool\", \"scissor\", \"bowl\", \"metal\", \"rose\", \"dish\", \"necklace\", \"gold\", \"tree\", \"frame\", \"cake\", \"bell\", \"drawer\", \"stand\", \"wooden\", \"shelf\", \"match\", \"greeting_card\", \"bauble\", \"dinner_candle\", \"case\", \"candle_holder\", \"leave\", \"balloon\", \"party_pizza\", \"amethyst\", \"antique_white\", \"doorstop\", \"mat\", \"giant\", \"big\", \"drop_earring\", \"rack\", \"school\", \"swallow\", \"bicycle\", \"hang\", \"tea\", \"classic\", \"paper\", \"daisy\", \"silver\", \"set_card\", \"dish\", \"rise\", \"star\", \"tin\", \"cream\", \"pink_polkadot\", \"paper_lantern\", \"butterfly\", \"purse\", \"cushion_cover\", \"wall_clock\", \"string\", \"magic_drawe\", \"passport_cover\", \"multicolour\", \"blue_spotty\", \"photo_album\", \"phone_charm\", \"party_candle\", \"plaster\", \"frying_pan\", \"card_holder\", \"jam\", \"spotty\", \"coffee\", \"cute\", \"single\", \"cherry\", \"fuschia\", \"button\", \"pink_yellow\", \"ring\", \"girl\", \"notebook\", \"toy\", \"lamp\", \"assorted\"], \"Freq\": [358.0, 267.0, 156.0, 134.0, 106.0, 91.0, 92.0, 82.0, 85.0, 78.0, 61.0, 77.0, 70.0, 55.0, 58.0, 53.0, 51.0, 46.0, 46.0, 40.0, 42.0, 39.0, 38.0, 52.0, 34.0, 39.0, 41.0, 34.0, 33.0, 48.0, 155.7189793462691, 77.40191342270063, 70.15928354464118, 17.207770768118202, 14.1600234005799, 11.321687477623044, 9.831419582451154, 9.726104270024374, 8.531748346416284, 7.98745293815738, 7.987195315826892, 7.938525583661793, 7.337610357374255, 7.21352969513944, 241.75729566134893, 7.0412061182762535, 6.448788251235394, 6.333727155673922, 5.799029571778821, 5.6173675335737405, 5.560270069818852, 5.378749027618971, 5.378561032945372, 5.082384476285396, 5.082269938789814, 5.025030434614872, 4.910124260589978, 4.910054981071373, 4.728572582221067, 4.308062266793485, 13.169244123905994, 19.500695847752798, 14.790042291170286, 9.354533493932335, 6.515868928434964, 7.39553499769298, 8.07313812527757, 6.746413063158652, 9.076763008370847, 8.915839567770023, 7.459708023940884, 6.229415177782905, 133.74035038049624, 85.04711096438957, 40.30625817838919, 23.724118139490088, 18.682594116618542, 12.660635998536383, 12.554843633429027, 12.210346795903058, 11.660235310259552, 10.736138440224943, 10.4002054858415, 9.18168382224468, 8.369626472113142, 7.88360957955965, 7.495400017235163, 7.053947764572562, 6.842267561114737, 6.780067077050632, 6.567743263758131, 6.400633041351651, 6.020736327628365, 6.020580766330149, 5.84431112139055, 7.730849052357216, 5.631786346935978, 5.305370005190998, 5.2964435907826735, 5.137828817900406, 5.084715650703294, 5.023233552720218, 301.3059280803, 8.301855825340835, 18.458318789165727, 11.718037348689997, 6.33913158166193, 6.021628969069197, 105.81164674498828, 91.62572837791723, 57.782042397282545, 38.60040625021107, 13.235467840769372, 12.863521960879915, 11.259762204128831, 11.055561790105362, 10.754287539873118, 9.567663744235686, 9.549997782656778, 9.443329310089469, 9.21260160009616, 9.018249892938575, 8.672946947236746, 8.238949488491967, 8.185488494931123, 7.742471811151897, 7.414668041137935, 7.405781132910378, 6.307176923410152, 6.13882046522999, 6.138804342593856, 5.8641129836284644, 5.704572271695683, 5.483238499038691, 5.093074596270985, 5.040139534219885, 4.552725280175389, 4.55281312074467, 17.94883156201707, 38.064645491954465, 56.02056100671695, 19.505732266727623, 6.687992476985092, 54.957725646338496, 46.01166478812677, 41.24188885253336, 33.85618480237186, 28.930683811346935, 28.930683811346935, 17.82923742089357, 16.19005460692189, 14.035502483328187, 12.833188628690602, 12.208519460978916, 9.858430399015818, 9.351564748037337, 8.765876945050223, 8.61770748570785, 7.797969630034743, 7.797914711777017, 7.360688783767708, 7.064318552041275, 7.017240116475968, 6.962777583942145, 6.822140115472862, 6.634796114025671, 5.174740759362939, 4.73793394437311, 4.737810137423677, 4.3473032676089485, 4.347302304130743, 4.245938616021463, 4.245915492544526, 13.019709338011017, 18.8364768067005, 22.127527588700158, 13.540078136042439, 11.034498143851824, 6.3107066143211386, 8.686212713089805, 53.22214788781468, 37.51780011799209, 27.19084986202585, 19.957985204805155, 17.987533307018463, 15.331522389270036, 15.242852005999213, 17.11785219648866, 13.531124422338825, 12.174550374125847, 11.156756262108562, 9.31644776667735, 9.203168156698183, 9.114493943793573, 8.767476465324359, 8.315189055939236, 8.2669356702366, 7.555914851344931, 7.152567768222792, 6.910450182304921, 6.900354310236781, 6.450082724335723, 6.208034071825999, 5.9495816616984945, 5.505453765798505, 5.295699457597025, 4.93981972784296, 4.641450566060554, 4.5930865996823504, 4.5447245481210405, 35.35850323377083, 27.2076217431913, 13.004981567983723, 9.803365596980132, 8.83412166728389, 61.09035970315801, 27.03585275503887, 24.27579366612859, 22.89564995358982, 18.312944979613224, 15.886048338140455, 15.707687346693161, 14.405157000205257, 13.777574093108282, 13.311879625792653, 13.102831204867185, 10.667892373303605, 9.722140142351405, 9.51986569438779, 8.845729799791307, 7.497047956897984, 6.008397470579303, 5.814233713556673, 5.760019571945462, 5.620290681495721, 5.380436857405663, 5.333855803585598, 5.333765896219742, 5.286865647465871, 5.279623585361146, 5.279394297793196, 5.2860008242323975, 4.705837154969447, 4.659172853588404, 4.023378407076574, 57.40883098328224, 18.009634631842022, 6.589732314100125, 6.624278149104536, 10.823203780067354, 15.428591098058495, 5.519102081876282, 50.52881894165229, 39.15092070862095, 32.22750369279394, 29.71322405230051, 20.756764777124694, 19.56684656605283, 19.25033780155648, 18.755280713090688, 16.87006038213671, 16.44983300219342, 16.203505548102587, 15.289056464777387, 8.413683054632969, 7.606899153840912, 7.508236769357694, 6.676540555980949, 6.27320686742017, 6.116980893374601, 5.812058615237503, 5.812080127299749, 5.8037473403551925, 5.7626422710828376, 6.220703990501176, 5.608160118583079, 5.301450098439752, 5.145161380879299, 4.840556405660329, 4.7913668344951725, 4.790920459203569, 4.428833460991597, 8.67768266785884, 9.641595152974869, 8.5290343177394, 5.163767073882219, 5.930980880676762, 5.574555140179179, 90.29641495277325, 81.31448758384148, 19.545470543299707, 18.653160423771862, 18.653160423771862, 13.480958525520919, 12.667352487927557, 12.552305029194942, 12.075204857945813, 11.571380459474858, 9.820914990562214, 9.812248108208081, 9.599641497880228, 9.546035821080938, 8.149309039322006, 7.389838857323766, 7.115522919065361, 6.682613396108888, 6.3462852982235765, 6.019422700794292, 5.913310117067451, 5.745339916142817, 5.6762165715045665, 5.3122450316022904, 5.311633561702125, 4.8084782515514375, 4.808383114160104, 4.755406773437757, 4.702283036757006, 4.587407539975862, 20.44909888581527, 19.560040410460694, 9.095941269337866, 8.539100777901234, 34.189646146697065, 27.421305976744595, 23.154953657124608, 21.197596199853226, 19.214758068470623, 18.645735831338477, 16.261203171289257, 15.634305429714109, 15.475491790997559, 11.418011088338178, 10.94112062383599, 10.773621984437941, 10.690298282760898, 10.147003714937469, 9.903710026785358, 9.335086913380653, 8.506962440801995, 7.829456323380068, 7.519782462237268, 7.511209421316571, 7.310541634462411, 5.068000445405478, 5.0266586627381065, 4.658708464115538, 4.658472579428657, 4.550063481421853, 4.349133742913601, 4.349105966637066, 4.340976491486267, 4.298674504305446, 23.61627915091124, 12.555589775811344, 9.033757900363632, 9.234218860789438, 6.891992888521682, 13.702963660372745, 9.920634753069134, 5.38672253546139, 45.56499178761049, 39.937983692652054, 30.235859280519684, 27.305918486950976, 19.43841443454611, 18.9042962776352, 17.042896431813542, 15.603882343658707, 8.116126119718665, 8.073071191619007, 7.35756267589356, 6.832359222961375, 6.720052930024807, 6.668593934321101, 6.0723770673178, 5.754983475215989, 5.600107088227438, 5.496305991370099, 5.33308629709592, 4.962156205800286, 4.634993103596216, 4.428039713555635, 4.41933808685795, 4.315912788408379, 4.100801285203385, 4.10071347405827, 4.1005424296002495, 3.7817351196787428, 3.7212898393472145, 3.6182919439594126, 7.5565385690587314, 9.245563888519756, 8.97585133204888, 5.324166599118422, 6.289396694221147, 6.577458034521999], \"Total\": [358.0, 267.0, 156.0, 134.0, 106.0, 91.0, 92.0, 82.0, 85.0, 78.0, 61.0, 77.0, 70.0, 55.0, 58.0, 53.0, 51.0, 46.0, 46.0, 40.0, 42.0, 39.0, 38.0, 52.0, 34.0, 39.0, 41.0, 34.0, 33.0, 48.0, 156.58819746189718, 78.18343371731862, 70.91325455375579, 17.957354462258525, 14.909548319523472, 12.07129464076908, 10.581081646550857, 10.475587846683293, 9.281255463935409, 8.736954118923553, 8.736857069026318, 8.688104103866902, 8.087102298179243, 7.963026517202403, 267.1024815898918, 7.7908078106363465, 7.198319253863401, 7.083260194555248, 6.548533973787506, 6.366895878455045, 6.309767677633253, 6.128255926098443, 6.128078104873286, 5.8318905142792525, 5.83179555969743, 5.774543819010991, 5.65960655880421, 5.659559708757394, 5.47808519199368, 5.057608195874054, 17.052412896252882, 29.099903710755452, 21.032246607262696, 12.25217344499332, 8.566557219025956, 11.276870464225098, 13.466098517284363, 11.844023715335814, 28.585150511922595, 27.597939284481185, 48.47506706929218, 23.33555603223855, 134.6932111616487, 85.80495417675509, 41.06324889375538, 24.48092813245741, 19.439597509970675, 13.417364097508791, 13.311563919423795, 12.96717225024256, 12.419535669690545, 11.492863461156839, 11.157023201034082, 9.938414911385097, 9.12638539009361, 8.640364547693498, 8.252140645614096, 7.8106824276725915, 7.598965586715993, 7.536824742916715, 7.324496043700004, 7.157349180730237, 6.77745337381074, 6.777304936218785, 6.6010271832474485, 8.763217667496049, 6.38856377216477, 6.062111109955532, 6.053214281964747, 5.894549273192148, 5.841447262430036, 5.779955357061036, 358.0535606418255, 9.727420648758, 22.656546793704273, 17.210562214194308, 8.250422252310678, 9.737653453262398, 106.5687579495102, 92.38322126016286, 58.538567958122236, 39.35690100394793, 13.99201838963279, 13.61996125844166, 12.01617901122586, 11.81200963973169, 11.510723603091959, 10.324068623811314, 10.306409043523782, 10.199827317573027, 9.969239414002558, 9.774655784291093, 9.429373796456284, 8.995356870758883, 8.941920212653, 8.498888070478518, 8.171098314546434, 8.162210482062063, 7.063658633349452, 6.895259807809803, 6.895336135680741, 6.620546359105034, 6.461009764623883, 6.239655275384055, 5.849588210878992, 5.796748786643701, 5.309124676573036, 5.30923256555254, 21.471210205128504, 52.444422998801606, 358.0535606418255, 77.59498401138293, 10.291928783835619, 55.72497201774618, 46.77863582787979, 42.00879729497686, 34.62385151751758, 29.69755439780394, 29.69755439780394, 18.596221317055743, 16.956958918963, 14.802407017371952, 13.60016303788606, 12.975484488589371, 10.625380246663289, 10.11852267627598, 9.532774945090628, 9.384603394467545, 8.564854135303188, 8.564809650527677, 8.12762070672252, 7.831213029269762, 7.784196464799932, 7.729683487873689, 7.589027365495782, 7.401675434914468, 5.941656883651981, 5.504818112409811, 5.504711453849667, 5.114205085697701, 5.114215087978499, 5.012869893071719, 5.012847446947015, 15.948968705790168, 28.585150511922595, 38.003356247549064, 23.33555603223855, 17.78566129821471, 9.313854453306439, 32.986795184625, 53.98658404404925, 38.28286151633122, 27.97369955492284, 20.722212886540348, 18.75180218135079, 16.095766033432035, 16.007091958881308, 18.012329069223128, 14.295409264278046, 12.938808656737836, 11.921073626965322, 10.080697367076855, 9.967457450331512, 9.878749234789208, 9.531699181821706, 9.079442165115815, 9.031148997975336, 8.32042357393213, 7.9168293544471595, 7.674663510043656, 7.666946830118209, 7.21433990738567, 6.972259306321312, 6.713861026175414, 6.2696844133488225, 6.059937198739471, 5.704151693269357, 5.405733004023697, 5.357362631017745, 5.308972966486184, 48.47506706929218, 37.809567343285714, 18.54016849076313, 17.51530790618754, 31.257218036171174, 61.85801321326898, 27.803828506416412, 25.043237606431234, 23.66307809668434, 19.080653677113183, 16.65352700458166, 16.475171013497928, 15.172794331897258, 14.544975429906367, 14.079331868015016, 13.870234674708149, 11.435370564813175, 10.489569433310955, 10.288280774761356, 9.613197948662519, 8.264466364712234, 6.775799481206388, 6.581672697261781, 6.527441890306872, 6.387727708062717, 6.1478384185818395, 6.1012534447698075, 6.101184216536719, 6.054394814726254, 6.047032463580734, 6.04680731990747, 6.054640504962648, 5.473239285671229, 5.426582366451037, 4.79078968781963, 77.59498401138293, 27.597939284481185, 8.713009706654068, 9.818280560113367, 38.003356247549064, 267.1024815898918, 8.613402370341616, 51.29234068991101, 39.91358037600277, 33.01468686474228, 30.47695807178075, 21.519419495096574, 20.333184350909306, 20.021006856479367, 19.518424425606778, 17.632728548626176, 17.212491471764178, 16.966148675099173, 16.05171138844223, 9.17640543433609, 8.369571581172323, 8.270862728081658, 7.439226363275268, 7.035841504910295, 6.87961747844523, 6.574711685876985, 6.574768255472339, 6.566413818574639, 6.525306178744182, 7.044071125393611, 6.376565883539953, 6.064109377467914, 5.90781610302399, 5.603207799849986, 5.553993119200607, 5.553584533981276, 5.191483900244476, 12.425266842901294, 14.455702035984267, 12.858120677616867, 7.863336938356534, 29.099903710755452, 21.032246607262696, 91.05316325990772, 82.0972243174282, 20.302130466760275, 19.40975810882984, 19.409758115332444, 14.23765366593391, 13.424010893981038, 13.309142572076535, 12.831829784944437, 12.328013379741083, 10.577571002760054, 10.568849349486193, 10.356276297340743, 10.30270807939154, 8.906251985985097, 8.1464550587738, 7.872164541122864, 7.439224806548449, 7.102914722010089, 6.7760548058932075, 6.669932037866359, 6.501995303900412, 6.448290948941813, 6.068836072773949, 6.068327191712427, 5.565081128283552, 5.565010249752908, 5.5120097915609465, 5.458905105918431, 5.344009807761573, 26.660633442248713, 31.257218036171174, 13.210271722392013, 14.599257582246612, 34.95103410205901, 28.182813065075358, 23.916348252850106, 21.95894719539494, 19.97613781848334, 19.40707347068519, 17.022934627609725, 16.39567412621575, 16.23691620596203, 12.179390897122303, 11.7024469453137, 11.5349955113915, 11.451639923632156, 10.924308056221859, 10.665059005857335, 10.09645116543127, 9.2683099610488, 8.590794802534809, 8.281118398791417, 8.272655357557266, 8.0718877377173, 5.82998227573368, 5.787995843883505, 5.420042655162108, 5.419827901611633, 5.311387248362183, 5.1104682626124465, 5.110459779131229, 5.1022949450406525, 5.0601011678966366, 32.986795184625, 17.21532140147229, 13.321014754081101, 14.411798757795934, 10.915234334367039, 52.444422998801606, 37.809567343285714, 14.599257582246612, 46.350625088074146, 40.69692463811294, 30.99474869502594, 28.064763636184264, 20.197254747383678, 19.66312673482005, 17.80179226830384, 16.362893920816337, 8.874982255538804, 8.83189601885689, 8.116467089563114, 7.5912321456175285, 7.478886505289379, 7.427431112632819, 6.83268533832101, 6.513907389937347, 6.358955898656608, 6.255155627017483, 6.091910857605212, 5.720994178713703, 5.393824391116897, 5.1868553543759175, 5.178190800638007, 5.07477869031926, 4.859636368021354, 4.859547891272193, 4.859398562377837, 4.5405871954638375, 4.480342640674352, 4.377119809763588, 10.11086226640581, 13.469692409859896, 13.023454212684126, 7.044157819990659, 9.658082088377821, 13.907833212993705], \"Category\": [\"Default\", \"Default\", \"Default\", \"Default\", \"Default\", \"Default\", \"Default\", \"Default\", \"Default\", \"Default\", \"Default\", \"Default\", \"Default\", \"Default\", \"Default\", \"Default\", \"Default\", \"Default\", \"Default\", \"Default\", \"Default\", \"Default\", \"Default\", \"Default\", \"Default\", \"Default\", \"Default\", \"Default\", \"Default\", \"Default\", \"Topic1\", \"Topic1\", \"Topic1\", \"Topic1\", \"Topic1\", \"Topic1\", \"Topic1\", \"Topic1\", \"Topic1\", \"Topic1\", \"Topic1\", \"Topic1\", \"Topic1\", \"Topic1\", \"Topic1\", \"Topic1\", \"Topic1\", \"Topic1\", \"Topic1\", \"Topic1\", \"Topic1\", \"Topic1\", \"Topic1\", \"Topic1\", \"Topic1\", \"Topic1\", \"Topic1\", \"Topic1\", \"Topic1\", \"Topic1\", \"Topic1\", \"Topic1\", \"Topic1\", \"Topic1\", \"Topic1\", \"Topic1\", \"Topic1\", \"Topic1\", \"Topic1\", \"Topic1\", \"Topic1\", \"Topic1\", \"Topic2\", \"Topic2\", \"Topic2\", \"Topic2\", \"Topic2\", \"Topic2\", \"Topic2\", \"Topic2\", \"Topic2\", \"Topic2\", \"Topic2\", \"Topic2\", \"Topic2\", \"Topic2\", \"Topic2\", \"Topic2\", \"Topic2\", \"Topic2\", \"Topic2\", \"Topic2\", \"Topic2\", \"Topic2\", \"Topic2\", \"Topic2\", \"Topic2\", \"Topic2\", \"Topic2\", \"Topic2\", \"Topic2\", \"Topic2\", \"Topic2\", \"Topic2\", \"Topic2\", \"Topic2\", \"Topic2\", \"Topic2\", \"Topic3\", \"Topic3\", \"Topic3\", \"Topic3\", \"Topic3\", \"Topic3\", \"Topic3\", \"Topic3\", \"Topic3\", \"Topic3\", \"Topic3\", \"Topic3\", \"Topic3\", \"Topic3\", \"Topic3\", \"Topic3\", \"Topic3\", \"Topic3\", \"Topic3\", \"Topic3\", \"Topic3\", \"Topic3\", \"Topic3\", \"Topic3\", \"Topic3\", \"Topic3\", \"Topic3\", \"Topic3\", \"Topic3\", \"Topic3\", \"Topic3\", \"Topic3\", \"Topic3\", \"Topic3\", \"Topic3\", \"Topic4\", \"Topic4\", \"Topic4\", \"Topic4\", \"Topic4\", \"Topic4\", \"Topic4\", \"Topic4\", \"Topic4\", \"Topic4\", \"Topic4\", \"Topic4\", \"Topic4\", \"Topic4\", \"Topic4\", \"Topic4\", \"Topic4\", \"Topic4\", \"Topic4\", \"Topic4\", \"Topic4\", \"Topic4\", \"Topic4\", \"Topic4\", \"Topic4\", \"Topic4\", \"Topic4\", \"Topic4\", \"Topic4\", \"Topic4\", \"Topic4\", \"Topic4\", \"Topic4\", \"Topic4\", \"Topic4\", \"Topic4\", \"Topic4\", \"Topic5\", \"Topic5\", \"Topic5\", \"Topic5\", \"Topic5\", \"Topic5\", \"Topic5\", \"Topic5\", \"Topic5\", \"Topic5\", \"Topic5\", \"Topic5\", \"Topic5\", \"Topic5\", \"Topic5\", \"Topic5\", \"Topic5\", \"Topic5\", \"Topic5\", \"Topic5\", \"Topic5\", \"Topic5\", \"Topic5\", \"Topic5\", \"Topic5\", \"Topic5\", \"Topic5\", \"Topic5\", \"Topic5\", \"Topic5\", \"Topic5\", \"Topic5\", \"Topic5\", \"Topic5\", \"Topic5\", \"Topic6\", \"Topic6\", \"Topic6\", \"Topic6\", \"Topic6\", \"Topic6\", \"Topic6\", \"Topic6\", \"Topic6\", \"Topic6\", \"Topic6\", \"Topic6\", \"Topic6\", \"Topic6\", \"Topic6\", \"Topic6\", \"Topic6\", \"Topic6\", \"Topic6\", \"Topic6\", \"Topic6\", \"Topic6\", \"Topic6\", \"Topic6\", \"Topic6\", \"Topic6\", \"Topic6\", \"Topic6\", \"Topic6\", \"Topic6\", \"Topic6\", \"Topic6\", \"Topic6\", \"Topic6\", \"Topic6\", \"Topic6\", \"Topic6\", \"Topic7\", \"Topic7\", \"Topic7\", \"Topic7\", \"Topic7\", \"Topic7\", \"Topic7\", \"Topic7\", \"Topic7\", \"Topic7\", \"Topic7\", \"Topic7\", \"Topic7\", \"Topic7\", \"Topic7\", \"Topic7\", \"Topic7\", \"Topic7\", \"Topic7\", \"Topic7\", \"Topic7\", \"Topic7\", \"Topic7\", \"Topic7\", \"Topic7\", \"Topic7\", \"Topic7\", \"Topic7\", \"Topic7\", \"Topic7\", \"Topic7\", \"Topic7\", \"Topic7\", \"Topic7\", \"Topic7\", \"Topic7\", \"Topic8\", \"Topic8\", \"Topic8\", \"Topic8\", \"Topic8\", \"Topic8\", \"Topic8\", \"Topic8\", \"Topic8\", \"Topic8\", \"Topic8\", \"Topic8\", \"Topic8\", \"Topic8\", \"Topic8\", \"Topic8\", \"Topic8\", \"Topic8\", \"Topic8\", \"Topic8\", \"Topic8\", \"Topic8\", \"Topic8\", \"Topic8\", \"Topic8\", \"Topic8\", \"Topic8\", \"Topic8\", \"Topic8\", \"Topic8\", \"Topic8\", \"Topic8\", \"Topic8\", \"Topic8\", \"Topic9\", \"Topic9\", \"Topic9\", \"Topic9\", \"Topic9\", \"Topic9\", \"Topic9\", \"Topic9\", \"Topic9\", \"Topic9\", \"Topic9\", \"Topic9\", \"Topic9\", \"Topic9\", \"Topic9\", \"Topic9\", \"Topic9\", \"Topic9\", \"Topic9\", \"Topic9\", \"Topic9\", \"Topic9\", \"Topic9\", \"Topic9\", \"Topic9\", \"Topic9\", \"Topic9\", \"Topic9\", \"Topic9\", \"Topic9\", \"Topic9\", \"Topic9\", \"Topic9\", \"Topic9\", \"Topic9\", \"Topic9\", \"Topic9\", \"Topic9\", \"Topic10\", \"Topic10\", \"Topic10\", \"Topic10\", \"Topic10\", \"Topic10\", \"Topic10\", \"Topic10\", \"Topic10\", \"Topic10\", \"Topic10\", \"Topic10\", \"Topic10\", \"Topic10\", \"Topic10\", \"Topic10\", \"Topic10\", \"Topic10\", \"Topic10\", \"Topic10\", \"Topic10\", \"Topic10\", \"Topic10\", \"Topic10\", \"Topic10\", \"Topic10\", \"Topic10\", \"Topic10\", \"Topic10\", \"Topic10\", \"Topic10\", \"Topic10\", \"Topic10\", \"Topic10\", \"Topic10\", \"Topic10\"], \"logprob\": [30.0, 29.0, 28.0, 27.0, 26.0, 25.0, 24.0, 23.0, 22.0, 21.0, 20.0, 19.0, 18.0, 17.0, 16.0, 15.0, 14.0, 13.0, 12.0, 11.0, 10.0, 9.0, 8.0, 7.0, 6.0, 5.0, 4.0, 3.0, 2.0, 1.0, -2.262, -2.961, -3.0593, -4.4647, -4.6596, -4.8833, -5.0245, -5.0352, -5.1662, -5.2322, -5.2322, -5.2383, -5.317, -5.3341, -1.8221, -5.3583, -5.4462, -5.4642, -5.5524, -5.5842, -5.5944, -5.6276, -5.6276, -5.6843, -5.6843, -5.6956, -5.7187, -5.7188, -5.7564, -5.8496, -4.7322, -4.3396, -4.6161, -5.0742, -5.4358, -5.3092, -5.2215, -5.401, -5.1043, -5.1222, -5.3005, -5.4808, -2.3722, -2.8248, -3.5715, -4.1016, -4.3405, -4.7296, -4.7379, -4.7658, -4.8119, -4.8944, -4.9262, -5.0508, -5.1434, -5.2033, -5.2538, -5.3145, -5.3449, -5.3541, -5.3859, -5.4117, -5.4728, -5.4729, -5.5026, -5.2228, -5.5396, -5.5993, -5.601, -5.6314, -5.6418, -5.654, -1.5599, -5.1516, -4.3525, -4.8069, -5.4213, -5.4727, -2.4233, -2.5673, -3.0283, -3.4317, -4.5021, -4.5306, -4.6637, -4.682, -4.7097, -4.8266, -4.8284, -4.8397, -4.8644, -4.8857, -4.9248, -4.9761, -4.9826, -5.0383, -5.0815, -5.0827, -5.2433, -5.2703, -5.2704, -5.3161, -5.3437, -5.3833, -5.4571, -5.4675, -5.5693, -5.5692, -4.1975, -3.4457, -3.0593, -4.1143, -5.1847, -2.9351, -3.1128, -3.2222, -3.4196, -3.5768, -3.5768, -4.0609, -4.1573, -4.3001, -4.3897, -4.4396, -4.6534, -4.7062, -4.7708, -4.7879, -4.8878, -4.8878, -4.9455, -4.9866, -4.9933, -5.0011, -5.0215, -5.0494, -5.2979, -5.3861, -5.3861, -5.4721, -5.4721, -5.4957, -5.4957, -4.3752, -4.0059, -3.8449, -4.336, -4.5407, -5.0995, -4.78, -2.9609, -3.3106, -3.6325, -3.9418, -4.0457, -4.2055, -4.2113, -4.0953, -4.3304, -4.436, -4.5233, -4.7036, -4.7158, -4.7255, -4.7643, -4.8173, -4.8231, -4.913, -4.9679, -5.0023, -5.0038, -5.0713, -5.1095, -5.1521, -5.2296, -5.2685, -5.3381, -5.4004, -5.4108, -5.4214, -3.3698, -3.6319, -4.37, -4.6527, -4.7568, -2.8167, -3.6319, -3.7396, -3.7981, -4.0215, -4.1636, -4.1749, -4.2615, -4.306, -4.3404, -4.3563, -4.5618, -4.6547, -4.6757, -4.7492, -4.9146, -5.1359, -5.1688, -5.1781, -5.2027, -5.2463, -5.255, -5.255, -5.2639, -5.2652, -5.2653, -5.264, -5.3803, -5.3902, -5.537, -2.8789, -4.0382, -5.0436, -5.0383, -4.5474, -4.1929, -5.2209, -2.9469, -3.202, -3.3966, -3.4779, -3.8366, -3.8956, -3.9119, -3.938, -4.0439, -4.0691, -4.0842, -4.1423, -4.7396, -4.8404, -4.8535, -4.9709, -5.0332, -5.0584, -5.1095, -5.1095, -5.111, -5.1181, -5.0416, -5.1452, -5.2015, -5.2314, -5.2924, -5.3026, -5.3027, -5.3813, -4.7087, -4.6034, -4.726, -5.2278, -5.0893, -5.1513, -2.363, -2.4678, -3.8933, -3.9401, -3.9401, -4.2648, -4.3271, -4.3362, -4.3749, -4.4175, -4.5816, -4.5825, -4.6044, -4.61, -4.7681, -4.866, -4.9038, -4.9666, -5.0182, -5.0711, -5.0889, -5.1177, -5.1298, -5.1961, -5.1962, -5.2957, -5.2957, -5.3068, -5.318, -5.3428, -3.8481, -3.8926, -4.6583, -4.7214, -3.2899, -3.5105, -3.6796, -3.768, -3.8662, -3.8962, -4.0331, -4.0724, -4.0826, -4.3867, -4.4293, -4.4447, -4.4525, -4.5047, -4.5289, -4.5881, -4.681, -4.764, -4.8043, -4.8055, -4.8325, -5.1989, -5.2071, -5.2831, -5.2832, -5.3067, -5.3519, -5.3519, -5.3537, -5.3635, -3.6599, -4.2917, -4.6209, -4.5989, -4.8915, -4.2042, -4.5272, -5.1379, -2.9762, -3.1081, -3.3864, -3.4883, -3.8281, -3.856, -3.9596, -4.0479, -4.7015, -4.7068, -4.7997, -4.8737, -4.8903, -4.898, -4.9916, -5.0453, -5.0726, -5.0913, -5.1215, -5.1935, -5.2617, -5.3074, -5.3094, -5.3331, -5.3842, -5.3842, -5.3843, -5.4652, -5.4813, -5.5094, -4.773, -4.5712, -4.6008, -5.1231, -4.9565, -4.9117], \"loglift\": [30.0, 29.0, 28.0, 27.0, 26.0, 25.0, 24.0, 23.0, 22.0, 21.0, 20.0, 19.0, 18.0, 17.0, 16.0, 15.0, 14.0, 13.0, 12.0, 11.0, 10.0, 9.0, 8.0, 7.0, 6.0, 5.0, 4.0, 3.0, 2.0, 1.0, 1.9846, 1.9801, 1.9794, 1.9475, 1.9386, 1.926, 1.9167, 1.9159, 1.9059, 1.9004, 1.9004, 1.8999, 1.8929, 1.8913, 1.8904, 1.889, 1.8802, 1.8783, 1.8686, 1.8649, 1.8637, 1.8597, 1.8597, 1.8526, 1.8526, 1.8511, 1.8481, 1.8481, 1.843, 1.8297, 1.7317, 1.5899, 1.638, 1.7203, 1.7165, 1.5683, 1.4785, 1.4273, 0.843, 0.8602, 0.1186, 0.6694, 2.025, 2.0233, 2.0135, 2.0007, 1.9924, 1.9741, 1.9736, 1.972, 1.969, 1.964, 1.9619, 1.9529, 1.9456, 1.9405, 1.9359, 1.9302, 1.9272, 1.9263, 1.9231, 1.9204, 1.9137, 1.9137, 1.9104, 1.9068, 1.906, 1.8988, 1.8986, 1.8947, 1.8934, 1.8918, 1.8596, 1.8737, 1.8272, 1.6477, 1.7686, 1.5515, 2.2081, 2.207, 2.2022, 2.1958, 2.1596, 2.1581, 2.1502, 2.149, 2.1472, 2.1391, 2.139, 2.1381, 2.1363, 2.1347, 2.1316, 2.1274, 2.1268, 2.122, 2.1181, 2.1179, 2.1019, 2.099, 2.099, 2.0939, 2.0907, 2.086, 2.0767, 2.0753, 2.0615, 2.0615, 2.036, 1.8947, 0.3602, 0.8344, 1.7842, 2.3446, 2.3419, 2.3401, 2.3361, 2.3323, 2.3323, 2.3164, 2.3122, 2.3053, 2.3004, 2.2976, 2.2836, 2.2797, 2.2746, 2.2732, 2.2647, 2.2647, 2.2594, 2.2554, 2.2548, 2.254, 2.252, 2.2491, 2.2203, 2.2085, 2.2085, 2.196, 2.196, 2.1924, 2.1924, 2.1556, 1.9414, 1.8176, 1.8142, 1.8811, 1.9692, 1.0241, 2.3505, 2.3446, 2.3364, 2.3272, 2.3232, 2.3162, 2.3159, 2.3139, 2.3099, 2.3039, 2.2985, 2.286, 2.285, 2.2843, 2.2812, 2.2769, 2.2764, 2.2684, 2.2633, 2.2599, 2.2595, 2.2528, 2.2487, 2.2439, 2.2348, 2.23, 2.2209, 2.2124, 2.2109, 2.2094, 2.0493, 2.0357, 2.0102, 1.7845, 1.1012, 2.3586, 2.3431, 2.34, 2.3381, 2.33, 2.3239, 2.3234, 2.3192, 2.3169, 2.315, 2.3142, 2.3016, 2.2951, 2.2935, 2.2879, 2.2736, 2.2509, 2.2471, 2.246, 2.2431, 2.2378, 2.2367, 2.2367, 2.2355, 2.2354, 2.2354, 2.2353, 2.22, 2.2186, 2.1965, 2.0698, 1.9443, 2.0918, 1.9776, 1.1151, -0.4803, 1.926, 2.4157, 2.4114, 2.4066, 2.4053, 2.3946, 2.3923, 2.3915, 2.3908, 2.3865, 2.3854, 2.3847, 2.382, 2.3439, 2.3352, 2.334, 2.3225, 2.316, 2.3132, 2.3074, 2.3074, 2.3073, 2.3064, 2.3064, 2.3023, 2.2963, 2.2925, 2.2844, 2.283, 2.283, 2.2718, 2.0717, 2.0257, 2.0202, 2.0102, 0.8402, 1.1029, 2.4258, 2.4245, 2.3961, 2.3943, 2.3943, 2.3795, 2.3761, 2.3756, 2.3733, 2.3708, 2.3599, 2.3598, 2.3582, 2.3578, 2.3453, 2.3366, 2.333, 2.3268, 2.3215, 2.3157, 2.3137, 2.3104, 2.3066, 2.3009, 2.3009, 2.288, 2.288, 2.2865, 2.2849, 2.2814, 2.1688, 1.9653, 2.0609, 1.8978, 2.4563, 2.4509, 2.446, 2.443, 2.4395, 2.4383, 2.4326, 2.4308, 2.4303, 2.4138, 2.4111, 2.41, 2.4095, 2.4045, 2.4043, 2.3999, 2.3926, 2.3855, 2.3819, 2.3818, 2.3793, 2.3383, 2.3373, 2.327, 2.327, 2.3236, 2.317, 2.317, 2.3167, 2.3153, 2.1442, 2.1627, 2.09, 2.0332, 2.0185, 1.1362, 1.1404, 1.4813, 2.4877, 2.486, 2.48, 2.4774, 2.4665, 2.4654, 2.4612, 2.4573, 2.4154, 2.415, 2.4066, 2.3995, 2.3978, 2.397, 2.3868, 2.3809, 2.3777, 2.3755, 2.3718, 2.3625, 2.3532, 2.3466, 2.3463, 2.3428, 2.335, 2.335, 2.335, 2.3219, 2.3192, 2.3144, 2.2136, 2.1285, 2.1326, 2.2249, 2.0759, 1.756]}, \"token.table\": {\"Topic\": [1, 3, 3, 1, 1, 9, 3, 1, 9, 1, 3, 7, 3, 4, 9, 10, 2, 1, 7, 9, 3, 6, 9, 8, 2, 9, 3, 4, 10, 8, 2, 9, 9, 9, 4, 8, 8, 7, 3, 1, 1, 2, 3, 3, 10, 2, 3, 8, 3, 4, 6, 6, 8, 1, 3, 6, 2, 7, 1, 10, 10, 6, 9, 4, 4, 8, 9, 1, 7, 7, 4, 10, 9, 7, 8, 1, 7, 5, 2, 10, 7, 5, 8, 4, 3, 4, 7, 8, 3, 9, 1, 6, 8, 3, 3, 10, 5, 8, 6, 2, 1, 1, 10, 10, 5, 4, 2, 6, 10, 10, 5, 5, 9, 5, 8, 5, 4, 4, 6, 9, 3, 8, 9, 2, 5, 6, 2, 8, 6, 4, 1, 7, 9, 5, 8, 9, 5, 9, 1, 7, 7, 7, 6, 6, 1, 4, 8, 4, 1, 7, 7, 2, 1, 2, 8, 1, 9, 1, 4, 10, 4, 2, 10, 4, 2, 10, 6, 9, 3, 6, 10, 1, 5, 7, 1, 1, 7, 9, 7, 9, 4, 9, 4, 6, 2, 5, 5, 2, 5, 8, 6, 2, 4, 1, 10, 7, 1, 2, 6, 8, 2, 7, 2, 2, 10, 1, 6, 8, 7, 10, 1, 3, 8, 2, 6, 9, 8, 8, 3, 3, 1, 4, 1, 5, 4, 10, 8, 9, 9, 6, 5, 4, 5, 8, 4, 2, 7, 2, 6, 7, 4, 8, 1, 6, 3, 10, 5, 5, 9, 3, 3, 10, 4, 1, 3, 5, 8, 8, 1, 6, 1, 2, 5, 5, 9, 7, 2, 1, 10, 6, 8, 10, 9, 10, 3, 10, 10, 1, 4, 8, 6, 1, 2, 3, 6, 9, 2, 7, 10, 10, 4, 6, 3, 10, 7, 4, 8, 7, 8, 3, 6, 7, 4, 7, 10, 7, 9, 3, 6, 3, 6, 7, 3, 7, 3, 5, 6, 7, 1, 10, 10, 3, 8, 4, 6, 1, 2, 9, 8, 5, 2, 3, 5, 9, 9, 8, 7, 4, 6, 3, 9, 10, 7, 6, 3, 3, 5, 2, 1, 10, 1, 9, 10, 2, 5, 3, 4, 10, 2, 5, 9, 4, 7, 4, 5, 6, 8, 9, 2, 1, 6, 5, 6, 1, 10, 5, 2, 6, 10, 5, 6, 4, 5, 9, 6, 4, 4, 3, 3, 3, 6, 1, 5, 3, 7, 2, 6, 10, 6, 7, 5, 1, 2, 3, 4, 5, 8, 9, 7, 4, 6, 5, 2, 6, 8, 3, 5, 9], \"Freq\": [0.9546003667150889, 0.8893477062600507, 0.9686103768175381, 0.9696963988300618, 0.8658692628738858, 0.9670413735647541, 0.8701630057803186, 0.9509066429289763, 0.8672073036015208, 0.9156509111879885, 0.9544642299982158, 0.9836137643194877, 0.2157057791861627, 0.14380385279077515, 0.07190192639538757, 0.503313484767713, 0.885288274086111, 0.6872874975393102, 0.20618624926179305, 0.10309312463089652, 0.9207485356634197, 0.9191962335060978, 0.9312293197411154, 0.8984709417600812, 0.9773864911685953, 0.9605611138104221, 0.1686752013151816, 0.6184757381556658, 0.1686752013151816, 0.8892090559633474, 0.9765944917284158, 0.979024479332235, 0.7904980290468588, 0.9225385179690312, 0.9679385770425892, 0.9453966319290746, 0.8982454137373187, 0.912587545532755, 0.9417556941169034, 0.9871215253128243, 0.996243666691161, 0.838299187100418, 0.9062696150066806, 0.9312555894806962, 0.8781320524668527, 0.9741070440747062, 0.18754243070896334, 0.7501697228358534, 0.1052538616311808, 0.5788962389714944, 0.2894481194857472, 0.8349354199725825, 0.9130717957485358, 0.29149055177215805, 0.6801446208017021, 0.8195130359198044, 0.9287730893011363, 0.9430543316812279, 0.9423744497382807, 0.9549600255850961, 0.8927888603175997, 0.846999635679894, 0.9511348075712539, 0.9223843402945351, 0.8612606631864793, 0.9866350619457511, 0.8914023207297477, 0.8159164936269016, 0.7704926138385275, 0.8721415135069369, 0.975986046734609, 0.9269860561709263, 0.9376413196127579, 0.8718010616734261, 0.9351744997490209, 0.945082963541797, 0.892345987977434, 0.9569859668255972, 0.9254137886365728, 0.8231471340853939, 0.9558434290706481, 0.8927953763787843, 0.8447236430148256, 0.934054617256686, 0.12539995763324266, 0.8150997246160773, 0.8463364317384029, 0.9767721646678325, 0.3002774243437076, 0.675624204773342, 0.620739594571641, 0.26603125481641754, 0.9227936532652867, 0.9154324340311079, 0.9291011230825844, 0.7882117120950461, 0.9437979916238123, 0.9304791064033209, 0.9533279762888776, 0.8482412765195682, 0.8158928184944868, 0.762355455447401, 0.1759281820263233, 0.9620604808938619, 0.924943943083816, 0.92482095836597, 0.7272355058336066, 0.12120591763893444, 0.9014102529621697, 0.8231068534925459, 0.9319220948443179, 0.27484522165084296, 0.6413055171853003, 0.8858230554931044, 0.8854709963062483, 0.860553191783928, 0.9869901770876564, 0.7979496767722561, 0.9861293118110536, 0.9153897847383179, 0.902776994938933, 0.6164697039762095, 0.34248316887567193, 0.9662196976724011, 0.11477090393188781, 0.8033963275232147, 0.9688937339349475, 0.9409582560051396, 0.9710892869940229, 0.9457921258056035, 0.883453637288954, 0.9758627552562499, 0.8576355404735377, 0.9442177966720005, 0.8995593907009788, 0.9399084441086548, 0.9130101140784974, 0.9413736498956647, 0.7131905725572995, 0.28527622902291977, 0.9641162428786171, 0.9672509704263365, 0.9372588355484, 0.9719796940740041, 0.2571183644268376, 0.5999428503292877, 0.1285591822134188, 0.8938589684429424, 0.7345635482884652, 0.16323634406410337, 0.9137407671486673, 0.9906187913684225, 0.5940844699548, 0.37130279372175, 0.915934588161114, 0.9162356069338299, 0.9563300013037035, 0.9466873327989028, 0.9765113858043636, 0.8739739709233877, 0.9082952239108915, 0.8260074345785599, 0.8809433290910264, 0.9590176187206506, 0.7944723511440756, 0.17654941136535013, 0.9619277257045944, 0.922501965042276, 0.8701533735175409, 0.2969629801696122, 0.6681667053816275, 0.14440413233454474, 0.7220206616727237, 0.10314580881038911, 0.8573549156585867, 0.25434494485975917, 0.6358623621493978, 0.9580306954332702, 0.9943005001140743, 0.9536197902406499, 0.2728364471185385, 0.7275638589827693, 0.8992578786588876, 0.9362129073033566, 0.9948534068222878, 0.9029383917460982, 0.8765545288530415, 0.8247951760218855, 0.9926112755126586, 0.9851182875977011, 0.9583425424928554, 0.9803549877743489, 0.9435654162083963, 0.8655757948772335, 0.7711801711658258, 0.9344797970140744, 0.8335279095574634, 0.925886859963051, 0.9393011528069177, 0.9788890666987017, 0.9089494458115885, 0.9295574685539755, 0.9556971507986393, 0.822417400137974, 0.10280217501724676, 0.5910153650685703, 0.25329229931510155, 0.08443076643836718, 0.3106206773299317, 0.6212413546598634, 0.8573688753004596, 0.8946624225834442, 0.9884335346274407, 0.8765792433753385, 0.9116223604519595, 0.9710508213281164, 0.8592694551798874, 0.978889066370757, 0.8566779801851595, 0.9907997756537618, 0.3148487882282161, 0.6646807751484561, 0.8470675699040497, 0.9614895117916813, 0.8894579068445948, 0.9221164450939824, 0.9706185910482075, 0.863856874618142, 0.9399743533471008, 0.9135357946234591, 0.8841923561315435, 0.06398522087556159, 0.28793349394002715, 0.6398522087556159, 0.9765113858043636, 0.2767074189854555, 0.6917685474636387, 0.855952262405602, 0.9607574416877659, 0.9125796935893603, 0.9457318226871009, 0.8238812088583233, 0.3261113051676601, 0.6522226103353203, 0.990931679201263, 0.9424523625798656, 0.9274424190322226, 0.8316769208306235, 0.972789528936914, 0.9702700482554281, 0.2303536336065255, 0.6910609008195765, 0.908312822918865, 0.9127276821666793, 0.9412996069201758, 0.9817253848985098, 0.9461767945898626, 0.9733928436287946, 0.8984947607670797, 0.9719783667207162, 0.2053882908854126, 0.6161648726562379, 0.1026941454427063, 0.2775503646160918, 0.6244883203862065, 0.8527764583401454, 0.8962964242176314, 0.8834609505511859, 0.9662756211785094, 0.7129557927319174, 0.3055524825993932, 0.7993406236615167, 0.9660530878495295, 0.9359682079744504, 0.9544814227678212, 0.9435511262576234, 0.9211061258360491, 0.911252713760218, 0.7979461037934368, 0.9655980308837234, 0.8855043624950569, 0.9060192872770307, 0.018719406761922124, 0.014975525409537699, 0.05615822028576637, 0.0037438813523844247, 0.848264747368358, 0.9003194188196826, 0.9407219068948581, 0.9138429318470136, 0.2321962813308904, 0.6965888439926712, 0.8494181714377262, 0.8207605325934706, 0.9843502074367988, 0.9340497658944437, 0.8239502983340364, 0.9692655917380242, 0.9071101447706336, 0.857610816994216, 0.24144350684218396, 0.7243305205265519, 0.7821352356764754, 0.9490032212766093, 0.9778221430406834, 0.9734392277623268, 0.7827071404128473, 0.9946629954176658, 0.9213902346551831, 0.8823678793555775, 0.9625317050185024, 0.9409453473205703, 0.9556306257797059, 0.9771110392153133, 0.9417748319347113, 0.92273568171898, 0.3110874520693457, 0.6999467671560279, 0.1978070660348295, 0.791228264139318, 0.9924353751991931, 0.22709601006275013, 0.6812880301882503, 0.9558708938845673, 0.8268518533864895, 0.9156610823314708, 0.8650585845601368, 0.7827084397247706, 0.9356270253729816, 0.9120921055156699, 0.8406563516934318, 0.15640118171040593, 0.7141049712327561, 0.26448332267879854, 0.9031650345173694, 0.898459498566584, 0.919497083454055, 0.9833548838246428, 0.8132939839289696, 0.7245765674811281, 0.2669492617035735, 0.8231218396229922, 0.82452338649732, 0.9233392693536113, 0.9958518305062815, 0.801326320017294, 0.9370846396417097, 0.9129066860535799, 0.9389955818894625, 0.7724705701279215, 0.7908876775514481, 0.975867163303576, 0.9828752505426352, 0.8962085022429779, 0.9599077371828038, 0.8625524727793118, 0.9411427890442153, 0.8624442042032341, 0.9211780103645864, 0.9332950454112052, 0.7839609515102482, 0.7821337059918385, 0.9002531858951341, 0.9441112427221408, 0.9793353755169342, 0.8268826399575953, 0.23235116595952204, 0.7551412893684466, 0.9571156950726335, 0.8171310622257095, 0.11673300888938708, 0.9418017442475918, 0.8195037372666697, 0.9207992796080056, 0.9679058957756422, 0.9651478878971731, 0.9391782275293614, 0.14196161209819771, 0.7098080604909887, 0.8811114002947068, 0.9433639069499279, 0.2696847120073932, 0.7011802512192222, 0.9616852772353779, 0.8258128613749705, 0.8415161120725637, 0.9055998231986582, 0.8547610224427528, 0.928647412491456, 0.2577486193832589, 0.7345835652422879, 0.879062751439796, 0.9651923209866787, 0.8383318792016955, 0.13972197986694926, 0.8853076638082539, 0.971158356225339, 0.90580776572995, 0.9227041304163907, 0.8517801557071487, 0.8936735473980955, 0.9848633698847576, 0.9055770040039199, 0.21473386877867687, 0.6442016063360306, 0.8250910588710476, 0.9684139936022286, 0.9238207434052135, 0.9409580591009346, 0.9819820300118273, 0.8258463732557343, 0.911046508631418, 0.6972462520778706, 0.17431156301946765, 0.11620770867964511, 0.22837166331440517, 0.5709291582860129, 0.17127874748580388], \"Term\": [\"acrylic_edwardian\", \"acrylic_jewel\", \"alarm_clock\", \"alphabet\", \"amber\", \"amethyst\", \"angel\", \"animal\", \"antique_white\", \"apron\", \"art\", \"assort\", \"assorted\", \"assorted\", \"assorted\", \"assorted\", \"baby_gift\", \"bag\", \"bag\", \"bag\", \"bakelike\", \"ball\", \"balloon\", \"base\", \"basket\", \"bauble\", \"bead\", \"bead\", \"bead\", \"beaded_crystal\", \"beaker\", \"bell\", \"bicycle\", \"big\", \"bird\", \"birthday\", \"birthday_card\", \"biscuit\", \"biscuit_tin\", \"black\", \"blue\", \"blue_felt\", \"blue_paisley\", \"blue_polkadot\", \"blue_spotty\", \"bottle\", \"bowl\", \"bowl\", \"box\", \"box\", \"box\", \"boy\", \"bracelet\", \"brown\", \"brown\", \"brush\", \"bucket\", \"bunny\", \"bunting\", \"butterfly\", \"button\", \"cabinet\", \"cake\", \"cake_case\", \"calendar\", \"candle\", \"candle_holder\", \"candleholder\", \"candy\", \"candy_spot\", \"card\", \"card_holder\", \"case\", \"cat\", \"ceramic\", \"chain\", \"chair\", \"chandelier_light\", \"charm\", \"cherry\", \"chest\", \"chick\", \"chicken\", \"child\", \"chocolate\", \"chocolate\", \"christmas_decoration\", \"christmas_tree\", \"classic\", \"classic\", \"clear\", \"clear\", \"clip\", \"clock\", \"coaster\", \"coffee\", \"colour\", \"coloured\", \"container\", \"cottage\", \"cotton\", \"cover\", \"cover\", \"cream\", \"cream_sweetheart\", \"cup\", \"cushion\", \"cushion\", \"cushion_cover\", \"cute\", \"cutlery\", \"daisy\", \"daisy\", \"damage\", \"danish_rose\", \"day\", \"decoration\", \"decoupage\", \"design\", \"dinner_candle\", \"dinosaur\", \"dish\", \"dish\", \"dog\", \"doiley\", \"doiley\", \"doily\", \"doll\", \"dolly_girl\", \"door_mat\", \"doorknob_cracked\", \"doormat\", \"doorstop\", \"dotcom\", \"double\", \"drawer\", \"dress\", \"drop_earring\", \"earring\", \"earring\", \"egg\", \"egg_frye\", \"embroidered_ribbon\", \"enamel\", \"fairy_cake\", \"fairy_cake\", \"fairy_cake\", \"flag\", \"flock\", \"flock\", \"floral\", \"flower\", \"flower_fairy\", \"flower_fairy\", \"folding_stool\", \"fork\", \"frame\", \"french\", \"french_blue\", \"frying_pan\", \"fun\", \"funky\", \"fuschia\", \"game\", \"garden\", \"garden\", \"garland\", \"giant\", \"gift_wrap\", \"girl\", \"girl\", \"glass\", \"glass\", \"glass\", \"glass_bracelet\", \"glove\", \"glove\", \"gold\", \"green\", \"greeting_card\", \"hang\", \"hang\", \"hanger\", \"hanging_heart\", \"heart\", \"heart_decoration\", \"heart_shape\", \"herb\", \"holder\", \"home\", \"hook\", \"hot_water\", \"ivory\", \"jack\", \"jam\", \"jar\", \"jardin_etched\", \"jug\", \"key\", \"key_ring\", \"kid\", \"kit\", \"kitchen\", \"knick_knack\", \"knick_knack\", \"lace\", \"lace\", \"lace\", \"lamp\", \"lamp\", \"lampshade\", \"lantern\", \"large\", \"lavender\", \"leaf\", \"leave\", \"letter\", \"letter_ble\", \"lid\", \"light\", \"light_holder\", \"light_holder\", \"list\", \"love\", \"love_london\", \"magic_drawe\", \"magnet\", \"mat\", \"match\", \"measuring_tape\", \"medium\", \"metal\", \"metal\", \"metal\", \"metal_door\", \"metal_sign\", \"metal_sign\", \"milk\", \"mini\", \"mini_jigsaw\", \"mini_playe\", \"mint\", \"mirror\", \"mirror\", \"mug\", \"multicolour\", \"napkin\", \"natural\", \"necklace\", \"new_baroque\", \"notebook\", \"notebook\", \"oval\", \"oven_glove\", \"owl\", \"pack\", \"pad\", \"paint\", \"pair\", \"pantry\", \"pantry_design\", \"pantry_design\", \"pantry_design\", \"paper\", \"paper\", \"paper_chain\", \"paper_doilie\", \"paper_gift\", \"paper_lantern\", \"party\", \"party\", \"party_candle\", \"party_pizza\", \"passport_cover\", \"pen\", \"phone_charm\", \"photo_album\", \"photo_frame\", \"picture\", \"piece\", \"pin_cushion\", \"pink\", \"pink\", \"pink\", \"pink\", \"pink\", \"pink_butterfly\", \"pink_felt\", \"pink_polkadot\", \"pink_yellow\", \"placemat\", \"placemat\", \"planter\", \"plaster\", \"plate\", \"playing_card\", \"point\", \"polkadot\", \"polyester_filler\", \"pot\", \"print\", \"print\", \"pudding\", \"purple\", \"purse\", \"rabbit\", \"rack\", \"red\", \"red_enamel\", \"red_spot\", \"reel\", \"regency_tea\", \"retro_spot\", \"retrospot\", \"revolutionary\", \"ribbon\", \"ribbon_reel\", \"ribbon_reel\", \"ring\", \"ring\", \"rise\", \"rose\", \"rose\", \"round\", \"russian_doll\", \"saucer\", \"scent\", \"school\", \"scissor\", \"sell\", \"set\", \"set\", \"set_card\", \"set_card\", \"shelf\", \"shell\", \"shell_necklace\", \"sign\", \"silk_purse\", \"silver\", \"silver\", \"single\", \"sketchbook\", \"skull\", \"small\", \"snowflake\", \"spaceboy\", \"spoon\", \"spot\", \"spotty\", \"stacking_tin\", \"stand\", \"star\", \"stick\", \"sticker\", \"stool\", \"strawberry\", \"string\", \"sucker\", \"summer\", \"swallow\", \"sweet\", \"sweet_home\", \"sweetheart\", \"table\", \"tape\", \"tea\", \"tea\", \"tea_towel\", \"thermometer\", \"thermometer\", \"throw\", \"tidy\", \"tier\", \"tin\", \"tissue\", \"toadstool\", \"toy\", \"toy\", \"traditional\", \"travel_card\", \"tray\", \"tray\", \"tree\", \"trim\", \"triple\", \"tube\", \"umbrella\", \"union_jack\", \"vintage\", \"vintage\", \"vintage_bead\", \"vintage_christma\", \"vintage_doily\", \"vintage_doily\", \"vintage_spot\", \"wall_art\", \"wall_clock\", \"wallet\", \"washing\", \"water\", \"white\", \"white_spot\", \"wicker\", \"wicker\", \"windmill\", \"wood\", \"wooden\", \"woodland\", \"wrap\", \"wrap_vintage\", \"wreath\", \"yellow\", \"yellow\", \"yellow\", \"zinc\", \"zinc\", \"zinc\"]}, \"R\": 30, \"lambda.step\": 0.01, \"plot.opts\": {\"xlab\": \"PC1\", \"ylab\": \"PC2\"}, \"topic.order\": [3, 4, 5, 8, 7, 2, 10, 6, 9, 1]};\n",
       "\n",
       "function LDAvis_load_lib(url, callback){\n",
       "  var s = document.createElement('script');\n",
       "  s.src = url;\n",
       "  s.async = true;\n",
       "  s.onreadystatechange = s.onload = callback;\n",
       "  s.onerror = function(){console.warn(\"failed to load library \" + url);};\n",
       "  document.getElementsByTagName(\"head\")[0].appendChild(s);\n",
       "}\n",
       "\n",
       "if(typeof(LDAvis) !== \"undefined\"){\n",
       "   // already loaded: just create the visualization\n",
       "   !function(LDAvis){\n",
       "       new LDAvis(\"#\" + \"ldavis_el3010831440995188806739097162\", ldavis_el3010831440995188806739097162_data);\n",
       "   }(LDAvis);\n",
       "}else if(typeof define === \"function\" && define.amd){\n",
       "   // require.js is available: use it to load d3/LDAvis\n",
       "   require.config({paths: {d3: \"https://d3js.org/d3.v5\"}});\n",
       "   require([\"d3\"], function(d3){\n",
       "      window.d3 = d3;\n",
       "      LDAvis_load_lib(\"https://cdn.jsdelivr.net/gh/bmabey/pyLDAvis@3.4.0/pyLDAvis/js/ldavis.v3.0.0.js\", function(){\n",
       "        new LDAvis(\"#\" + \"ldavis_el3010831440995188806739097162\", ldavis_el3010831440995188806739097162_data);\n",
       "      });\n",
       "    });\n",
       "}else{\n",
       "    // require.js not available: dynamically load d3 & LDAvis\n",
       "    LDAvis_load_lib(\"https://d3js.org/d3.v5.js\", function(){\n",
       "         LDAvis_load_lib(\"https://cdn.jsdelivr.net/gh/bmabey/pyLDAvis@3.4.0/pyLDAvis/js/ldavis.v3.0.0.js\", function(){\n",
       "                 new LDAvis(\"#\" + \"ldavis_el3010831440995188806739097162\", ldavis_el3010831440995188806739097162_data);\n",
       "            })\n",
       "         });\n",
       "}\n",
       "</script>"
      ],
      "text/plain": [
       "PreparedData(topic_coordinates=              x         y  topics  cluster       Freq\n",
       "topic                                                \n",
       "2      0.059098 -0.269502       1        1  13.667665\n",
       "3     -0.292632  0.018278       2        1  13.105638\n",
       "4     -0.182971  0.026396       3        1  10.913162\n",
       "7      0.086608  0.055684       4        1   9.456370\n",
       "6      0.096138  0.134281       5        1   9.396796\n",
       "1      0.014384 -0.153004       6        1   9.337831\n",
       "9      0.078752 -0.018619       7        1   8.797380\n",
       "5      0.052462  0.077827       8        1   8.767670\n",
       "8      0.064815  0.119453       9        1   8.388286\n",
       "0      0.023346  0.009206      10        1   8.169204, topic_info=         Term        Freq       Total Category  logprob  loglift\n",
       "41        set  358.000000  358.000000  Default  30.0000  30.0000\n",
       "2        pink  267.000000  267.000000  Default  29.0000  29.0000\n",
       "54       blue  156.000000  156.000000  Default  28.0000  28.0000\n",
       "29      heart  134.000000  134.000000  Default  27.0000  27.0000\n",
       "111       red  106.000000  106.000000  Default  26.0000  26.0000\n",
       "..        ...         ...         ...      ...      ...      ...\n",
       "192      girl    9.245564   13.469692  Topic10  -4.5712   2.1285\n",
       "415  notebook    8.975851   13.023454  Topic10  -4.6008   2.1326\n",
       "97        toy    5.324167    7.044158  Topic10  -5.1231   2.2249\n",
       "147      lamp    6.289397    9.658082  Topic10  -4.9565   2.0759\n",
       "559  assorted    6.577458   13.907833  Topic10  -4.9117   1.7560\n",
       "\n",
       "[396 rows x 6 columns], token_table=      Topic      Freq               Term\n",
       "term                                    \n",
       "2218      1  0.954600  acrylic_edwardian\n",
       "1339      3  0.889348      acrylic_jewel\n",
       "1367      3  0.968610        alarm_clock\n",
       "299       1  0.969696           alphabet\n",
       "1595      1  0.865869              amber\n",
       "...     ...       ...                ...\n",
       "338       6  0.174312             yellow\n",
       "338       8  0.116208             yellow\n",
       "464       3  0.228372               zinc\n",
       "464       5  0.570929               zinc\n",
       "464       9  0.171279               zinc\n",
       "\n",
       "[418 rows x 3 columns], R=30, lambda_step=0.01, plot_opts={'xlab': 'PC1', 'ylab': 'PC2'}, topic_order=[3, 4, 5, 8, 7, 2, 10, 6, 9, 1])"
      ]
     },
     "execution_count": 1186,
     "metadata": {},
     "output_type": "execute_result"
    }
   ],
   "source": [
    "# Visualize the topics\n",
    "pyLDAvis.enable_notebook()\n",
    "vis = pyLDAvis.gensim.prepare(lda_model, corpus, id2word)\n",
    "vis"
   ]
  },
  {
   "cell_type": "markdown",
   "metadata": {},
   "source": [
    "<u>How to infer pyLDAvis's output</u>  \n",
    "\n",
    "Each bubble on the left-hand side plot represents a topic. The larger the bubble, the more prevalent the topic. Ideally, a good topic model will have fairly large, non-overlapping bubbles scattered throughout the chart instead of being clustered in one quadrant.  \n",
    "\n",
    "A model that has too many topics will typically have many overlaps, small sized bubbles clustered in one region of the chart.\n"
   ]
  },
  {
   "cell_type": "markdown",
   "metadata": {},
   "source": [
    "<u>Finding the optimal number of topics for LDA</u>  \n",
    "\n",
    "Next, we will find the optimal number of topics by building many LDA models with different values of number of topics (k) and pick the one that gives the highest coherence value.   \n",
    "\n",
    "Choosing a k value that marks the end of a rapid growth of topic coherence usually offers meaningful and interpretable topics. Picking an even higher value cna sometimes provide more granular subtopics. If we see repeated keywords in multiple topics, it probably means our k is too large.  \n",
    "\n",
    "We will create a `compute_coherence_values()` function that trains multiple LDA models and provides the models and their corresponding coherence scores."
   ]
  },
  {
   "cell_type": "code",
   "execution_count": 1187,
   "metadata": {},
   "outputs": [],
   "source": [
    "# This might take a long time to run...\n",
    "model_list, coherence_values = compute_coherence_values(\n",
    "    dictionary=id2word,\n",
    "    corpus=corpus,\n",
    "    texts=data_lemmatized,\n",
    "    start=2,\n",
    "    limit=40,\n",
    "    id2word=id2word,\n",
    "    step=6,\n",
    ")"
   ]
  },
  {
   "cell_type": "code",
   "execution_count": 1188,
   "metadata": {},
   "outputs": [
    {
     "data": {
      "image/png": "[encoded data removed]",
      "text/plain": [
       "<Figure size 640x480 with 1 Axes>"
      ]
     },
     "metadata": {},
     "output_type": "display_data"
    }
   ],
   "source": [
    "# Show graph\n",
    "limit = 40\n",
    "start = 2\n",
    "step = 6\n",
    "x = range(start, limit, step)\n",
    "plt.plot(x, coherence_values)\n",
    "plt.xlabel(\"Num Topics\")\n",
    "plt.ylabel(\"Coherence Score\")\n",
    "plt.legend((\"coherence_values\"), loc=\"best\")\n",
    "plt.title(\"Choosing Optimal Model with Coherence Scores\")\n",
    "plt.show()"
   ]
  },
  {
   "cell_type": "code",
   "execution_count": 1189,
   "metadata": {},
   "outputs": [
    {
     "name": "stdout",
     "output_type": "stream",
     "text": [
      "Num Topics = 2  has Coherence Value of 0.5626\n",
      "Num Topics = 8  has Coherence Value of 0.6407\n",
      "Num Topics = 14  has Coherence Value of 0.6593\n",
      "Num Topics = 20  has Coherence Value of 0.6647\n",
      "Num Topics = 26  has Coherence Value of 0.6605\n",
      "Num Topics = 32  has Coherence Value of 0.6557\n",
      "Num Topics = 38  has Coherence Value of 0.6399\n"
     ]
    }
   ],
   "source": [
    "# Print the coherence scores\n",
    "for m, cv in zip(x, coherence_values):\n",
    "    print(\"Num Topics =\", m, \" has Coherence Value of\", round(cv, 4))"
   ]
  },
  {
   "cell_type": "markdown",
   "metadata": {},
   "source": [
    "Because the delta of coherence value from 2 topics to 8 topics is the largest, we are going to use 8 topics. Even though higher numbers of topics have a slightly higher coherence score (~0.2 higher), adding 6-18 more topics of complexity to our forecasting model later on is not worth it for such a small gain in coherence."
   ]
  },
  {
   "cell_type": "code",
   "execution_count": 1190,
   "metadata": {},
   "outputs": [
    {
     "name": "stdout",
     "output_type": "stream",
     "text": [
      "[(0, '0.033*\"polkadot\" + 0.026*\"heart\" + 0.026*\"star\" + 0.023*\"cream\" + 0.023*\"small\" + 0.021*\"set\" + 0.020*\"rise\" + 0.019*\"glass\" + 0.018*\"pink\" + 0.015*\"jar\" + 0.013*\"sticker\" + 0.011*\"blue_polkadot\" + 0.011*\"cake\" + 0.010*\"flower\" + 0.009*\"girl\" + 0.009*\"playing_card\" + 0.009*\"tea\" + 0.008*\"pad\" + 0.008*\"assorted\" + 0.008*\"purse\" + 0.008*\"vintage\" + 0.007*\"game\" + 0.007*\"butterfly\" + 0.007*\"blue\" + 0.007*\"balloon\" + 0.006*\"leaf\" + 0.006*\"paper_lantern\" + 0.006*\"mug\" + 0.006*\"blue_felt\" + 0.006*\"list\"'), (1, '0.055*\"design\" + 0.042*\"retrospot\" + 0.029*\"pantry\" + 0.024*\"pink\" + 0.021*\"dolly_girl\" + 0.020*\"set\" + 0.020*\"mirror\" + 0.018*\"hook\" + 0.013*\"heart\" + 0.012*\"kit\" + 0.012*\"container\" + 0.011*\"ribbon_reel\" + 0.011*\"vintage\" + 0.010*\"alarm_clock\" + 0.010*\"egg\" + 0.009*\"decoration\" + 0.008*\"christmas_tree\" + 0.008*\"tier\" + 0.007*\"cabinet\" + 0.007*\"skull\" + 0.007*\"antique_white\" + 0.007*\"clear\" + 0.007*\"candle_holder\" + 0.006*\"rustic\" + 0.005*\"pin_cushion\" + 0.005*\"tidy\" + 0.005*\"paper_chain\" + 0.005*\"wood\" + 0.005*\"spoon\" + 0.005*\"yellow\"'), (2, '0.071*\"pink\" + 0.065*\"blue\" + 0.032*\"white\" + 0.030*\"decoration\" + 0.028*\"black\" + 0.027*\"holder\" + 0.014*\"bunny\" + 0.013*\"set\" + 0.013*\"home\" + 0.013*\"bag\" + 0.011*\"bead\" + 0.010*\"hang\" + 0.009*\"light_holder\" + 0.009*\"bottle\" + 0.009*\"spot\" + 0.008*\"wicker\" + 0.008*\"basket\" + 0.007*\"bauble\" + 0.007*\"clock\" + 0.007*\"tea_towel\" + 0.005*\"rabbit\" + 0.005*\"washing\" + 0.005*\"brush\" + 0.005*\"pair\" + 0.005*\"mat\" + 0.005*\"glove\" + 0.004*\"coaster\" + 0.004*\"glass\" + 0.004*\"bunting\" + 0.004*\"water\"'), (3, '0.144*\"set\" + 0.052*\"heart\" + 0.033*\"flower\" + 0.019*\"pink\" + 0.016*\"pink_polkadot\" + 0.016*\"bottle\" + 0.014*\"plate\" + 0.012*\"light\" + 0.012*\"garden\" + 0.011*\"tree\" + 0.011*\"hot_water\" + 0.011*\"blue\" + 0.010*\"beaker\" + 0.006*\"wall_clock\" + 0.006*\"alphabet\" + 0.006*\"jug\" + 0.006*\"hanging_heart\" + 0.006*\"candle\" + 0.005*\"hanger\" + 0.005*\"acrylic_jewel\" + 0.005*\"paper_doilie\" + 0.005*\"flag\" + 0.005*\"cushion_cover\" + 0.005*\"metal_sign\" + 0.005*\"pink_butterfly\" + 0.005*\"lavender\" + 0.004*\"doll\" + 0.004*\"doily\" + 0.004*\"rise\" + 0.004*\"sucker\"'), (4, '0.063*\"red\" + 0.044*\"vintage\" + 0.042*\"sign\" + 0.037*\"small\" + 0.036*\"set\" + 0.024*\"light\" + 0.016*\"pink\" + 0.015*\"mug\" + 0.013*\"reel\" + 0.012*\"silver\" + 0.012*\"metal_door\" + 0.012*\"french_blue\" + 0.012*\"wooden\" + 0.011*\"bowl\" + 0.011*\"classic\" + 0.010*\"frame\" + 0.009*\"box\" + 0.007*\"glass\" + 0.007*\"white\" + 0.007*\"metal\" + 0.007*\"blue\" + 0.007*\"star\" + 0.006*\"hang\" + 0.006*\"lantern\" + 0.006*\"chest\" + 0.006*\"match\" + 0.006*\"french\" + 0.006*\"mini\" + 0.006*\"owl\" + 0.005*\"new_baroque\"'), (5, '0.084*\"large\" + 0.054*\"candle\" + 0.022*\"doormat\" + 0.017*\"key_ring\" + 0.017*\"letter_ble\" + 0.015*\"pink\" + 0.012*\"magnet\" + 0.011*\"assort\" + 0.010*\"rose\" + 0.010*\"earring\" + 0.009*\"purple\" + 0.009*\"rabbit\" + 0.009*\"dish\" + 0.009*\"french\" + 0.008*\"lid\" + 0.008*\"kitchen\" + 0.008*\"party_pizza\" + 0.008*\"set\" + 0.008*\"dinner_candle\" + 0.007*\"rise\" + 0.007*\"green\" + 0.007*\"chick\" + 0.006*\"birthday\" + 0.006*\"point\" + 0.006*\"mint\" + 0.006*\"letter\" + 0.006*\"sweet_home\" + 0.006*\"union_jack\" + 0.006*\"jack\" + 0.006*\"plate\"'), (6, '0.042*\"green\" + 0.028*\"silver\" + 0.028*\"necklace\" + 0.027*\"tin\" + 0.016*\"cutlery\" + 0.015*\"pink\" + 0.015*\"bell\" + 0.013*\"napkin\" + 0.012*\"shelf\" + 0.011*\"dotcom\" + 0.011*\"piece\" + 0.011*\"zinc\" + 0.010*\"egg_frye\" + 0.010*\"set\" + 0.009*\"paper\" + 0.008*\"black\" + 0.008*\"love_london\" + 0.008*\"doily\" + 0.007*\"colour\" + 0.007*\"daisy\" + 0.007*\"triple\" + 0.007*\"print\" + 0.006*\"holder\" + 0.006*\"milk\" + 0.006*\"heart_decoration\" + 0.006*\"table\" + 0.006*\"glass\" + 0.006*\"frame\" + 0.006*\"hook\" + 0.006*\"blue\"'), (7, '0.045*\"card\" + 0.042*\"pack\" + 0.032*\"wrap\" + 0.019*\"tissue\" + 0.018*\"gold\" + 0.014*\"box\" + 0.014*\"ivory\" + 0.014*\"stand\" + 0.012*\"drawer\" + 0.012*\"decoration\" + 0.012*\"tray\" + 0.011*\"bird\" + 0.011*\"cup\" + 0.010*\"photo_frame\" + 0.009*\"light_holder\" + 0.009*\"child\" + 0.009*\"sweetheart\" + 0.009*\"wreath\" + 0.009*\"chocolate\" + 0.009*\"paint\" + 0.008*\"table\" + 0.008*\"fairy_cake\" + 0.008*\"round\" + 0.008*\"leave\" + 0.008*\"door_mat\" + 0.007*\"cake_case\" + 0.006*\"colour\" + 0.006*\"reindeer\" + 0.006*\"red\" + 0.006*\"dolly_girl\"')]\n"
     ]
    }
   ],
   "source": [
    "# Select the optimal model and print the topics\n",
    "optimal_model = model_list[1]\n",
    "model_topics = optimal_model.show_topics(formatted=False)\n",
    "print(optimal_model.print_topics(num_words=30))"
   ]
  },
  {
   "cell_type": "code",
   "execution_count": 1191,
   "metadata": {},
   "outputs": [
    {
     "data": {
      "text/html": [
       "\n",
       "<link rel=\"stylesheet\" type=\"text/css\" href=\"https://cdn.jsdelivr.net/gh/bmabey/pyLDAvis@3.4.0/pyLDAvis/js/ldavis.v1.0.0.css\">\n",
       "\n",
       "\n",
       "<div id=\"ldavis_el3010831511040863528057206367\" style=\"background-color:white;\"></div>\n",
       "<script type=\"text/javascript\">\n",
       "\n",
       "var ldavis_el3010831511040863528057206367_data = {\"mdsDat\": {\"x\": [-0.14085358044355378, 0.036106185085071005, -0.07959501590736133, -0.12513243893331225, 0.2239469557179322, 0.020839930879907362, 0.018435052160414602, 0.04625291144090233], \"y\": [0.03226028102574145, -0.020993911499112745, -0.17693740595167765, 0.00682504694192529, -0.05414084206033165, 0.023123048231958328, 0.1821230526959079, 0.007740730615589135], \"topics\": [1, 2, 3, 4, 5, 6, 7, 8], \"cluster\": [1, 1, 1, 1, 1, 1, 1, 1], \"Freq\": [15.809427694458359, 14.137838526491079, 13.996359799197691, 12.454236224147161, 11.396731400409156, 11.082481764695034, 10.805180916094823, 10.317743674506705]}, \"tinfo\": {\"Term\": [\"set\", \"large\", \"red\", \"design\", \"candle\", \"card\", \"sign\", \"blue\", \"retrospot\", \"heart\", \"green\", \"small\", \"polkadot\", \"pack\", \"vintage\", \"wrap\", \"pantry\", \"silver\", \"flower\", \"decoration\", \"tin\", \"pink\", \"necklace\", \"holder\", \"light\", \"star\", \"cream\", \"doormat\", \"white\", \"black\", \"pink_polkadot\", \"beaker\", \"wall_clock\", \"alphabet\", \"jug\", \"hanger\", \"acrylic_jewel\", \"flag\", \"cushion_cover\", \"pink_butterfly\", \"doll\", \"sucker\", \"bucket\", \"frying_pan\", \"herb\", \"pink_felt\", \"cottage\", \"lavender\", \"chair\", \"oven_glove\", \"stick\", \"scent\", \"pattern\", \"woodland\", \"single\", \"snowflake\", \"pc\", \"hanging_heart\", \"pudding\", \"garden\", \"tree\", \"set\", \"flower\", \"hot_water\", \"heart\", \"plate\", \"bottle\", \"paper_doilie\", \"light\", \"pink\", \"metal_sign\", \"blue\", \"candle\", \"doily\", \"rise\", \"bunny\", \"brush\", \"pair\", \"mat\", \"bunting\", \"jar_light\", \"cotton\", \"candleholder\", \"check\", \"spot\", \"orange\", \"jewellery_stand\", \"poppy\", \"cut\", \"fork\", \"scottie_dog\", \"washing\", \"wicker\", \"weave\", \"zinc_light\", \"cup_saucer\", \"towel_chocolate\", \"happy\", \"handbag\", \"dairy_maid\", \"cute\", \"glove\", \"nest\", \"clock\", \"swiss_roll\", \"holder\", \"home\", \"blue\", \"black\", \"bead\", \"white\", \"water\", \"decoration\", \"bauble\", \"bag\", \"pink\", \"tea_towel\", \"basket\", \"hang\", \"light_holder\", \"phone_charm\", \"bottle\", \"brown\", \"set\", \"rabbit\", \"coaster\", \"glass\", \"reel\", \"wooden\", \"french_blue\", \"metal_door\", \"classic\", \"sign\", \"lantern\", \"chest\", \"owl\", \"new_baroque\", \"sketchbook\", \"jardin_etched\", \"art\", \"decorative\", \"stool\", \"red\", \"petit_four\", \"crate\", \"school\", \"lattice\", \"monkey\", \"jewel\", \"match\", \"antique\", \"storage\", \"carry\", \"bouquet\", \"big_bowl\", \"retro_spot\", \"embroidered_ribbon\", \"vintage\", \"bowl\", \"small\", \"mug\", \"light\", \"frame\", \"medium\", \"silver\", \"set\", \"notebook\", \"box\", \"pen\", \"french\", \"mini\", \"pink\", \"metal\", \"glass\", \"star\", \"hang\", \"white\", \"blue\", \"blue_polkadot\", \"jar\", \"playing_card\", \"polkadot\", \"pad\", \"balloon\", \"leaf\", \"list\", \"party_candle\", \"pear\", \"big\", \"blue_felt\", \"cream\", \"coffee\", \"biscuit\", \"card_holder\", \"apron\", \"engrave\", \"pretty\", \"gardeners_kneele\", \"cherry\", \"drop_earring\", \"quilt\", \"game\", \"giant\", \"fridge_magnet\", \"pink_yellow\", \"oil_burner\", \"ring\", \"hanging_easter\", \"sticker\", \"assorted\", \"girl\", \"star\", \"paper_lantern\", \"cake\", \"rise\", \"glass\", \"tea\", \"purse\", \"butterfly\", \"small\", \"heart\", \"pink\", \"set\", \"flower\", \"bracelet\", \"vintage\", \"blue\", \"mug\", \"card\", \"child\", \"leave\", \"wreath\", \"photo_frame\", \"double\", \"sweetheart\", \"animal\", \"tissue\", \"mini_playe\", \"paper_bunte\", \"wrap\", \"cake_tin\", \"cake_case\", \"salt\", \"hot\", \"stand\", \"embossed_heart\", \"sweet\", \"windmill\", \"bomb\", \"candy\", \"paint\", \"fun\", \"cup\", \"pack\", \"party_cone\", \"ivory\", \"kiss\", \"geisha_girl\", \"gold\", \"placemat\", \"tray\", \"drawer\", \"door_mat\", \"bird\", \"red_spot\", \"round\", \"table\", \"chocolate\", \"box\", \"reindeer\", \"fairy_cake\", \"light_holder\", \"decoration\", \"colour\", \"dolly_girl\", \"red\", \"retrospot\", \"pantry\", \"container\", \"alarm_clock\", \"tier\", \"russian_doll\", \"gift_tag\", \"straw\", \"mirror\", \"pin_cushion\", \"design\", \"post\", \"curtain\", \"antique_white\", \"cabinet\", \"tidy\", \"curio_cabinet\", \"measuring_tape\", \"silk_purse\", \"slide\", \"kings_choice\", \"kit\", \"paper_chain\", \"babushka_pink\", \"ribbon_reel\", \"rack\", \"wall_mirror\", \"slate\", \"rustic\", \"badge\", \"dolly_girl\", \"tape\", \"christmas_tree\", \"candle_holder\", \"hook\", \"clear\", \"egg\", \"skull\", \"spoon\", \"pink\", \"set\", \"heart\", \"vintage\", \"decoration\", \"wood\", \"yellow\", \"doormat\", \"magnet\", \"lid\", \"kitchen\", \"large\", \"key_ring\", \"letter_ble\", \"point\", \"mint\", \"sweet_home\", \"danish_rose\", \"letter\", \"party_pizza\", \"cafe\", \"union_jack\", \"jam_jar\", \"scissor\", \"decoration_wobbly\", \"slice\", \"space_boy\", \"lead\", \"mini_cake\", \"rose\", \"jack\", \"photoframe\", \"watering\", \"rope\", \"candle\", \"rubber\", \"swirly\", \"dinner_candle\", \"dish\", \"assort\", \"earring\", \"purple\", \"french\", \"birthday\", \"rabbit\", \"chick\", \"party\", \"pink\", \"rise\", \"green\", \"set\", \"plate\", \"dotcom\", \"piece\", \"egg_frye\", \"cutlery\", \"triple\", \"shelf\", \"milk\", \"napkin\", \"tin\", \"teapot\", \"liner\", \"font\", \"tablecloth\", \"icon\", \"flower_design\", \"easter_decoration\", \"pudding_bowl\", \"green\", \"backpack\", \"ceramic_strawberry\", \"christmas_decoration\", \"hanging\", \"sleigh\", \"summer_draw\", \"mop\", \"heart_light\", \"multiple\", \"lighthouse\", \"come\", \"silver_orbit\", \"necklace\", \"love_london\", \"candy_spot\", \"bell\", \"natural\", \"multi\", \"silver\", \"heart_decoration\", \"zinc\", \"daisy\", \"paper\", \"doily\", \"print\", \"colour\", \"pink\", \"table\", \"black\", \"wood\", \"set\", \"frame\", \"holder\", \"glass\", \"hook\", \"blue\"], \"Freq\": [399.0, 108.0, 115.0, 78.0, 81.0, 58.0, 67.0, 153.0, 52.0, 151.0, 61.0, 94.0, 49.0, 66.0, 99.0, 46.0, 36.0, 56.0, 82.0, 77.0, 35.0, 258.0, 41.0, 53.0, 62.0, 49.0, 36.0, 27.0, 77.0, 63.0, 27.2637620591086, 16.455363164694525, 10.681644966764052, 9.803298388901815, 9.801941314960601, 9.292361258111951, 9.236213833891282, 8.781715676738536, 8.211223537250092, 7.947245675281918, 7.681926847075096, 6.812731055040804, 6.657699652842984, 6.630187696859653, 6.599847630998233, 6.127444957057855, 6.1272734100255235, 7.81342852005655, 5.6161574837371715, 5.348690693393126, 6.715199318694097, 4.649471029997717, 4.569470514431665, 6.124829871546208, 4.383194598873326, 5.6714036819992515, 4.060854503581611, 9.800916865077381, 5.347985578713284, 20.881252437297665, 19.604087197743794, 249.9160051478532, 57.746100814215716, 18.323693974595628, 89.92191965709591, 24.207159587806565, 26.997252066296998, 9.01938160656457, 21.611696479425387, 32.52139349373874, 7.978909391601728, 18.265807723882922, 9.634553291431567, 7.444881869182994, 7.337611013172105, 21.89930091654088, 7.894968601337251, 7.708868685648642, 7.643710307722124, 6.446752007162041, 6.141520488647386, 5.924292284882374, 5.923668926869183, 5.55526218038679, 13.175597462900223, 5.24178260182931, 5.239511000242244, 5.237496160216938, 5.245206929586349, 5.195641864963815, 4.662744587135717, 7.986534887884995, 12.073294510145626, 4.074898534519163, 5.2385894675121705, 3.770050177717991, 3.769838070340885, 3.769277732346359, 3.5529260470123734, 3.5522418296668716, 4.662325413982999, 7.403157494763351, 3.314406439912918, 10.666087022744646, 3.246273156991038, 41.02171365887982, 20.461191292901905, 101.01745708540916, 43.065783449185915, 16.611363893499167, 49.27429673847455, 6.44671239457888, 46.1627787472225, 10.668076294648095, 19.457967333148662, 109.0892627400345, 10.29696833010854, 11.706412848114917, 16.15638384651923, 14.089877489110957, 5.84835208204832, 13.92027513396557, 6.423938760405445, 20.859706843615903, 8.434765670923145, 6.849666715293223, 6.474755222541463, 20.632765419551102, 18.024404848886523, 18.262253096496302, 18.262253096496302, 16.972739661056192, 63.85597632993015, 9.57208036345574, 9.571936333135943, 8.676410707286118, 8.11995598394366, 6.332797829006833, 6.278100532510537, 7.618659881933681, 6.648843131924113, 4.566165777194513, 96.8192686940223, 4.487585829403199, 4.453217842129112, 4.457380460975516, 4.249556117850901, 3.9880430469792594, 3.988093671497604, 9.497967494642282, 3.2245914418296335, 3.22451871364835, 3.224254895735851, 3.2241408123142294, 3.224166481084094, 7.483354091805367, 7.145296392686272, 67.26518255577695, 17.18417902260343, 56.04523205194866, 23.370294092260774, 36.72030186535003, 15.819704222901553, 5.831084609486551, 18.347554696885265, 55.69172745754205, 6.723307520280442, 14.22564081531527, 7.8603463236596305, 9.437486168669789, 9.307517343609193, 24.443414093569746, 10.645613917168088, 11.373574526362045, 10.337598661090173, 9.891397721509394, 10.9961737332541, 10.535534110624384, 15.289857354924377, 20.688015646265068, 11.86616790619122, 45.56800539845432, 11.010580221896316, 8.965844884239614, 8.41929210024297, 7.62015426573596, 7.149918191657908, 6.159760811052184, 5.828514719253414, 7.620422642507118, 31.05189794305372, 4.9722719545419105, 6.627073925828282, 4.835670715864073, 6.76305783448641, 4.69688471262008, 4.696172213532584, 4.6500412285345725, 4.5044998076288545, 4.309612907845517, 4.173710210125235, 10.119941135475123, 5.498229200578838, 6.490383228226726, 3.648884524304291, 3.6482998689978547, 6.588549487188234, 3.3753086669726673, 17.53979750546362, 10.859885713200175, 11.946366245154605, 35.249627874197635, 8.060622724331242, 14.924154350442763, 26.688576371802792, 25.795014960540097, 11.840147414137439, 10.485070587708211, 10.036066098192915, 30.842848299832596, 35.57785203086395, 24.523304968571097, 28.14613505718743, 13.399491320901285, 7.5037567856887835, 10.413668408450125, 9.360359372302968, 7.620855344535322, 56.07528415124146, 11.56180326400025, 10.02746926825122, 11.372371458055552, 12.156938086280926, 6.912812931459974, 11.482645948039224, 6.135399723287085, 23.74285663761987, 5.521288394682616, 5.356191918784172, 39.67065092755354, 4.897676910870061, 8.202531429262956, 4.6371463451146875, 4.574754657824678, 17.13684013809029, 4.066709139554463, 5.35560088058813, 5.111258258822967, 3.287726893341493, 4.388869371350038, 10.860599728447227, 4.745918564634451, 13.210871823821353, 51.89615408927625, 2.831986513658112, 17.5433919735251, 2.776618485087763, 2.776108148570749, 22.51775173592443, 7.0456206075208305, 15.002086811553344, 15.58235859079014, 9.598321543276384, 13.64013624690759, 7.23550120769494, 10.080235393407463, 10.538230775402656, 11.252518433535244, 17.543891278877354, 7.747633482214602, 10.413327799773143, 11.562494163266743, 15.190769659469659, 8.013482811146734, 7.377029309791697, 7.603776062590813, 51.422188535107146, 35.27235183729896, 14.26165294763828, 12.712347394512276, 9.395074961114931, 5.829815289609399, 5.301998010624307, 5.3012380877058, 24.32787873215265, 6.633631378472148, 66.74619113967007, 4.795472123245992, 4.795490189764115, 8.118449624319052, 8.381976326326924, 6.613851364022014, 4.529751186154334, 5.1500337517558625, 5.150462266982569, 4.024957990779658, 3.518592161460331, 15.045926145101246, 6.573705302440163, 3.022091215614308, 13.03542755061587, 4.408347571846636, 2.802989234800398, 2.747983179773856, 7.348426957603504, 2.5400962723735234, 25.46348812006202, 5.301449804715042, 9.527315098823681, 7.931760388462739, 21.538202827472094, 7.932187209953372, 12.027393751267628, 8.188120328563091, 6.251963197834981, 29.16014388413279, 24.618611916716183, 15.442473797147954, 12.775650215697002, 11.430288552391206, 6.477218804094853, 6.071731613049902, 26.57803600132294, 14.318456926963584, 10.019370203729869, 9.711839244053541, 99.20934843730257, 19.71841694194316, 19.71808006528334, 7.483095739351189, 7.44181403676963, 6.8439581478625255, 6.569190645161997, 7.350438995053556, 9.627656408934227, 5.102344348233561, 6.8433157703102205, 4.99099780492988, 4.173220905982174, 5.104803768031075, 3.6680394008753052, 3.667698946277104, 3.6665716204612333, 3.5178774554383123, 11.980488871643185, 6.843030085691843, 3.0973563026115327, 3.0969993344515756, 3.09642080933806, 63.63050092316296, 3.9640166470691045, 2.873572770476222, 9.091551332857199, 10.5263673749518, 13.254755662730293, 11.69440352416721, 11.111903045884874, 10.485915754074506, 7.483965453603667, 11.001010075077422, 7.7116560944504275, 6.332953685654491, 17.79666220163948, 8.36917603243372, 8.152845070718854, 9.444846876679758, 6.6958034258569645, 12.956237383846657, 12.955908345491908, 11.316006415206774, 17.684854938612826, 7.794308904340857, 13.510954000321481, 6.968601344851328, 14.648322904961445, 31.01437319541151, 5.085911684012678, 4.842425403980791, 4.8048398678259145, 4.8021271410705575, 5.623430001817616, 3.732266289293271, 3.7319693137813985, 4.606878094092852, 47.68376320923507, 2.9729409038231775, 2.9716744215296234, 5.0862328380618, 2.691346095363293, 2.6892262683909323, 2.6732163973889134, 2.673095504702664, 3.790550230195135, 2.6438783705381077, 2.6436452579017966, 2.6415312127535606, 2.634302618546421, 31.33910566804736, 9.150487263647372, 5.365250004202702, 16.472965679687356, 5.9031126033532635, 3.452194728680127, 31.555364812654425, 6.7783267691025895, 12.117790888948711, 8.07328717457401, 10.69315362952115, 8.976100089353277, 7.597054090012165, 8.310405563762814, 17.142963459287916, 6.722512718342834, 9.394791408982753, 6.220606232184659, 10.752778953620005, 6.490844486822369, 7.127528972676026, 6.687525849321941, 6.410859257498024, 6.370108435444919], \"Total\": [399.0, 108.0, 115.0, 78.0, 81.0, 58.0, 67.0, 153.0, 52.0, 151.0, 61.0, 94.0, 49.0, 66.0, 99.0, 46.0, 36.0, 56.0, 82.0, 77.0, 35.0, 258.0, 41.0, 53.0, 62.0, 49.0, 36.0, 27.0, 77.0, 63.0, 28.14292086477278, 17.32888873582525, 11.556485836028816, 10.676281171596713, 10.675700285881529, 10.165610092729295, 10.109525960007412, 9.654902395953469, 9.085630757541816, 8.820610855975975, 8.554993476059405, 7.68934765090065, 7.531838478279908, 7.505061596417246, 7.477408274538926, 7.000371118059412, 7.0002527839289606, 9.026254163524257, 6.489153708874377, 6.222041266773499, 7.9270489011937615, 5.52271001739436, 5.442418089787858, 7.318430934589484, 5.256321788243549, 6.867008143898276, 4.934137668830121, 11.968304589770042, 6.544342107459422, 25.902854965993203, 24.764402629640372, 399.55271104945535, 82.860648805157, 24.822995251482677, 151.66598705741671, 38.152631423659514, 46.764167015888226, 11.891517949819788, 62.00937302826878, 258.92956770336195, 12.674724546152461, 153.6819939985533, 81.70703862793665, 17.169355268733696, 50.88319646536388, 22.755117414119013, 8.752868072075422, 8.564850967528415, 8.501236242212284, 7.302355819288654, 6.996864568445338, 6.779902086075628, 6.779717522007239, 6.410494277796812, 15.232151086507708, 6.098689244061531, 6.097071696540937, 6.096447017771778, 6.105516041527779, 6.058846347853247, 5.517947985493693, 9.5035978646323, 14.437726273090854, 4.930481359976544, 6.419311301034383, 4.625331954748778, 4.625216212794934, 4.624862975718863, 4.408346422882723, 4.4081440194724895, 5.833901014105555, 9.278848070332558, 4.172538318253781, 13.44342631269424, 4.101926408402932, 53.34053412006429, 26.868805282417714, 153.6819939985533, 63.720989835850176, 23.092901880459504, 77.76740332101912, 8.381898556384234, 77.57259906387468, 14.953263866067175, 31.447195355963906, 258.92956770336195, 14.725318042101023, 20.954864404813513, 42.59238712917029, 34.29429772625913, 7.548662391303397, 46.764167015888226, 9.495522368046688, 399.55271104945535, 23.754288340240066, 13.427459813480796, 52.30322451299883, 21.51236027659456, 18.90037545267806, 19.162577675872694, 19.162577675872694, 17.84918232768756, 67.54887620495042, 10.447529682845163, 10.447506710922768, 9.553223070050185, 8.996515275840165, 7.208296185215527, 7.153495604648018, 8.864515842177518, 7.84650752582907, 5.4414611353894395, 115.51398629167676, 5.363125965553071, 5.332351006381867, 5.337498063100701, 5.124798019478329, 4.8632608520838865, 4.863391713042352, 11.87939134856504, 4.099739998220748, 4.09977964279295, 4.099594653914984, 4.099534984262337, 4.099767864230082, 9.58508171361012, 9.166524278075281, 99.25130303166927, 25.615816483004696, 94.56851509771106, 36.60094582620961, 62.00937302826878, 26.919217545773265, 8.679725634682018, 56.62352263396214, 399.55271104945535, 11.179393873105607, 43.82701284153299, 15.200669810787417, 21.728779507456473, 22.726186669335803, 258.92956770336195, 35.41569006154284, 52.30322451299883, 49.19652729314679, 42.59238712917029, 77.76740332101912, 153.6819939985533, 16.167003154368803, 22.198178043694888, 12.736222993258144, 49.03630086467912, 11.881128308306014, 9.836647898193153, 9.28958484537474, 8.490162187259152, 8.020856996684794, 7.029741899816555, 6.698611105875471, 8.809560443570563, 36.13537722619232, 5.842262260258318, 7.813645614518263, 5.705684402374207, 7.9937573468113525, 5.566826149844568, 5.5663358636886135, 5.520096477601541, 5.374548693231439, 5.180271522115043, 5.043520995117671, 12.359171072055222, 6.737353512415266, 8.004196115374457, 4.518515154558882, 4.5181439146785305, 8.267671427831752, 4.244835318561277, 22.117017645856937, 13.71911509112939, 15.341679853109827, 49.19652729314679, 10.92009786698635, 23.5777654053342, 50.88319646536388, 52.30322451299883, 19.004329947725218, 16.391121103686487, 15.99588535692513, 94.56851509771106, 151.66598705741671, 258.92956770336195, 399.55271104945535, 82.860648805157, 12.71912375263806, 99.25130303166927, 153.6819939985533, 36.60094582620961, 58.29227053403687, 12.43489099700789, 10.900528103707138, 12.565349584888617, 13.445195312223516, 7.786247858831468, 13.072398860998339, 7.008304731093926, 27.300927303776653, 6.397343579559562, 6.229245981365777, 46.35003366338876, 5.771961023478827, 9.73106919525277, 5.511440519032638, 5.448545808111806, 20.73557947838907, 4.939580156048932, 6.5983391087928265, 6.306486828465217, 4.160799289914145, 5.578089936241679, 13.830848628720307, 6.0704217484416025, 16.922178301235064, 66.78085220491485, 3.704942849999276, 22.97040528899799, 3.649468194221745, 3.649198615198364, 30.99086139167794, 9.466329051590616, 21.268818073768145, 22.509695474482783, 14.438382595292182, 22.16387510470545, 10.243687091650797, 16.12668727638618, 18.008665937929074, 20.343811532522256, 43.82701284153299, 11.967156000883634, 21.758262658195193, 34.29429772625913, 77.57259906387468, 20.969117523932887, 34.39581029709448, 115.51398629167676, 52.29692439487921, 36.1533464234859, 15.135881619331213, 13.587894708327825, 10.269766843088966, 6.70390641287155, 6.17600680770272, 6.1755420967794254, 28.38914472263059, 7.744832107950272, 78.54824885669086, 5.669546823911782, 5.66960315091014, 9.640438670923512, 9.958082386353098, 7.880253517112354, 5.403786784792892, 6.18201713868925, 6.1851548380544665, 4.899034030171967, 4.392575206630415, 19.25591027389762, 8.44834039214933, 3.8992751801853127, 16.937241439096212, 5.743087437850354, 3.6771308281167094, 3.622079656692272, 9.748283016223247, 3.4143590009597755, 34.39581029709448, 7.1450002740937375, 13.35647461156579, 11.169331325342416, 34.199346411368204, 11.502526211625208, 22.371581103325518, 13.581612652219524, 9.64043821947608, 258.92956770336195, 399.55271104945535, 151.66598705741671, 99.25130303166927, 77.57259906387468, 14.490239408156269, 17.934418423619192, 27.769739960559182, 15.182577500996713, 10.878561220594076, 10.573271022666242, 108.47696714986901, 21.617657724608858, 21.617667366327936, 8.343515299840721, 8.300916316838695, 7.702917703144889, 7.428694148118784, 8.526720680709989, 11.177904482130252, 5.962040975545955, 8.024513933599698, 5.969017049379196, 5.034326573848596, 6.283266903313765, 4.526991220988828, 4.526791342903331, 4.526097913324912, 4.377360897458416, 15.082116516645765, 8.715688892119491, 3.956320930885295, 3.956049915804779, 3.955824566720267, 81.70703862793665, 5.145928329764152, 3.73252155024787, 12.173223028673823, 15.437197594038638, 24.137507834908355, 20.995600823041958, 20.948214586914684, 21.728779507456473, 13.145691340592515, 23.754288340240066, 14.069837856311384, 13.20090061089743, 258.92956770336195, 50.88319646536388, 61.13468347226086, 399.55271104945535, 38.152631423659514, 13.823267763238581, 13.823147442930726, 12.182756198030233, 19.410215382207014, 8.661716775954604, 15.091598154158566, 7.838543128805533, 16.75279813999283, 35.873339508613356, 5.953248789210293, 5.710029832126658, 5.671643760684, 5.670425180630506, 6.812762744786717, 4.599123188763248, 4.598966763958312, 5.8440607462149, 61.13468347226086, 3.8399757849356693, 3.8394491955522585, 6.639175168434311, 3.55879775090525, 3.5575690913452083, 3.540137486992068, 3.540016861902463, 5.027100662227076, 3.510904747938996, 3.5106733181922958, 3.5094930395711423, 3.5011490037506166, 41.932451154418956, 12.792310971058011, 7.362917881191136, 24.3340383043168, 8.222265819099999, 4.649862345920184, 56.62352263396214, 10.276442287166821, 20.3687498480829, 12.730813576492924, 18.326256169811547, 17.169355268733696, 14.252585653689316, 20.969117523932887, 258.92956770336195, 18.008665937929074, 63.720989835850176, 14.490239408156269, 399.55271104945535, 26.919217545773265, 53.34053412006429, 52.30322451299883, 34.199346411368204, 153.6819939985533], \"Category\": [\"Default\", \"Default\", \"Default\", \"Default\", \"Default\", \"Default\", \"Default\", \"Default\", \"Default\", \"Default\", \"Default\", \"Default\", \"Default\", \"Default\", \"Default\", \"Default\", \"Default\", \"Default\", \"Default\", \"Default\", \"Default\", \"Default\", \"Default\", \"Default\", \"Default\", \"Default\", \"Default\", \"Default\", \"Default\", \"Default\", \"Topic1\", \"Topic1\", \"Topic1\", \"Topic1\", \"Topic1\", \"Topic1\", \"Topic1\", \"Topic1\", \"Topic1\", \"Topic1\", \"Topic1\", \"Topic1\", \"Topic1\", \"Topic1\", \"Topic1\", \"Topic1\", \"Topic1\", \"Topic1\", \"Topic1\", \"Topic1\", \"Topic1\", \"Topic1\", \"Topic1\", \"Topic1\", \"Topic1\", \"Topic1\", \"Topic1\", \"Topic1\", \"Topic1\", \"Topic1\", \"Topic1\", \"Topic1\", \"Topic1\", \"Topic1\", \"Topic1\", \"Topic1\", \"Topic1\", \"Topic1\", \"Topic1\", \"Topic1\", \"Topic1\", \"Topic1\", \"Topic1\", \"Topic1\", \"Topic1\", \"Topic2\", \"Topic2\", \"Topic2\", \"Topic2\", \"Topic2\", \"Topic2\", \"Topic2\", \"Topic2\", \"Topic2\", \"Topic2\", \"Topic2\", \"Topic2\", \"Topic2\", \"Topic2\", \"Topic2\", \"Topic2\", \"Topic2\", \"Topic2\", \"Topic2\", \"Topic2\", \"Topic2\", \"Topic2\", \"Topic2\", \"Topic2\", \"Topic2\", \"Topic2\", \"Topic2\", \"Topic2\", \"Topic2\", \"Topic2\", \"Topic2\", \"Topic2\", \"Topic2\", \"Topic2\", \"Topic2\", \"Topic2\", \"Topic2\", \"Topic2\", \"Topic2\", \"Topic2\", \"Topic2\", \"Topic2\", \"Topic2\", \"Topic2\", \"Topic2\", \"Topic2\", \"Topic2\", \"Topic2\", \"Topic2\", \"Topic2\", \"Topic2\", \"Topic2\", \"Topic3\", \"Topic3\", \"Topic3\", \"Topic3\", \"Topic3\", \"Topic3\", \"Topic3\", \"Topic3\", \"Topic3\", \"Topic3\", \"Topic3\", \"Topic3\", \"Topic3\", \"Topic3\", \"Topic3\", \"Topic3\", \"Topic3\", \"Topic3\", \"Topic3\", \"Topic3\", \"Topic3\", \"Topic3\", \"Topic3\", \"Topic3\", \"Topic3\", \"Topic3\", \"Topic3\", \"Topic3\", \"Topic3\", \"Topic3\", \"Topic3\", \"Topic3\", \"Topic3\", \"Topic3\", \"Topic3\", \"Topic3\", \"Topic3\", \"Topic3\", \"Topic3\", \"Topic3\", \"Topic3\", \"Topic3\", \"Topic3\", \"Topic3\", \"Topic3\", \"Topic3\", \"Topic3\", \"Topic3\", \"Topic3\", \"Topic3\", \"Topic3\", \"Topic4\", \"Topic4\", \"Topic4\", \"Topic4\", \"Topic4\", \"Topic4\", \"Topic4\", \"Topic4\", \"Topic4\", \"Topic4\", \"Topic4\", \"Topic4\", \"Topic4\", \"Topic4\", \"Topic4\", \"Topic4\", \"Topic4\", \"Topic4\", \"Topic4\", \"Topic4\", \"Topic4\", \"Topic4\", \"Topic4\", \"Topic4\", \"Topic4\", \"Topic4\", \"Topic4\", \"Topic4\", \"Topic4\", \"Topic4\", \"Topic4\", \"Topic4\", \"Topic4\", \"Topic4\", \"Topic4\", \"Topic4\", \"Topic4\", \"Topic4\", \"Topic4\", \"Topic4\", \"Topic4\", \"Topic4\", \"Topic4\", \"Topic4\", \"Topic4\", \"Topic4\", \"Topic4\", \"Topic4\", \"Topic4\", \"Topic4\", \"Topic5\", \"Topic5\", \"Topic5\", \"Topic5\", \"Topic5\", \"Topic5\", \"Topic5\", \"Topic5\", \"Topic5\", \"Topic5\", \"Topic5\", \"Topic5\", \"Topic5\", \"Topic5\", \"Topic5\", \"Topic5\", \"Topic5\", \"Topic5\", \"Topic5\", \"Topic5\", \"Topic5\", \"Topic5\", \"Topic5\", \"Topic5\", \"Topic5\", \"Topic5\", \"Topic5\", \"Topic5\", \"Topic5\", \"Topic5\", \"Topic5\", \"Topic5\", \"Topic5\", \"Topic5\", \"Topic5\", \"Topic5\", \"Topic5\", \"Topic5\", \"Topic5\", \"Topic5\", \"Topic5\", \"Topic5\", \"Topic5\", \"Topic5\", \"Topic5\", \"Topic5\", \"Topic5\", \"Topic5\", \"Topic6\", \"Topic6\", \"Topic6\", \"Topic6\", \"Topic6\", \"Topic6\", \"Topic6\", \"Topic6\", \"Topic6\", \"Topic6\", \"Topic6\", \"Topic6\", \"Topic6\", \"Topic6\", \"Topic6\", \"Topic6\", \"Topic6\", \"Topic6\", \"Topic6\", \"Topic6\", \"Topic6\", \"Topic6\", \"Topic6\", \"Topic6\", \"Topic6\", \"Topic6\", \"Topic6\", \"Topic6\", \"Topic6\", \"Topic6\", \"Topic6\", \"Topic6\", \"Topic6\", \"Topic6\", \"Topic6\", \"Topic6\", \"Topic6\", \"Topic6\", \"Topic6\", \"Topic6\", \"Topic6\", \"Topic6\", \"Topic6\", \"Topic6\", \"Topic6\", \"Topic6\", \"Topic7\", \"Topic7\", \"Topic7\", \"Topic7\", \"Topic7\", \"Topic7\", \"Topic7\", \"Topic7\", \"Topic7\", \"Topic7\", \"Topic7\", \"Topic7\", \"Topic7\", \"Topic7\", \"Topic7\", \"Topic7\", \"Topic7\", \"Topic7\", \"Topic7\", \"Topic7\", \"Topic7\", \"Topic7\", \"Topic7\", \"Topic7\", \"Topic7\", \"Topic7\", \"Topic7\", \"Topic7\", \"Topic7\", \"Topic7\", \"Topic7\", \"Topic7\", \"Topic7\", \"Topic7\", \"Topic7\", \"Topic7\", \"Topic7\", \"Topic7\", \"Topic7\", \"Topic7\", \"Topic7\", \"Topic7\", \"Topic7\", \"Topic7\", \"Topic7\", \"Topic8\", \"Topic8\", \"Topic8\", \"Topic8\", \"Topic8\", \"Topic8\", \"Topic8\", \"Topic8\", \"Topic8\", \"Topic8\", \"Topic8\", \"Topic8\", \"Topic8\", \"Topic8\", \"Topic8\", \"Topic8\", \"Topic8\", \"Topic8\", \"Topic8\", \"Topic8\", \"Topic8\", \"Topic8\", \"Topic8\", \"Topic8\", \"Topic8\", \"Topic8\", \"Topic8\", \"Topic8\", \"Topic8\", \"Topic8\", \"Topic8\", \"Topic8\", \"Topic8\", \"Topic8\", \"Topic8\", \"Topic8\", \"Topic8\", \"Topic8\", \"Topic8\", \"Topic8\", \"Topic8\", \"Topic8\", \"Topic8\", \"Topic8\", \"Topic8\", \"Topic8\", \"Topic8\", \"Topic8\", \"Topic8\", \"Topic8\", \"Topic8\", \"Topic8\", \"Topic8\", \"Topic8\"], \"logprob\": [30.0, 29.0, 28.0, 27.0, 26.0, 25.0, 24.0, 23.0, 22.0, 21.0, 20.0, 19.0, 18.0, 17.0, 16.0, 15.0, 14.0, 13.0, 12.0, 11.0, 10.0, 9.0, 8.0, 7.0, 6.0, 5.0, 4.0, 3.0, 2.0, 1.0, -4.1501, -4.655, -5.0871, -5.1729, -5.173, -5.2264, -5.2325, -5.2829, -5.3501, -5.3828, -5.4167, -5.5368, -5.5598, -5.564, -5.5686, -5.6428, -5.6429, -5.3998, -5.73, -5.7788, -5.5512, -5.9189, -5.9362, -5.6433, -5.9778, -5.7202, -6.0542, -5.1731, -5.7789, -4.4168, -4.4799, -1.9345, -3.3996, -4.5474, -2.9567, -4.269, -4.1599, -5.2562, -4.3824, -3.9737, -5.3788, -4.5506, -5.1903, -5.4481, -5.4626, -4.2574, -5.2776, -5.3015, -5.31, -5.4803, -5.5288, -5.5648, -5.5649, -5.6291, -4.7655, -5.6872, -5.6876, -5.688, -5.6866, -5.696, -5.8043, -5.2661, -4.8529, -5.939, -5.6878, -6.0168, -6.0168, -6.017, -6.0761, -6.0763, -5.8044, -5.342, -6.1456, -4.9768, -6.1664, -3.6298, -4.3253, -2.7286, -3.5811, -4.5338, -3.4465, -5.4803, -3.5117, -4.9766, -4.3756, -2.6517, -5.012, -4.8837, -4.5616, -4.6984, -5.5777, -4.7105, -5.4838, -4.306, -5.2115, -5.4197, -5.476, -4.3069, -4.4421, -4.429, -4.429, -4.5022, -3.1772, -5.075, -5.075, -5.1732, -5.2395, -5.4881, -5.4967, -5.3032, -5.4394, -5.8151, -2.761, -5.8325, -5.8402, -5.8392, -5.887, -5.9505, -5.9505, -5.0827, -6.163, -6.163, -6.1631, -6.1631, -6.1631, -5.3211, -5.3674, -3.1252, -4.4898, -3.3076, -4.1823, -3.7305, -4.5726, -5.5706, -4.4243, -3.314, -5.4282, -4.6788, -5.272, -5.0891, -5.103, -4.1374, -4.9687, -4.9025, -4.998, -5.0421, -4.9363, -4.9791, -4.4899, -4.1875, -4.7434, -3.3979, -4.8182, -5.0236, -5.0865, -5.1863, -5.25, -5.399, -5.4543, -5.1862, -3.7814, -5.6132, -5.3259, -5.6411, -5.3056, -5.6702, -5.6703, -5.6802, -5.712, -5.7562, -5.7883, -4.9026, -5.5126, -5.3468, -5.9227, -5.9228, -5.3317, -6.0006, -4.3526, -4.832, -4.7366, -3.6546, -5.1301, -4.5141, -3.9328, -3.9669, -4.7456, -4.8671, -4.9109, -3.7882, -3.6453, -4.0174, -3.8797, -4.6219, -5.2017, -4.874, -4.9806, -5.1862, -3.1016, -4.6806, -4.823, -4.6972, -4.6304, -5.195, -4.6875, -5.3143, -3.9611, -5.4197, -5.4501, -3.4477, -5.5396, -5.0239, -5.5942, -5.6078, -4.2871, -5.7255, -5.4502, -5.4969, -5.9381, -5.6493, -4.7432, -5.5711, -4.5473, -3.1791, -6.0874, -4.2637, -6.1071, -6.1073, -4.014, -5.1759, -4.4201, -4.3822, -4.8667, -4.5153, -5.1493, -4.8178, -4.7733, -4.7077, -4.2636, -5.081, -4.7853, -4.6806, -4.4076, -5.0472, -5.13, -5.0997, -3.1603, -3.5373, -4.4428, -4.5578, -4.8602, -5.3374, -5.4323, -5.4324, -3.9088, -5.2082, -2.8995, -5.5327, -5.5327, -5.0062, -4.9743, -5.2112, -5.5897, -5.4614, -5.4613, -5.7079, -5.8423, -4.3893, -5.2173, -5.9944, -4.5327, -5.6169, -6.0697, -6.0895, -5.1059, -6.1682, -3.8631, -5.4324, -4.8462, -5.0295, -4.0305, -5.0294, -4.6132, -4.9977, -5.2675, -3.7276, -3.8969, -4.3633, -4.5528, -4.6641, -5.2321, -5.2967, -3.795, -4.4135, -4.7705, -4.8017, -2.4778, -4.0935, -4.0935, -5.0624, -5.0679, -5.1517, -5.1926, -5.0803, -4.8104, -5.4453, -5.1518, -5.4674, -5.6463, -5.4449, -5.7754, -5.7755, -5.7758, -5.8172, -4.5918, -5.1518, -5.9445, -5.9446, -5.9448, -2.9219, -5.6978, -6.0195, -4.8677, -4.7212, -4.4907, -4.6159, -4.667, -4.725, -5.0623, -4.677, -5.0323, -5.2293, -4.196, -4.9505, -4.9767, -4.8296, -5.1736, -4.4673, -4.4673, -4.6027, -4.1562, -4.9755, -4.4254, -5.0875, -4.3446, -3.5944, -5.4024, -5.4515, -5.4593, -5.4598, -5.3019, -5.7119, -5.7119, -5.5013, -3.1643, -5.9393, -5.9398, -5.4023, -6.0388, -6.0396, -6.0456, -6.0456, -5.6964, -6.0566, -6.0567, -6.0575, -6.0603, -3.584, -4.8151, -5.3489, -4.2272, -5.2534, -5.7899, -3.5771, -5.1151, -4.5342, -4.9403, -4.6593, -4.8343, -5.0011, -4.9114, -4.1873, -5.1234, -4.7887, -5.201, -4.6537, -5.1585, -5.0649, -5.1286, -5.1709, -5.1773], \"loglift\": [30.0, 29.0, 28.0, 27.0, 26.0, 25.0, 24.0, 23.0, 22.0, 21.0, 20.0, 19.0, 18.0, 17.0, 16.0, 15.0, 14.0, 13.0, 12.0, 11.0, 10.0, 9.0, 8.0, 7.0, 6.0, 5.0, 4.0, 3.0, 2.0, 1.0, 1.8128, 1.7928, 1.7658, 1.7593, 1.7592, 1.7547, 1.7542, 1.7498, 1.7434, 1.7403, 1.7369, 1.7235, 1.7212, 1.7206, 1.7197, 1.7114, 1.7114, 1.7003, 1.7001, 1.6933, 1.6787, 1.6724, 1.6697, 1.6665, 1.6629, 1.6533, 1.6498, 1.6448, 1.6427, 1.6291, 1.6109, 1.3753, 1.4835, 1.541, 1.3218, 1.3896, 1.2952, 1.5681, 0.7905, -0.2301, 1.3818, -0.2853, -0.2932, 1.009, -0.092, 1.918, 1.8532, 1.851, 1.85, 1.8317, 1.8259, 1.8214, 1.8213, 1.8131, 1.8113, 1.8049, 1.8047, 1.8045, 1.8044, 1.8026, 1.7879, 1.7824, 1.7775, 1.7657, 1.7531, 1.7519, 1.7518, 1.7518, 1.7406, 1.7404, 1.7321, 1.7305, 1.7261, 1.7249, 1.7224, 1.6937, 1.6839, 1.5367, 1.5645, 1.6269, 1.5, 1.6938, 1.4373, 1.6186, 1.4763, 1.0919, 1.5986, 1.3741, 0.987, 1.0668, 1.7011, 0.7445, 1.5655, -0.9962, 0.9209, 1.2832, -0.1328, 1.9246, 1.9189, 1.9182, 1.9182, 1.916, 1.9102, 1.8789, 1.8788, 1.8701, 1.8639, 1.8369, 1.8358, 1.8149, 1.8007, 1.791, 1.7898, 1.7881, 1.7862, 1.7862, 1.7791, 1.768, 1.768, 1.7426, 1.7263, 1.7262, 1.7262, 1.7262, 1.7261, 1.7188, 1.7173, 1.5774, 1.5672, 1.4432, 1.5178, 1.4424, 1.4348, 1.5686, 0.8394, -0.0041, 1.4579, 0.8412, 1.3069, 1.1324, 1.0737, -0.3938, 0.7644, 0.4406, 0.4063, 0.5064, 0.0102, -0.7138, 2.0273, 2.0127, 2.0124, 2.0098, 2.007, 1.9904, 1.9847, 1.975, 1.9682, 1.951, 1.944, 1.9381, 1.9315, 1.9219, 1.9184, 1.9177, 1.9159, 1.9132, 1.9131, 1.9116, 1.9065, 1.8991, 1.8938, 1.8832, 1.8799, 1.8735, 1.8693, 1.8693, 1.8561, 1.8539, 1.8512, 1.8494, 1.833, 1.7497, 1.7795, 1.6258, 1.4378, 1.3762, 1.6099, 1.6363, 1.617, 0.9627, 0.6332, -0.2738, -0.5698, 0.2612, 1.5554, -0.1714, -0.7153, 0.5139, 2.1331, 2.099, 2.0884, 2.0721, 2.0711, 2.0529, 2.0422, 2.0388, 2.0322, 2.0246, 2.0208, 2.0162, 2.0076, 2.001, 1.9991, 1.997, 1.9812, 1.9774, 1.9632, 1.9617, 1.9363, 1.9321, 1.9301, 1.9257, 1.9243, 1.9197, 1.9032, 1.9023, 1.8985, 1.8984, 1.8525, 1.8765, 1.8228, 1.804, 1.7635, 1.6864, 1.8242, 1.7019, 1.636, 1.5797, 1.2563, 1.7371, 1.4349, 1.0846, 0.5413, 1.2099, 0.6323, -0.5489, 2.1829, 2.1751, 2.1403, 2.1332, 2.1108, 2.0601, 2.0472, 2.0471, 2.0454, 2.0449, 2.037, 2.0324, 2.0324, 2.028, 2.0275, 2.0246, 2.0234, 2.0172, 2.0167, 2.0033, 1.9779, 1.9531, 1.9489, 1.945, 1.938, 1.9353, 1.9284, 1.9236, 1.9172, 1.904, 1.8991, 1.9014, 1.862, 1.8575, 1.7374, 1.8282, 1.5792, 1.6938, 1.7667, 0.0161, -0.587, -0.0848, 0.1497, 0.2849, 1.3946, 1.1167, 2.1813, 2.1665, 2.1429, 2.1402, 2.1358, 2.1332, 2.1332, 2.1163, 2.1159, 2.1069, 2.1022, 2.0767, 2.0758, 2.0694, 2.0659, 2.0462, 2.0376, 2.0174, 2.0147, 2.0147, 2.0145, 2.0066, 1.9949, 1.9833, 1.9804, 1.9803, 1.9802, 1.9751, 1.9642, 1.9636, 1.9333, 1.8422, 1.6257, 1.6399, 1.5911, 1.4965, 1.6618, 1.4554, 1.6238, 1.4906, -0.4524, 0.4202, 0.2104, -1.5197, 0.485, 2.2065, 2.2065, 2.1975, 2.1782, 2.1658, 2.1607, 2.1537, 2.1371, 2.1258, 2.1138, 2.1065, 2.1054, 2.1051, 2.0794, 2.0625, 2.0624, 2.0334, 2.0228, 2.0154, 2.0151, 2.0049, 1.9919, 1.9915, 1.9904, 1.9904, 1.989, 1.9877, 1.9877, 1.9872, 1.9868, 1.9801, 1.9363, 1.9548, 1.8811, 1.9399, 1.9735, 1.6866, 1.8552, 1.752, 1.8158, 1.7326, 1.6227, 1.6421, 1.3458, -0.4437, 1.2859, 0.3569, 1.4257, -1.3439, 0.8489, 0.2586, 0.2145, 0.5971, -0.912]}, \"token.table\": {\"Topic\": [1, 6, 1, 5, 3, 6, 4, 2, 3, 1, 4, 7, 4, 5, 8, 6, 8, 6, 1, 2, 5, 6, 7, 8, 4, 1, 2, 3, 4, 2, 3, 1, 2, 4, 6, 1, 1, 3, 6, 8, 4, 3, 1, 2, 3, 5, 6, 5, 6, 7, 4, 1, 2, 3, 4, 5, 6, 7, 8, 1, 2, 3, 4, 5, 7, 8, 4, 4, 5, 1, 2, 3, 8, 3, 1, 3, 7, 1, 2, 3, 4, 5, 6, 7, 3, 4, 5, 8, 1, 2, 3, 4, 2, 1, 2, 2, 1, 2, 4, 2, 6, 7, 1, 4, 7, 8, 5, 5, 1, 3, 4, 5, 6, 7, 8, 2, 5, 6, 2, 5, 4, 8, 4, 5, 6, 4, 3, 8, 1, 2, 4, 3, 7, 8, 5, 3, 4, 5, 2, 8, 2, 3, 6, 3, 4, 6, 7, 2, 3, 5, 1, 2, 4, 8, 4, 1, 2, 5, 8, 8, 6, 1, 2, 3, 1, 4, 1, 4, 5, 2, 6, 6, 1, 2, 2, 2, 5, 8, 2, 4, 6, 8, 7, 2, 3, 4, 5, 6, 7, 8, 7, 3, 1, 2, 4, 6, 7, 3, 7, 4, 7, 1, 8, 1, 1, 5, 6, 1, 3, 4, 5, 7, 7, 8, 5, 1, 2, 5, 4, 2, 3, 7, 8, 2, 4, 6, 8, 5, 3, 6, 8, 4, 1, 2, 5, 7, 1, 1, 2, 3, 4, 6, 7, 8, 8, 8, 2, 1, 3, 6, 8, 1, 3, 7, 3, 1, 4, 1, 5, 4, 5, 1, 2, 5, 4, 5, 2, 4, 6, 1, 3, 4, 1, 2, 3, 4, 6, 8, 2, 1, 2, 3, 5, 6, 8, 2, 3, 4, 7, 8, 2, 1, 2, 3, 4, 5, 6, 8, 1, 8, 4, 1, 6, 2, 1, 2, 3, 4, 6, 7, 8, 3, 7, 8, 2, 8, 1, 1, 2, 3, 4, 8, 1, 2, 2, 4, 6, 8, 5, 1, 2, 3, 8, 8, 3, 5, 7, 1, 2, 7, 7, 4, 6, 2, 3, 3, 2, 1, 2, 7, 6, 5, 2, 3, 5, 6, 7, 3, 1, 3, 4, 5, 6, 7, 8, 3, 1, 7, 4, 5, 7, 2, 7, 7, 1, 2, 3, 4, 5, 1, 2, 3, 5, 6, 8, 8, 8, 4, 5, 8, 7, 2, 2, 3, 6, 6, 3, 8, 3, 4, 5, 6, 7, 8, 3, 1, 3, 4, 5, 6, 7, 8, 2, 3, 4, 5, 6, 7, 5, 7, 2, 3, 6, 7, 8, 3, 8, 1, 3, 4, 6, 7, 8, 8, 8, 1, 6, 8, 4, 8, 1, 2, 3, 7, 8, 2, 3, 1, 2, 3, 4, 4, 2, 1, 3, 1, 2, 3, 5, 6, 7, 8, 4, 5, 7, 2, 6, 1, 2, 4, 8, 5, 6, 1, 2, 3, 8, 4, 7, 1, 7, 4, 5, 4, 7, 1, 1, 4, 3, 4, 6, 3, 2, 5, 5, 7, 7, 8, 6, 1, 2, 3, 4, 5, 6, 7, 8, 1, 1, 1, 4, 5, 7, 1, 4, 5, 6, 7, 4, 7, 3, 4, 2, 6, 4, 1, 6, 7, 8, 1, 2, 8, 1, 3, 4, 5, 6, 7, 2, 3, 4, 7, 4, 1, 2, 6, 7, 6, 3, 4, 5, 6, 8, 5, 8, 3, 2, 3, 5, 3, 7, 8, 6, 1, 6, 4, 5, 1, 2, 3, 4, 6, 7, 8, 7, 4, 7, 8, 2, 5, 7, 8, 7, 6, 2, 6, 8, 5, 1, 3, 7, 2, 1, 2, 3, 4, 6, 7, 8, 1, 8, 1, 3, 6, 7, 6, 1, 2, 3, 7, 8, 8, 1, 3, 2, 4, 6, 7, 6, 8, 7, 6, 1, 3, 4, 5, 6, 7, 8, 1, 7, 3, 6, 7, 2, 8, 3, 5, 8, 1, 3, 4, 5, 7, 1, 1, 4, 6, 8, 3, 3, 6, 1, 8, 2, 5, 7, 5, 6, 7, 2, 5, 8, 8, 6, 1, 3, 4, 7, 8, 2, 4, 8, 6, 7, 6, 3, 6, 8, 2, 5, 2, 1, 3, 5, 6, 8, 1, 2, 3, 4, 5, 7, 8, 8, 7, 2, 3, 4, 5, 6, 8, 1, 6, 2, 2, 3, 7, 2, 2, 3, 4, 6, 7, 8, 2, 7, 5, 5, 6, 8, 3, 1, 2, 5, 8, 5, 1, 3, 6, 8, 1, 2, 3, 8, 2], \"Freq\": [0.8902494573537256, 0.9567339370117791, 0.9366557361381697, 0.8561271563120887, 0.7317537212852459, 0.8298377566706344, 0.8756833234113924, 0.11280931951658126, 0.90247455613265, 0.16571719115985475, 0.24857578673978215, 0.538580871269528, 0.8018009854813787, 0.1457819973602507, 0.07289099868012534, 0.769373758293567, 0.7812549265985173, 0.8786422280599963, 0.03179933818200903, 0.6041874254581715, 0.06359867636401806, 0.06359867636401806, 0.19079602909205418, 0.06359867636401806, 0.9149458324774609, 0.1431648490796664, 0.5726593963186656, 0.1431648490796664, 0.1908864654395552, 0.7356253523327336, 0.20062509609074552, 0.043303349452420654, 0.7361569406911511, 0.08660669890484131, 0.12991004835726197, 0.9233136783273389, 0.12328409951864863, 0.041094699839549546, 0.12328409951864863, 0.6575151974327927, 0.8957080662194725, 0.7317487475753427, 0.13535539186300016, 0.09023692790866678, 0.04511846395433339, 0.6316584953606674, 0.09023692790866678, 0.1521411045019907, 0.1521411045019907, 0.5324938657569674, 0.8958686310258995, 0.03138683195524964, 0.6748168870378674, 0.07846707988812411, 0.03138683195524964, 0.01569341597762482, 0.01569341597762482, 0.01569341597762482, 0.1412407437986234, 0.11712497691934842, 0.6572012593807884, 0.07157637478404626, 0.05856248845967421, 0.026027772648744094, 0.026027772648744094, 0.03904165897311614, 0.9081043317931486, 0.9278157402936211, 0.7210153124357754, 0.5773651435045704, 0.29937451885422167, 0.021383894203872975, 0.0855355768154919, 0.7317903156130316, 0.15615352345508396, 0.6636524746841068, 0.11711514259131296, 0.0228169782781167, 0.06845093483435011, 0.3194376958936338, 0.0456339565562334, 0.41070560900610065, 0.0912679131124668, 0.06845093483435011, 0.07862176824819328, 0.6289741459855462, 0.15724353649638656, 0.07862176824819328, 0.10531279494060197, 0.6318767696436118, 0.10531279494060197, 0.10531279494060197, 0.9139861282180953, 0.9293879602153434, 0.9668154903190928, 0.8216526486084704, 0.25006430783578176, 0.06251607695894544, 0.6251607695894544, 0.10042094061909296, 0.8033675249527437, 0.8386389862981679, 0.1696513614091285, 0.6361926052842319, 0.04241284035228213, 0.08482568070456425, 0.8221090446980627, 0.866256715813102, 0.12238847678149573, 0.012238847678149574, 0.03671654303444872, 0.012238847678149574, 0.012238847678149574, 0.7832862514015727, 0.03671654303444872, 0.0895308743981004, 0.0895308743981004, 0.7162469951848032, 0.884992624032455, 0.7170913423269506, 0.13581572090523233, 0.6790786045261616, 0.017154933078410452, 0.9606762523909854, 0.017154933078410452, 0.8763190613766576, 0.7317796643956237, 0.7813620775280206, 0.924619799311361, 0.9359652688220021, 0.93031067079118, 0.9571661714794685, 0.5685921957097321, 0.4264441467822991, 0.9650265533399098, 0.34408498077214195, 0.049154997253163135, 0.5407049697847944, 0.15062112003829323, 0.7531056001914661, 0.14974011168097734, 0.07487005584048867, 0.7487005584048867, 0.9524245810201449, 0.0869374241450834, 0.6954993931606672, 0.0869374241450834, 0.8182437828080343, 0.07438579843709403, 0.07438579843709403, 0.29789700029369004, 0.5213197505139576, 0.07447425007342251, 0.07447425007342251, 0.8558328567363772, 0.14306753713292802, 0.09537835808861868, 0.3815134323544747, 0.3815134323544747, 0.8548243196876658, 0.9249543800685854, 0.8571119051264376, 0.8849685325578124, 0.750138165175683, 0.11069484552386644, 0.8578850528099649, 0.059094047007353365, 0.11818809401470673, 0.7682226110955938, 0.8648027945093203, 0.9252770694193169, 0.8818959399649253, 0.8805112395041309, 0.8189315966073284, 0.8570594509421228, 0.051519263455297955, 0.051519263455297955, 0.9273467421953632, 0.9074113691227967, 0.15709915065388608, 0.15709915065388608, 0.6283966026155443, 0.9422921256991924, 0.5929928938196691, 0.01289114986564498, 0.01289114986564498, 0.19336724798467472, 0.1418026485220948, 0.02578229973128996, 0.02578229973128996, 0.7957643813225607, 0.8921166489622876, 0.07638617139570911, 0.012731028565951518, 0.050924114263806074, 0.8529789139187517, 0.012731028565951518, 0.16429502649290442, 0.7393276192180699, 0.2591143875456174, 0.7125645657504478, 0.4077031368060378, 0.5241897473220486, 0.9351263706264046, 0.02907330838734371, 0.20351315871140596, 0.7268327096835927, 0.06925983526202323, 0.06925983526202323, 0.06925983526202323, 0.6925983526202323, 0.13851967052404646, 0.9722813407092602, 0.940443332405962, 0.8990209568091678, 0.26655180683371127, 0.044425301138951885, 0.7108048182232302, 0.7721602975681181, 0.23814512583572603, 0.14288707550143562, 0.5715483020057425, 0.8697605799954111, 0.26819740510464435, 0.1787982700697629, 0.5363948102092887, 0.902915548927962, 0.8097854217633583, 0.7636482256140174, 0.10909260365914535, 0.10909260365914535, 0.8981778603126678, 0.045959551812991495, 0.27575731087794897, 0.45959551812991495, 0.13787865543897448, 0.9321689263033928, 0.6999703820372483, 0.012068454862711176, 0.048273819450844704, 0.15688991321524529, 0.03620536458813353, 0.03620536458813353, 0.012068454862711176, 0.8697309978069192, 0.8815786412151175, 0.8252396104700007, 0.11144454681488491, 0.5943709163460529, 0.037148182271628305, 0.22288909362976983, 0.04602191299593421, 0.4141972169634079, 0.4602191299593421, 0.9393308303539728, 0.12493447006866816, 0.7496068204120089, 0.9327038705907023, 0.8236660000243968, 0.8091157523185807, 0.08091157523185806, 0.810721444704456, 0.1158173492434937, 0.038605783081164566, 0.9057812703615062, 0.822098306051485, 0.14842623266795318, 0.7421311633397659, 0.8095845998362561, 0.1303638205952128, 0.0651819102976064, 0.7821829235712767, 0.01911928010770104, 0.11471568064620624, 0.21031208118471145, 0.49710128280022703, 0.01911928010770104, 0.13383496075390727, 0.7544039892603951, 0.03226757679825359, 0.12907030719301435, 0.03226757679825359, 0.7421542663598325, 0.03226757679825359, 0.06453515359650717, 0.016357326859371704, 0.03271465371874341, 0.03271465371874341, 0.13085861487497363, 0.7851516892498418, 0.9073697065268986, 0.09391349650981445, 0.3756539860392578, 0.23478374127453613, 0.023478374127453613, 0.14087024476472168, 0.09391349650981445, 0.023478374127453613, 0.885337910652016, 0.8429813127865698, 0.7067411983880696, 0.8355402325361556, 0.08355402325361556, 0.8648904888643241, 0.5934092524379141, 0.006593436138199045, 0.01318687227639809, 0.23736370097516563, 0.09890154207298567, 0.03956061682919427, 0.01318687227639809, 0.19461988342965655, 0.09730994171482828, 0.681169592003798, 0.19892181740339093, 0.7956872696135637, 0.9361532422718533, 0.037494937630324375, 0.7686462214216497, 0.037494937630324375, 0.018747468815162188, 0.13123228170613532, 0.2233072865329912, 0.7443576217766373, 0.029240324887249602, 0.11696129954899841, 0.6432871475194912, 0.1754419493234976, 0.9176760508383704, 0.7251340870689189, 0.2014261352969219, 0.040285227059384386, 0.040285227059384386, 0.8806999780803079, 0.04353427758103008, 0.7836169964585414, 0.17413711032412033, 0.11473562358383112, 0.11473562358383112, 0.8031493650868178, 0.8376588571681198, 0.9460235861998947, 0.04504874219999498, 0.8575269595840075, 0.8387507774662601, 0.8224712784851445, 0.8200658035293663, 0.936706701407201, 0.04625848057820028, 0.9251696115640055, 0.9106275503176727, 0.822037579269753, 0.10386421475546151, 0.051932107377730755, 0.051932107377730755, 0.7789816106659613, 0.9457811096076792, 0.9571640668721902, 0.01843709362962601, 0.009218546814813005, 0.009218546814813005, 0.03687418725925202, 0.009218546814813005, 0.9126361346664875, 0.009218546814813005, 0.7805185657652852, 0.886303427209991, 0.8837634705656565, 0.8611794965178857, 0.9173867453815491, 0.8209486697313902, 0.04625845994640559, 0.9251691989281118, 0.9192392079449917, 0.35478507402373927, 0.01612659427380633, 0.5966839881308342, 0.01612659427380633, 0.01612659427380633, 0.029159366609052922, 0.40823113252674087, 0.17495619965431752, 0.34991239930863505, 0.058318733218105843, 0.029159366609052922, 0.8545369301250593, 0.875652167676642, 0.942267040788135, 0.23451587494920625, 0.7035476248476188, 0.922109569279717, 0.9410396055430819, 0.08417939696218478, 0.7576145726596629, 0.08417939696218478, 0.8087974989115172, 0.6912660897972969, 0.2304220299324323, 0.3105967999179175, 0.11294429087924272, 0.16941643631886408, 0.08470821815943204, 0.19765250903867476, 0.1411803635990534, 0.9393308303539728, 0.6311774248718075, 0.07889717810897594, 0.07889717810897594, 0.07889717810897594, 0.07889717810897594, 0.07889717810897594, 0.8930230892365693, 0.26401261625188244, 0.39601892437782366, 0.04400210270864707, 0.04400210270864707, 0.1760084108345883, 0.9137926009990358, 0.9378892856670802, 0.8432803961413584, 0.035224731486991345, 0.035224731486991345, 0.8453935556877924, 0.035224731486991345, 0.035224731486991345, 0.8224934095990383, 0.8474535904859366, 0.08196509495259346, 0.6283990613032165, 0.21857358654024922, 0.027321698317531153, 0.027321698317531153, 0.027321698317531153, 0.6451803896156663, 0.8544806012641294, 0.05969152088168287, 0.05969152088168287, 0.8953728132252431, 0.12162097674792263, 0.7297258604875358, 0.11923939245972474, 0.0953915139677798, 0.02384787849194495, 0.02384787849194495, 0.7392842332502935, 0.7189868063945086, 0.8892331924877321, 0.08945028785556176, 0.08945028785556176, 0.6261520149889324, 0.17890057571112353, 0.8853192982642305, 0.8198482985288427, 0.8035947988163696, 0.9420904268649849, 0.04492305654912277, 0.0598974087321637, 0.014974352183040924, 0.7786663135181281, 0.04492305654912277, 0.014974352183040924, 0.04492305654912277, 0.9258379940489302, 0.7953235766862535, 0.14460428667022793, 0.9340501113597992, 0.9680984877588907, 0.2728325935024522, 0.05456651870049044, 0.05456651870049044, 0.6002317057053947, 0.80266536511113, 0.8285650997804008, 0.7568419808117426, 0.08409355342352695, 0.08409355342352695, 0.08409355342352695, 0.7325941669612328, 0.1831485417403082, 0.45451444388930257, 0.45451444388930257, 0.8727246979834278, 0.8097290893436012, 0.08946220658788659, 0.8946220658788658, 0.9187092791312724, 0.8106786369721208, 0.8535164001051836, 0.5262925976013677, 0.3289328735008548, 0.06578657470017096, 0.7458336846256605, 0.7948428064437525, 0.13247380107395876, 0.8925121369631844, 0.0743760114135987, 0.7582802437942512, 0.9404515182718615, 0.903828501693964, 0.12744778548352526, 0.42096389750618946, 0.09268929853347291, 0.09655135263903428, 0.015448216422245484, 0.11199956906127975, 0.06951697390010468, 0.06565491979454331, 0.9069666637180791, 0.8570974165242932, 0.959388690667023, 0.8852465606902448, 0.7394629916043113, 0.10563757022918732, 0.6290522856338797, 0.026210511901411656, 0.026210511901411656, 0.10484204760564662, 0.1834735833098816, 0.9421945584929017, 0.838974910267574, 0.061179166191161496, 0.9380805482644763, 0.8201498324227996, 0.8819047016089694, 0.8982569723499719, 0.21048812284972607, 0.1403254152331507, 0.1403254152331507, 0.5613016609326028, 0.7640187383084485, 0.171113895530207, 0.855569477651035, 0.04773676514773964, 0.04773676514773964, 0.04773676514773964, 0.2386838257386982, 0.09547353029547928, 0.5251044166251361, 0.18302591878997693, 0.061008639596658976, 0.6100863959665898, 0.061008639596658976, 0.7930967282325501, 0.08419532386545862, 0.3367812954618345, 0.08419532386545862, 0.4630742812600224, 0.6964894829282289, 0.8397251546238885, 0.05194176214168383, 0.06925568285557843, 0.03462784142778921, 0.008656960356947303, 0.6833476986724252, 0.19524219962069292, 0.9761829817831748, 0.08356204263788003, 0.2506861279136401, 0.6684963411030402, 0.7303015466274543, 0.10432879237535062, 0.10432879237535062, 0.97520075205405, 0.1771244751270478, 0.767539392217207, 0.8466712859966417, 0.12095304085666309, 0.13756997370958976, 0.058958560161252754, 0.058958560161252754, 0.5306270414512748, 0.01965285338708425, 0.157222827096674, 0.01965285338708425, 0.7583753903645097, 0.1326073829089338, 0.7956442974536029, 0.0663036914544669, 0.1240180308406265, 0.6200901542031325, 0.06200901542031325, 0.1240180308406265, 0.7773135853571688, 0.8950005609386127, 0.10258216737611989, 0.7180751716328392, 0.10258216737611989, 0.9072038394923284, 0.9053526229427167, 0.7494147918577958, 0.7945451971229821, 0.9061339492769155, 0.6256996713734119, 0.0525587723953666, 0.14015672638764426, 0.07007836319382213, 0.06256996713734118, 0.022525188169442826, 0.027530785540430123, 0.0662620346622763, 0.9276684852718683, 0.014804095288956319, 0.9474620984932044, 0.014804095288956319, 0.014804095288956319, 0.8083871998219441, 0.07064201967542101, 0.017660504918855253, 0.3178890885393945, 0.017660504918855253, 0.5651361574033681, 0.8568615608151041, 0.7609884175939385, 0.8323742318338991, 0.14725791783445963, 0.14725791783445963, 0.5890316713378385, 0.07362895891722981, 0.8282534577772476, 0.8432724489591354, 0.8835890782059618, 0.8164874902613386, 0.010574343892010674, 0.5921632579525977, 0.3278046606523309, 0.010574343892010674, 0.010574343892010674, 0.021148687784021347, 0.021148687784021347, 0.8737429567971808, 0.8836280926159357, 0.10372972444133832, 0.6223783466480299, 0.10372972444133832, 0.8534579210887098, 0.06565060931451613, 0.048226286660674945, 0.8198468732314741, 0.09645257332134989, 0.020326637976727735, 0.20326637976727735, 0.7114323291854707, 0.020326637976727735, 0.020326637976727735, 0.8830524558699071, 0.045214052636401665, 0.81385294745523, 0.045214052636401665, 0.09042810527280333, 0.9188708465602512, 0.7317466452797614, 0.8096455212583724, 0.9103503076987413, 0.8474247147245674, 0.15155328992828182, 0.7577664496414092, 0.9087465645831959, 0.8414675926710463, 0.07649705387918602, 0.8037461966698559, 0.7313636816726894, 0.6108170387475663, 0.38870175193026946, 0.8817680933485202, 0.6997900361360299, 0.052619587365125606, 0.052619587365125606, 0.6314350483815072, 0.1578587620953768, 0.10523917473025121, 0.6791024799198966, 0.20373074397596896, 0.8398775487196223, 0.8882962946305166, 0.12689947066150237, 0.8763587467476484, 0.027875854707083942, 0.08362756412125183, 0.8641514959196023, 0.07325758490713725, 0.8790910188856471, 0.8648244354360405, 0.04701718715782087, 0.04701718715782087, 0.705257807367313, 0.04701718715782087, 0.09403437431564174, 0.8076108396033795, 0.04038054198016897, 0.08076108396033795, 0.04038054198016897, 0.04038054198016897, 0.04038054198016897, 0.04038054198016897, 0.9236044316535995, 0.8723269792940451, 0.030226303417323953, 0.6750541096535683, 0.10075434472441318, 0.030226303417323953, 0.13098064814173713, 0.030226303417323953, 0.9518464484857585, 0.8158534847498176, 0.8417864596072664, 0.7158282768084785, 0.11930471280141308, 0.7583321909096059, 0.8112798138677132, 0.6300840443100688, 0.14144743851858688, 0.038576574141432785, 0.07715314828286557, 0.07715314828286557, 0.025717716094288523, 0.8311558048004895, 0.13852596746674825, 0.7928344474504879, 0.06901197225472477, 0.41407183352834864, 0.41407183352834864, 0.9523620334986265, 0.819847868160084, 0.0862998294467161, 0.8629982944671611, 0.04314991472335805, 0.8754233159759325, 0.16727612399457978, 0.3903109559873528, 0.33455224798915956, 0.11151741599638652, 0.049094814726399115, 0.049094814726399115, 0.24547407363199555, 0.5891377767167894, 0.7788997550553934], \"Term\": [\"acrylic_jewel\", \"alarm_clock\", \"alphabet\", \"animal\", \"antique\", \"antique_white\", \"apron\", \"art\", \"art\", \"assort\", \"assort\", \"assort\", \"assorted\", \"assorted\", \"assorted\", \"babushka_pink\", \"backpack\", \"badge\", \"bag\", \"bag\", \"bag\", \"bag\", \"bag\", \"bag\", \"balloon\", \"basket\", \"basket\", \"basket\", \"basket\", \"bauble\", \"bauble\", \"bead\", \"bead\", \"bead\", \"bead\", \"beaker\", \"bell\", \"bell\", \"bell\", \"bell\", \"big\", \"big_bowl\", \"bird\", \"bird\", \"bird\", \"bird\", \"bird\", \"birthday\", \"birthday\", \"birthday\", \"biscuit\", \"black\", \"black\", \"black\", \"black\", \"black\", \"black\", \"black\", \"black\", \"blue\", \"blue\", \"blue\", \"blue\", \"blue\", \"blue\", \"blue\", \"blue_felt\", \"blue_polkadot\", \"bomb\", \"bottle\", \"bottle\", \"bottle\", \"bottle\", \"bouquet\", \"bowl\", \"bowl\", \"bowl\", \"box\", \"box\", \"box\", \"box\", \"box\", \"box\", \"box\", \"bracelet\", \"bracelet\", \"bracelet\", \"bracelet\", \"brown\", \"brown\", \"brown\", \"brown\", \"brush\", \"bucket\", \"bunny\", \"bunting\", \"butterfly\", \"butterfly\", \"butterfly\", \"cabinet\", \"cabinet\", \"cafe\", \"cake\", \"cake\", \"cake\", \"cake\", \"cake_case\", \"cake_tin\", \"candle\", \"candle\", \"candle\", \"candle\", \"candle\", \"candle\", \"candle\", \"candle_holder\", \"candle_holder\", \"candle_holder\", \"candleholder\", \"candy\", \"candy_spot\", \"candy_spot\", \"card\", \"card\", \"card\", \"card_holder\", \"carry\", \"ceramic_strawberry\", \"chair\", \"check\", \"cherry\", \"chest\", \"chick\", \"chick\", \"child\", \"chocolate\", \"chocolate\", \"chocolate\", \"christmas_decoration\", \"christmas_decoration\", \"christmas_tree\", \"christmas_tree\", \"christmas_tree\", \"classic\", \"clear\", \"clear\", \"clear\", \"clock\", \"clock\", \"clock\", \"coaster\", \"coaster\", \"coaster\", \"coaster\", \"coffee\", \"colour\", \"colour\", \"colour\", \"colour\", \"come\", \"container\", \"cottage\", \"cotton\", \"crate\", \"cream\", \"cream\", \"cup\", \"cup\", \"cup\", \"cup_saucer\", \"curio_cabinet\", \"curtain\", \"cushion_cover\", \"cut\", \"cute\", \"cutlery\", \"cutlery\", \"cutlery\", \"dairy_maid\", \"daisy\", \"daisy\", \"daisy\", \"danish_rose\", \"decoration\", \"decoration\", \"decoration\", \"decoration\", \"decoration\", \"decoration\", \"decoration\", \"decoration_wobbly\", \"decorative\", \"design\", \"design\", \"design\", \"design\", \"design\", \"dinner_candle\", \"dinner_candle\", \"dish\", \"dish\", \"doily\", \"doily\", \"doll\", \"dolly_girl\", \"dolly_girl\", \"dolly_girl\", \"door_mat\", \"door_mat\", \"door_mat\", \"door_mat\", \"door_mat\", \"doormat\", \"dotcom\", \"double\", \"drawer\", \"drawer\", \"drawer\", \"drop_earring\", \"earring\", \"earring\", \"earring\", \"easter_decoration\", \"egg\", \"egg\", \"egg\", \"egg_frye\", \"embossed_heart\", \"embroidered_ribbon\", \"embroidered_ribbon\", \"embroidered_ribbon\", \"engrave\", \"fairy_cake\", \"fairy_cake\", \"fairy_cake\", \"fairy_cake\", \"flag\", \"flower\", \"flower\", \"flower\", \"flower\", \"flower\", \"flower\", \"flower\", \"flower_design\", \"font\", \"fork\", \"frame\", \"frame\", \"frame\", \"frame\", \"french\", \"french\", \"french\", \"french_blue\", \"fridge_magnet\", \"fridge_magnet\", \"frying_pan\", \"fun\", \"game\", \"game\", \"garden\", \"garden\", \"garden\", \"gardeners_kneele\", \"geisha_girl\", \"giant\", \"giant\", \"gift_tag\", \"girl\", \"girl\", \"girl\", \"glass\", \"glass\", \"glass\", \"glass\", \"glass\", \"glass\", \"glove\", \"gold\", \"gold\", \"gold\", \"gold\", \"gold\", \"gold\", \"green\", \"green\", \"green\", \"green\", \"green\", \"handbag\", \"hang\", \"hang\", \"hang\", \"hang\", \"hang\", \"hang\", \"hang\", \"hanger\", \"hanging\", \"hanging_easter\", \"hanging_heart\", \"hanging_heart\", \"happy\", \"heart\", \"heart\", \"heart\", \"heart\", \"heart\", \"heart\", \"heart\", \"heart_decoration\", \"heart_decoration\", \"heart_decoration\", \"heart_light\", \"heart_light\", \"herb\", \"holder\", \"holder\", \"holder\", \"holder\", \"holder\", \"home\", \"home\", \"hook\", \"hook\", \"hook\", \"hook\", \"hot\", \"hot_water\", \"hot_water\", \"hot_water\", \"hot_water\", \"icon\", \"ivory\", \"ivory\", \"ivory\", \"jack\", \"jack\", \"jack\", \"jam_jar\", \"jar\", \"jar\", \"jar_light\", \"jardin_etched\", \"jewel\", \"jewellery_stand\", \"jug\", \"key_ring\", \"key_ring\", \"kings_choice\", \"kiss\", \"kit\", \"kit\", \"kit\", \"kit\", \"kitchen\", \"lantern\", \"large\", \"large\", \"large\", \"large\", \"large\", \"large\", \"large\", \"lattice\", \"lavender\", \"lead\", \"leaf\", \"leave\", \"letter\", \"letter_ble\", \"letter_ble\", \"lid\", \"light\", \"light\", \"light\", \"light\", \"light\", \"light_holder\", \"light_holder\", \"light_holder\", \"light_holder\", \"light_holder\", \"light_holder\", \"lighthouse\", \"liner\", \"list\", \"love_london\", \"love_london\", \"magnet\", \"mat\", \"match\", \"match\", \"match\", \"measuring_tape\", \"medium\", \"medium\", \"metal\", \"metal\", \"metal\", \"metal\", \"metal\", \"metal\", \"metal_door\", \"metal_sign\", \"metal_sign\", \"metal_sign\", \"metal_sign\", \"metal_sign\", \"metal_sign\", \"milk\", \"mini\", \"mini\", \"mini\", \"mini\", \"mini\", \"mini_cake\", \"mini_playe\", \"mint\", \"mirror\", \"mirror\", \"mirror\", \"mirror\", \"mirror\", \"monkey\", \"mop\", \"mug\", \"mug\", \"mug\", \"mug\", \"mug\", \"mug\", \"multi\", \"multiple\", \"napkin\", \"napkin\", \"napkin\", \"natural\", \"natural\", \"necklace\", \"necklace\", \"necklace\", \"necklace\", \"necklace\", \"nest\", \"new_baroque\", \"notebook\", \"notebook\", \"notebook\", \"notebook\", \"oil_burner\", \"orange\", \"oven_glove\", \"owl\", \"pack\", \"pack\", \"pack\", \"pack\", \"pack\", \"pack\", \"pack\", \"pad\", \"paint\", \"paint\", \"pair\", \"pantry\", \"paper\", \"paper\", \"paper\", \"paper\", \"paper_bunte\", \"paper_chain\", \"paper_doilie\", \"paper_doilie\", \"paper_doilie\", \"paper_doilie\", \"paper_lantern\", \"paper_lantern\", \"party\", \"party\", \"party_candle\", \"party_cone\", \"party_pizza\", \"party_pizza\", \"pattern\", \"pc\", \"pear\", \"pen\", \"pen\", \"pen\", \"petit_four\", \"phone_charm\", \"phone_charm\", \"photo_frame\", \"photo_frame\", \"photoframe\", \"piece\", \"pin_cushion\", \"pink\", \"pink\", \"pink\", \"pink\", \"pink\", \"pink\", \"pink\", \"pink\", \"pink_butterfly\", \"pink_felt\", \"pink_polkadot\", \"pink_yellow\", \"placemat\", \"placemat\", \"plate\", \"plate\", \"plate\", \"plate\", \"plate\", \"playing_card\", \"point\", \"polkadot\", \"polkadot\", \"poppy\", \"post\", \"pretty\", \"print\", \"print\", \"print\", \"print\", \"pudding\", \"pudding_bowl\", \"pudding_bowl\", \"purple\", \"purple\", \"purple\", \"purple\", \"purple\", \"purple\", \"purse\", \"purse\", \"purse\", \"purse\", \"quilt\", \"rabbit\", \"rabbit\", \"rabbit\", \"rabbit\", \"rack\", \"red\", \"red\", \"red\", \"red\", \"red\", \"red_spot\", \"red_spot\", \"reel\", \"reindeer\", \"reindeer\", \"reindeer\", \"retro_spot\", \"retro_spot\", \"retro_spot\", \"retrospot\", \"ribbon_reel\", \"ribbon_reel\", \"ring\", \"ring\", \"rise\", \"rise\", \"rise\", \"rise\", \"rise\", \"rise\", \"rise\", \"rope\", \"rose\", \"rose\", \"rose\", \"round\", \"round\", \"round\", \"round\", \"rubber\", \"russian_doll\", \"rustic\", \"rustic\", \"rustic\", \"salt\", \"scent\", \"school\", \"scissor\", \"scottie_dog\", \"set\", \"set\", \"set\", \"set\", \"set\", \"set\", \"set\", \"shelf\", \"shelf\", \"sign\", \"sign\", \"sign\", \"sign\", \"silk_purse\", \"silver\", \"silver\", \"silver\", \"silver\", \"silver\", \"silver_orbit\", \"single\", \"sketchbook\", \"skull\", \"skull\", \"skull\", \"skull\", \"slate\", \"sleigh\", \"slice\", \"slide\", \"small\", \"small\", \"small\", \"small\", \"small\", \"small\", \"small\", \"snowflake\", \"space_boy\", \"spoon\", \"spoon\", \"spoon\", \"spot\", \"spot\", \"stand\", \"stand\", \"stand\", \"star\", \"star\", \"star\", \"star\", \"star\", \"stick\", \"sticker\", \"sticker\", \"sticker\", \"sticker\", \"stool\", \"storage\", \"straw\", \"sucker\", \"summer_draw\", \"sweet\", \"sweet\", \"sweet_home\", \"sweetheart\", \"sweetheart\", \"swirly\", \"swiss_roll\", \"table\", \"table\", \"tablecloth\", \"tape\", \"tea\", \"tea\", \"tea\", \"tea\", \"tea\", \"tea_towel\", \"tea_towel\", \"teapot\", \"tidy\", \"tidy\", \"tier\", \"tin\", \"tin\", \"tin\", \"tissue\", \"tissue\", \"towel_chocolate\", \"tray\", \"tray\", \"tray\", \"tray\", \"tray\", \"tree\", \"tree\", \"tree\", \"tree\", \"tree\", \"tree\", \"tree\", \"triple\", \"union_jack\", \"vintage\", \"vintage\", \"vintage\", \"vintage\", \"vintage\", \"vintage\", \"wall_clock\", \"wall_mirror\", \"washing\", \"water\", \"water\", \"watering\", \"weave\", \"white\", \"white\", \"white\", \"white\", \"white\", \"white\", \"wicker\", \"wicker\", \"windmill\", \"wood\", \"wood\", \"wood\", \"wooden\", \"woodland\", \"wrap\", \"wrap\", \"wrap\", \"wreath\", \"yellow\", \"yellow\", \"yellow\", \"yellow\", \"zinc\", \"zinc\", \"zinc\", \"zinc\", \"zinc_light\"]}, \"R\": 30, \"lambda.step\": 0.01, \"plot.opts\": {\"xlab\": \"PC1\", \"ylab\": \"PC2\"}, \"topic.order\": [4, 3, 5, 1, 8, 2, 6, 7]};\n",
       "\n",
       "function LDAvis_load_lib(url, callback){\n",
       "  var s = document.createElement('script');\n",
       "  s.src = url;\n",
       "  s.async = true;\n",
       "  s.onreadystatechange = s.onload = callback;\n",
       "  s.onerror = function(){console.warn(\"failed to load library \" + url);};\n",
       "  document.getElementsByTagName(\"head\")[0].appendChild(s);\n",
       "}\n",
       "\n",
       "if(typeof(LDAvis) !== \"undefined\"){\n",
       "   // already loaded: just create the visualization\n",
       "   !function(LDAvis){\n",
       "       new LDAvis(\"#\" + \"ldavis_el3010831511040863528057206367\", ldavis_el3010831511040863528057206367_data);\n",
       "   }(LDAvis);\n",
       "}else if(typeof define === \"function\" && define.amd){\n",
       "   // require.js is available: use it to load d3/LDAvis\n",
       "   require.config({paths: {d3: \"https://d3js.org/d3.v5\"}});\n",
       "   require([\"d3\"], function(d3){\n",
       "      window.d3 = d3;\n",
       "      LDAvis_load_lib(\"https://cdn.jsdelivr.net/gh/bmabey/pyLDAvis@3.4.0/pyLDAvis/js/ldavis.v3.0.0.js\", function(){\n",
       "        new LDAvis(\"#\" + \"ldavis_el3010831511040863528057206367\", ldavis_el3010831511040863528057206367_data);\n",
       "      });\n",
       "    });\n",
       "}else{\n",
       "    // require.js not available: dynamically load d3 & LDAvis\n",
       "    LDAvis_load_lib(\"https://d3js.org/d3.v5.js\", function(){\n",
       "         LDAvis_load_lib(\"https://cdn.jsdelivr.net/gh/bmabey/pyLDAvis@3.4.0/pyLDAvis/js/ldavis.v3.0.0.js\", function(){\n",
       "                 new LDAvis(\"#\" + \"ldavis_el3010831511040863528057206367\", ldavis_el3010831511040863528057206367_data);\n",
       "            })\n",
       "         });\n",
       "}\n",
       "</script>"
      ],
      "text/plain": [
       "PreparedData(topic_coordinates=              x         y  topics  cluster       Freq\n",
       "topic                                                \n",
       "3     -0.140854  0.032260       1        1  15.809428\n",
       "2      0.036106 -0.020994       2        1  14.137839\n",
       "4     -0.079595 -0.176937       3        1  13.996360\n",
       "0     -0.125132  0.006825       4        1  12.454236\n",
       "7      0.223947 -0.054141       5        1  11.396731\n",
       "1      0.020840  0.023123       6        1  11.082482\n",
       "5      0.018435  0.182123       7        1  10.805181\n",
       "6      0.046253  0.007741       8        1  10.317744, topic_info=       Term        Freq       Total Category  logprob  loglift\n",
       "41      set  399.000000  399.000000  Default  30.0000  30.0000\n",
       "13    large  108.000000  108.000000  Default  29.0000  29.0000\n",
       "111     red  115.000000  115.000000  Default  28.0000  28.0000\n",
       "11   design   78.000000   78.000000  Default  27.0000  27.0000\n",
       "210  candle   81.000000   81.000000  Default  26.0000  26.0000\n",
       "..      ...         ...         ...      ...      ...      ...\n",
       "49    frame    6.490844   26.919218   Topic8  -5.1585   0.8489\n",
       "85   holder    7.127529   53.340534   Topic8  -5.0649   0.2586\n",
       "162   glass    6.687526   52.303225   Topic8  -5.1286   0.2145\n",
       "273    hook    6.410859   34.199346   Topic8  -5.1709   0.5971\n",
       "54     blue    6.370108  153.681994   Topic8  -5.1773  -0.9120\n",
       "\n",
       "[421 rows x 6 columns], token_table=      Topic      Freq           Term\n",
       "term                                \n",
       "1339      1  0.890249  acrylic_jewel\n",
       "1367      6  0.956734    alarm_clock\n",
       "299       1  0.936656       alphabet\n",
       "576       5  0.856127         animal\n",
       "229       3  0.731754        antique\n",
       "...     ...       ...            ...\n",
       "464       1  0.049095           zinc\n",
       "464       2  0.049095           zinc\n",
       "464       3  0.245474           zinc\n",
       "464       8  0.589138           zinc\n",
       "86        2  0.778900     zinc_light\n",
       "\n",
       "[736 rows x 3 columns], R=30, lambda_step=0.01, plot_opts={'xlab': 'PC1', 'ylab': 'PC2'}, topic_order=[4, 3, 5, 1, 8, 2, 6, 7])"
      ]
     },
     "execution_count": 1191,
     "metadata": {},
     "output_type": "execute_result"
    }
   ],
   "source": [
    "# Visualize the topics in the optimal lda model\n",
    "pyLDAvis.enable_notebook()\n",
    "vis = pyLDAvis.gensim.prepare(optimal_model, corpus, id2word)\n",
    "vis"
   ]
  },
  {
   "cell_type": "markdown",
   "metadata": {},
   "source": [
    "<u>Find the dominant in each sentence</u>  \n",
    "\n",
    "Now, we need to determine what topic a given document is about. To do this, we find the topic number that has the highest percentage contribution in that document. The `format_topics_sentences()` function nicely aggregates this information in a presentable table."
   ]
  },
  {
   "cell_type": "code",
   "execution_count": 1192,
   "metadata": {},
   "outputs": [
    {
     "data": {
      "text/html": [
       "<div>\n",
       "<style scoped>\n",
       "    .dataframe tbody tr th:only-of-type {\n",
       "        vertical-align: middle;\n",
       "    }\n",
       "\n",
       "    .dataframe tbody tr th {\n",
       "        vertical-align: top;\n",
       "    }\n",
       "\n",
       "    .dataframe thead th {\n",
       "        text-align: right;\n",
       "    }\n",
       "</style>\n",
       "<table border=\"1\" class=\"dataframe\">\n",
       "  <thead>\n",
       "    <tr style=\"text-align: right;\">\n",
       "      <th></th>\n",
       "      <th>Document_No</th>\n",
       "      <th>Dominant_Topic</th>\n",
       "      <th>Topic_Perc_Contrib</th>\n",
       "      <th>Keywords</th>\n",
       "      <th>Text</th>\n",
       "    </tr>\n",
       "  </thead>\n",
       "  <tbody>\n",
       "    <tr>\n",
       "      <th>0</th>\n",
       "      <td>0</td>\n",
       "      <td>4</td>\n",
       "      <td>0.5624</td>\n",
       "      <td>red, vintage, sign, small, set, light, pink, m...</td>\n",
       "      <td>15CM CHRISTMAS GLASS BALL 20 LIGHTS</td>\n",
       "    </tr>\n",
       "    <tr>\n",
       "      <th>1</th>\n",
       "      <td>1</td>\n",
       "      <td>5</td>\n",
       "      <td>0.7077</td>\n",
       "      <td>large, candle, doormat, key_ring, letter_ble, ...</td>\n",
       "      <td>PINK CHERRY LIGHTS</td>\n",
       "    </tr>\n",
       "    <tr>\n",
       "      <th>2</th>\n",
       "      <td>2</td>\n",
       "      <td>0</td>\n",
       "      <td>0.1250</td>\n",
       "      <td>polkadot, heart, star, cream, small, set, rise...</td>\n",
       "      <td>WHITE CHERRY LIGHTS</td>\n",
       "    </tr>\n",
       "    <tr>\n",
       "      <th>3</th>\n",
       "      <td>3</td>\n",
       "      <td>3</td>\n",
       "      <td>0.7811</td>\n",
       "      <td>set, heart, flower, pink, pink_polkadot, bottl...</td>\n",
       "      <td>RECORD FRAME 7\" SINGLE SIZE</td>\n",
       "    </tr>\n",
       "    <tr>\n",
       "      <th>4</th>\n",
       "      <td>4</td>\n",
       "      <td>5</td>\n",
       "      <td>0.5619</td>\n",
       "      <td>large, candle, doormat, key_ring, letter_ble, ...</td>\n",
       "      <td>STRAWBERRY CERAMIC TRINKET BOX</td>\n",
       "    </tr>\n",
       "    <tr>\n",
       "      <th>5</th>\n",
       "      <td>5</td>\n",
       "      <td>2</td>\n",
       "      <td>0.7082</td>\n",
       "      <td>pink, blue, white, decoration, black, holder, ...</td>\n",
       "      <td>PINK DOUGHNUT TRINKET POT</td>\n",
       "    </tr>\n",
       "    <tr>\n",
       "      <th>6</th>\n",
       "      <td>6</td>\n",
       "      <td>6</td>\n",
       "      <td>0.5386</td>\n",
       "      <td>green, silver, necklace, tin, cutlery, pink, b...</td>\n",
       "      <td>SAVE THE PLANET MUG</td>\n",
       "    </tr>\n",
       "    <tr>\n",
       "      <th>7</th>\n",
       "      <td>7</td>\n",
       "      <td>0</td>\n",
       "      <td>0.1250</td>\n",
       "      <td>polkadot, heart, star, cream, small, set, rise...</td>\n",
       "      <td>FANCY FONT HOME SWEET HOME DOORMAT</td>\n",
       "    </tr>\n",
       "    <tr>\n",
       "      <th>8</th>\n",
       "      <td>8</td>\n",
       "      <td>0</td>\n",
       "      <td>0.1250</td>\n",
       "      <td>polkadot, heart, star, cream, small, set, rise...</td>\n",
       "      <td>CAT BOWL</td>\n",
       "    </tr>\n",
       "    <tr>\n",
       "      <th>9</th>\n",
       "      <td>9</td>\n",
       "      <td>1</td>\n",
       "      <td>0.5625</td>\n",
       "      <td>design, retrospot, pantry, pink, dolly_girl, s...</td>\n",
       "      <td>DOG BOWL , CHASING BALL DESIGN</td>\n",
       "    </tr>\n",
       "  </tbody>\n",
       "</table>\n",
       "</div>"
      ],
      "text/plain": [
       "   Document_No  Dominant_Topic  Topic_Perc_Contrib  \\\n",
       "0            0               4              0.5624   \n",
       "1            1               5              0.7077   \n",
       "2            2               0              0.1250   \n",
       "3            3               3              0.7811   \n",
       "4            4               5              0.5619   \n",
       "5            5               2              0.7082   \n",
       "6            6               6              0.5386   \n",
       "7            7               0              0.1250   \n",
       "8            8               0              0.1250   \n",
       "9            9               1              0.5625   \n",
       "\n",
       "                                            Keywords  \\\n",
       "0  red, vintage, sign, small, set, light, pink, m...   \n",
       "1  large, candle, doormat, key_ring, letter_ble, ...   \n",
       "2  polkadot, heart, star, cream, small, set, rise...   \n",
       "3  set, heart, flower, pink, pink_polkadot, bottl...   \n",
       "4  large, candle, doormat, key_ring, letter_ble, ...   \n",
       "5  pink, blue, white, decoration, black, holder, ...   \n",
       "6  green, silver, necklace, tin, cutlery, pink, b...   \n",
       "7  polkadot, heart, star, cream, small, set, rise...   \n",
       "8  polkadot, heart, star, cream, small, set, rise...   \n",
       "9  design, retrospot, pantry, pink, dolly_girl, s...   \n",
       "\n",
       "                                  Text  \n",
       "0  15CM CHRISTMAS GLASS BALL 20 LIGHTS  \n",
       "1                   PINK CHERRY LIGHTS  \n",
       "2                  WHITE CHERRY LIGHTS  \n",
       "3         RECORD FRAME 7\" SINGLE SIZE   \n",
       "4       STRAWBERRY CERAMIC TRINKET BOX  \n",
       "5           PINK DOUGHNUT TRINKET POT   \n",
       "6                  SAVE THE PLANET MUG  \n",
       "7   FANCY FONT HOME SWEET HOME DOORMAT  \n",
       "8                            CAT BOWL   \n",
       "9       DOG BOWL , CHASING BALL DESIGN  "
      ]
     },
     "execution_count": 1192,
     "metadata": {},
     "output_type": "execute_result"
    }
   ],
   "source": [
    "df_topic_sents_keywords = format_topics_sentences(\n",
    "    ldamodel=optimal_model, corpus=corpus, texts=unique_docs\n",
    ")\n",
    "\n",
    "# Format\n",
    "df_dominant_topic = df_topic_sents_keywords.reset_index()\n",
    "df_dominant_topic.columns = [\n",
    "    \"Document_No\",\n",
    "    \"Dominant_Topic\",\n",
    "    \"Topic_Perc_Contrib\",\n",
    "    \"Keywords\",\n",
    "    \"Text\",\n",
    "]\n",
    "\n",
    "# Show\n",
    "df_dominant_topic.head(10)"
   ]
  },
  {
   "cell_type": "markdown",
   "metadata": {},
   "source": [
    "This on its own is still pretty difficult to interpret (topic keywords may not be enough to make sense of what the topic is about) So, to help with understanding the topic, we can find the documents a given topic has contributed to the most and infer the ropic by reading that document. "
   ]
  },
  {
   "cell_type": "code",
   "execution_count": 1193,
   "metadata": {},
   "outputs": [
    {
     "data": {
      "text/html": [
       "<div>\n",
       "<style scoped>\n",
       "    .dataframe tbody tr th:only-of-type {\n",
       "        vertical-align: middle;\n",
       "    }\n",
       "\n",
       "    .dataframe tbody tr th {\n",
       "        vertical-align: top;\n",
       "    }\n",
       "\n",
       "    .dataframe thead th {\n",
       "        text-align: right;\n",
       "    }\n",
       "</style>\n",
       "<table border=\"1\" class=\"dataframe\">\n",
       "  <thead>\n",
       "    <tr style=\"text-align: right;\">\n",
       "      <th></th>\n",
       "      <th>Topic_Num</th>\n",
       "      <th>Topic_Perc_Contrib</th>\n",
       "      <th>Keywords</th>\n",
       "      <th>Text</th>\n",
       "    </tr>\n",
       "  </thead>\n",
       "  <tbody>\n",
       "    <tr>\n",
       "      <th>0</th>\n",
       "      <td>0</td>\n",
       "      <td>0.8541</td>\n",
       "      <td>polkadot, heart, star, cream, small, set, rise...</td>\n",
       "      <td>BROCADE PURSE,SMALL ARCH BUTTON</td>\n",
       "    </tr>\n",
       "    <tr>\n",
       "      <th>1</th>\n",
       "      <td>1</td>\n",
       "      <td>0.8541</td>\n",
       "      <td>design, retrospot, pantry, pink, dolly_girl, s...</td>\n",
       "      <td>MERCHANT CHANDLER CREDIT ERROR, STO</td>\n",
       "    </tr>\n",
       "    <tr>\n",
       "      <th>2</th>\n",
       "      <td>2</td>\n",
       "      <td>0.8748</td>\n",
       "      <td>pink, blue, white, decoration, black, holder, ...</td>\n",
       "      <td>SET/6 BEAD COASTERS GAUZE BAG GOLD</td>\n",
       "    </tr>\n",
       "    <tr>\n",
       "      <th>3</th>\n",
       "      <td>3</td>\n",
       "      <td>0.8540</td>\n",
       "      <td>set, heart, flower, pink, pink_polkadot, bottl...</td>\n",
       "      <td>CREAM CUPID HEARTS COAT HANGER</td>\n",
       "    </tr>\n",
       "    <tr>\n",
       "      <th>4</th>\n",
       "      <td>4</td>\n",
       "      <td>0.8541</td>\n",
       "      <td>red, vintage, sign, small, set, light, pink, m...</td>\n",
       "      <td>SET OF 10 LANTERNS FAIRY LIGHT STAR</td>\n",
       "    </tr>\n",
       "    <tr>\n",
       "      <th>5</th>\n",
       "      <td>5</td>\n",
       "      <td>0.8250</td>\n",
       "      <td>large, candle, doormat, key_ring, letter_ble, ...</td>\n",
       "      <td>UNION JACK GUNS &amp; ROSES  DOORMAT</td>\n",
       "    </tr>\n",
       "    <tr>\n",
       "      <th>6</th>\n",
       "      <td>6</td>\n",
       "      <td>0.8250</td>\n",
       "      <td>green, silver, necklace, tin, cutlery, pink, b...</td>\n",
       "      <td>WOOD XMAS TREE 9 FIG SHELVES</td>\n",
       "    </tr>\n",
       "    <tr>\n",
       "      <th>7</th>\n",
       "      <td>7</td>\n",
       "      <td>0.8539</td>\n",
       "      <td>card, pack, wrap, tissue, gold, box, ivory, st...</td>\n",
       "      <td>LETS GO SHOPPING COTTON TOTE BAG</td>\n",
       "    </tr>\n",
       "  </tbody>\n",
       "</table>\n",
       "</div>"
      ],
      "text/plain": [
       "   Topic_Num  Topic_Perc_Contrib  \\\n",
       "0          0              0.8541   \n",
       "1          1              0.8541   \n",
       "2          2              0.8748   \n",
       "3          3              0.8540   \n",
       "4          4              0.8541   \n",
       "5          5              0.8250   \n",
       "6          6              0.8250   \n",
       "7          7              0.8539   \n",
       "\n",
       "                                            Keywords  \\\n",
       "0  polkadot, heart, star, cream, small, set, rise...   \n",
       "1  design, retrospot, pantry, pink, dolly_girl, s...   \n",
       "2  pink, blue, white, decoration, black, holder, ...   \n",
       "3  set, heart, flower, pink, pink_polkadot, bottl...   \n",
       "4  red, vintage, sign, small, set, light, pink, m...   \n",
       "5  large, candle, doormat, key_ring, letter_ble, ...   \n",
       "6  green, silver, necklace, tin, cutlery, pink, b...   \n",
       "7  card, pack, wrap, tissue, gold, box, ivory, st...   \n",
       "\n",
       "                                  Text  \n",
       "0      BROCADE PURSE,SMALL ARCH BUTTON  \n",
       "1  MERCHANT CHANDLER CREDIT ERROR, STO  \n",
       "2   SET/6 BEAD COASTERS GAUZE BAG GOLD  \n",
       "3       CREAM CUPID HEARTS COAT HANGER  \n",
       "4  SET OF 10 LANTERNS FAIRY LIGHT STAR  \n",
       "5     UNION JACK GUNS & ROSES  DOORMAT  \n",
       "6         WOOD XMAS TREE 9 FIG SHELVES  \n",
       "7     LETS GO SHOPPING COTTON TOTE BAG  "
      ]
     },
     "execution_count": 1193,
     "metadata": {},
     "output_type": "execute_result"
    }
   ],
   "source": [
    "# Group the top 5 sentences under each topic\n",
    "sent_topics_sorted = pd.DataFrame()\n",
    "\n",
    "sent_topics_grouped = df_topic_sents_keywords.groupby(\"Dominant_Topic\")\n",
    "\n",
    "for i, grp in sent_topics_grouped:\n",
    "    sent_topics_sorted = pd.concat(\n",
    "        [\n",
    "            sent_topics_sorted,\n",
    "            grp.sort_values([\"Perc_Contribution\"], ascending=[0]).head(1),\n",
    "        ],\n",
    "        axis=0,\n",
    "    )\n",
    "\n",
    "# Reset Index\n",
    "sent_topics_sorted.reset_index(drop=True, inplace=True)\n",
    "\n",
    "# Format\n",
    "sent_topics_sorted.columns = [\"Topic_Num\", \"Topic_Perc_Contrib\", \"Keywords\", \"Text\"]\n",
    "\n",
    "# Show\n",
    "sent_topics_sorted"
   ]
  },
  {
   "cell_type": "code",
   "execution_count": 1194,
   "metadata": {},
   "outputs": [
    {
     "name": "stdout",
     "output_type": "stream",
     "text": [
      "0 polkadot, heart, star, cream, small, set, rise, glass, pink, jar\n",
      "---\n",
      "1 design, retrospot, pantry, pink, dolly_girl, set, mirror, hook, heart, kit\n",
      "---\n",
      "2 pink, blue, white, decoration, black, holder, bunny, set, home, bag\n",
      "---\n",
      "3 set, heart, flower, pink, pink_polkadot, bottle, plate, light, garden, tree\n",
      "---\n",
      "4 red, vintage, sign, small, set, light, pink, mug, reel, silver\n",
      "---\n",
      "5 large, candle, doormat, key_ring, letter_ble, pink, magnet, assort, rose, earring\n",
      "---\n",
      "6 green, silver, necklace, tin, cutlery, pink, bell, napkin, shelf, dotcom\n",
      "---\n",
      "7 card, pack, wrap, tissue, gold, box, ivory, stand, drawer, decoration\n",
      "---\n"
     ]
    }
   ],
   "source": [
    "for idx, kw in enumerate(sent_topics_sorted.Keywords):\n",
    "    print(idx, kw)\n",
    "    print(\"---\")"
   ]
  },
  {
   "cell_type": "markdown",
   "metadata": {},
   "source": [
    "<u>Rationale for Classifications</u>  \n",
    "\n",
    "<u>*Topic 0*:</u>  \n",
    "\n",
    "1. Color Palette: The presence of words like \"white,\" \"silver,\" \"cream,\" and \"pink\" suggests a focus on color, which is often associated with home decor and accessories.\n",
    "\n",
    "1. Home-related Items: Words like \"doormat,\" \"cup,\" and \"sticker\" are often associated with items found in homes.\n",
    "\n",
    "1. Garden Element: The word \"garden\" suggests a connection to outdoor or garden-related items, which can still fall under the broader category of home decor.\n",
    "\n",
    "1. Set: The term \"set\" might indicate that these items are sold together as part of a collection, common in the context of home decor.\n",
    "\n",
    "1. Heart: The word \"heart\" might be associated with decorative elements or items related to love and sentiment, fitting well with the theme of unique gifts.\n",
    "\n",
    "Given these observations, the predicted category is \"Home Decor and Accessories,\" where the company likely specializes in providing unique and stylish items for home decoration and personal use.\n",
    "\n",
    "Predicted category: **Home Decor and Accessories**  \n",
    "\n",
    "<u>*Topic 1*:</u>  \n",
    "\n",
    "1. Color Palette: The words \"red_retrospot,\" \"vintage,\" \"black,\" \"blue_polkadot,\" and \"pink\" indicate a specific color palette associated with vintage and retro aesthetics.\n",
    "\n",
    "1. Materials: The presence of \"tin\" and \"metal\" suggests items made from these materials, commonly used in crafting vintage-style decor.\n",
    "\n",
    "1. Home Decor Elements: The words \"frame,\" \"clock,\" and \"bucket\" are indicative of home decor and accessories. Frames and clocks are classic decorative items, while a \"tin seaside bucket\" aligns with vintage-themed decor.\n",
    "\n",
    "1. Sentimental Touch: The term \"sweetheart\" implies items with a sentimental or romantic touch, fitting well within the category of unique gifts.\n",
    "\n",
    "1. Representative Sentence: The sentence \"GIRLS VINTAGE TIN SEASIDE BUCKET\" contains keywords like \"vintage,\" \"tin,\" and \"seaside,\" reinforcing the association with vintage-inspired and coastal-themed decor.\n",
    "\n",
    "Predicted category: **Vintage Home Decor and Accessories**  \n",
    "\n",
    "<u>*Topic 2*:</u>  \n",
    "\n",
    "1. Crafting and Design Elements: Keywords like \"design,\" \"large,\" \"holder,\" and \"set\" suggest items related to crafting and design. The mention of \"ribbon_reel\" and \"bunny\" further emphasizes the creative and decorative nature of these items.\n",
    "\n",
    "1. Decorative Themes: Terms such as \"decoration,\" \"dolly_girl,\" \"ivory,\" and \"hanging_heart\" point towards decorative elements with a focus on aesthetics and design.\n",
    "\n",
    "1. Artistic Touch: The inclusion of \"bunny\" implies a cute or whimsical aspect, aligning with artistic and creative themes commonly found in unique gifts.\n",
    "\n",
    "1. Representative Sentence: The sentence \"SET 12 RETRO WHITE CHALK STICKS\" includes keywords like \"set,\" \"retro,\" and \"white chalk sticks,\" suggesting artistic materials or decorative craft supplies.\n",
    "\n",
    "Predicted category: **Artistic and Decorative Craft Supplies**  \n",
    "\n",
    "<u>*Topic 3*:</u>  \n",
    "\n",
    "1. Set: The term \"set\" suggests that the items are sold together as a collection or grouping. This could include multiple candles along with additional components.\n",
    "\n",
    "1. Red: The color \"red\" indicates a specific color theme for the items. This suggests that the candles or related items are predominantly red in color.\n",
    "\n",
    "1. Candle: The presence of the word \"candle\" indicates that the items are indeed related to candles. This aligns with the theme of a candle set.\n",
    "\n",
    "1. Polkadot, Ceramic, Gold: These words provide additional characteristics of the items. \"Polkadot\" suggests a pattern, \"ceramic\" indicates a possible material, and \"gold\" may be a color or accent.\n",
    "\n",
    "1. Light: The term \"light\" may emphasize that these items are associated with lighting, confirming the focus on candles.\n",
    "\n",
    "1. Tray, Mini, Beaker: These words suggest additional accessories or components that may accompany the candle set, such as a tray, mini items, or a beaker.\n",
    "\n",
    "Predicted category: **Decorative or Themed Candle Set**\n",
    "\n",
    "<u>*Topic 4*:</u>  \n",
    "\n",
    "1. Small: Indicates that the items are of a small size, possibly decorative or party-related accessories.\n",
    "\n",
    "1. Retrospot: Suggests a retro or vintage spotted pattern, which is commonly associated with party and decorative items.\n",
    "\n",
    "1. Pink, Purple: Color indicators. Pink and purple are colors often associated with festive and decorative items, especially in the context of gifts.\n",
    "\n",
    "1. Bottle: Could refer to decorative bottles, possibly containing party favors or decorative elements.\n",
    "\n",
    "1. Heart: Implies that some items in this category may have a heart shape, commonly used in decorative and gift-related items.\n",
    "\n",
    "1. Paper Lantern: A specific item mentioned that is often associated with decorative lighting for parties or events.\n",
    "\n",
    "1. Gift Bag: Indicates the presence of gift bags, commonly used for packaging small gifts and party favors.\n",
    "\n",
    "1. Drawer: While less common, the term \"drawer\" could suggest a decorative drawer or container for storing small items.\n",
    "\n",
    "1. Hot Water: Although seemingly unrelated, it might be an outlier or part of a specific product name. Alternatively, it could relate to items associated with warm beverages in a festive context.\n",
    "\n",
    "1. Assorted: The term \"assorted\" in the most representative sentence suggests a variety of items, reinforcing the idea of a collection of party and decorative items.\n",
    "\n",
    "Predicted category: **Assorted Party and Decorative Items**  \n",
    "\n",
    "<u>*Topic 5*:</u>   \n",
    "\n",
    "1. Green, Pink: Color indicators. Green and pink are often associated with artistic and vibrant home decor items.\n",
    "\n",
    "1. Necklace: Indicates the presence of a wearable accessory, possibly a decorative necklace.\n",
    "\n",
    "1. Hang, Decoration: Suggests items designed for hanging and decoration, aligning with home decor and accessory categories.\n",
    "\n",
    "1. Plate: Could refer to a decorative plate, commonly used in home decor.\n",
    "\n",
    "1. Key_Re (Key Ring): While the term is truncated, \"key_re\" likely refers to a key ring, a small decorative item often associated with home decor and accessories.\n",
    "\n",
    "1. Wrap: Implies that some items may be gift-worthy or come with decorative packaging.\n",
    "\n",
    "1. Jar: Might indicate a decorative jar, commonly used for storing small items or as a decorative element.\n",
    "\n",
    "1. Letter_Ble (Letter B): Possibly indicates a decorative item related to the letter 'B', which could be part of a personalized or alphabet-themed home decor item.\n",
    "\n",
    "1. Painted Sea Shell Metal Windchime: The most representative sentence provides additional context, suggesting a specific item in the category—painted sea shell metal windchime. Windchimes are often considered decorative and artistic elements for homes.\n",
    "\n",
    "Predicted category: **Artistic Home Decor and Accessories**  \n",
    "\n",
    "<u>*Topic 6*:</u>  \n",
    "\n",
    "1. Heart, Star: These shapes are commonly used in decorative elements for gift wrapping and presentation.\n",
    "\n",
    "1. Blue, Pink: Colors often associated with various occasions, including those for which gifts are exchanged.\n",
    "\n",
    "1. Card, Sign: Suggestive of items used for creating personalized gift cards or signs for special occasions.\n",
    "\n",
    "1. Pack, Set: Indicators of items available in packs or sets, common in gift wrapping materials.\n",
    "\n",
    "1. Drawer_Knob: While less common, decorative drawer knobs could be used in the context of gift packaging or decorative boxes.\n",
    "\n",
    "1. Pantry: May suggest items like decorative labels or tags used in gift presentation.\n",
    "\n",
    "Predicted category: **Retro-inspired Kitchen or Home Decor Gifts**\n",
    "\n",
    "<u>*Topic 7*:</u>\n",
    "\n",
    "1. Pink, Blue: Colors commonly associated with home decor and floral arrangements.\n",
    "\n",
    "1. Flower, Rose: Direct references to floral elements, indicating a focus on botanical or floral-themed items.\n",
    "\n",
    "1. Box, Cushion Cover: Suggestive of home decor items, such as decorative boxes or cushion covers with floral designs.\n",
    "\n",
    "1. Rise, Table: Implies items that could be used for tabletop decor, such as flower arrangements or art pieces.\n",
    "\n",
    "1. Classic: Suggests a timeless and sophisticated style, often associated with artistic and decorative elements in home decor.\n",
    "\n",
    "1. Home: Indicates items designed for home use or decoration.\n",
    "\n",
    "1. Paper: Could be related to art prints, floral-themed paper products, or decorative paper used in home decor.\n",
    "\n",
    "1. MEDIUM WHITE/PINK ROSE ART FLOWER: The most representative sentence aligns with the theme, describing a medium-sized artistic floral arrangement in white and pink.\n",
    "\n",
    "Predicted category: **Home Decor and Artistic Floral Arrangements**\n"
   ]
  },
  {
   "cell_type": "code",
   "execution_count": 748,
   "metadata": {},
   "outputs": [],
   "source": [
    "# Now that we have our categories, let's map them to our descriptions.\n",
    "categories = {\n",
    "    0: \"Home Decor/Accessories\",\n",
    "    1: \"Vintage Home Decor/Accessories\",\n",
    "    2: \"Artistic/Decorative Craft Supplies\",\n",
    "    3: \"Decorative/Themed Candle Set\",\n",
    "    4: \"Assorted Party/Decorative Items\",\n",
    "    5: \"Artistic Home Decor/Accessories\",\n",
    "    6: \"Retro-inspired Kitchen or Home Decor Gifts\",\n",
    "    7: \"Home Decor/Artistic Floral Arrangements\",\n",
    "}\n",
    "\n",
    "# Get the document-topic distribution\n",
    "all_topics = optimal_model.get_document_topics(corpus, minimum_probability=0.0)\n",
    "\n",
    "# Convert the distribution to a DataFrame\n",
    "all_topics_csr = gensim.matutils.corpus2csc(all_topics)\n",
    "all_topics_numpy = all_topics_csr.T.toarray()\n",
    "all_topics_df = pd.DataFrame(all_topics_numpy)\n",
    "\n",
    "\n",
    "# Display the DataFrame\n",
    "all_topics_df[\"descriptions\"] = unique_docs\n",
    "\n",
    "# Create a new column with the maximum value and the corresponding column name\n",
    "all_topics_df[\"topic\"] = all_topics_df.iloc[:, :-1].apply(\n",
    "    lambda row: row.idxmax(), axis=1\n",
    ")\n",
    "all_topics_df[\"topic\"] = all_topics_df[\"topic\"].map(categories)\n",
    "\n",
    "# Create a dictioanry to map 'descriptions' to keys and 'topic' to values\n",
    "topic_to_description = all_topics_df.set_index(\"descriptions\")[\"topic\"].to_dict()"
   ]
  },
  {
   "cell_type": "code",
   "execution_count": 749,
   "metadata": {},
   "outputs": [
    {
     "data": {
      "text/html": [
       "<div>\n",
       "<style scoped>\n",
       "    .dataframe tbody tr th:only-of-type {\n",
       "        vertical-align: middle;\n",
       "    }\n",
       "\n",
       "    .dataframe tbody tr th {\n",
       "        vertical-align: top;\n",
       "    }\n",
       "\n",
       "    .dataframe thead th {\n",
       "        text-align: right;\n",
       "    }\n",
       "</style>\n",
       "<table border=\"1\" class=\"dataframe\">\n",
       "  <thead>\n",
       "    <tr style=\"text-align: right;\">\n",
       "      <th></th>\n",
       "      <th>0</th>\n",
       "      <th>1</th>\n",
       "      <th>2</th>\n",
       "      <th>3</th>\n",
       "      <th>4</th>\n",
       "      <th>5</th>\n",
       "      <th>6</th>\n",
       "      <th>7</th>\n",
       "      <th>descriptions</th>\n",
       "      <th>topic</th>\n",
       "    </tr>\n",
       "  </thead>\n",
       "  <tbody>\n",
       "    <tr>\n",
       "      <th>0</th>\n",
       "      <td>0.041697</td>\n",
       "      <td>0.041690</td>\n",
       "      <td>0.041669</td>\n",
       "      <td>0.041840</td>\n",
       "      <td>0.041858</td>\n",
       "      <td>0.707855</td>\n",
       "      <td>0.041673</td>\n",
       "      <td>0.041719</td>\n",
       "      <td>15CM CHRISTMAS GLASS BALL 20 LIGHTS</td>\n",
       "      <td>Artistic Home Decor/Accessories</td>\n",
       "    </tr>\n",
       "    <tr>\n",
       "      <th>1</th>\n",
       "      <td>0.041694</td>\n",
       "      <td>0.041676</td>\n",
       "      <td>0.491706</td>\n",
       "      <td>0.041680</td>\n",
       "      <td>0.041671</td>\n",
       "      <td>0.258154</td>\n",
       "      <td>0.041714</td>\n",
       "      <td>0.041705</td>\n",
       "      <td>PINK CHERRY LIGHTS</td>\n",
       "      <td>Artistic/Decorative Craft Supplies</td>\n",
       "    </tr>\n",
       "    <tr>\n",
       "      <th>2</th>\n",
       "      <td>0.292115</td>\n",
       "      <td>0.041686</td>\n",
       "      <td>0.457779</td>\n",
       "      <td>0.041722</td>\n",
       "      <td>0.041671</td>\n",
       "      <td>0.041676</td>\n",
       "      <td>0.041672</td>\n",
       "      <td>0.041680</td>\n",
       "      <td>WHITE CHERRY LIGHTS</td>\n",
       "      <td>Artistic/Decorative Craft Supplies</td>\n",
       "    </tr>\n",
       "    <tr>\n",
       "      <th>3</th>\n",
       "      <td>0.041672</td>\n",
       "      <td>0.041828</td>\n",
       "      <td>0.041672</td>\n",
       "      <td>0.041672</td>\n",
       "      <td>0.708139</td>\n",
       "      <td>0.041672</td>\n",
       "      <td>0.041672</td>\n",
       "      <td>0.041672</td>\n",
       "      <td>RECORD FRAME 7\" SINGLE SIZE</td>\n",
       "      <td>Assorted Party/Decorative Items</td>\n",
       "    </tr>\n",
       "    <tr>\n",
       "      <th>4</th>\n",
       "      <td>0.125000</td>\n",
       "      <td>0.125000</td>\n",
       "      <td>0.125000</td>\n",
       "      <td>0.125000</td>\n",
       "      <td>0.125000</td>\n",
       "      <td>0.125000</td>\n",
       "      <td>0.125000</td>\n",
       "      <td>0.125000</td>\n",
       "      <td>STRAWBERRY CERAMIC TRINKET BOX</td>\n",
       "      <td>Home Decor/Accessories</td>\n",
       "    </tr>\n",
       "  </tbody>\n",
       "</table>\n",
       "</div>"
      ],
      "text/plain": [
       "          0         1         2         3         4         5         6  \\\n",
       "0  0.041697  0.041690  0.041669  0.041840  0.041858  0.707855  0.041673   \n",
       "1  0.041694  0.041676  0.491706  0.041680  0.041671  0.258154  0.041714   \n",
       "2  0.292115  0.041686  0.457779  0.041722  0.041671  0.041676  0.041672   \n",
       "3  0.041672  0.041828  0.041672  0.041672  0.708139  0.041672  0.041672   \n",
       "4  0.125000  0.125000  0.125000  0.125000  0.125000  0.125000  0.125000   \n",
       "\n",
       "          7                         descriptions  \\\n",
       "0  0.041719  15CM CHRISTMAS GLASS BALL 20 LIGHTS   \n",
       "1  0.041705                   PINK CHERRY LIGHTS   \n",
       "2  0.041680                  WHITE CHERRY LIGHTS   \n",
       "3  0.041672         RECORD FRAME 7\" SINGLE SIZE    \n",
       "4  0.125000       STRAWBERRY CERAMIC TRINKET BOX   \n",
       "\n",
       "                                topic  \n",
       "0     Artistic Home Decor/Accessories  \n",
       "1  Artistic/Decorative Craft Supplies  \n",
       "2  Artistic/Decorative Craft Supplies  \n",
       "3     Assorted Party/Decorative Items  \n",
       "4              Home Decor/Accessories  "
      ]
     },
     "execution_count": 749,
     "metadata": {},
     "output_type": "execute_result"
    }
   ],
   "source": [
    "all_topics_df.head()"
   ]
  },
  {
   "cell_type": "code",
   "execution_count": 750,
   "metadata": {},
   "outputs": [],
   "source": [
    "# Map the topics to descriptions in the main dataframe\n",
    "retail_data[\"topic\"] = retail_data[\"description\"].map(topic_to_description)"
   ]
  },
  {
   "cell_type": "code",
   "execution_count": 751,
   "metadata": {},
   "outputs": [
    {
     "data": {
      "text/html": [
       "<div>\n",
       "<style scoped>\n",
       "    .dataframe tbody tr th:only-of-type {\n",
       "        vertical-align: middle;\n",
       "    }\n",
       "\n",
       "    .dataframe tbody tr th {\n",
       "        vertical-align: top;\n",
       "    }\n",
       "\n",
       "    .dataframe thead th {\n",
       "        text-align: right;\n",
       "    }\n",
       "</style>\n",
       "<table border=\"1\" class=\"dataframe\">\n",
       "  <thead>\n",
       "    <tr style=\"text-align: right;\">\n",
       "      <th></th>\n",
       "      <th>invoice</th>\n",
       "      <th>stock_code</th>\n",
       "      <th>description</th>\n",
       "      <th>quantity</th>\n",
       "      <th>invoice_date</th>\n",
       "      <th>price</th>\n",
       "      <th>customer_id</th>\n",
       "      <th>country</th>\n",
       "      <th>canceled</th>\n",
       "      <th>revenue</th>\n",
       "      <th>log_price</th>\n",
       "      <th>log_quantity</th>\n",
       "      <th>log_revenue</th>\n",
       "      <th>month</th>\n",
       "      <th>topic</th>\n",
       "    </tr>\n",
       "  </thead>\n",
       "  <tbody>\n",
       "    <tr>\n",
       "      <th>0</th>\n",
       "      <td>489434</td>\n",
       "      <td>85048</td>\n",
       "      <td>15CM CHRISTMAS GLASS BALL 20 LIGHTS</td>\n",
       "      <td>high_quantity</td>\n",
       "      <td>2009-12-01 07:45:00</td>\n",
       "      <td>high_price</td>\n",
       "      <td>13085.0</td>\n",
       "      <td>United Kingdom</td>\n",
       "      <td>not_canceled</td>\n",
       "      <td>83.4</td>\n",
       "      <td>2.073172</td>\n",
       "      <td>2.564949</td>\n",
       "      <td>4.435567</td>\n",
       "      <td>December</td>\n",
       "      <td>Artistic Home Decor/Accessories</td>\n",
       "    </tr>\n",
       "    <tr>\n",
       "      <th>1</th>\n",
       "      <td>489434</td>\n",
       "      <td>79323P</td>\n",
       "      <td>PINK CHERRY LIGHTS</td>\n",
       "      <td>high_quantity</td>\n",
       "      <td>2009-12-01 07:45:00</td>\n",
       "      <td>high_price</td>\n",
       "      <td>13085.0</td>\n",
       "      <td>United Kingdom</td>\n",
       "      <td>not_canceled</td>\n",
       "      <td>81.0</td>\n",
       "      <td>2.047693</td>\n",
       "      <td>2.564949</td>\n",
       "      <td>4.406719</td>\n",
       "      <td>December</td>\n",
       "      <td>Artistic/Decorative Craft Supplies</td>\n",
       "    </tr>\n",
       "    <tr>\n",
       "      <th>2</th>\n",
       "      <td>489434</td>\n",
       "      <td>79323W</td>\n",
       "      <td>WHITE CHERRY LIGHTS</td>\n",
       "      <td>high_quantity</td>\n",
       "      <td>2009-12-01 07:45:00</td>\n",
       "      <td>high_price</td>\n",
       "      <td>13085.0</td>\n",
       "      <td>United Kingdom</td>\n",
       "      <td>not_canceled</td>\n",
       "      <td>81.0</td>\n",
       "      <td>2.047693</td>\n",
       "      <td>2.564949</td>\n",
       "      <td>4.406719</td>\n",
       "      <td>December</td>\n",
       "      <td>Artistic/Decorative Craft Supplies</td>\n",
       "    </tr>\n",
       "    <tr>\n",
       "      <th>3</th>\n",
       "      <td>489434</td>\n",
       "      <td>22041</td>\n",
       "      <td>RECORD FRAME 7\" SINGLE SIZE</td>\n",
       "      <td>high_quantity</td>\n",
       "      <td>2009-12-01 07:45:00</td>\n",
       "      <td>medium_price</td>\n",
       "      <td>13085.0</td>\n",
       "      <td>United Kingdom</td>\n",
       "      <td>not_canceled</td>\n",
       "      <td>100.8</td>\n",
       "      <td>1.131402</td>\n",
       "      <td>3.891820</td>\n",
       "      <td>4.623010</td>\n",
       "      <td>December</td>\n",
       "      <td>Assorted Party/Decorative Items</td>\n",
       "    </tr>\n",
       "    <tr>\n",
       "      <th>4</th>\n",
       "      <td>489434</td>\n",
       "      <td>21232</td>\n",
       "      <td>STRAWBERRY CERAMIC TRINKET BOX</td>\n",
       "      <td>high_quantity</td>\n",
       "      <td>2009-12-01 07:45:00</td>\n",
       "      <td>low_price</td>\n",
       "      <td>13085.0</td>\n",
       "      <td>United Kingdom</td>\n",
       "      <td>not_canceled</td>\n",
       "      <td>30.0</td>\n",
       "      <td>0.810930</td>\n",
       "      <td>3.218876</td>\n",
       "      <td>3.433987</td>\n",
       "      <td>December</td>\n",
       "      <td>Home Decor/Accessories</td>\n",
       "    </tr>\n",
       "  </tbody>\n",
       "</table>\n",
       "</div>"
      ],
      "text/plain": [
       "  invoice stock_code                          description       quantity  \\\n",
       "0  489434      85048  15CM CHRISTMAS GLASS BALL 20 LIGHTS  high_quantity   \n",
       "1  489434     79323P                   PINK CHERRY LIGHTS  high_quantity   \n",
       "2  489434     79323W                  WHITE CHERRY LIGHTS  high_quantity   \n",
       "3  489434      22041         RECORD FRAME 7\" SINGLE SIZE   high_quantity   \n",
       "4  489434      21232       STRAWBERRY CERAMIC TRINKET BOX  high_quantity   \n",
       "\n",
       "         invoice_date         price customer_id         country      canceled  \\\n",
       "0 2009-12-01 07:45:00    high_price     13085.0  United Kingdom  not_canceled   \n",
       "1 2009-12-01 07:45:00    high_price     13085.0  United Kingdom  not_canceled   \n",
       "2 2009-12-01 07:45:00    high_price     13085.0  United Kingdom  not_canceled   \n",
       "3 2009-12-01 07:45:00  medium_price     13085.0  United Kingdom  not_canceled   \n",
       "4 2009-12-01 07:45:00     low_price     13085.0  United Kingdom  not_canceled   \n",
       "\n",
       "   revenue  log_price  log_quantity  log_revenue     month  \\\n",
       "0     83.4   2.073172      2.564949     4.435567  December   \n",
       "1     81.0   2.047693      2.564949     4.406719  December   \n",
       "2     81.0   2.047693      2.564949     4.406719  December   \n",
       "3    100.8   1.131402      3.891820     4.623010  December   \n",
       "4     30.0   0.810930      3.218876     3.433987  December   \n",
       "\n",
       "                                topic  \n",
       "0     Artistic Home Decor/Accessories  \n",
       "1  Artistic/Decorative Craft Supplies  \n",
       "2  Artistic/Decorative Craft Supplies  \n",
       "3     Assorted Party/Decorative Items  \n",
       "4              Home Decor/Accessories  "
      ]
     },
     "execution_count": 751,
     "metadata": {},
     "output_type": "execute_result"
    }
   ],
   "source": [
    "retail_data.head()"
   ]
  },
  {
   "cell_type": "code",
   "execution_count": 752,
   "metadata": {},
   "outputs": [
    {
     "data": {
      "text/plain": [
       "0"
      ]
     },
     "execution_count": 752,
     "metadata": {},
     "output_type": "execute_result"
    }
   ],
   "source": [
    "# Make sure there are no null values for topic\n",
    "retail_data[\"topic\"].isna().sum()"
   ]
  },
  {
   "cell_type": "markdown",
   "metadata": {},
   "source": [
    "Because we have no na values for the `topic` column, this means we have successfully mapped all topics to our descriptions for our entire retail dataset."
   ]
  },
  {
   "cell_type": "markdown",
   "metadata": {},
   "source": [
    "## Exploratory Data Analysis (EDA)\n",
    "---\n"
   ]
  },
  {
   "cell_type": "markdown",
   "metadata": {},
   "source": [
    "To begin EDA, I am going to perform a univartiate analysis on variables that might give me more information on specific demographics. "
   ]
  },
  {
   "cell_type": "markdown",
   "metadata": {},
   "source": [
    "### Analyzing Country Distribution at the Store Level"
   ]
  },
  {
   "cell_type": "code",
   "execution_count": 753,
   "metadata": {},
   "outputs": [
    {
     "name": "stdout",
     "output_type": "stream",
     "text": [
      "country\n",
      "United Kingdom    5411\n",
      "Other              534\n",
      "Name: customer_id, dtype: int64\n"
     ]
    }
   ],
   "source": [
    "# Create category counts and make sure that this is the number of unique customers\n",
    "# per country not just the number of orders\n",
    "unique_country_counts = (\n",
    "    retail_data.groupby(\"country\")[\"customer_id\"].nunique().sort_values(ascending=False)\n",
    ")\n",
    "print(unique_country_counts)"
   ]
  },
  {
   "cell_type": "markdown",
   "metadata": {},
   "source": [
    "When looking at the unique category counts for country, we can immediately see that the overwhelming majority country is the United Kingdom, followed by Germany, France, Spain, and then everything else. Any way we choose to visualize this, it will look very messy (overlap of labels and metrics). To mitigate this problem, I will create a donut chart with a threshold that classifies anything country with less than 41 users as 'Other'. This also tells us that between 2009-2011, 5970 retail stores/whole salers/resellers accrue over 1 million transactions. "
   ]
  },
  {
   "cell_type": "code",
   "execution_count": 754,
   "metadata": {},
   "outputs": [
    {
     "data": {
      "image/png": "[encoded data removed]",
      "text/plain": [
       "<Figure size 640x480 with 1 Axes>"
      ]
     },
     "metadata": {},
     "output_type": "display_data"
    }
   ],
   "source": [
    "# Plot donut chart for countries distribution\n",
    "plot_donut_chart(\n",
    "    unique_country_counts,\n",
    "    title=\"Donut Chart of Customer Base by Country\",\n",
    "    legend=\"country\",\n",
    ")"
   ]
  },
  {
   "cell_type": "markdown",
   "metadata": {},
   "source": [
    "The U.K. sweeps all other countries with a majority percenteage of 91.0%. The second largest customer base is Other at 9.0% accounting for 40 different countries."
   ]
  },
  {
   "cell_type": "markdown",
   "metadata": {},
   "source": [
    "### Analyzing the Frequency of Transactions per month.\n"
   ]
  },
  {
   "cell_type": "code",
   "execution_count": 759,
   "metadata": {},
   "outputs": [
    {
     "name": "stdout",
     "output_type": "stream",
     "text": [
      "month\n",
      "November     159540\n",
      "October      117957\n",
      "December     111582\n",
      "September     91234\n",
      "March         77007\n",
      "June          75812\n",
      "July          72019\n",
      "May           71076\n",
      "August        67762\n",
      "January       65798\n",
      "April         63012\n",
      "February      55962\n",
      "Name: count, dtype: int64\n"
     ]
    }
   ],
   "source": [
    "# Count the number of orders for each month\n",
    "#unique_month_counts =  retail_data.groupby(\"month\")[\"customer_id\"].nunique().sort_values(ascending=False)\n",
    "month_counts = retail_data[\"month\"].value_counts()\n",
    "print(month_counts)"
   ]
  },
  {
   "cell_type": "code",
   "execution_count": 760,
   "metadata": {},
   "outputs": [
    {
     "data": {
      "image/png": "[encoded data removed]",
      "text/plain": [
       "<Figure size 640x480 with 1 Axes>"
      ]
     },
     "metadata": {},
     "output_type": "display_data"
    }
   ],
   "source": [
    "# Plot donut chart illustrating transaction distribution by month\n",
    "plot_donut_chart(\n",
    "    month_counts,\n",
    "    title=\"Donut Chart of Transactions by Month\",\n",
    "    legend=\"month\",\n",
    "    threshold=41,\n",
    ")"
   ]
  },
  {
   "cell_type": "markdown",
   "metadata": {},
   "source": [
    "According to out dataset, the highest volume of transactions occurs in the months November, and December. I think this makes sense because the U.K.-based store we are analyzing sells gifts and the majority of gift giving holidays occur at the end of the year."
   ]
  },
  {
   "cell_type": "markdown",
   "metadata": {},
   "source": [
    "### Analyzing the Distribution of Topics"
   ]
  },
  {
   "cell_type": "code",
   "execution_count": 207,
   "metadata": {},
   "outputs": [
    {
     "name": "stdout",
     "output_type": "stream",
     "text": [
      "topic\n",
      "Home Decor/Accessories                        179636\n",
      "Artistic Home Decor/Accessories               133598\n",
      "Home Decor/Artistic Floral Arrangements       131592\n",
      "Assorted Party/Decorative Items               123345\n",
      "Decorative/Themed Candle Set                  116994\n",
      "Vintage Home Decor/Accessories                112589\n",
      "Artistic/Decorative Craft Supplies            111270\n",
      "Retro-inspired Kitchen or Home Decor Gifts     99868\n",
      "Name: count, dtype: int64\n"
     ]
    }
   ],
   "source": [
    "# Count number of orders for each topic\n",
    "topic_counts = retail_data[\"topic\"].value_counts()\n",
    "print(topic_counts)"
   ]
  },
  {
   "cell_type": "code",
   "execution_count": 208,
   "metadata": {},
   "outputs": [
    {
     "data": {
      "image/png": "[encoded data removed]",
      "text/plain": [
       "<Figure size 640x480 with 1 Axes>"
      ]
     },
     "metadata": {},
     "output_type": "display_data"
    }
   ],
   "source": [
    "# Plot donut chart analyzing how often each topic category was purchased\n",
    "plot_donut_chart(\n",
    "    topic_counts, title=\"Donut Chart of Transactions by Topic\", legend=\"topic\"\n",
    ")"
   ]
  },
  {
   "cell_type": "markdown",
   "metadata": {},
   "source": [
    "This donut chart shows us that the most commonly purchasesd item categories from the U.K. store are 'Home Decor/Accessories', 'Decorative/Themed Candle Set', and 'Vintage Home Decor/Accessories'. These are all home related items and probably tangentially related in terms of our LDA topic model."
   ]
  },
  {
   "cell_type": "markdown",
   "metadata": {},
   "source": [
    "### Analyzing Diustribution of Quantities Purchased "
   ]
  },
  {
   "cell_type": "code",
   "execution_count": 209,
   "metadata": {},
   "outputs": [
    {
     "name": "stdout",
     "output_type": "stream",
     "text": [
      "quantity\n",
      "low_quantity       503355\n",
      "medium_quantity    371088\n",
      "high_quantity      134449\n",
      "Name: count, dtype: int64\n"
     ]
    }
   ],
   "source": [
    "# Count number of orders for each quantity cateogry\n",
    "quantity_counts = retail_data[\"quantity\"].value_counts()\n",
    "print(quantity_counts)"
   ]
  },
  {
   "cell_type": "code",
   "execution_count": 210,
   "metadata": {},
   "outputs": [
    {
     "data": {
      "image/png": "[encoded data removed]",
      "text/plain": [
       "<Figure size 640x480 with 1 Axes>"
      ]
     },
     "metadata": {},
     "output_type": "display_data"
    }
   ],
   "source": [
    "# Plot donut chart analyzing the distriubtion of quantity categories we defined\n",
    "plot_donut_chart(\n",
    "    quantity_counts,\n",
    "    title=\"Donut Chart of Quantities Purchased\",\n",
    "    legend=\"quantity\",\n",
    ")"
   ]
  },
  {
   "cell_type": "markdown",
   "metadata": {},
   "source": [
    "This donut chart shows us that customers most commonly buy low quantities, medium quantities, and high quantities of gifts, in that order. To break down the proportions more analytically:\n",
    "\n",
    "- 49.9% of purchases were a low quantity (1-3) of items.\n",
    "- 36.8% of purchases were a medium quantity (3-12) of items.\n",
    "- 13.3% of purchases were a high quantity (12-80,996) of items.\n"
   ]
  },
  {
   "cell_type": "markdown",
   "metadata": {},
   "source": [
    "### Analyzing Diustribution of Prices sold"
   ]
  },
  {
   "cell_type": "code",
   "execution_count": 211,
   "metadata": {},
   "outputs": [
    {
     "name": "stdout",
     "output_type": "stream",
     "text": [
      "price\n",
      "very_low_price    304053\n",
      "high_price        251066\n",
      "low_price         227507\n",
      "medium_price      226266\n",
      "Name: count, dtype: int64\n"
     ]
    }
   ],
   "source": [
    "# Count number of orders for each price cateogry\n",
    "price_counts = retail_data[\"price\"].value_counts()\n",
    "print(price_counts)"
   ]
  },
  {
   "cell_type": "code",
   "execution_count": 212,
   "metadata": {},
   "outputs": [
    {
     "data": {
      "image/png": "[encoded data removed]",
      "text/plain": [
       "<Figure size 640x480 with 1 Axes>"
      ]
     },
     "metadata": {},
     "output_type": "display_data"
    }
   ],
   "source": [
    "# Plot donut chart analyzing the distriubtion of price categories we defined\n",
    "plot_donut_chart(\n",
    "    price_counts,\n",
    "    title=\"Donut Chart of Prices Purchased\",\n",
    "    legend=\"price\",\n",
    ")"
   ]
  },
  {
   "cell_type": "markdown",
   "metadata": {},
   "source": [
    "Here, this donut chart illustrates that customers most commonly tend to buy very low price items, low price items, high price items, low price items, and medium price items, in that order. To break down these categories analytically:\n",
    "\n",
    "- 30.1% of the purchases were very low priced (0£-1.25£) items.\n",
    "- 24.9% of the purchases were high priced (4.13£-25111.90£) items.\n",
    "- 22.6% of the purchases were low priced (1.25£-2.10£) items.\n",
    "- 22.4% of the purchases were medium priced (2.10£-4.13£) items."
   ]
  },
  {
   "cell_type": "markdown",
   "metadata": {},
   "source": [
    "## Customer Segmentation using K-Modes Clustering\n",
    "---"
   ]
  },
  {
   "cell_type": "markdown",
   "metadata": {},
   "source": [
    "While the traditional K-Means clustring algorithm does a great job with continuous numeric data, it does not work well for variable data which is the format I would like to use. I think it will be easier to intuitively categorize customer clusters by combinations of categories (i.e. 'medium price, high quantity, U.K., and 'Home Decor/Accessores'). Fortunately, there is an approach well-tailored for this task called \"K-Modes clustering\".\n",
    "\n",
    "K-Modes (proposed by Huang, Z in 1997) uses a measure of dissimilarity for categorical objects and iterates over clusters, choosing new modes each time with the aim of minimizing the measure of dissimilarity. Just like any other clustering approach, I need to decide when to stop with segmenting the data into clusters, choosing an optimal number of clusters. The best way to do this is by evaluating an Elbow Plot."
   ]
  },
  {
   "cell_type": "code",
   "execution_count": 213,
   "metadata": {},
   "outputs": [],
   "source": [
    "# Create a relevant subset of retail_data that you want to cluster on\n",
    "cluster_input = retail_data[[\"quantity\", \"price\", \"country\", \"month\", \"topic\"]]"
   ]
  },
  {
   "cell_type": "code",
   "execution_count": 214,
   "metadata": {},
   "outputs": [
    {
     "data": {
      "text/html": [
       "<div>\n",
       "<style scoped>\n",
       "    .dataframe tbody tr th:only-of-type {\n",
       "        vertical-align: middle;\n",
       "    }\n",
       "\n",
       "    .dataframe tbody tr th {\n",
       "        vertical-align: top;\n",
       "    }\n",
       "\n",
       "    .dataframe thead th {\n",
       "        text-align: right;\n",
       "    }\n",
       "</style>\n",
       "<table border=\"1\" class=\"dataframe\">\n",
       "  <thead>\n",
       "    <tr style=\"text-align: right;\">\n",
       "      <th></th>\n",
       "      <th>quantity</th>\n",
       "      <th>price</th>\n",
       "      <th>country</th>\n",
       "      <th>month</th>\n",
       "      <th>topic</th>\n",
       "    </tr>\n",
       "  </thead>\n",
       "  <tbody>\n",
       "    <tr>\n",
       "      <th>0</th>\n",
       "      <td>medium_quantity</td>\n",
       "      <td>high_price</td>\n",
       "      <td>United Kingdom</td>\n",
       "      <td>December</td>\n",
       "      <td>Decorative/Themed Candle Set</td>\n",
       "    </tr>\n",
       "    <tr>\n",
       "      <th>1</th>\n",
       "      <td>medium_quantity</td>\n",
       "      <td>high_price</td>\n",
       "      <td>United Kingdom</td>\n",
       "      <td>December</td>\n",
       "      <td>Retro-inspired Kitchen or Home Decor Gifts</td>\n",
       "    </tr>\n",
       "    <tr>\n",
       "      <th>2</th>\n",
       "      <td>medium_quantity</td>\n",
       "      <td>high_price</td>\n",
       "      <td>United Kingdom</td>\n",
       "      <td>December</td>\n",
       "      <td>Home Decor/Accessories</td>\n",
       "    </tr>\n",
       "    <tr>\n",
       "      <th>3</th>\n",
       "      <td>high_quantity</td>\n",
       "      <td>low_price</td>\n",
       "      <td>United Kingdom</td>\n",
       "      <td>December</td>\n",
       "      <td>Home Decor/Artistic Floral Arrangements</td>\n",
       "    </tr>\n",
       "    <tr>\n",
       "      <th>4</th>\n",
       "      <td>high_quantity</td>\n",
       "      <td>very_low_price</td>\n",
       "      <td>United Kingdom</td>\n",
       "      <td>December</td>\n",
       "      <td>Home Decor/Accessories</td>\n",
       "    </tr>\n",
       "  </tbody>\n",
       "</table>\n",
       "</div>"
      ],
      "text/plain": [
       "          quantity           price         country     month  \\\n",
       "0  medium_quantity      high_price  United Kingdom  December   \n",
       "1  medium_quantity      high_price  United Kingdom  December   \n",
       "2  medium_quantity      high_price  United Kingdom  December   \n",
       "3    high_quantity       low_price  United Kingdom  December   \n",
       "4    high_quantity  very_low_price  United Kingdom  December   \n",
       "\n",
       "                                        topic  \n",
       "0                Decorative/Themed Candle Set  \n",
       "1  Retro-inspired Kitchen or Home Decor Gifts  \n",
       "2                      Home Decor/Accessories  \n",
       "3     Home Decor/Artistic Floral Arrangements  \n",
       "4                      Home Decor/Accessories  "
      ]
     },
     "execution_count": 214,
     "metadata": {},
     "output_type": "execute_result"
    }
   ],
   "source": [
    "cluster_input.head()"
   ]
  },
  {
   "cell_type": "code",
   "execution_count": 215,
   "metadata": {},
   "outputs": [
    {
     "name": "stdout",
     "output_type": "stream",
     "text": [
      "KModes started at 2023-10-19 11:51:05.332207\n",
      "Initialization method and algorithm are deterministic. Setting n_init to 1.\n"
     ]
    },
    {
     "name": "stdout",
     "output_type": "stream",
     "text": [
      "Init: initializing centroids\n",
      "Init: initializing clusters\n",
      "Starting iterations...\n",
      "Run 1, iteration: 1/100, moves: 0, cost: 2973293.0\n",
      "Initialization method and algorithm are deterministic. Setting n_init to 1.\n",
      "Init: initializing centroids\n",
      "Init: initializing clusters\n",
      "Starting iterations...\n",
      "Run 1, iteration: 1/100, moves: 98411, cost: 2557809.0\n",
      "Initialization method and algorithm are deterministic. Setting n_init to 1.\n",
      "Init: initializing centroids\n",
      "Init: initializing clusters\n",
      "Starting iterations...\n",
      "Run 1, iteration: 1/100, moves: 0, cost: 2494774.0\n",
      "Initialization method and algorithm are deterministic. Setting n_init to 1.\n",
      "Init: initializing centroids\n",
      "Init: initializing clusters\n",
      "Starting iterations...\n",
      "Run 1, iteration: 1/100, moves: 0, cost: 2306008.0\n",
      "Initialization method and algorithm are deterministic. Setting n_init to 1.\n",
      "Init: initializing centroids\n",
      "Init: initializing clusters\n",
      "Starting iterations...\n",
      "Run 1, iteration: 1/100, moves: 0, cost: 2197525.0\n",
      "Initialization method and algorithm are deterministic. Setting n_init to 1.\n",
      "Init: initializing centroids\n",
      "Init: initializing clusters\n",
      "Starting iterations...\n",
      "Run 1, iteration: 1/100, moves: 0, cost: 2130731.0\n",
      "Initialization method and algorithm are deterministic. Setting n_init to 1.\n",
      "Init: initializing centroids\n",
      "Init: initializing clusters\n",
      "Starting iterations...\n",
      "Run 1, iteration: 1/100, moves: 0, cost: 2014413.0\n",
      "Initialization method and algorithm are deterministic. Setting n_init to 1.\n",
      "Init: initializing centroids\n",
      "Init: initializing clusters\n",
      "Starting iterations...\n",
      "Run 1, iteration: 1/100, moves: 0, cost: 1922183.0\n",
      "Initialization method and algorithm are deterministic. Setting n_init to 1.\n",
      "Init: initializing centroids\n",
      "Init: initializing clusters\n",
      "Starting iterations...\n",
      "Run 1, iteration: 1/100, moves: 0, cost: 1858093.0\n",
      "Completed at 2023-10-19 11:57:41.588838\n"
     ]
    },
    {
     "data": {
      "image/png": "[encoded data removed]",
      "text/plain": [
       "<Figure size 640x480 with 1 Axes>"
      ]
     },
     "metadata": {},
     "output_type": "display_data"
    }
   ],
   "source": [
    "print(f\"KModes started at {pd.Timestamp.now()}\")\n",
    "\n",
    "# Use an elbow curve to find the optimal k\n",
    "cost = []\n",
    "k = range(1, 10)\n",
    "for num_clusters in list(k):\n",
    "    kmode = KModes(n_clusters=num_clusters, n_init=5, verbose=1, random_state=42)\n",
    "    kmode.fit_predict(cluster_input)\n",
    "    cost.append(kmode.cost_)\n",
    "\n",
    "print(f\"Completed at {pd.Timestamp.now()}\")\n",
    "\n",
    "plt.plot(k, cost, \"bx--\")\n",
    "plt.xlabel(\"No. of clusters\")\n",
    "plt.ylabel(\"Cost\")\n",
    "plt.title(\"Elbow Method For Optimal k\")\n",
    "plt.show()"
   ]
  },
  {
   "cell_type": "markdown",
   "metadata": {},
   "source": [
    "The result of our Elbow Plot indicates that 4 clustrers is a good number to go with. The pace of the decline in the cost metric slows significantly after 4 clusters.  \n",
    "\n",
    "With 4 clusters decided, we will re-run the K-Modes clustering specifying 4 clusters."
   ]
  },
  {
   "cell_type": "code",
   "execution_count": 223,
   "metadata": {},
   "outputs": [
    {
     "name": "stdout",
     "output_type": "stream",
     "text": [
      "Initialization method and algorithm are deterministic. Setting n_init to 1.\n",
      "Init: initializing centroids\n",
      "Init: initializing clusters\n",
      "Starting iterations...\n",
      "Run 1, iteration: 1/100, moves: 0, cost: 2306008.0\n"
     ]
    }
   ],
   "source": [
    "# Fit optimal K-Modes model with 4 clusters\n",
    "kmode_opt = KModes(n_clusters=4, n_init=5, verbose=1, random_state=42)\n",
    "cluster_assignmnets = kmode_opt.fit_predict(cluster_input)"
   ]
  },
  {
   "cell_type": "code",
   "execution_count": 224,
   "metadata": {},
   "outputs": [],
   "source": [
    "# Add cluster assignments back to the original dataframe\n",
    "retail_data[\"cluster\"] = cluster_assignmnets"
   ]
  },
  {
   "cell_type": "code",
   "execution_count": 225,
   "metadata": {},
   "outputs": [
    {
     "data": {
      "text/html": [
       "<div>\n",
       "<style scoped>\n",
       "    .dataframe tbody tr th:only-of-type {\n",
       "        vertical-align: middle;\n",
       "    }\n",
       "\n",
       "    .dataframe tbody tr th {\n",
       "        vertical-align: top;\n",
       "    }\n",
       "\n",
       "    .dataframe thead th {\n",
       "        text-align: right;\n",
       "    }\n",
       "</style>\n",
       "<table border=\"1\" class=\"dataframe\">\n",
       "  <thead>\n",
       "    <tr style=\"text-align: right;\">\n",
       "      <th></th>\n",
       "      <th>invoice</th>\n",
       "      <th>stock_code</th>\n",
       "      <th>description</th>\n",
       "      <th>quantity</th>\n",
       "      <th>invoice_date</th>\n",
       "      <th>price</th>\n",
       "      <th>customer_id</th>\n",
       "      <th>country</th>\n",
       "      <th>revenue</th>\n",
       "      <th>month</th>\n",
       "      <th>topic</th>\n",
       "      <th>cluster</th>\n",
       "    </tr>\n",
       "  </thead>\n",
       "  <tbody>\n",
       "    <tr>\n",
       "      <th>0</th>\n",
       "      <td>489434</td>\n",
       "      <td>85048</td>\n",
       "      <td>15CM CHRISTMAS GLASS BALL 20 LIGHTS</td>\n",
       "      <td>medium_quantity</td>\n",
       "      <td>2009-12-01 07:45:00</td>\n",
       "      <td>high_price</td>\n",
       "      <td>13085.0</td>\n",
       "      <td>United Kingdom</td>\n",
       "      <td>83.4</td>\n",
       "      <td>December</td>\n",
       "      <td>Decorative/Themed Candle Set</td>\n",
       "      <td>1</td>\n",
       "    </tr>\n",
       "    <tr>\n",
       "      <th>1</th>\n",
       "      <td>489434</td>\n",
       "      <td>79323P</td>\n",
       "      <td>PINK CHERRY LIGHTS</td>\n",
       "      <td>medium_quantity</td>\n",
       "      <td>2009-12-01 07:45:00</td>\n",
       "      <td>high_price</td>\n",
       "      <td>13085.0</td>\n",
       "      <td>United Kingdom</td>\n",
       "      <td>81.0</td>\n",
       "      <td>December</td>\n",
       "      <td>Retro-inspired Kitchen or Home Decor Gifts</td>\n",
       "      <td>1</td>\n",
       "    </tr>\n",
       "    <tr>\n",
       "      <th>2</th>\n",
       "      <td>489434</td>\n",
       "      <td>79323W</td>\n",
       "      <td>WHITE CHERRY LIGHTS</td>\n",
       "      <td>medium_quantity</td>\n",
       "      <td>2009-12-01 07:45:00</td>\n",
       "      <td>high_price</td>\n",
       "      <td>13085.0</td>\n",
       "      <td>United Kingdom</td>\n",
       "      <td>81.0</td>\n",
       "      <td>December</td>\n",
       "      <td>Home Decor/Accessories</td>\n",
       "      <td>1</td>\n",
       "    </tr>\n",
       "    <tr>\n",
       "      <th>3</th>\n",
       "      <td>489434</td>\n",
       "      <td>22041</td>\n",
       "      <td>RECORD FRAME 7\" SINGLE SIZE</td>\n",
       "      <td>high_quantity</td>\n",
       "      <td>2009-12-01 07:45:00</td>\n",
       "      <td>low_price</td>\n",
       "      <td>13085.0</td>\n",
       "      <td>United Kingdom</td>\n",
       "      <td>100.8</td>\n",
       "      <td>December</td>\n",
       "      <td>Home Decor/Artistic Floral Arrangements</td>\n",
       "      <td>2</td>\n",
       "    </tr>\n",
       "    <tr>\n",
       "      <th>4</th>\n",
       "      <td>489434</td>\n",
       "      <td>21232</td>\n",
       "      <td>STRAWBERRY CERAMIC TRINKET BOX</td>\n",
       "      <td>high_quantity</td>\n",
       "      <td>2009-12-01 07:45:00</td>\n",
       "      <td>very_low_price</td>\n",
       "      <td>13085.0</td>\n",
       "      <td>United Kingdom</td>\n",
       "      <td>30.0</td>\n",
       "      <td>December</td>\n",
       "      <td>Home Decor/Accessories</td>\n",
       "      <td>0</td>\n",
       "    </tr>\n",
       "  </tbody>\n",
       "</table>\n",
       "</div>"
      ],
      "text/plain": [
       "  invoice stock_code                          description         quantity  \\\n",
       "0  489434      85048  15CM CHRISTMAS GLASS BALL 20 LIGHTS  medium_quantity   \n",
       "1  489434     79323P                   PINK CHERRY LIGHTS  medium_quantity   \n",
       "2  489434     79323W                  WHITE CHERRY LIGHTS  medium_quantity   \n",
       "3  489434      22041         RECORD FRAME 7\" SINGLE SIZE     high_quantity   \n",
       "4  489434      21232       STRAWBERRY CERAMIC TRINKET BOX    high_quantity   \n",
       "\n",
       "         invoice_date           price customer_id         country  revenue  \\\n",
       "0 2009-12-01 07:45:00      high_price     13085.0  United Kingdom     83.4   \n",
       "1 2009-12-01 07:45:00      high_price     13085.0  United Kingdom     81.0   \n",
       "2 2009-12-01 07:45:00      high_price     13085.0  United Kingdom     81.0   \n",
       "3 2009-12-01 07:45:00       low_price     13085.0  United Kingdom    100.8   \n",
       "4 2009-12-01 07:45:00  very_low_price     13085.0  United Kingdom     30.0   \n",
       "\n",
       "      month                                       topic  cluster  \n",
       "0  December                Decorative/Themed Candle Set        1  \n",
       "1  December  Retro-inspired Kitchen or Home Decor Gifts        1  \n",
       "2  December                      Home Decor/Accessories        1  \n",
       "3  December     Home Decor/Artistic Floral Arrangements        2  \n",
       "4  December                      Home Decor/Accessories        0  "
      ]
     },
     "execution_count": 225,
     "metadata": {},
     "output_type": "execute_result"
    }
   ],
   "source": [
    "retail_data.head()"
   ]
  },
  {
   "cell_type": "markdown",
   "metadata": {},
   "source": [
    "### Visualizing the Distribution of Our Clusters"
   ]
  },
  {
   "cell_type": "code",
   "execution_count": 226,
   "metadata": {},
   "outputs": [
    {
     "name": "stdout",
     "output_type": "stream",
     "text": [
      "cluster\n",
      "0    526103\n",
      "1    236042\n",
      "3    154137\n",
      "2     92610\n",
      "Name: count, dtype: int64\n"
     ]
    }
   ],
   "source": [
    "# Count the number of orders for each cluster\n",
    "cluster_counts = retail_data[\"cluster\"].value_counts()\n",
    "print(cluster_counts)"
   ]
  },
  {
   "cell_type": "code",
   "execution_count": 227,
   "metadata": {},
   "outputs": [
    {
     "data": {
      "image/png": "[encoded data removed]",
      "text/plain": [
       "<Figure size 640x480 with 1 Axes>"
      ]
     },
     "metadata": {},
     "output_type": "display_data"
    }
   ],
   "source": [
    "# Plot a donut chart visualizing the distribution of our 4 clusters\n",
    "plot_donut_chart(\n",
    "    cluster_counts,\n",
    "    title=\"Donut Chart of Customer Clusters\",\n",
    "    legend=\"cluster\",\n",
    ")"
   ]
  },
  {
   "cell_type": "code",
   "execution_count": 228,
   "metadata": {},
   "outputs": [
    {
     "data": {
      "text/plain": [
       "array([['low_quantity', 'very_low_price', 'United Kingdom', 'November',\n",
       "        'Home Decor/Accessories'],\n",
       "       ['medium_quantity', 'high_price', 'United Kingdom', 'October',\n",
       "        'Artistic Home Decor/Accessories'],\n",
       "       ['high_quantity', 'low_price', 'United Kingdom', 'December',\n",
       "        'Home Decor/Artistic Floral Arrangements'],\n",
       "       ['low_quantity', 'high_price', 'United Kingdom', 'December',\n",
       "        'Assorted Party/Decorative Items']], dtype='<U39')"
      ]
     },
     "execution_count": 228,
     "metadata": {},
     "output_type": "execute_result"
    }
   ],
   "source": [
    "kmode_opt.cluster_centroids_"
   ]
  },
  {
   "cell_type": "markdown",
   "metadata": {},
   "source": [
    "Of our four clusters, cluster 0 makes up the most of our transactions, followed by cluster 1, cluster 3, and cluster 2. Here is a more comprehensive breakdown of cluster demographics:\n",
    "\n",
    "- Cluster 1: These customers are from the United Kingdom and tend to make a \"low quantity\" (1-3 items) of purchases in November that are classified as \"very low price\" (0£-1.25£) in the \"Home Decor/Accessories\" category.\n",
    "\n",
    "- Cluster 2: These customers are from the United Kingdom and tend to make a \"medium quantity\" (3-12 items) of purchases in October that are classified as \"high price\" (4.13£-25111.90£) in the \"Artistic Home Decor/Accessories\" category.\n",
    "\n",
    "- Cluster 3: These customers are from the United Kingdom and tend to make a \"high quantity\" (12-80,996 items) of purchases in December classified as \"low price\" (1.25£-2.10£) in the \"Home Decor/Artistic Floral Arrangements\" category.\n",
    "\n",
    "- Cluster 4: These customers are from the United Kingdom and tend to make a \"low quantity\" (1-3 items) of purchases in December classified as \"high price\" (4.13£-25111.90£) in the \"Assorted Party/Decorative Items\" category.  \n",
    "\n",
    "General impressions: One of the first things I notice here is that all of our defined clusters only include United Kingdom customers. As we know from earlier the overwhelming majority of the customer base in our dataset is from the U.K. and any outside customer base is so nominal that our clusters do not count them as significant. This will make our time series forecasting later on more straightforward since we won't include the noise of international customers.\n",
    "\n"
   ]
  },
  {
   "cell_type": "markdown",
   "metadata": {},
   "source": [
    "## Using ARIMA/SARIMA  for Time Series Forecasting\n",
    "---"
   ]
  },
  {
   "cell_type": "markdown",
   "metadata": {},
   "source": [
    "For this problem, we use forecasting in an attempt to provide this U.K. company with business insights so it can plan procurement and production activities. We will use ARIMA (AutoRegressive Integrated Moving Average) and SARIMA (Seasonal ARIMA) to tackle this problem, making the fundamental assumption that the information in the past values of our time series can alone be used to predict the future values of revenue.  \n",
    "\n",
    "<u>ARIMA model</u>\n",
    "\n",
    "ARIMA is a popular time series forecasting model that combines autoregressive (AR) and moving average (MA) components with differencing to handle non-stationary data. There are three components:  \n",
    "\n",
    "1. **Autoregressive (AR)**: It models the linear relationship between the current observation and a number *p* of lagged observations. It captures the dependency of the current value on its past values.\n",
    "1. **Moving Average (MA)**: It models the dependency of the current observation on a number *q* of residual errors from previous observations. It captures the short-term shocks or random fluctuations in the data.\n",
    "1. **Integration (I)**: It accounts for the differencing required to make the time series stationary. Differencing involves subtracting the previous observation from the current observation to remove trends or seasonality. The order of differencing, denoted by *d*, represents the number of times differencing is applied to achieve stationarity.  \n",
    "\n",
    "By combining these three components (AR, I, MA), the ARIMA model is capable of capturing the linear dependencies and trends in time series data. The order of the ARIMA model is typically represented as (*p*, *d*, *q*) where *p* represents the order of the AR component, *d* represents the order of differencing, and *q* represents the order of the MA component.   \n",
    "\n",
    "<u>SARIMA model</u>  \n",
    "\n",
    "Since our data most likely has seasonal components, we will use SARIMA which incorporates seasonal components to handle time series data with recurring patterns at fixed intervals, such as daily, weekly, or yearly cycles. SARIMA includes additional seasoal AR, MA, and I components in addition to the ones included in ATIMA. The order of the SARIMA model is typically denoted as (*p*, *d*, *q*)(*P*, *D*, *Q*, *m*) where lowercase parameters refer to non-seasonal components and uppercase represent seasonal componenets.\n",
    "\n",
    "\n",
    "To get a general trend of seasonality's impact on revenue, we will look at a plot of average revenue vs. month."
   ]
  },
  {
   "cell_type": "code",
   "execution_count": 262,
   "metadata": {},
   "outputs": [
    {
     "name": "stderr",
     "output_type": "stream",
     "text": [
      "C:\\Users\\evans\\AppData\\Local\\Temp\\ipykernel_30108\\2440084345.py:6: FutureWarning: The default of observed=False is deprecated and will be changed to True in a future version of pandas. Pass observed=False to retain current behavior or observed=True to adopt the future default and silence this warning.\n",
      "  avg_monthly_rev = retail_data.sort_values('month').groupby('month')['revenue'].mean()\n"
     ]
    },
    {
     "data": {
      "image/png": "[encoded data removed]",
      "text/plain": [
       "<Figure size 1000x500 with 1 Axes>"
      ]
     },
     "metadata": {},
     "output_type": "display_data"
    }
   ],
   "source": [
    "# Convert 'month' to a categorical type with abbreviations with a custom ordering\n",
    "month_order = [\n",
    "    \"January\",\n",
    "    \"February\",\n",
    "    \"March\",\n",
    "    \"April\",\n",
    "    \"May\",\n",
    "    \"June\",\n",
    "    \"July\",\n",
    "    \"August\",\n",
    "    \"September\",\n",
    "    \"October\",\n",
    "    \"November\",\n",
    "    \"December\",\n",
    "]\n",
    "retail_data[\"month\"] = pd.Categorical(\n",
    "    retail_data[\"month\"], categories=month_order, ordered=True\n",
    ")\n",
    "\n",
    "# Sort the DataFrame based on the custom ordering of 'month'\n",
    "avg_monthly_rev = retail_data.sort_values(\"month\").groupby(\"month\")[\"revenue\"].mean()\n",
    "\n",
    "# Set the figure size to make it longer\n",
    "plt.figure(figsize=(10, 5))\n",
    "\n",
    "# Plot average revenue line\n",
    "plt.plot(\n",
    "    avg_monthly_rev.index,\n",
    "    avg_monthly_rev.values,\n",
    "    marker=\"o\",\n",
    "    label=\"Average Monthly Revenue (£)\",\n",
    ")\n",
    "\n",
    "# Months to highlight\n",
    "highlight_months = [\"July\", \"September\", \"November\", \"December\"]\n",
    "\n",
    "# Draw vertical lines for selected months\n",
    "for month in highlight_months:\n",
    "    month_index = month_order.index(month)\n",
    "    x_value = avg_monthly_rev.index[month_index]\n",
    "    y_value = avg_monthly_rev.values[month_index]\n",
    "    plt.vlines(x=x_value, ymin=18, ymax=y_value, linestyles=\"dotted\", colors=\"red\")\n",
    "\n",
    "# Shade the regions between vertical lines\n",
    "for i in range(1, len(highlight_months), 2):\n",
    "    start_month = highlight_months[i - 1]\n",
    "    end_month = highlight_months[i]\n",
    "    start_index = month_order.index(start_month)\n",
    "    end_index = month_order.index(end_month)\n",
    "    plt.fill_between(\n",
    "        avg_monthly_rev.index[start_index : end_index + 1],\n",
    "        18,\n",
    "        avg_monthly_rev.values[start_index : end_index + 1],\n",
    "        alpha=0.2,\n",
    "        color=\"gray\",\n",
    "    )\n",
    "\n",
    "plt.xlabel(\"Month\")\n",
    "plt.ylabel(\"Average Monthly Revenue (£)\")\n",
    "plt.title(\"Month vs. Average Monthly Revenue\")\n",
    "plt.xticks(rotation=45)  # Rotate x-axis tick labels for better visibility\n",
    "plt.legend()\n",
    "plt.show()"
   ]
  },
  {
   "cell_type": "markdown",
   "metadata": {},
   "source": [
    "The plot of Month Vs. Average Monthly Revenue, indicates that there could indeed be seasonal impact for revenue of our store. Betwen the months of July and Septmber, there is a clear increase in average monthly revenue followed by a steady decrease from September to November. From November to December, the average monthly revenue begins to swiftly increase again.  "
   ]
  }
 ],
 "metadata": {
  "kernelspec": {
   "display_name": ".venv",
   "language": "python",
   "name": "python3"
  },
  "language_info": {
   "codemirror_mode": {
    "name": "ipython",
    "version": 3
   },
   "file_extension": ".py",
   "mimetype": "text/x-python",
   "name": "python",
   "nbconvert_exporter": "python",
   "pygments_lexer": "ipython3",
   "version": "3.11.0"
  },
  "orig_nbformat": 4
 },
 "nbformat": 4,
 "nbformat_minor": 2
}
